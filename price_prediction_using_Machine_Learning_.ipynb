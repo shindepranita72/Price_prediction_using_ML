{
  "nbformat": 4,
  "nbformat_minor": 0,
  "metadata": {
    "colab": {
      "provenance": []
    },
    "kernelspec": {
      "name": "python3",
      "display_name": "Python 3"
    },
    "language_info": {
      "name": "python"
    }
  },
  "cells": [
    {
      "cell_type": "markdown",
      "source": [
        "STEPS:\n",
        "\n",
        "**1.** upload file to Google drive\n",
        "\n",
        "**2.** Click on mount drive button and mount googledrive"
      ],
      "metadata": {
        "id": "iyeknjWpaenL"
      }
    },
    {
      "cell_type": "code",
      "execution_count": 1,
      "metadata": {
        "id": "WMc3CZQ3KJ-X"
      },
      "outputs": [],
      "source": [
        "from google.colab import drive"
      ]
    },
    {
      "cell_type": "code",
      "source": [
        "drive.mount(\"/content/drive/\")"
      ],
      "metadata": {
        "id": "FJ4FXHs_KKk8",
        "colab": {
          "base_uri": "https://localhost:8080/"
        },
        "outputId": "651e440d-077c-4e8d-fff9-f8f8325c1a69"
      },
      "execution_count": 2,
      "outputs": [
        {
          "output_type": "stream",
          "name": "stdout",
          "text": [
            "Drive already mounted at /content/drive/; to attempt to forcibly remount, call drive.mount(\"/content/drive/\", force_remount=True).\n"
          ]
        }
      ]
    },
    {
      "cell_type": "code",
      "source": [
        "import pandas as pd\n",
        "df = pd.read_csv(\"/content/drive/MyDrive/Project_DB/Car details v3.csv\")"
      ],
      "metadata": {
        "id": "uXiWOrCraJi8"
      },
      "execution_count": 3,
      "outputs": []
    },
    {
      "cell_type": "code",
      "source": [
        "df.head()"
      ],
      "metadata": {
        "colab": {
          "base_uri": "https://localhost:8080/",
          "height": 206
        },
        "id": "urdiO8kba54E",
        "outputId": "f39e95dd-d114-4c56-a58c-8a3b758597c6"
      },
      "execution_count": 4,
      "outputs": [
        {
          "output_type": "execute_result",
          "data": {
            "text/plain": [
              "                           name  year  selling_price  km_driven    fuel  \\\n",
              "0        Maruti Swift Dzire VDI  2014         450000     145500  Diesel   \n",
              "1  Skoda Rapid 1.5 TDI Ambition  2014         370000     120000  Diesel   \n",
              "2      Honda City 2017-2020 EXi  2006         158000     140000  Petrol   \n",
              "3     Hyundai i20 Sportz Diesel  2010         225000     127000  Diesel   \n",
              "4        Maruti Swift VXI BSIII  2007         130000     120000  Petrol   \n",
              "\n",
              "  seller_type transmission         owner     mileage   engine   max_power  \\\n",
              "0  Individual       Manual   First Owner   23.4 kmpl  1248 CC      74 bhp   \n",
              "1  Individual       Manual  Second Owner  21.14 kmpl  1498 CC  103.52 bhp   \n",
              "2  Individual       Manual   Third Owner   17.7 kmpl  1497 CC      78 bhp   \n",
              "3  Individual       Manual   First Owner   23.0 kmpl  1396 CC      90 bhp   \n",
              "4  Individual       Manual   First Owner   16.1 kmpl  1298 CC    88.2 bhp   \n",
              "\n",
              "                     torque  seats  \n",
              "0            190Nm@ 2000rpm    5.0  \n",
              "1       250Nm@ 1500-2500rpm    5.0  \n",
              "2     12.7@ 2,700(kgm@ rpm)    5.0  \n",
              "3  22.4 kgm at 1750-2750rpm    5.0  \n",
              "4     11.5@ 4,500(kgm@ rpm)    5.0  "
            ],
            "text/html": [
              "\n",
              "  <div id=\"df-caf193c2-5e72-4a46-baf3-7347d84ae9a8\" class=\"colab-df-container\">\n",
              "    <div>\n",
              "<style scoped>\n",
              "    .dataframe tbody tr th:only-of-type {\n",
              "        vertical-align: middle;\n",
              "    }\n",
              "\n",
              "    .dataframe tbody tr th {\n",
              "        vertical-align: top;\n",
              "    }\n",
              "\n",
              "    .dataframe thead th {\n",
              "        text-align: right;\n",
              "    }\n",
              "</style>\n",
              "<table border=\"1\" class=\"dataframe\">\n",
              "  <thead>\n",
              "    <tr style=\"text-align: right;\">\n",
              "      <th></th>\n",
              "      <th>name</th>\n",
              "      <th>year</th>\n",
              "      <th>selling_price</th>\n",
              "      <th>km_driven</th>\n",
              "      <th>fuel</th>\n",
              "      <th>seller_type</th>\n",
              "      <th>transmission</th>\n",
              "      <th>owner</th>\n",
              "      <th>mileage</th>\n",
              "      <th>engine</th>\n",
              "      <th>max_power</th>\n",
              "      <th>torque</th>\n",
              "      <th>seats</th>\n",
              "    </tr>\n",
              "  </thead>\n",
              "  <tbody>\n",
              "    <tr>\n",
              "      <th>0</th>\n",
              "      <td>Maruti Swift Dzire VDI</td>\n",
              "      <td>2014</td>\n",
              "      <td>450000</td>\n",
              "      <td>145500</td>\n",
              "      <td>Diesel</td>\n",
              "      <td>Individual</td>\n",
              "      <td>Manual</td>\n",
              "      <td>First Owner</td>\n",
              "      <td>23.4 kmpl</td>\n",
              "      <td>1248 CC</td>\n",
              "      <td>74 bhp</td>\n",
              "      <td>190Nm@ 2000rpm</td>\n",
              "      <td>5.0</td>\n",
              "    </tr>\n",
              "    <tr>\n",
              "      <th>1</th>\n",
              "      <td>Skoda Rapid 1.5 TDI Ambition</td>\n",
              "      <td>2014</td>\n",
              "      <td>370000</td>\n",
              "      <td>120000</td>\n",
              "      <td>Diesel</td>\n",
              "      <td>Individual</td>\n",
              "      <td>Manual</td>\n",
              "      <td>Second Owner</td>\n",
              "      <td>21.14 kmpl</td>\n",
              "      <td>1498 CC</td>\n",
              "      <td>103.52 bhp</td>\n",
              "      <td>250Nm@ 1500-2500rpm</td>\n",
              "      <td>5.0</td>\n",
              "    </tr>\n",
              "    <tr>\n",
              "      <th>2</th>\n",
              "      <td>Honda City 2017-2020 EXi</td>\n",
              "      <td>2006</td>\n",
              "      <td>158000</td>\n",
              "      <td>140000</td>\n",
              "      <td>Petrol</td>\n",
              "      <td>Individual</td>\n",
              "      <td>Manual</td>\n",
              "      <td>Third Owner</td>\n",
              "      <td>17.7 kmpl</td>\n",
              "      <td>1497 CC</td>\n",
              "      <td>78 bhp</td>\n",
              "      <td>12.7@ 2,700(kgm@ rpm)</td>\n",
              "      <td>5.0</td>\n",
              "    </tr>\n",
              "    <tr>\n",
              "      <th>3</th>\n",
              "      <td>Hyundai i20 Sportz Diesel</td>\n",
              "      <td>2010</td>\n",
              "      <td>225000</td>\n",
              "      <td>127000</td>\n",
              "      <td>Diesel</td>\n",
              "      <td>Individual</td>\n",
              "      <td>Manual</td>\n",
              "      <td>First Owner</td>\n",
              "      <td>23.0 kmpl</td>\n",
              "      <td>1396 CC</td>\n",
              "      <td>90 bhp</td>\n",
              "      <td>22.4 kgm at 1750-2750rpm</td>\n",
              "      <td>5.0</td>\n",
              "    </tr>\n",
              "    <tr>\n",
              "      <th>4</th>\n",
              "      <td>Maruti Swift VXI BSIII</td>\n",
              "      <td>2007</td>\n",
              "      <td>130000</td>\n",
              "      <td>120000</td>\n",
              "      <td>Petrol</td>\n",
              "      <td>Individual</td>\n",
              "      <td>Manual</td>\n",
              "      <td>First Owner</td>\n",
              "      <td>16.1 kmpl</td>\n",
              "      <td>1298 CC</td>\n",
              "      <td>88.2 bhp</td>\n",
              "      <td>11.5@ 4,500(kgm@ rpm)</td>\n",
              "      <td>5.0</td>\n",
              "    </tr>\n",
              "  </tbody>\n",
              "</table>\n",
              "</div>\n",
              "    <div class=\"colab-df-buttons\">\n",
              "\n",
              "  <div class=\"colab-df-container\">\n",
              "    <button class=\"colab-df-convert\" onclick=\"convertToInteractive('df-caf193c2-5e72-4a46-baf3-7347d84ae9a8')\"\n",
              "            title=\"Convert this dataframe to an interactive table.\"\n",
              "            style=\"display:none;\">\n",
              "\n",
              "  <svg xmlns=\"http://www.w3.org/2000/svg\" height=\"24px\" viewBox=\"0 -960 960 960\">\n",
              "    <path d=\"M120-120v-720h720v720H120Zm60-500h600v-160H180v160Zm220 220h160v-160H400v160Zm0 220h160v-160H400v160ZM180-400h160v-160H180v160Zm440 0h160v-160H620v160ZM180-180h160v-160H180v160Zm440 0h160v-160H620v160Z\"/>\n",
              "  </svg>\n",
              "    </button>\n",
              "\n",
              "  <style>\n",
              "    .colab-df-container {\n",
              "      display:flex;\n",
              "      gap: 12px;\n",
              "    }\n",
              "\n",
              "    .colab-df-convert {\n",
              "      background-color: #E8F0FE;\n",
              "      border: none;\n",
              "      border-radius: 50%;\n",
              "      cursor: pointer;\n",
              "      display: none;\n",
              "      fill: #1967D2;\n",
              "      height: 32px;\n",
              "      padding: 0 0 0 0;\n",
              "      width: 32px;\n",
              "    }\n",
              "\n",
              "    .colab-df-convert:hover {\n",
              "      background-color: #E2EBFA;\n",
              "      box-shadow: 0px 1px 2px rgba(60, 64, 67, 0.3), 0px 1px 3px 1px rgba(60, 64, 67, 0.15);\n",
              "      fill: #174EA6;\n",
              "    }\n",
              "\n",
              "    .colab-df-buttons div {\n",
              "      margin-bottom: 4px;\n",
              "    }\n",
              "\n",
              "    [theme=dark] .colab-df-convert {\n",
              "      background-color: #3B4455;\n",
              "      fill: #D2E3FC;\n",
              "    }\n",
              "\n",
              "    [theme=dark] .colab-df-convert:hover {\n",
              "      background-color: #434B5C;\n",
              "      box-shadow: 0px 1px 3px 1px rgba(0, 0, 0, 0.15);\n",
              "      filter: drop-shadow(0px 1px 2px rgba(0, 0, 0, 0.3));\n",
              "      fill: #FFFFFF;\n",
              "    }\n",
              "  </style>\n",
              "\n",
              "    <script>\n",
              "      const buttonEl =\n",
              "        document.querySelector('#df-caf193c2-5e72-4a46-baf3-7347d84ae9a8 button.colab-df-convert');\n",
              "      buttonEl.style.display =\n",
              "        google.colab.kernel.accessAllowed ? 'block' : 'none';\n",
              "\n",
              "      async function convertToInteractive(key) {\n",
              "        const element = document.querySelector('#df-caf193c2-5e72-4a46-baf3-7347d84ae9a8');\n",
              "        const dataTable =\n",
              "          await google.colab.kernel.invokeFunction('convertToInteractive',\n",
              "                                                    [key], {});\n",
              "        if (!dataTable) return;\n",
              "\n",
              "        const docLinkHtml = 'Like what you see? Visit the ' +\n",
              "          '<a target=\"_blank\" href=https://colab.research.google.com/notebooks/data_table.ipynb>data table notebook</a>'\n",
              "          + ' to learn more about interactive tables.';\n",
              "        element.innerHTML = '';\n",
              "        dataTable['output_type'] = 'display_data';\n",
              "        await google.colab.output.renderOutput(dataTable, element);\n",
              "        const docLink = document.createElement('div');\n",
              "        docLink.innerHTML = docLinkHtml;\n",
              "        element.appendChild(docLink);\n",
              "      }\n",
              "    </script>\n",
              "  </div>\n",
              "\n",
              "\n",
              "<div id=\"df-076cd8b0-fb92-4882-a1ac-f5f055513980\">\n",
              "  <button class=\"colab-df-quickchart\" onclick=\"quickchart('df-076cd8b0-fb92-4882-a1ac-f5f055513980')\"\n",
              "            title=\"Suggest charts.\"\n",
              "            style=\"display:none;\">\n",
              "\n",
              "<svg xmlns=\"http://www.w3.org/2000/svg\" height=\"24px\"viewBox=\"0 0 24 24\"\n",
              "     width=\"24px\">\n",
              "    <g>\n",
              "        <path d=\"M19 3H5c-1.1 0-2 .9-2 2v14c0 1.1.9 2 2 2h14c1.1 0 2-.9 2-2V5c0-1.1-.9-2-2-2zM9 17H7v-7h2v7zm4 0h-2V7h2v10zm4 0h-2v-4h2v4z\"/>\n",
              "    </g>\n",
              "</svg>\n",
              "  </button>\n",
              "\n",
              "<style>\n",
              "  .colab-df-quickchart {\n",
              "      --bg-color: #E8F0FE;\n",
              "      --fill-color: #1967D2;\n",
              "      --hover-bg-color: #E2EBFA;\n",
              "      --hover-fill-color: #174EA6;\n",
              "      --disabled-fill-color: #AAA;\n",
              "      --disabled-bg-color: #DDD;\n",
              "  }\n",
              "\n",
              "  [theme=dark] .colab-df-quickchart {\n",
              "      --bg-color: #3B4455;\n",
              "      --fill-color: #D2E3FC;\n",
              "      --hover-bg-color: #434B5C;\n",
              "      --hover-fill-color: #FFFFFF;\n",
              "      --disabled-bg-color: #3B4455;\n",
              "      --disabled-fill-color: #666;\n",
              "  }\n",
              "\n",
              "  .colab-df-quickchart {\n",
              "    background-color: var(--bg-color);\n",
              "    border: none;\n",
              "    border-radius: 50%;\n",
              "    cursor: pointer;\n",
              "    display: none;\n",
              "    fill: var(--fill-color);\n",
              "    height: 32px;\n",
              "    padding: 0;\n",
              "    width: 32px;\n",
              "  }\n",
              "\n",
              "  .colab-df-quickchart:hover {\n",
              "    background-color: var(--hover-bg-color);\n",
              "    box-shadow: 0 1px 2px rgba(60, 64, 67, 0.3), 0 1px 3px 1px rgba(60, 64, 67, 0.15);\n",
              "    fill: var(--button-hover-fill-color);\n",
              "  }\n",
              "\n",
              "  .colab-df-quickchart-complete:disabled,\n",
              "  .colab-df-quickchart-complete:disabled:hover {\n",
              "    background-color: var(--disabled-bg-color);\n",
              "    fill: var(--disabled-fill-color);\n",
              "    box-shadow: none;\n",
              "  }\n",
              "\n",
              "  .colab-df-spinner {\n",
              "    border: 2px solid var(--fill-color);\n",
              "    border-color: transparent;\n",
              "    border-bottom-color: var(--fill-color);\n",
              "    animation:\n",
              "      spin 1s steps(1) infinite;\n",
              "  }\n",
              "\n",
              "  @keyframes spin {\n",
              "    0% {\n",
              "      border-color: transparent;\n",
              "      border-bottom-color: var(--fill-color);\n",
              "      border-left-color: var(--fill-color);\n",
              "    }\n",
              "    20% {\n",
              "      border-color: transparent;\n",
              "      border-left-color: var(--fill-color);\n",
              "      border-top-color: var(--fill-color);\n",
              "    }\n",
              "    30% {\n",
              "      border-color: transparent;\n",
              "      border-left-color: var(--fill-color);\n",
              "      border-top-color: var(--fill-color);\n",
              "      border-right-color: var(--fill-color);\n",
              "    }\n",
              "    40% {\n",
              "      border-color: transparent;\n",
              "      border-right-color: var(--fill-color);\n",
              "      border-top-color: var(--fill-color);\n",
              "    }\n",
              "    60% {\n",
              "      border-color: transparent;\n",
              "      border-right-color: var(--fill-color);\n",
              "    }\n",
              "    80% {\n",
              "      border-color: transparent;\n",
              "      border-right-color: var(--fill-color);\n",
              "      border-bottom-color: var(--fill-color);\n",
              "    }\n",
              "    90% {\n",
              "      border-color: transparent;\n",
              "      border-bottom-color: var(--fill-color);\n",
              "    }\n",
              "  }\n",
              "</style>\n",
              "\n",
              "  <script>\n",
              "    async function quickchart(key) {\n",
              "      const quickchartButtonEl =\n",
              "        document.querySelector('#' + key + ' button');\n",
              "      quickchartButtonEl.disabled = true;  // To prevent multiple clicks.\n",
              "      quickchartButtonEl.classList.add('colab-df-spinner');\n",
              "      try {\n",
              "        const charts = await google.colab.kernel.invokeFunction(\n",
              "            'suggestCharts', [key], {});\n",
              "      } catch (error) {\n",
              "        console.error('Error during call to suggestCharts:', error);\n",
              "      }\n",
              "      quickchartButtonEl.classList.remove('colab-df-spinner');\n",
              "      quickchartButtonEl.classList.add('colab-df-quickchart-complete');\n",
              "    }\n",
              "    (() => {\n",
              "      let quickchartButtonEl =\n",
              "        document.querySelector('#df-076cd8b0-fb92-4882-a1ac-f5f055513980 button');\n",
              "      quickchartButtonEl.style.display =\n",
              "        google.colab.kernel.accessAllowed ? 'block' : 'none';\n",
              "    })();\n",
              "  </script>\n",
              "</div>\n",
              "    </div>\n",
              "  </div>\n"
            ]
          },
          "metadata": {},
          "execution_count": 4
        }
      ]
    },
    {
      "cell_type": "code",
      "source": [
        "df.shape"
      ],
      "metadata": {
        "colab": {
          "base_uri": "https://localhost:8080/"
        },
        "id": "KMKxWZVSa9MS",
        "outputId": "f1cf44b8-bed1-4dd1-e410-178bd98909fd"
      },
      "execution_count": 5,
      "outputs": [
        {
          "output_type": "execute_result",
          "data": {
            "text/plain": [
              "(8128, 13)"
            ]
          },
          "metadata": {},
          "execution_count": 5
        }
      ]
    },
    {
      "cell_type": "code",
      "source": [
        "df.columns"
      ],
      "metadata": {
        "colab": {
          "base_uri": "https://localhost:8080/"
        },
        "id": "Yi_bJPNWc1pj",
        "outputId": "20e7723c-9e1d-4545-dde0-08538f5325b4"
      },
      "execution_count": 6,
      "outputs": [
        {
          "output_type": "execute_result",
          "data": {
            "text/plain": [
              "Index(['name', 'year', 'selling_price', 'km_driven', 'fuel', 'seller_type',\n",
              "       'transmission', 'owner', 'mileage', 'engine', 'max_power', 'torque',\n",
              "       'seats'],\n",
              "      dtype='object')"
            ]
          },
          "metadata": {},
          "execution_count": 6
        }
      ]
    },
    {
      "cell_type": "code",
      "source": [
        "df.info()"
      ],
      "metadata": {
        "id": "jq7ZTnaMc3ST",
        "colab": {
          "base_uri": "https://localhost:8080/"
        },
        "outputId": "c9206fa6-d337-4d25-ea74-02fc5d8cfb67"
      },
      "execution_count": 7,
      "outputs": [
        {
          "output_type": "stream",
          "name": "stdout",
          "text": [
            "<class 'pandas.core.frame.DataFrame'>\n",
            "RangeIndex: 8128 entries, 0 to 8127\n",
            "Data columns (total 13 columns):\n",
            " #   Column         Non-Null Count  Dtype  \n",
            "---  ------         --------------  -----  \n",
            " 0   name           8128 non-null   object \n",
            " 1   year           8128 non-null   int64  \n",
            " 2   selling_price  8128 non-null   int64  \n",
            " 3   km_driven      8128 non-null   int64  \n",
            " 4   fuel           8128 non-null   object \n",
            " 5   seller_type    8128 non-null   object \n",
            " 6   transmission   8128 non-null   object \n",
            " 7   owner          8128 non-null   object \n",
            " 8   mileage        7907 non-null   object \n",
            " 9   engine         7907 non-null   object \n",
            " 10  max_power      7913 non-null   object \n",
            " 11  torque         7906 non-null   object \n",
            " 12  seats          7907 non-null   float64\n",
            "dtypes: float64(1), int64(3), object(9)\n",
            "memory usage: 825.6+ KB\n"
          ]
        }
      ]
    },
    {
      "cell_type": "code",
      "source": [
        "df.describe()"
      ],
      "metadata": {
        "colab": {
          "base_uri": "https://localhost:8080/",
          "height": 300
        },
        "id": "FD89OusQ-_rq",
        "outputId": "6774b13b-8078-48ea-d5c6-0694f0850e2d"
      },
      "execution_count": 8,
      "outputs": [
        {
          "output_type": "execute_result",
          "data": {
            "text/plain": [
              "              year  selling_price     km_driven        seats\n",
              "count  8128.000000   8.128000e+03  8.128000e+03  7907.000000\n",
              "mean   2013.804011   6.382718e+05  6.981951e+04     5.416719\n",
              "std       4.044249   8.062534e+05  5.655055e+04     0.959588\n",
              "min    1983.000000   2.999900e+04  1.000000e+00     2.000000\n",
              "25%    2011.000000   2.549990e+05  3.500000e+04     5.000000\n",
              "50%    2015.000000   4.500000e+05  6.000000e+04     5.000000\n",
              "75%    2017.000000   6.750000e+05  9.800000e+04     5.000000\n",
              "max    2020.000000   1.000000e+07  2.360457e+06    14.000000"
            ],
            "text/html": [
              "\n",
              "  <div id=\"df-45cccb13-3224-42a6-9b10-2295a72650e1\" class=\"colab-df-container\">\n",
              "    <div>\n",
              "<style scoped>\n",
              "    .dataframe tbody tr th:only-of-type {\n",
              "        vertical-align: middle;\n",
              "    }\n",
              "\n",
              "    .dataframe tbody tr th {\n",
              "        vertical-align: top;\n",
              "    }\n",
              "\n",
              "    .dataframe thead th {\n",
              "        text-align: right;\n",
              "    }\n",
              "</style>\n",
              "<table border=\"1\" class=\"dataframe\">\n",
              "  <thead>\n",
              "    <tr style=\"text-align: right;\">\n",
              "      <th></th>\n",
              "      <th>year</th>\n",
              "      <th>selling_price</th>\n",
              "      <th>km_driven</th>\n",
              "      <th>seats</th>\n",
              "    </tr>\n",
              "  </thead>\n",
              "  <tbody>\n",
              "    <tr>\n",
              "      <th>count</th>\n",
              "      <td>8128.000000</td>\n",
              "      <td>8.128000e+03</td>\n",
              "      <td>8.128000e+03</td>\n",
              "      <td>7907.000000</td>\n",
              "    </tr>\n",
              "    <tr>\n",
              "      <th>mean</th>\n",
              "      <td>2013.804011</td>\n",
              "      <td>6.382718e+05</td>\n",
              "      <td>6.981951e+04</td>\n",
              "      <td>5.416719</td>\n",
              "    </tr>\n",
              "    <tr>\n",
              "      <th>std</th>\n",
              "      <td>4.044249</td>\n",
              "      <td>8.062534e+05</td>\n",
              "      <td>5.655055e+04</td>\n",
              "      <td>0.959588</td>\n",
              "    </tr>\n",
              "    <tr>\n",
              "      <th>min</th>\n",
              "      <td>1983.000000</td>\n",
              "      <td>2.999900e+04</td>\n",
              "      <td>1.000000e+00</td>\n",
              "      <td>2.000000</td>\n",
              "    </tr>\n",
              "    <tr>\n",
              "      <th>25%</th>\n",
              "      <td>2011.000000</td>\n",
              "      <td>2.549990e+05</td>\n",
              "      <td>3.500000e+04</td>\n",
              "      <td>5.000000</td>\n",
              "    </tr>\n",
              "    <tr>\n",
              "      <th>50%</th>\n",
              "      <td>2015.000000</td>\n",
              "      <td>4.500000e+05</td>\n",
              "      <td>6.000000e+04</td>\n",
              "      <td>5.000000</td>\n",
              "    </tr>\n",
              "    <tr>\n",
              "      <th>75%</th>\n",
              "      <td>2017.000000</td>\n",
              "      <td>6.750000e+05</td>\n",
              "      <td>9.800000e+04</td>\n",
              "      <td>5.000000</td>\n",
              "    </tr>\n",
              "    <tr>\n",
              "      <th>max</th>\n",
              "      <td>2020.000000</td>\n",
              "      <td>1.000000e+07</td>\n",
              "      <td>2.360457e+06</td>\n",
              "      <td>14.000000</td>\n",
              "    </tr>\n",
              "  </tbody>\n",
              "</table>\n",
              "</div>\n",
              "    <div class=\"colab-df-buttons\">\n",
              "\n",
              "  <div class=\"colab-df-container\">\n",
              "    <button class=\"colab-df-convert\" onclick=\"convertToInteractive('df-45cccb13-3224-42a6-9b10-2295a72650e1')\"\n",
              "            title=\"Convert this dataframe to an interactive table.\"\n",
              "            style=\"display:none;\">\n",
              "\n",
              "  <svg xmlns=\"http://www.w3.org/2000/svg\" height=\"24px\" viewBox=\"0 -960 960 960\">\n",
              "    <path d=\"M120-120v-720h720v720H120Zm60-500h600v-160H180v160Zm220 220h160v-160H400v160Zm0 220h160v-160H400v160ZM180-400h160v-160H180v160Zm440 0h160v-160H620v160ZM180-180h160v-160H180v160Zm440 0h160v-160H620v160Z\"/>\n",
              "  </svg>\n",
              "    </button>\n",
              "\n",
              "  <style>\n",
              "    .colab-df-container {\n",
              "      display:flex;\n",
              "      gap: 12px;\n",
              "    }\n",
              "\n",
              "    .colab-df-convert {\n",
              "      background-color: #E8F0FE;\n",
              "      border: none;\n",
              "      border-radius: 50%;\n",
              "      cursor: pointer;\n",
              "      display: none;\n",
              "      fill: #1967D2;\n",
              "      height: 32px;\n",
              "      padding: 0 0 0 0;\n",
              "      width: 32px;\n",
              "    }\n",
              "\n",
              "    .colab-df-convert:hover {\n",
              "      background-color: #E2EBFA;\n",
              "      box-shadow: 0px 1px 2px rgba(60, 64, 67, 0.3), 0px 1px 3px 1px rgba(60, 64, 67, 0.15);\n",
              "      fill: #174EA6;\n",
              "    }\n",
              "\n",
              "    .colab-df-buttons div {\n",
              "      margin-bottom: 4px;\n",
              "    }\n",
              "\n",
              "    [theme=dark] .colab-df-convert {\n",
              "      background-color: #3B4455;\n",
              "      fill: #D2E3FC;\n",
              "    }\n",
              "\n",
              "    [theme=dark] .colab-df-convert:hover {\n",
              "      background-color: #434B5C;\n",
              "      box-shadow: 0px 1px 3px 1px rgba(0, 0, 0, 0.15);\n",
              "      filter: drop-shadow(0px 1px 2px rgba(0, 0, 0, 0.3));\n",
              "      fill: #FFFFFF;\n",
              "    }\n",
              "  </style>\n",
              "\n",
              "    <script>\n",
              "      const buttonEl =\n",
              "        document.querySelector('#df-45cccb13-3224-42a6-9b10-2295a72650e1 button.colab-df-convert');\n",
              "      buttonEl.style.display =\n",
              "        google.colab.kernel.accessAllowed ? 'block' : 'none';\n",
              "\n",
              "      async function convertToInteractive(key) {\n",
              "        const element = document.querySelector('#df-45cccb13-3224-42a6-9b10-2295a72650e1');\n",
              "        const dataTable =\n",
              "          await google.colab.kernel.invokeFunction('convertToInteractive',\n",
              "                                                    [key], {});\n",
              "        if (!dataTable) return;\n",
              "\n",
              "        const docLinkHtml = 'Like what you see? Visit the ' +\n",
              "          '<a target=\"_blank\" href=https://colab.research.google.com/notebooks/data_table.ipynb>data table notebook</a>'\n",
              "          + ' to learn more about interactive tables.';\n",
              "        element.innerHTML = '';\n",
              "        dataTable['output_type'] = 'display_data';\n",
              "        await google.colab.output.renderOutput(dataTable, element);\n",
              "        const docLink = document.createElement('div');\n",
              "        docLink.innerHTML = docLinkHtml;\n",
              "        element.appendChild(docLink);\n",
              "      }\n",
              "    </script>\n",
              "  </div>\n",
              "\n",
              "\n",
              "<div id=\"df-2477888f-6739-4cca-b3d5-3eceee5f1e87\">\n",
              "  <button class=\"colab-df-quickchart\" onclick=\"quickchart('df-2477888f-6739-4cca-b3d5-3eceee5f1e87')\"\n",
              "            title=\"Suggest charts.\"\n",
              "            style=\"display:none;\">\n",
              "\n",
              "<svg xmlns=\"http://www.w3.org/2000/svg\" height=\"24px\"viewBox=\"0 0 24 24\"\n",
              "     width=\"24px\">\n",
              "    <g>\n",
              "        <path d=\"M19 3H5c-1.1 0-2 .9-2 2v14c0 1.1.9 2 2 2h14c1.1 0 2-.9 2-2V5c0-1.1-.9-2-2-2zM9 17H7v-7h2v7zm4 0h-2V7h2v10zm4 0h-2v-4h2v4z\"/>\n",
              "    </g>\n",
              "</svg>\n",
              "  </button>\n",
              "\n",
              "<style>\n",
              "  .colab-df-quickchart {\n",
              "      --bg-color: #E8F0FE;\n",
              "      --fill-color: #1967D2;\n",
              "      --hover-bg-color: #E2EBFA;\n",
              "      --hover-fill-color: #174EA6;\n",
              "      --disabled-fill-color: #AAA;\n",
              "      --disabled-bg-color: #DDD;\n",
              "  }\n",
              "\n",
              "  [theme=dark] .colab-df-quickchart {\n",
              "      --bg-color: #3B4455;\n",
              "      --fill-color: #D2E3FC;\n",
              "      --hover-bg-color: #434B5C;\n",
              "      --hover-fill-color: #FFFFFF;\n",
              "      --disabled-bg-color: #3B4455;\n",
              "      --disabled-fill-color: #666;\n",
              "  }\n",
              "\n",
              "  .colab-df-quickchart {\n",
              "    background-color: var(--bg-color);\n",
              "    border: none;\n",
              "    border-radius: 50%;\n",
              "    cursor: pointer;\n",
              "    display: none;\n",
              "    fill: var(--fill-color);\n",
              "    height: 32px;\n",
              "    padding: 0;\n",
              "    width: 32px;\n",
              "  }\n",
              "\n",
              "  .colab-df-quickchart:hover {\n",
              "    background-color: var(--hover-bg-color);\n",
              "    box-shadow: 0 1px 2px rgba(60, 64, 67, 0.3), 0 1px 3px 1px rgba(60, 64, 67, 0.15);\n",
              "    fill: var(--button-hover-fill-color);\n",
              "  }\n",
              "\n",
              "  .colab-df-quickchart-complete:disabled,\n",
              "  .colab-df-quickchart-complete:disabled:hover {\n",
              "    background-color: var(--disabled-bg-color);\n",
              "    fill: var(--disabled-fill-color);\n",
              "    box-shadow: none;\n",
              "  }\n",
              "\n",
              "  .colab-df-spinner {\n",
              "    border: 2px solid var(--fill-color);\n",
              "    border-color: transparent;\n",
              "    border-bottom-color: var(--fill-color);\n",
              "    animation:\n",
              "      spin 1s steps(1) infinite;\n",
              "  }\n",
              "\n",
              "  @keyframes spin {\n",
              "    0% {\n",
              "      border-color: transparent;\n",
              "      border-bottom-color: var(--fill-color);\n",
              "      border-left-color: var(--fill-color);\n",
              "    }\n",
              "    20% {\n",
              "      border-color: transparent;\n",
              "      border-left-color: var(--fill-color);\n",
              "      border-top-color: var(--fill-color);\n",
              "    }\n",
              "    30% {\n",
              "      border-color: transparent;\n",
              "      border-left-color: var(--fill-color);\n",
              "      border-top-color: var(--fill-color);\n",
              "      border-right-color: var(--fill-color);\n",
              "    }\n",
              "    40% {\n",
              "      border-color: transparent;\n",
              "      border-right-color: var(--fill-color);\n",
              "      border-top-color: var(--fill-color);\n",
              "    }\n",
              "    60% {\n",
              "      border-color: transparent;\n",
              "      border-right-color: var(--fill-color);\n",
              "    }\n",
              "    80% {\n",
              "      border-color: transparent;\n",
              "      border-right-color: var(--fill-color);\n",
              "      border-bottom-color: var(--fill-color);\n",
              "    }\n",
              "    90% {\n",
              "      border-color: transparent;\n",
              "      border-bottom-color: var(--fill-color);\n",
              "    }\n",
              "  }\n",
              "</style>\n",
              "\n",
              "  <script>\n",
              "    async function quickchart(key) {\n",
              "      const quickchartButtonEl =\n",
              "        document.querySelector('#' + key + ' button');\n",
              "      quickchartButtonEl.disabled = true;  // To prevent multiple clicks.\n",
              "      quickchartButtonEl.classList.add('colab-df-spinner');\n",
              "      try {\n",
              "        const charts = await google.colab.kernel.invokeFunction(\n",
              "            'suggestCharts', [key], {});\n",
              "      } catch (error) {\n",
              "        console.error('Error during call to suggestCharts:', error);\n",
              "      }\n",
              "      quickchartButtonEl.classList.remove('colab-df-spinner');\n",
              "      quickchartButtonEl.classList.add('colab-df-quickchart-complete');\n",
              "    }\n",
              "    (() => {\n",
              "      let quickchartButtonEl =\n",
              "        document.querySelector('#df-2477888f-6739-4cca-b3d5-3eceee5f1e87 button');\n",
              "      quickchartButtonEl.style.display =\n",
              "        google.colab.kernel.accessAllowed ? 'block' : 'none';\n",
              "    })();\n",
              "  </script>\n",
              "</div>\n",
              "    </div>\n",
              "  </div>\n"
            ]
          },
          "metadata": {},
          "execution_count": 8
        }
      ]
    },
    {
      "cell_type": "markdown",
      "source": [
        "### Observations:\n",
        "\n",
        "**1.** Null values are present in mileage, engine, max_power,torque,seats.\n",
        "\n",
        "**2.** Data is from year 1983 to 2020\n",
        "\n",
        "**3.** Presence of outliers in numerical var namely year, selling price, km_driven, seats."
      ],
      "metadata": {
        "id": "WXjz0AVO_v5g"
      }
    },
    {
      "cell_type": "code",
      "source": [
        "##null values cleaning\n",
        "df[\"engine\"].isnull().sum() ##221\n",
        "df['engine'].value_counts()\n",
        "print(df[\"engine\"].isnull().sum())#221\n",
        "\n",
        "# df[\"engine\"].str.split(\" CC\")\n",
        "df[[\"new_engine\",\"engine_unit\"]] = df[\"engine\"].str.split(\" \",0,expand = True)\n",
        "# print(\"old ngine\",df[\"engine\"].value_counts())\n",
        "# print(\"new engine\",df[\"new_engine\"].value_counts())"
      ],
      "metadata": {
        "colab": {
          "base_uri": "https://localhost:8080/"
        },
        "id": "cKyy-EyH_uYf",
        "outputId": "4c228b0c-9c18-49fd-93c9-ee61acdd0f9c"
      },
      "execution_count": 9,
      "outputs": [
        {
          "output_type": "stream",
          "name": "stdout",
          "text": [
            "221\n"
          ]
        },
        {
          "output_type": "stream",
          "name": "stderr",
          "text": [
            "<ipython-input-9-22603043f78f>:7: FutureWarning: In a future version of pandas all arguments of StringMethods.split except for the argument 'pat' will be keyword-only.\n",
            "  df[[\"new_engine\",\"engine_unit\"]] = df[\"engine\"].str.split(\" \",0,expand = True)\n"
          ]
        }
      ]
    },
    {
      "cell_type": "code",
      "source": [
        "##null values cleaning\n",
        "df[\"mileage\"].isnull().sum() ##393\n",
        "df['mileage'].value_counts()\n",
        "print(df[\"mileage\"].isnull().sum())#221\n",
        "\n",
        "# df['new_new_mileage'] = [x.strip(\" \") for x in df['mileage']]\n",
        "# df\n",
        "\n",
        "# df[\"engine\"].str.split(\" CC\")\n",
        "df[[\"new_mileage\",\"mileage_unit\"]] = df[\"mileage\"].str.split(\" \",0,expand = True)\n",
        "df\n",
        "# # print(\"old ngine\",df[\"engine\"].value_counts())\n",
        "# # print(\"new engine\",df[\"new_engine\"].value_counts())"
      ],
      "metadata": {
        "colab": {
          "base_uri": "https://localhost:8080/",
          "height": 686
        },
        "id": "8uzej7ax1E0E",
        "outputId": "94541618-9ece-41d9-f230-5b62c247b2ff"
      },
      "execution_count": 10,
      "outputs": [
        {
          "output_type": "stream",
          "name": "stdout",
          "text": [
            "221\n"
          ]
        },
        {
          "output_type": "stream",
          "name": "stderr",
          "text": [
            "<ipython-input-10-4e07f25e4d96>:10: FutureWarning: In a future version of pandas all arguments of StringMethods.split except for the argument 'pat' will be keyword-only.\n",
            "  df[[\"new_mileage\",\"mileage_unit\"]] = df[\"mileage\"].str.split(\" \",0,expand = True)\n"
          ]
        },
        {
          "output_type": "execute_result",
          "data": {
            "text/plain": [
              "                              name  year  selling_price  km_driven    fuel  \\\n",
              "0           Maruti Swift Dzire VDI  2014         450000     145500  Diesel   \n",
              "1     Skoda Rapid 1.5 TDI Ambition  2014         370000     120000  Diesel   \n",
              "2         Honda City 2017-2020 EXi  2006         158000     140000  Petrol   \n",
              "3        Hyundai i20 Sportz Diesel  2010         225000     127000  Diesel   \n",
              "4           Maruti Swift VXI BSIII  2007         130000     120000  Petrol   \n",
              "...                            ...   ...            ...        ...     ...   \n",
              "8123             Hyundai i20 Magna  2013         320000     110000  Petrol   \n",
              "8124         Hyundai Verna CRDi SX  2007         135000     119000  Diesel   \n",
              "8125        Maruti Swift Dzire ZDi  2009         382000     120000  Diesel   \n",
              "8126               Tata Indigo CR4  2013         290000      25000  Diesel   \n",
              "8127               Tata Indigo CR4  2013         290000      25000  Diesel   \n",
              "\n",
              "     seller_type transmission                 owner     mileage   engine  \\\n",
              "0     Individual       Manual           First Owner   23.4 kmpl  1248 CC   \n",
              "1     Individual       Manual          Second Owner  21.14 kmpl  1498 CC   \n",
              "2     Individual       Manual           Third Owner   17.7 kmpl  1497 CC   \n",
              "3     Individual       Manual           First Owner   23.0 kmpl  1396 CC   \n",
              "4     Individual       Manual           First Owner   16.1 kmpl  1298 CC   \n",
              "...          ...          ...                   ...         ...      ...   \n",
              "8123  Individual       Manual           First Owner   18.5 kmpl  1197 CC   \n",
              "8124  Individual       Manual  Fourth & Above Owner   16.8 kmpl  1493 CC   \n",
              "8125  Individual       Manual           First Owner   19.3 kmpl  1248 CC   \n",
              "8126  Individual       Manual           First Owner  23.57 kmpl  1396 CC   \n",
              "8127  Individual       Manual           First Owner  23.57 kmpl  1396 CC   \n",
              "\n",
              "       max_power                     torque  seats new_engine engine_unit  \\\n",
              "0         74 bhp             190Nm@ 2000rpm    5.0       1248          CC   \n",
              "1     103.52 bhp        250Nm@ 1500-2500rpm    5.0       1498          CC   \n",
              "2         78 bhp      12.7@ 2,700(kgm@ rpm)    5.0       1497          CC   \n",
              "3         90 bhp   22.4 kgm at 1750-2750rpm    5.0       1396          CC   \n",
              "4       88.2 bhp      11.5@ 4,500(kgm@ rpm)    5.0       1298          CC   \n",
              "...          ...                        ...    ...        ...         ...   \n",
              "8123   82.85 bhp           113.7Nm@ 4000rpm    5.0       1197          CC   \n",
              "8124     110 bhp  24@ 1,900-2,750(kgm@ rpm)    5.0       1493          CC   \n",
              "8125    73.9 bhp             190Nm@ 2000rpm    5.0       1248          CC   \n",
              "8126      70 bhp        140Nm@ 1800-3000rpm    5.0       1396          CC   \n",
              "8127      70 bhp        140Nm@ 1800-3000rpm    5.0       1396          CC   \n",
              "\n",
              "     new_mileage mileage_unit  \n",
              "0           23.4         kmpl  \n",
              "1          21.14         kmpl  \n",
              "2           17.7         kmpl  \n",
              "3           23.0         kmpl  \n",
              "4           16.1         kmpl  \n",
              "...          ...          ...  \n",
              "8123        18.5         kmpl  \n",
              "8124        16.8         kmpl  \n",
              "8125        19.3         kmpl  \n",
              "8126       23.57         kmpl  \n",
              "8127       23.57         kmpl  \n",
              "\n",
              "[8128 rows x 17 columns]"
            ],
            "text/html": [
              "\n",
              "  <div id=\"df-34c6650c-4818-4943-8750-818e8ab3e16f\" class=\"colab-df-container\">\n",
              "    <div>\n",
              "<style scoped>\n",
              "    .dataframe tbody tr th:only-of-type {\n",
              "        vertical-align: middle;\n",
              "    }\n",
              "\n",
              "    .dataframe tbody tr th {\n",
              "        vertical-align: top;\n",
              "    }\n",
              "\n",
              "    .dataframe thead th {\n",
              "        text-align: right;\n",
              "    }\n",
              "</style>\n",
              "<table border=\"1\" class=\"dataframe\">\n",
              "  <thead>\n",
              "    <tr style=\"text-align: right;\">\n",
              "      <th></th>\n",
              "      <th>name</th>\n",
              "      <th>year</th>\n",
              "      <th>selling_price</th>\n",
              "      <th>km_driven</th>\n",
              "      <th>fuel</th>\n",
              "      <th>seller_type</th>\n",
              "      <th>transmission</th>\n",
              "      <th>owner</th>\n",
              "      <th>mileage</th>\n",
              "      <th>engine</th>\n",
              "      <th>max_power</th>\n",
              "      <th>torque</th>\n",
              "      <th>seats</th>\n",
              "      <th>new_engine</th>\n",
              "      <th>engine_unit</th>\n",
              "      <th>new_mileage</th>\n",
              "      <th>mileage_unit</th>\n",
              "    </tr>\n",
              "  </thead>\n",
              "  <tbody>\n",
              "    <tr>\n",
              "      <th>0</th>\n",
              "      <td>Maruti Swift Dzire VDI</td>\n",
              "      <td>2014</td>\n",
              "      <td>450000</td>\n",
              "      <td>145500</td>\n",
              "      <td>Diesel</td>\n",
              "      <td>Individual</td>\n",
              "      <td>Manual</td>\n",
              "      <td>First Owner</td>\n",
              "      <td>23.4 kmpl</td>\n",
              "      <td>1248 CC</td>\n",
              "      <td>74 bhp</td>\n",
              "      <td>190Nm@ 2000rpm</td>\n",
              "      <td>5.0</td>\n",
              "      <td>1248</td>\n",
              "      <td>CC</td>\n",
              "      <td>23.4</td>\n",
              "      <td>kmpl</td>\n",
              "    </tr>\n",
              "    <tr>\n",
              "      <th>1</th>\n",
              "      <td>Skoda Rapid 1.5 TDI Ambition</td>\n",
              "      <td>2014</td>\n",
              "      <td>370000</td>\n",
              "      <td>120000</td>\n",
              "      <td>Diesel</td>\n",
              "      <td>Individual</td>\n",
              "      <td>Manual</td>\n",
              "      <td>Second Owner</td>\n",
              "      <td>21.14 kmpl</td>\n",
              "      <td>1498 CC</td>\n",
              "      <td>103.52 bhp</td>\n",
              "      <td>250Nm@ 1500-2500rpm</td>\n",
              "      <td>5.0</td>\n",
              "      <td>1498</td>\n",
              "      <td>CC</td>\n",
              "      <td>21.14</td>\n",
              "      <td>kmpl</td>\n",
              "    </tr>\n",
              "    <tr>\n",
              "      <th>2</th>\n",
              "      <td>Honda City 2017-2020 EXi</td>\n",
              "      <td>2006</td>\n",
              "      <td>158000</td>\n",
              "      <td>140000</td>\n",
              "      <td>Petrol</td>\n",
              "      <td>Individual</td>\n",
              "      <td>Manual</td>\n",
              "      <td>Third Owner</td>\n",
              "      <td>17.7 kmpl</td>\n",
              "      <td>1497 CC</td>\n",
              "      <td>78 bhp</td>\n",
              "      <td>12.7@ 2,700(kgm@ rpm)</td>\n",
              "      <td>5.0</td>\n",
              "      <td>1497</td>\n",
              "      <td>CC</td>\n",
              "      <td>17.7</td>\n",
              "      <td>kmpl</td>\n",
              "    </tr>\n",
              "    <tr>\n",
              "      <th>3</th>\n",
              "      <td>Hyundai i20 Sportz Diesel</td>\n",
              "      <td>2010</td>\n",
              "      <td>225000</td>\n",
              "      <td>127000</td>\n",
              "      <td>Diesel</td>\n",
              "      <td>Individual</td>\n",
              "      <td>Manual</td>\n",
              "      <td>First Owner</td>\n",
              "      <td>23.0 kmpl</td>\n",
              "      <td>1396 CC</td>\n",
              "      <td>90 bhp</td>\n",
              "      <td>22.4 kgm at 1750-2750rpm</td>\n",
              "      <td>5.0</td>\n",
              "      <td>1396</td>\n",
              "      <td>CC</td>\n",
              "      <td>23.0</td>\n",
              "      <td>kmpl</td>\n",
              "    </tr>\n",
              "    <tr>\n",
              "      <th>4</th>\n",
              "      <td>Maruti Swift VXI BSIII</td>\n",
              "      <td>2007</td>\n",
              "      <td>130000</td>\n",
              "      <td>120000</td>\n",
              "      <td>Petrol</td>\n",
              "      <td>Individual</td>\n",
              "      <td>Manual</td>\n",
              "      <td>First Owner</td>\n",
              "      <td>16.1 kmpl</td>\n",
              "      <td>1298 CC</td>\n",
              "      <td>88.2 bhp</td>\n",
              "      <td>11.5@ 4,500(kgm@ rpm)</td>\n",
              "      <td>5.0</td>\n",
              "      <td>1298</td>\n",
              "      <td>CC</td>\n",
              "      <td>16.1</td>\n",
              "      <td>kmpl</td>\n",
              "    </tr>\n",
              "    <tr>\n",
              "      <th>...</th>\n",
              "      <td>...</td>\n",
              "      <td>...</td>\n",
              "      <td>...</td>\n",
              "      <td>...</td>\n",
              "      <td>...</td>\n",
              "      <td>...</td>\n",
              "      <td>...</td>\n",
              "      <td>...</td>\n",
              "      <td>...</td>\n",
              "      <td>...</td>\n",
              "      <td>...</td>\n",
              "      <td>...</td>\n",
              "      <td>...</td>\n",
              "      <td>...</td>\n",
              "      <td>...</td>\n",
              "      <td>...</td>\n",
              "      <td>...</td>\n",
              "    </tr>\n",
              "    <tr>\n",
              "      <th>8123</th>\n",
              "      <td>Hyundai i20 Magna</td>\n",
              "      <td>2013</td>\n",
              "      <td>320000</td>\n",
              "      <td>110000</td>\n",
              "      <td>Petrol</td>\n",
              "      <td>Individual</td>\n",
              "      <td>Manual</td>\n",
              "      <td>First Owner</td>\n",
              "      <td>18.5 kmpl</td>\n",
              "      <td>1197 CC</td>\n",
              "      <td>82.85 bhp</td>\n",
              "      <td>113.7Nm@ 4000rpm</td>\n",
              "      <td>5.0</td>\n",
              "      <td>1197</td>\n",
              "      <td>CC</td>\n",
              "      <td>18.5</td>\n",
              "      <td>kmpl</td>\n",
              "    </tr>\n",
              "    <tr>\n",
              "      <th>8124</th>\n",
              "      <td>Hyundai Verna CRDi SX</td>\n",
              "      <td>2007</td>\n",
              "      <td>135000</td>\n",
              "      <td>119000</td>\n",
              "      <td>Diesel</td>\n",
              "      <td>Individual</td>\n",
              "      <td>Manual</td>\n",
              "      <td>Fourth &amp; Above Owner</td>\n",
              "      <td>16.8 kmpl</td>\n",
              "      <td>1493 CC</td>\n",
              "      <td>110 bhp</td>\n",
              "      <td>24@ 1,900-2,750(kgm@ rpm)</td>\n",
              "      <td>5.0</td>\n",
              "      <td>1493</td>\n",
              "      <td>CC</td>\n",
              "      <td>16.8</td>\n",
              "      <td>kmpl</td>\n",
              "    </tr>\n",
              "    <tr>\n",
              "      <th>8125</th>\n",
              "      <td>Maruti Swift Dzire ZDi</td>\n",
              "      <td>2009</td>\n",
              "      <td>382000</td>\n",
              "      <td>120000</td>\n",
              "      <td>Diesel</td>\n",
              "      <td>Individual</td>\n",
              "      <td>Manual</td>\n",
              "      <td>First Owner</td>\n",
              "      <td>19.3 kmpl</td>\n",
              "      <td>1248 CC</td>\n",
              "      <td>73.9 bhp</td>\n",
              "      <td>190Nm@ 2000rpm</td>\n",
              "      <td>5.0</td>\n",
              "      <td>1248</td>\n",
              "      <td>CC</td>\n",
              "      <td>19.3</td>\n",
              "      <td>kmpl</td>\n",
              "    </tr>\n",
              "    <tr>\n",
              "      <th>8126</th>\n",
              "      <td>Tata Indigo CR4</td>\n",
              "      <td>2013</td>\n",
              "      <td>290000</td>\n",
              "      <td>25000</td>\n",
              "      <td>Diesel</td>\n",
              "      <td>Individual</td>\n",
              "      <td>Manual</td>\n",
              "      <td>First Owner</td>\n",
              "      <td>23.57 kmpl</td>\n",
              "      <td>1396 CC</td>\n",
              "      <td>70 bhp</td>\n",
              "      <td>140Nm@ 1800-3000rpm</td>\n",
              "      <td>5.0</td>\n",
              "      <td>1396</td>\n",
              "      <td>CC</td>\n",
              "      <td>23.57</td>\n",
              "      <td>kmpl</td>\n",
              "    </tr>\n",
              "    <tr>\n",
              "      <th>8127</th>\n",
              "      <td>Tata Indigo CR4</td>\n",
              "      <td>2013</td>\n",
              "      <td>290000</td>\n",
              "      <td>25000</td>\n",
              "      <td>Diesel</td>\n",
              "      <td>Individual</td>\n",
              "      <td>Manual</td>\n",
              "      <td>First Owner</td>\n",
              "      <td>23.57 kmpl</td>\n",
              "      <td>1396 CC</td>\n",
              "      <td>70 bhp</td>\n",
              "      <td>140Nm@ 1800-3000rpm</td>\n",
              "      <td>5.0</td>\n",
              "      <td>1396</td>\n",
              "      <td>CC</td>\n",
              "      <td>23.57</td>\n",
              "      <td>kmpl</td>\n",
              "    </tr>\n",
              "  </tbody>\n",
              "</table>\n",
              "<p>8128 rows × 17 columns</p>\n",
              "</div>\n",
              "    <div class=\"colab-df-buttons\">\n",
              "\n",
              "  <div class=\"colab-df-container\">\n",
              "    <button class=\"colab-df-convert\" onclick=\"convertToInteractive('df-34c6650c-4818-4943-8750-818e8ab3e16f')\"\n",
              "            title=\"Convert this dataframe to an interactive table.\"\n",
              "            style=\"display:none;\">\n",
              "\n",
              "  <svg xmlns=\"http://www.w3.org/2000/svg\" height=\"24px\" viewBox=\"0 -960 960 960\">\n",
              "    <path d=\"M120-120v-720h720v720H120Zm60-500h600v-160H180v160Zm220 220h160v-160H400v160Zm0 220h160v-160H400v160ZM180-400h160v-160H180v160Zm440 0h160v-160H620v160ZM180-180h160v-160H180v160Zm440 0h160v-160H620v160Z\"/>\n",
              "  </svg>\n",
              "    </button>\n",
              "\n",
              "  <style>\n",
              "    .colab-df-container {\n",
              "      display:flex;\n",
              "      gap: 12px;\n",
              "    }\n",
              "\n",
              "    .colab-df-convert {\n",
              "      background-color: #E8F0FE;\n",
              "      border: none;\n",
              "      border-radius: 50%;\n",
              "      cursor: pointer;\n",
              "      display: none;\n",
              "      fill: #1967D2;\n",
              "      height: 32px;\n",
              "      padding: 0 0 0 0;\n",
              "      width: 32px;\n",
              "    }\n",
              "\n",
              "    .colab-df-convert:hover {\n",
              "      background-color: #E2EBFA;\n",
              "      box-shadow: 0px 1px 2px rgba(60, 64, 67, 0.3), 0px 1px 3px 1px rgba(60, 64, 67, 0.15);\n",
              "      fill: #174EA6;\n",
              "    }\n",
              "\n",
              "    .colab-df-buttons div {\n",
              "      margin-bottom: 4px;\n",
              "    }\n",
              "\n",
              "    [theme=dark] .colab-df-convert {\n",
              "      background-color: #3B4455;\n",
              "      fill: #D2E3FC;\n",
              "    }\n",
              "\n",
              "    [theme=dark] .colab-df-convert:hover {\n",
              "      background-color: #434B5C;\n",
              "      box-shadow: 0px 1px 3px 1px rgba(0, 0, 0, 0.15);\n",
              "      filter: drop-shadow(0px 1px 2px rgba(0, 0, 0, 0.3));\n",
              "      fill: #FFFFFF;\n",
              "    }\n",
              "  </style>\n",
              "\n",
              "    <script>\n",
              "      const buttonEl =\n",
              "        document.querySelector('#df-34c6650c-4818-4943-8750-818e8ab3e16f button.colab-df-convert');\n",
              "      buttonEl.style.display =\n",
              "        google.colab.kernel.accessAllowed ? 'block' : 'none';\n",
              "\n",
              "      async function convertToInteractive(key) {\n",
              "        const element = document.querySelector('#df-34c6650c-4818-4943-8750-818e8ab3e16f');\n",
              "        const dataTable =\n",
              "          await google.colab.kernel.invokeFunction('convertToInteractive',\n",
              "                                                    [key], {});\n",
              "        if (!dataTable) return;\n",
              "\n",
              "        const docLinkHtml = 'Like what you see? Visit the ' +\n",
              "          '<a target=\"_blank\" href=https://colab.research.google.com/notebooks/data_table.ipynb>data table notebook</a>'\n",
              "          + ' to learn more about interactive tables.';\n",
              "        element.innerHTML = '';\n",
              "        dataTable['output_type'] = 'display_data';\n",
              "        await google.colab.output.renderOutput(dataTable, element);\n",
              "        const docLink = document.createElement('div');\n",
              "        docLink.innerHTML = docLinkHtml;\n",
              "        element.appendChild(docLink);\n",
              "      }\n",
              "    </script>\n",
              "  </div>\n",
              "\n",
              "\n",
              "<div id=\"df-e8895cb4-dead-43d8-8429-e79d3bb8166e\">\n",
              "  <button class=\"colab-df-quickchart\" onclick=\"quickchart('df-e8895cb4-dead-43d8-8429-e79d3bb8166e')\"\n",
              "            title=\"Suggest charts.\"\n",
              "            style=\"display:none;\">\n",
              "\n",
              "<svg xmlns=\"http://www.w3.org/2000/svg\" height=\"24px\"viewBox=\"0 0 24 24\"\n",
              "     width=\"24px\">\n",
              "    <g>\n",
              "        <path d=\"M19 3H5c-1.1 0-2 .9-2 2v14c0 1.1.9 2 2 2h14c1.1 0 2-.9 2-2V5c0-1.1-.9-2-2-2zM9 17H7v-7h2v7zm4 0h-2V7h2v10zm4 0h-2v-4h2v4z\"/>\n",
              "    </g>\n",
              "</svg>\n",
              "  </button>\n",
              "\n",
              "<style>\n",
              "  .colab-df-quickchart {\n",
              "      --bg-color: #E8F0FE;\n",
              "      --fill-color: #1967D2;\n",
              "      --hover-bg-color: #E2EBFA;\n",
              "      --hover-fill-color: #174EA6;\n",
              "      --disabled-fill-color: #AAA;\n",
              "      --disabled-bg-color: #DDD;\n",
              "  }\n",
              "\n",
              "  [theme=dark] .colab-df-quickchart {\n",
              "      --bg-color: #3B4455;\n",
              "      --fill-color: #D2E3FC;\n",
              "      --hover-bg-color: #434B5C;\n",
              "      --hover-fill-color: #FFFFFF;\n",
              "      --disabled-bg-color: #3B4455;\n",
              "      --disabled-fill-color: #666;\n",
              "  }\n",
              "\n",
              "  .colab-df-quickchart {\n",
              "    background-color: var(--bg-color);\n",
              "    border: none;\n",
              "    border-radius: 50%;\n",
              "    cursor: pointer;\n",
              "    display: none;\n",
              "    fill: var(--fill-color);\n",
              "    height: 32px;\n",
              "    padding: 0;\n",
              "    width: 32px;\n",
              "  }\n",
              "\n",
              "  .colab-df-quickchart:hover {\n",
              "    background-color: var(--hover-bg-color);\n",
              "    box-shadow: 0 1px 2px rgba(60, 64, 67, 0.3), 0 1px 3px 1px rgba(60, 64, 67, 0.15);\n",
              "    fill: var(--button-hover-fill-color);\n",
              "  }\n",
              "\n",
              "  .colab-df-quickchart-complete:disabled,\n",
              "  .colab-df-quickchart-complete:disabled:hover {\n",
              "    background-color: var(--disabled-bg-color);\n",
              "    fill: var(--disabled-fill-color);\n",
              "    box-shadow: none;\n",
              "  }\n",
              "\n",
              "  .colab-df-spinner {\n",
              "    border: 2px solid var(--fill-color);\n",
              "    border-color: transparent;\n",
              "    border-bottom-color: var(--fill-color);\n",
              "    animation:\n",
              "      spin 1s steps(1) infinite;\n",
              "  }\n",
              "\n",
              "  @keyframes spin {\n",
              "    0% {\n",
              "      border-color: transparent;\n",
              "      border-bottom-color: var(--fill-color);\n",
              "      border-left-color: var(--fill-color);\n",
              "    }\n",
              "    20% {\n",
              "      border-color: transparent;\n",
              "      border-left-color: var(--fill-color);\n",
              "      border-top-color: var(--fill-color);\n",
              "    }\n",
              "    30% {\n",
              "      border-color: transparent;\n",
              "      border-left-color: var(--fill-color);\n",
              "      border-top-color: var(--fill-color);\n",
              "      border-right-color: var(--fill-color);\n",
              "    }\n",
              "    40% {\n",
              "      border-color: transparent;\n",
              "      border-right-color: var(--fill-color);\n",
              "      border-top-color: var(--fill-color);\n",
              "    }\n",
              "    60% {\n",
              "      border-color: transparent;\n",
              "      border-right-color: var(--fill-color);\n",
              "    }\n",
              "    80% {\n",
              "      border-color: transparent;\n",
              "      border-right-color: var(--fill-color);\n",
              "      border-bottom-color: var(--fill-color);\n",
              "    }\n",
              "    90% {\n",
              "      border-color: transparent;\n",
              "      border-bottom-color: var(--fill-color);\n",
              "    }\n",
              "  }\n",
              "</style>\n",
              "\n",
              "  <script>\n",
              "    async function quickchart(key) {\n",
              "      const quickchartButtonEl =\n",
              "        document.querySelector('#' + key + ' button');\n",
              "      quickchartButtonEl.disabled = true;  // To prevent multiple clicks.\n",
              "      quickchartButtonEl.classList.add('colab-df-spinner');\n",
              "      try {\n",
              "        const charts = await google.colab.kernel.invokeFunction(\n",
              "            'suggestCharts', [key], {});\n",
              "      } catch (error) {\n",
              "        console.error('Error during call to suggestCharts:', error);\n",
              "      }\n",
              "      quickchartButtonEl.classList.remove('colab-df-spinner');\n",
              "      quickchartButtonEl.classList.add('colab-df-quickchart-complete');\n",
              "    }\n",
              "    (() => {\n",
              "      let quickchartButtonEl =\n",
              "        document.querySelector('#df-e8895cb4-dead-43d8-8429-e79d3bb8166e button');\n",
              "      quickchartButtonEl.style.display =\n",
              "        google.colab.kernel.accessAllowed ? 'block' : 'none';\n",
              "    })();\n",
              "  </script>\n",
              "</div>\n",
              "    </div>\n",
              "  </div>\n"
            ]
          },
          "metadata": {},
          "execution_count": 10
        }
      ]
    },
    {
      "cell_type": "code",
      "source": [
        " ##null values cleaning\n",
        "df[\"max_power\"].isnull().sum() ##393\n",
        "df['max_power'].value_counts()\n",
        "print(df[\"max_power\"].isnull().sum())#221\n",
        "df['max_power']\n",
        "df[[\"new_max_power\",\"max_power_unit\"]] = df[\"max_power\"].str.split(\" \",0,expand = True)\n",
        "# df[[\"new_max_power\",\"max_power_unit\"]] = int(df[\"max_power\"].str.split(\" \",0,expand = True))\n",
        "df.head()\n",
        "# print(\"old ngine\",df[\"engine\"].value_counts())\n",
        "# print(\"new engine\",df[\"new_engine\"].value_counts())"
      ],
      "metadata": {
        "colab": {
          "base_uri": "https://localhost:8080/",
          "height": 558
        },
        "id": "1rZK2u10_iHS",
        "outputId": "376d87af-dc7c-49ad-8b20-8346705084a9"
      },
      "execution_count": 11,
      "outputs": [
        {
          "output_type": "stream",
          "name": "stdout",
          "text": [
            "215\n"
          ]
        },
        {
          "output_type": "stream",
          "name": "stderr",
          "text": [
            "<ipython-input-11-50604e57fca3>:6: FutureWarning: In a future version of pandas all arguments of StringMethods.split except for the argument 'pat' will be keyword-only.\n",
            "  df[[\"new_max_power\",\"max_power_unit\"]] = df[\"max_power\"].str.split(\" \",0,expand = True)\n"
          ]
        },
        {
          "output_type": "execute_result",
          "data": {
            "text/plain": [
              "                           name  year  selling_price  km_driven    fuel  \\\n",
              "0        Maruti Swift Dzire VDI  2014         450000     145500  Diesel   \n",
              "1  Skoda Rapid 1.5 TDI Ambition  2014         370000     120000  Diesel   \n",
              "2      Honda City 2017-2020 EXi  2006         158000     140000  Petrol   \n",
              "3     Hyundai i20 Sportz Diesel  2010         225000     127000  Diesel   \n",
              "4        Maruti Swift VXI BSIII  2007         130000     120000  Petrol   \n",
              "\n",
              "  seller_type transmission         owner     mileage   engine   max_power  \\\n",
              "0  Individual       Manual   First Owner   23.4 kmpl  1248 CC      74 bhp   \n",
              "1  Individual       Manual  Second Owner  21.14 kmpl  1498 CC  103.52 bhp   \n",
              "2  Individual       Manual   Third Owner   17.7 kmpl  1497 CC      78 bhp   \n",
              "3  Individual       Manual   First Owner   23.0 kmpl  1396 CC      90 bhp   \n",
              "4  Individual       Manual   First Owner   16.1 kmpl  1298 CC    88.2 bhp   \n",
              "\n",
              "                     torque  seats new_engine engine_unit new_mileage  \\\n",
              "0            190Nm@ 2000rpm    5.0       1248          CC        23.4   \n",
              "1       250Nm@ 1500-2500rpm    5.0       1498          CC       21.14   \n",
              "2     12.7@ 2,700(kgm@ rpm)    5.0       1497          CC        17.7   \n",
              "3  22.4 kgm at 1750-2750rpm    5.0       1396          CC        23.0   \n",
              "4     11.5@ 4,500(kgm@ rpm)    5.0       1298          CC        16.1   \n",
              "\n",
              "  mileage_unit new_max_power max_power_unit  \n",
              "0         kmpl            74            bhp  \n",
              "1         kmpl        103.52            bhp  \n",
              "2         kmpl            78            bhp  \n",
              "3         kmpl            90            bhp  \n",
              "4         kmpl          88.2            bhp  "
            ],
            "text/html": [
              "\n",
              "  <div id=\"df-0f9486dc-293b-403a-bf1e-9b90fde7ed77\" class=\"colab-df-container\">\n",
              "    <div>\n",
              "<style scoped>\n",
              "    .dataframe tbody tr th:only-of-type {\n",
              "        vertical-align: middle;\n",
              "    }\n",
              "\n",
              "    .dataframe tbody tr th {\n",
              "        vertical-align: top;\n",
              "    }\n",
              "\n",
              "    .dataframe thead th {\n",
              "        text-align: right;\n",
              "    }\n",
              "</style>\n",
              "<table border=\"1\" class=\"dataframe\">\n",
              "  <thead>\n",
              "    <tr style=\"text-align: right;\">\n",
              "      <th></th>\n",
              "      <th>name</th>\n",
              "      <th>year</th>\n",
              "      <th>selling_price</th>\n",
              "      <th>km_driven</th>\n",
              "      <th>fuel</th>\n",
              "      <th>seller_type</th>\n",
              "      <th>transmission</th>\n",
              "      <th>owner</th>\n",
              "      <th>mileage</th>\n",
              "      <th>engine</th>\n",
              "      <th>max_power</th>\n",
              "      <th>torque</th>\n",
              "      <th>seats</th>\n",
              "      <th>new_engine</th>\n",
              "      <th>engine_unit</th>\n",
              "      <th>new_mileage</th>\n",
              "      <th>mileage_unit</th>\n",
              "      <th>new_max_power</th>\n",
              "      <th>max_power_unit</th>\n",
              "    </tr>\n",
              "  </thead>\n",
              "  <tbody>\n",
              "    <tr>\n",
              "      <th>0</th>\n",
              "      <td>Maruti Swift Dzire VDI</td>\n",
              "      <td>2014</td>\n",
              "      <td>450000</td>\n",
              "      <td>145500</td>\n",
              "      <td>Diesel</td>\n",
              "      <td>Individual</td>\n",
              "      <td>Manual</td>\n",
              "      <td>First Owner</td>\n",
              "      <td>23.4 kmpl</td>\n",
              "      <td>1248 CC</td>\n",
              "      <td>74 bhp</td>\n",
              "      <td>190Nm@ 2000rpm</td>\n",
              "      <td>5.0</td>\n",
              "      <td>1248</td>\n",
              "      <td>CC</td>\n",
              "      <td>23.4</td>\n",
              "      <td>kmpl</td>\n",
              "      <td>74</td>\n",
              "      <td>bhp</td>\n",
              "    </tr>\n",
              "    <tr>\n",
              "      <th>1</th>\n",
              "      <td>Skoda Rapid 1.5 TDI Ambition</td>\n",
              "      <td>2014</td>\n",
              "      <td>370000</td>\n",
              "      <td>120000</td>\n",
              "      <td>Diesel</td>\n",
              "      <td>Individual</td>\n",
              "      <td>Manual</td>\n",
              "      <td>Second Owner</td>\n",
              "      <td>21.14 kmpl</td>\n",
              "      <td>1498 CC</td>\n",
              "      <td>103.52 bhp</td>\n",
              "      <td>250Nm@ 1500-2500rpm</td>\n",
              "      <td>5.0</td>\n",
              "      <td>1498</td>\n",
              "      <td>CC</td>\n",
              "      <td>21.14</td>\n",
              "      <td>kmpl</td>\n",
              "      <td>103.52</td>\n",
              "      <td>bhp</td>\n",
              "    </tr>\n",
              "    <tr>\n",
              "      <th>2</th>\n",
              "      <td>Honda City 2017-2020 EXi</td>\n",
              "      <td>2006</td>\n",
              "      <td>158000</td>\n",
              "      <td>140000</td>\n",
              "      <td>Petrol</td>\n",
              "      <td>Individual</td>\n",
              "      <td>Manual</td>\n",
              "      <td>Third Owner</td>\n",
              "      <td>17.7 kmpl</td>\n",
              "      <td>1497 CC</td>\n",
              "      <td>78 bhp</td>\n",
              "      <td>12.7@ 2,700(kgm@ rpm)</td>\n",
              "      <td>5.0</td>\n",
              "      <td>1497</td>\n",
              "      <td>CC</td>\n",
              "      <td>17.7</td>\n",
              "      <td>kmpl</td>\n",
              "      <td>78</td>\n",
              "      <td>bhp</td>\n",
              "    </tr>\n",
              "    <tr>\n",
              "      <th>3</th>\n",
              "      <td>Hyundai i20 Sportz Diesel</td>\n",
              "      <td>2010</td>\n",
              "      <td>225000</td>\n",
              "      <td>127000</td>\n",
              "      <td>Diesel</td>\n",
              "      <td>Individual</td>\n",
              "      <td>Manual</td>\n",
              "      <td>First Owner</td>\n",
              "      <td>23.0 kmpl</td>\n",
              "      <td>1396 CC</td>\n",
              "      <td>90 bhp</td>\n",
              "      <td>22.4 kgm at 1750-2750rpm</td>\n",
              "      <td>5.0</td>\n",
              "      <td>1396</td>\n",
              "      <td>CC</td>\n",
              "      <td>23.0</td>\n",
              "      <td>kmpl</td>\n",
              "      <td>90</td>\n",
              "      <td>bhp</td>\n",
              "    </tr>\n",
              "    <tr>\n",
              "      <th>4</th>\n",
              "      <td>Maruti Swift VXI BSIII</td>\n",
              "      <td>2007</td>\n",
              "      <td>130000</td>\n",
              "      <td>120000</td>\n",
              "      <td>Petrol</td>\n",
              "      <td>Individual</td>\n",
              "      <td>Manual</td>\n",
              "      <td>First Owner</td>\n",
              "      <td>16.1 kmpl</td>\n",
              "      <td>1298 CC</td>\n",
              "      <td>88.2 bhp</td>\n",
              "      <td>11.5@ 4,500(kgm@ rpm)</td>\n",
              "      <td>5.0</td>\n",
              "      <td>1298</td>\n",
              "      <td>CC</td>\n",
              "      <td>16.1</td>\n",
              "      <td>kmpl</td>\n",
              "      <td>88.2</td>\n",
              "      <td>bhp</td>\n",
              "    </tr>\n",
              "  </tbody>\n",
              "</table>\n",
              "</div>\n",
              "    <div class=\"colab-df-buttons\">\n",
              "\n",
              "  <div class=\"colab-df-container\">\n",
              "    <button class=\"colab-df-convert\" onclick=\"convertToInteractive('df-0f9486dc-293b-403a-bf1e-9b90fde7ed77')\"\n",
              "            title=\"Convert this dataframe to an interactive table.\"\n",
              "            style=\"display:none;\">\n",
              "\n",
              "  <svg xmlns=\"http://www.w3.org/2000/svg\" height=\"24px\" viewBox=\"0 -960 960 960\">\n",
              "    <path d=\"M120-120v-720h720v720H120Zm60-500h600v-160H180v160Zm220 220h160v-160H400v160Zm0 220h160v-160H400v160ZM180-400h160v-160H180v160Zm440 0h160v-160H620v160ZM180-180h160v-160H180v160Zm440 0h160v-160H620v160Z\"/>\n",
              "  </svg>\n",
              "    </button>\n",
              "\n",
              "  <style>\n",
              "    .colab-df-container {\n",
              "      display:flex;\n",
              "      gap: 12px;\n",
              "    }\n",
              "\n",
              "    .colab-df-convert {\n",
              "      background-color: #E8F0FE;\n",
              "      border: none;\n",
              "      border-radius: 50%;\n",
              "      cursor: pointer;\n",
              "      display: none;\n",
              "      fill: #1967D2;\n",
              "      height: 32px;\n",
              "      padding: 0 0 0 0;\n",
              "      width: 32px;\n",
              "    }\n",
              "\n",
              "    .colab-df-convert:hover {\n",
              "      background-color: #E2EBFA;\n",
              "      box-shadow: 0px 1px 2px rgba(60, 64, 67, 0.3), 0px 1px 3px 1px rgba(60, 64, 67, 0.15);\n",
              "      fill: #174EA6;\n",
              "    }\n",
              "\n",
              "    .colab-df-buttons div {\n",
              "      margin-bottom: 4px;\n",
              "    }\n",
              "\n",
              "    [theme=dark] .colab-df-convert {\n",
              "      background-color: #3B4455;\n",
              "      fill: #D2E3FC;\n",
              "    }\n",
              "\n",
              "    [theme=dark] .colab-df-convert:hover {\n",
              "      background-color: #434B5C;\n",
              "      box-shadow: 0px 1px 3px 1px rgba(0, 0, 0, 0.15);\n",
              "      filter: drop-shadow(0px 1px 2px rgba(0, 0, 0, 0.3));\n",
              "      fill: #FFFFFF;\n",
              "    }\n",
              "  </style>\n",
              "\n",
              "    <script>\n",
              "      const buttonEl =\n",
              "        document.querySelector('#df-0f9486dc-293b-403a-bf1e-9b90fde7ed77 button.colab-df-convert');\n",
              "      buttonEl.style.display =\n",
              "        google.colab.kernel.accessAllowed ? 'block' : 'none';\n",
              "\n",
              "      async function convertToInteractive(key) {\n",
              "        const element = document.querySelector('#df-0f9486dc-293b-403a-bf1e-9b90fde7ed77');\n",
              "        const dataTable =\n",
              "          await google.colab.kernel.invokeFunction('convertToInteractive',\n",
              "                                                    [key], {});\n",
              "        if (!dataTable) return;\n",
              "\n",
              "        const docLinkHtml = 'Like what you see? Visit the ' +\n",
              "          '<a target=\"_blank\" href=https://colab.research.google.com/notebooks/data_table.ipynb>data table notebook</a>'\n",
              "          + ' to learn more about interactive tables.';\n",
              "        element.innerHTML = '';\n",
              "        dataTable['output_type'] = 'display_data';\n",
              "        await google.colab.output.renderOutput(dataTable, element);\n",
              "        const docLink = document.createElement('div');\n",
              "        docLink.innerHTML = docLinkHtml;\n",
              "        element.appendChild(docLink);\n",
              "      }\n",
              "    </script>\n",
              "  </div>\n",
              "\n",
              "\n",
              "<div id=\"df-8ef6a083-d012-46d4-9927-08123808c6c9\">\n",
              "  <button class=\"colab-df-quickchart\" onclick=\"quickchart('df-8ef6a083-d012-46d4-9927-08123808c6c9')\"\n",
              "            title=\"Suggest charts.\"\n",
              "            style=\"display:none;\">\n",
              "\n",
              "<svg xmlns=\"http://www.w3.org/2000/svg\" height=\"24px\"viewBox=\"0 0 24 24\"\n",
              "     width=\"24px\">\n",
              "    <g>\n",
              "        <path d=\"M19 3H5c-1.1 0-2 .9-2 2v14c0 1.1.9 2 2 2h14c1.1 0 2-.9 2-2V5c0-1.1-.9-2-2-2zM9 17H7v-7h2v7zm4 0h-2V7h2v10zm4 0h-2v-4h2v4z\"/>\n",
              "    </g>\n",
              "</svg>\n",
              "  </button>\n",
              "\n",
              "<style>\n",
              "  .colab-df-quickchart {\n",
              "      --bg-color: #E8F0FE;\n",
              "      --fill-color: #1967D2;\n",
              "      --hover-bg-color: #E2EBFA;\n",
              "      --hover-fill-color: #174EA6;\n",
              "      --disabled-fill-color: #AAA;\n",
              "      --disabled-bg-color: #DDD;\n",
              "  }\n",
              "\n",
              "  [theme=dark] .colab-df-quickchart {\n",
              "      --bg-color: #3B4455;\n",
              "      --fill-color: #D2E3FC;\n",
              "      --hover-bg-color: #434B5C;\n",
              "      --hover-fill-color: #FFFFFF;\n",
              "      --disabled-bg-color: #3B4455;\n",
              "      --disabled-fill-color: #666;\n",
              "  }\n",
              "\n",
              "  .colab-df-quickchart {\n",
              "    background-color: var(--bg-color);\n",
              "    border: none;\n",
              "    border-radius: 50%;\n",
              "    cursor: pointer;\n",
              "    display: none;\n",
              "    fill: var(--fill-color);\n",
              "    height: 32px;\n",
              "    padding: 0;\n",
              "    width: 32px;\n",
              "  }\n",
              "\n",
              "  .colab-df-quickchart:hover {\n",
              "    background-color: var(--hover-bg-color);\n",
              "    box-shadow: 0 1px 2px rgba(60, 64, 67, 0.3), 0 1px 3px 1px rgba(60, 64, 67, 0.15);\n",
              "    fill: var(--button-hover-fill-color);\n",
              "  }\n",
              "\n",
              "  .colab-df-quickchart-complete:disabled,\n",
              "  .colab-df-quickchart-complete:disabled:hover {\n",
              "    background-color: var(--disabled-bg-color);\n",
              "    fill: var(--disabled-fill-color);\n",
              "    box-shadow: none;\n",
              "  }\n",
              "\n",
              "  .colab-df-spinner {\n",
              "    border: 2px solid var(--fill-color);\n",
              "    border-color: transparent;\n",
              "    border-bottom-color: var(--fill-color);\n",
              "    animation:\n",
              "      spin 1s steps(1) infinite;\n",
              "  }\n",
              "\n",
              "  @keyframes spin {\n",
              "    0% {\n",
              "      border-color: transparent;\n",
              "      border-bottom-color: var(--fill-color);\n",
              "      border-left-color: var(--fill-color);\n",
              "    }\n",
              "    20% {\n",
              "      border-color: transparent;\n",
              "      border-left-color: var(--fill-color);\n",
              "      border-top-color: var(--fill-color);\n",
              "    }\n",
              "    30% {\n",
              "      border-color: transparent;\n",
              "      border-left-color: var(--fill-color);\n",
              "      border-top-color: var(--fill-color);\n",
              "      border-right-color: var(--fill-color);\n",
              "    }\n",
              "    40% {\n",
              "      border-color: transparent;\n",
              "      border-right-color: var(--fill-color);\n",
              "      border-top-color: var(--fill-color);\n",
              "    }\n",
              "    60% {\n",
              "      border-color: transparent;\n",
              "      border-right-color: var(--fill-color);\n",
              "    }\n",
              "    80% {\n",
              "      border-color: transparent;\n",
              "      border-right-color: var(--fill-color);\n",
              "      border-bottom-color: var(--fill-color);\n",
              "    }\n",
              "    90% {\n",
              "      border-color: transparent;\n",
              "      border-bottom-color: var(--fill-color);\n",
              "    }\n",
              "  }\n",
              "</style>\n",
              "\n",
              "  <script>\n",
              "    async function quickchart(key) {\n",
              "      const quickchartButtonEl =\n",
              "        document.querySelector('#' + key + ' button');\n",
              "      quickchartButtonEl.disabled = true;  // To prevent multiple clicks.\n",
              "      quickchartButtonEl.classList.add('colab-df-spinner');\n",
              "      try {\n",
              "        const charts = await google.colab.kernel.invokeFunction(\n",
              "            'suggestCharts', [key], {});\n",
              "      } catch (error) {\n",
              "        console.error('Error during call to suggestCharts:', error);\n",
              "      }\n",
              "      quickchartButtonEl.classList.remove('colab-df-spinner');\n",
              "      quickchartButtonEl.classList.add('colab-df-quickchart-complete');\n",
              "    }\n",
              "    (() => {\n",
              "      let quickchartButtonEl =\n",
              "        document.querySelector('#df-8ef6a083-d012-46d4-9927-08123808c6c9 button');\n",
              "      quickchartButtonEl.style.display =\n",
              "        google.colab.kernel.accessAllowed ? 'block' : 'none';\n",
              "    })();\n",
              "  </script>\n",
              "</div>\n",
              "    </div>\n",
              "  </div>\n"
            ]
          },
          "metadata": {},
          "execution_count": 11
        }
      ]
    },
    {
      "cell_type": "code",
      "source": [
        "df.columns"
      ],
      "metadata": {
        "id": "HVAjUK3YSDfo",
        "colab": {
          "base_uri": "https://localhost:8080/"
        },
        "outputId": "7de4db8a-03c1-4cb7-9f0b-d46974b1989d"
      },
      "execution_count": 12,
      "outputs": [
        {
          "output_type": "execute_result",
          "data": {
            "text/plain": [
              "Index(['name', 'year', 'selling_price', 'km_driven', 'fuel', 'seller_type',\n",
              "       'transmission', 'owner', 'mileage', 'engine', 'max_power', 'torque',\n",
              "       'seats', 'new_engine', 'engine_unit', 'new_mileage', 'mileage_unit',\n",
              "       'new_max_power', 'max_power_unit'],\n",
              "      dtype='object')"
            ]
          },
          "metadata": {},
          "execution_count": 12
        }
      ]
    },
    {
      "cell_type": "code",
      "source": [
        "df.describe()"
      ],
      "metadata": {
        "colab": {
          "base_uri": "https://localhost:8080/",
          "height": 300
        },
        "id": "2pQzTZSDvTxi",
        "outputId": "078add32-f29c-476b-e183-a6f6944d2b9b"
      },
      "execution_count": 13,
      "outputs": [
        {
          "output_type": "execute_result",
          "data": {
            "text/plain": [
              "              year  selling_price     km_driven        seats\n",
              "count  8128.000000   8.128000e+03  8.128000e+03  7907.000000\n",
              "mean   2013.804011   6.382718e+05  6.981951e+04     5.416719\n",
              "std       4.044249   8.062534e+05  5.655055e+04     0.959588\n",
              "min    1983.000000   2.999900e+04  1.000000e+00     2.000000\n",
              "25%    2011.000000   2.549990e+05  3.500000e+04     5.000000\n",
              "50%    2015.000000   4.500000e+05  6.000000e+04     5.000000\n",
              "75%    2017.000000   6.750000e+05  9.800000e+04     5.000000\n",
              "max    2020.000000   1.000000e+07  2.360457e+06    14.000000"
            ],
            "text/html": [
              "\n",
              "  <div id=\"df-ccd04e13-98e2-40f4-9a22-7c363c42a0c9\" class=\"colab-df-container\">\n",
              "    <div>\n",
              "<style scoped>\n",
              "    .dataframe tbody tr th:only-of-type {\n",
              "        vertical-align: middle;\n",
              "    }\n",
              "\n",
              "    .dataframe tbody tr th {\n",
              "        vertical-align: top;\n",
              "    }\n",
              "\n",
              "    .dataframe thead th {\n",
              "        text-align: right;\n",
              "    }\n",
              "</style>\n",
              "<table border=\"1\" class=\"dataframe\">\n",
              "  <thead>\n",
              "    <tr style=\"text-align: right;\">\n",
              "      <th></th>\n",
              "      <th>year</th>\n",
              "      <th>selling_price</th>\n",
              "      <th>km_driven</th>\n",
              "      <th>seats</th>\n",
              "    </tr>\n",
              "  </thead>\n",
              "  <tbody>\n",
              "    <tr>\n",
              "      <th>count</th>\n",
              "      <td>8128.000000</td>\n",
              "      <td>8.128000e+03</td>\n",
              "      <td>8.128000e+03</td>\n",
              "      <td>7907.000000</td>\n",
              "    </tr>\n",
              "    <tr>\n",
              "      <th>mean</th>\n",
              "      <td>2013.804011</td>\n",
              "      <td>6.382718e+05</td>\n",
              "      <td>6.981951e+04</td>\n",
              "      <td>5.416719</td>\n",
              "    </tr>\n",
              "    <tr>\n",
              "      <th>std</th>\n",
              "      <td>4.044249</td>\n",
              "      <td>8.062534e+05</td>\n",
              "      <td>5.655055e+04</td>\n",
              "      <td>0.959588</td>\n",
              "    </tr>\n",
              "    <tr>\n",
              "      <th>min</th>\n",
              "      <td>1983.000000</td>\n",
              "      <td>2.999900e+04</td>\n",
              "      <td>1.000000e+00</td>\n",
              "      <td>2.000000</td>\n",
              "    </tr>\n",
              "    <tr>\n",
              "      <th>25%</th>\n",
              "      <td>2011.000000</td>\n",
              "      <td>2.549990e+05</td>\n",
              "      <td>3.500000e+04</td>\n",
              "      <td>5.000000</td>\n",
              "    </tr>\n",
              "    <tr>\n",
              "      <th>50%</th>\n",
              "      <td>2015.000000</td>\n",
              "      <td>4.500000e+05</td>\n",
              "      <td>6.000000e+04</td>\n",
              "      <td>5.000000</td>\n",
              "    </tr>\n",
              "    <tr>\n",
              "      <th>75%</th>\n",
              "      <td>2017.000000</td>\n",
              "      <td>6.750000e+05</td>\n",
              "      <td>9.800000e+04</td>\n",
              "      <td>5.000000</td>\n",
              "    </tr>\n",
              "    <tr>\n",
              "      <th>max</th>\n",
              "      <td>2020.000000</td>\n",
              "      <td>1.000000e+07</td>\n",
              "      <td>2.360457e+06</td>\n",
              "      <td>14.000000</td>\n",
              "    </tr>\n",
              "  </tbody>\n",
              "</table>\n",
              "</div>\n",
              "    <div class=\"colab-df-buttons\">\n",
              "\n",
              "  <div class=\"colab-df-container\">\n",
              "    <button class=\"colab-df-convert\" onclick=\"convertToInteractive('df-ccd04e13-98e2-40f4-9a22-7c363c42a0c9')\"\n",
              "            title=\"Convert this dataframe to an interactive table.\"\n",
              "            style=\"display:none;\">\n",
              "\n",
              "  <svg xmlns=\"http://www.w3.org/2000/svg\" height=\"24px\" viewBox=\"0 -960 960 960\">\n",
              "    <path d=\"M120-120v-720h720v720H120Zm60-500h600v-160H180v160Zm220 220h160v-160H400v160Zm0 220h160v-160H400v160ZM180-400h160v-160H180v160Zm440 0h160v-160H620v160ZM180-180h160v-160H180v160Zm440 0h160v-160H620v160Z\"/>\n",
              "  </svg>\n",
              "    </button>\n",
              "\n",
              "  <style>\n",
              "    .colab-df-container {\n",
              "      display:flex;\n",
              "      gap: 12px;\n",
              "    }\n",
              "\n",
              "    .colab-df-convert {\n",
              "      background-color: #E8F0FE;\n",
              "      border: none;\n",
              "      border-radius: 50%;\n",
              "      cursor: pointer;\n",
              "      display: none;\n",
              "      fill: #1967D2;\n",
              "      height: 32px;\n",
              "      padding: 0 0 0 0;\n",
              "      width: 32px;\n",
              "    }\n",
              "\n",
              "    .colab-df-convert:hover {\n",
              "      background-color: #E2EBFA;\n",
              "      box-shadow: 0px 1px 2px rgba(60, 64, 67, 0.3), 0px 1px 3px 1px rgba(60, 64, 67, 0.15);\n",
              "      fill: #174EA6;\n",
              "    }\n",
              "\n",
              "    .colab-df-buttons div {\n",
              "      margin-bottom: 4px;\n",
              "    }\n",
              "\n",
              "    [theme=dark] .colab-df-convert {\n",
              "      background-color: #3B4455;\n",
              "      fill: #D2E3FC;\n",
              "    }\n",
              "\n",
              "    [theme=dark] .colab-df-convert:hover {\n",
              "      background-color: #434B5C;\n",
              "      box-shadow: 0px 1px 3px 1px rgba(0, 0, 0, 0.15);\n",
              "      filter: drop-shadow(0px 1px 2px rgba(0, 0, 0, 0.3));\n",
              "      fill: #FFFFFF;\n",
              "    }\n",
              "  </style>\n",
              "\n",
              "    <script>\n",
              "      const buttonEl =\n",
              "        document.querySelector('#df-ccd04e13-98e2-40f4-9a22-7c363c42a0c9 button.colab-df-convert');\n",
              "      buttonEl.style.display =\n",
              "        google.colab.kernel.accessAllowed ? 'block' : 'none';\n",
              "\n",
              "      async function convertToInteractive(key) {\n",
              "        const element = document.querySelector('#df-ccd04e13-98e2-40f4-9a22-7c363c42a0c9');\n",
              "        const dataTable =\n",
              "          await google.colab.kernel.invokeFunction('convertToInteractive',\n",
              "                                                    [key], {});\n",
              "        if (!dataTable) return;\n",
              "\n",
              "        const docLinkHtml = 'Like what you see? Visit the ' +\n",
              "          '<a target=\"_blank\" href=https://colab.research.google.com/notebooks/data_table.ipynb>data table notebook</a>'\n",
              "          + ' to learn more about interactive tables.';\n",
              "        element.innerHTML = '';\n",
              "        dataTable['output_type'] = 'display_data';\n",
              "        await google.colab.output.renderOutput(dataTable, element);\n",
              "        const docLink = document.createElement('div');\n",
              "        docLink.innerHTML = docLinkHtml;\n",
              "        element.appendChild(docLink);\n",
              "      }\n",
              "    </script>\n",
              "  </div>\n",
              "\n",
              "\n",
              "<div id=\"df-f0a4dd77-d9b3-4b6d-ade6-35960091b00c\">\n",
              "  <button class=\"colab-df-quickchart\" onclick=\"quickchart('df-f0a4dd77-d9b3-4b6d-ade6-35960091b00c')\"\n",
              "            title=\"Suggest charts.\"\n",
              "            style=\"display:none;\">\n",
              "\n",
              "<svg xmlns=\"http://www.w3.org/2000/svg\" height=\"24px\"viewBox=\"0 0 24 24\"\n",
              "     width=\"24px\">\n",
              "    <g>\n",
              "        <path d=\"M19 3H5c-1.1 0-2 .9-2 2v14c0 1.1.9 2 2 2h14c1.1 0 2-.9 2-2V5c0-1.1-.9-2-2-2zM9 17H7v-7h2v7zm4 0h-2V7h2v10zm4 0h-2v-4h2v4z\"/>\n",
              "    </g>\n",
              "</svg>\n",
              "  </button>\n",
              "\n",
              "<style>\n",
              "  .colab-df-quickchart {\n",
              "      --bg-color: #E8F0FE;\n",
              "      --fill-color: #1967D2;\n",
              "      --hover-bg-color: #E2EBFA;\n",
              "      --hover-fill-color: #174EA6;\n",
              "      --disabled-fill-color: #AAA;\n",
              "      --disabled-bg-color: #DDD;\n",
              "  }\n",
              "\n",
              "  [theme=dark] .colab-df-quickchart {\n",
              "      --bg-color: #3B4455;\n",
              "      --fill-color: #D2E3FC;\n",
              "      --hover-bg-color: #434B5C;\n",
              "      --hover-fill-color: #FFFFFF;\n",
              "      --disabled-bg-color: #3B4455;\n",
              "      --disabled-fill-color: #666;\n",
              "  }\n",
              "\n",
              "  .colab-df-quickchart {\n",
              "    background-color: var(--bg-color);\n",
              "    border: none;\n",
              "    border-radius: 50%;\n",
              "    cursor: pointer;\n",
              "    display: none;\n",
              "    fill: var(--fill-color);\n",
              "    height: 32px;\n",
              "    padding: 0;\n",
              "    width: 32px;\n",
              "  }\n",
              "\n",
              "  .colab-df-quickchart:hover {\n",
              "    background-color: var(--hover-bg-color);\n",
              "    box-shadow: 0 1px 2px rgba(60, 64, 67, 0.3), 0 1px 3px 1px rgba(60, 64, 67, 0.15);\n",
              "    fill: var(--button-hover-fill-color);\n",
              "  }\n",
              "\n",
              "  .colab-df-quickchart-complete:disabled,\n",
              "  .colab-df-quickchart-complete:disabled:hover {\n",
              "    background-color: var(--disabled-bg-color);\n",
              "    fill: var(--disabled-fill-color);\n",
              "    box-shadow: none;\n",
              "  }\n",
              "\n",
              "  .colab-df-spinner {\n",
              "    border: 2px solid var(--fill-color);\n",
              "    border-color: transparent;\n",
              "    border-bottom-color: var(--fill-color);\n",
              "    animation:\n",
              "      spin 1s steps(1) infinite;\n",
              "  }\n",
              "\n",
              "  @keyframes spin {\n",
              "    0% {\n",
              "      border-color: transparent;\n",
              "      border-bottom-color: var(--fill-color);\n",
              "      border-left-color: var(--fill-color);\n",
              "    }\n",
              "    20% {\n",
              "      border-color: transparent;\n",
              "      border-left-color: var(--fill-color);\n",
              "      border-top-color: var(--fill-color);\n",
              "    }\n",
              "    30% {\n",
              "      border-color: transparent;\n",
              "      border-left-color: var(--fill-color);\n",
              "      border-top-color: var(--fill-color);\n",
              "      border-right-color: var(--fill-color);\n",
              "    }\n",
              "    40% {\n",
              "      border-color: transparent;\n",
              "      border-right-color: var(--fill-color);\n",
              "      border-top-color: var(--fill-color);\n",
              "    }\n",
              "    60% {\n",
              "      border-color: transparent;\n",
              "      border-right-color: var(--fill-color);\n",
              "    }\n",
              "    80% {\n",
              "      border-color: transparent;\n",
              "      border-right-color: var(--fill-color);\n",
              "      border-bottom-color: var(--fill-color);\n",
              "    }\n",
              "    90% {\n",
              "      border-color: transparent;\n",
              "      border-bottom-color: var(--fill-color);\n",
              "    }\n",
              "  }\n",
              "</style>\n",
              "\n",
              "  <script>\n",
              "    async function quickchart(key) {\n",
              "      const quickchartButtonEl =\n",
              "        document.querySelector('#' + key + ' button');\n",
              "      quickchartButtonEl.disabled = true;  // To prevent multiple clicks.\n",
              "      quickchartButtonEl.classList.add('colab-df-spinner');\n",
              "      try {\n",
              "        const charts = await google.colab.kernel.invokeFunction(\n",
              "            'suggestCharts', [key], {});\n",
              "      } catch (error) {\n",
              "        console.error('Error during call to suggestCharts:', error);\n",
              "      }\n",
              "      quickchartButtonEl.classList.remove('colab-df-spinner');\n",
              "      quickchartButtonEl.classList.add('colab-df-quickchart-complete');\n",
              "    }\n",
              "    (() => {\n",
              "      let quickchartButtonEl =\n",
              "        document.querySelector('#df-f0a4dd77-d9b3-4b6d-ade6-35960091b00c button');\n",
              "      quickchartButtonEl.style.display =\n",
              "        google.colab.kernel.accessAllowed ? 'block' : 'none';\n",
              "    })();\n",
              "  </script>\n",
              "</div>\n",
              "    </div>\n",
              "  </div>\n"
            ]
          },
          "metadata": {},
          "execution_count": 13
        }
      ]
    },
    {
      "cell_type": "code",
      "source": [
        "\n",
        "df.columns"
      ],
      "metadata": {
        "colab": {
          "base_uri": "https://localhost:8080/"
        },
        "id": "L7hOnlDPPbOm",
        "outputId": "66bf5dd7-838e-490b-dbee-b6aea440f8fb"
      },
      "execution_count": 14,
      "outputs": [
        {
          "output_type": "execute_result",
          "data": {
            "text/plain": [
              "Index(['name', 'year', 'selling_price', 'km_driven', 'fuel', 'seller_type',\n",
              "       'transmission', 'owner', 'mileage', 'engine', 'max_power', 'torque',\n",
              "       'seats', 'new_engine', 'engine_unit', 'new_mileage', 'mileage_unit',\n",
              "       'new_max_power', 'max_power_unit'],\n",
              "      dtype='object')"
            ]
          },
          "metadata": {},
          "execution_count": 14
        }
      ]
    },
    {
      "cell_type": "code",
      "source": [
        "df.info()"
      ],
      "metadata": {
        "colab": {
          "base_uri": "https://localhost:8080/"
        },
        "id": "ExPJWPFBPguv",
        "outputId": "856863ce-67ab-4067-a52d-7159b0acf0de"
      },
      "execution_count": 15,
      "outputs": [
        {
          "output_type": "stream",
          "name": "stdout",
          "text": [
            "<class 'pandas.core.frame.DataFrame'>\n",
            "RangeIndex: 8128 entries, 0 to 8127\n",
            "Data columns (total 19 columns):\n",
            " #   Column          Non-Null Count  Dtype  \n",
            "---  ------          --------------  -----  \n",
            " 0   name            8128 non-null   object \n",
            " 1   year            8128 non-null   int64  \n",
            " 2   selling_price   8128 non-null   int64  \n",
            " 3   km_driven       8128 non-null   int64  \n",
            " 4   fuel            8128 non-null   object \n",
            " 5   seller_type     8128 non-null   object \n",
            " 6   transmission    8128 non-null   object \n",
            " 7   owner           8128 non-null   object \n",
            " 8   mileage         7907 non-null   object \n",
            " 9   engine          7907 non-null   object \n",
            " 10  max_power       7913 non-null   object \n",
            " 11  torque          7906 non-null   object \n",
            " 12  seats           7907 non-null   float64\n",
            " 13  new_engine      7907 non-null   object \n",
            " 14  engine_unit     7907 non-null   object \n",
            " 15  new_mileage     7907 non-null   object \n",
            " 16  mileage_unit    7907 non-null   object \n",
            " 17  new_max_power   7913 non-null   object \n",
            " 18  max_power_unit  7907 non-null   object \n",
            "dtypes: float64(1), int64(3), object(15)\n",
            "memory usage: 1.2+ MB\n"
          ]
        }
      ]
    },
    {
      "cell_type": "code",
      "source": [
        "df['new_engine'] = pd.to_numeric(df['new_engine'])\n",
        "df['new_mileage'] = pd.to_numeric(df['new_mileage'])\n",
        "df['new_max_power'] = pd.to_numeric(df['new_max_power'])\n",
        "df.info()"
      ],
      "metadata": {
        "colab": {
          "base_uri": "https://localhost:8080/"
        },
        "id": "zuv9md3hQGNL",
        "outputId": "1cb627fe-e466-476a-9852-a15931147a7f"
      },
      "execution_count": 16,
      "outputs": [
        {
          "output_type": "stream",
          "name": "stdout",
          "text": [
            "<class 'pandas.core.frame.DataFrame'>\n",
            "RangeIndex: 8128 entries, 0 to 8127\n",
            "Data columns (total 19 columns):\n",
            " #   Column          Non-Null Count  Dtype  \n",
            "---  ------          --------------  -----  \n",
            " 0   name            8128 non-null   object \n",
            " 1   year            8128 non-null   int64  \n",
            " 2   selling_price   8128 non-null   int64  \n",
            " 3   km_driven       8128 non-null   int64  \n",
            " 4   fuel            8128 non-null   object \n",
            " 5   seller_type     8128 non-null   object \n",
            " 6   transmission    8128 non-null   object \n",
            " 7   owner           8128 non-null   object \n",
            " 8   mileage         7907 non-null   object \n",
            " 9   engine          7907 non-null   object \n",
            " 10  max_power       7913 non-null   object \n",
            " 11  torque          7906 non-null   object \n",
            " 12  seats           7907 non-null   float64\n",
            " 13  new_engine      7907 non-null   float64\n",
            " 14  engine_unit     7907 non-null   object \n",
            " 15  new_mileage     7907 non-null   float64\n",
            " 16  mileage_unit    7907 non-null   object \n",
            " 17  new_max_power   7912 non-null   float64\n",
            " 18  max_power_unit  7907 non-null   object \n",
            "dtypes: float64(4), int64(3), object(12)\n",
            "memory usage: 1.2+ MB\n"
          ]
        }
      ]
    },
    {
      "cell_type": "code",
      "source": [
        "df.describe()"
      ],
      "metadata": {
        "colab": {
          "base_uri": "https://localhost:8080/",
          "height": 300
        },
        "id": "MzQilrNS1Hiu",
        "outputId": "9379399f-0005-449e-dda1-21ed4dfa57b6"
      },
      "execution_count": 17,
      "outputs": [
        {
          "output_type": "execute_result",
          "data": {
            "text/plain": [
              "              year  selling_price     km_driven        seats   new_engine  \\\n",
              "count  8128.000000   8.128000e+03  8.128000e+03  7907.000000  7907.000000   \n",
              "mean   2013.804011   6.382718e+05  6.981951e+04     5.416719  1458.625016   \n",
              "std       4.044249   8.062534e+05  5.655055e+04     0.959588   503.916303   \n",
              "min    1983.000000   2.999900e+04  1.000000e+00     2.000000   624.000000   \n",
              "25%    2011.000000   2.549990e+05  3.500000e+04     5.000000  1197.000000   \n",
              "50%    2015.000000   4.500000e+05  6.000000e+04     5.000000  1248.000000   \n",
              "75%    2017.000000   6.750000e+05  9.800000e+04     5.000000  1582.000000   \n",
              "max    2020.000000   1.000000e+07  2.360457e+06    14.000000  3604.000000   \n",
              "\n",
              "       new_mileage  new_max_power  \n",
              "count  7907.000000    7912.000000  \n",
              "mean     19.418783      91.517919  \n",
              "std       4.037145      35.822499  \n",
              "min       0.000000       0.000000  \n",
              "25%      16.780000      68.050000  \n",
              "50%      19.300000      82.000000  \n",
              "75%      22.320000     102.000000  \n",
              "max      42.000000     400.000000  "
            ],
            "text/html": [
              "\n",
              "  <div id=\"df-c1a918a7-e5cb-442a-9d70-cf68527ece5d\" class=\"colab-df-container\">\n",
              "    <div>\n",
              "<style scoped>\n",
              "    .dataframe tbody tr th:only-of-type {\n",
              "        vertical-align: middle;\n",
              "    }\n",
              "\n",
              "    .dataframe tbody tr th {\n",
              "        vertical-align: top;\n",
              "    }\n",
              "\n",
              "    .dataframe thead th {\n",
              "        text-align: right;\n",
              "    }\n",
              "</style>\n",
              "<table border=\"1\" class=\"dataframe\">\n",
              "  <thead>\n",
              "    <tr style=\"text-align: right;\">\n",
              "      <th></th>\n",
              "      <th>year</th>\n",
              "      <th>selling_price</th>\n",
              "      <th>km_driven</th>\n",
              "      <th>seats</th>\n",
              "      <th>new_engine</th>\n",
              "      <th>new_mileage</th>\n",
              "      <th>new_max_power</th>\n",
              "    </tr>\n",
              "  </thead>\n",
              "  <tbody>\n",
              "    <tr>\n",
              "      <th>count</th>\n",
              "      <td>8128.000000</td>\n",
              "      <td>8.128000e+03</td>\n",
              "      <td>8.128000e+03</td>\n",
              "      <td>7907.000000</td>\n",
              "      <td>7907.000000</td>\n",
              "      <td>7907.000000</td>\n",
              "      <td>7912.000000</td>\n",
              "    </tr>\n",
              "    <tr>\n",
              "      <th>mean</th>\n",
              "      <td>2013.804011</td>\n",
              "      <td>6.382718e+05</td>\n",
              "      <td>6.981951e+04</td>\n",
              "      <td>5.416719</td>\n",
              "      <td>1458.625016</td>\n",
              "      <td>19.418783</td>\n",
              "      <td>91.517919</td>\n",
              "    </tr>\n",
              "    <tr>\n",
              "      <th>std</th>\n",
              "      <td>4.044249</td>\n",
              "      <td>8.062534e+05</td>\n",
              "      <td>5.655055e+04</td>\n",
              "      <td>0.959588</td>\n",
              "      <td>503.916303</td>\n",
              "      <td>4.037145</td>\n",
              "      <td>35.822499</td>\n",
              "    </tr>\n",
              "    <tr>\n",
              "      <th>min</th>\n",
              "      <td>1983.000000</td>\n",
              "      <td>2.999900e+04</td>\n",
              "      <td>1.000000e+00</td>\n",
              "      <td>2.000000</td>\n",
              "      <td>624.000000</td>\n",
              "      <td>0.000000</td>\n",
              "      <td>0.000000</td>\n",
              "    </tr>\n",
              "    <tr>\n",
              "      <th>25%</th>\n",
              "      <td>2011.000000</td>\n",
              "      <td>2.549990e+05</td>\n",
              "      <td>3.500000e+04</td>\n",
              "      <td>5.000000</td>\n",
              "      <td>1197.000000</td>\n",
              "      <td>16.780000</td>\n",
              "      <td>68.050000</td>\n",
              "    </tr>\n",
              "    <tr>\n",
              "      <th>50%</th>\n",
              "      <td>2015.000000</td>\n",
              "      <td>4.500000e+05</td>\n",
              "      <td>6.000000e+04</td>\n",
              "      <td>5.000000</td>\n",
              "      <td>1248.000000</td>\n",
              "      <td>19.300000</td>\n",
              "      <td>82.000000</td>\n",
              "    </tr>\n",
              "    <tr>\n",
              "      <th>75%</th>\n",
              "      <td>2017.000000</td>\n",
              "      <td>6.750000e+05</td>\n",
              "      <td>9.800000e+04</td>\n",
              "      <td>5.000000</td>\n",
              "      <td>1582.000000</td>\n",
              "      <td>22.320000</td>\n",
              "      <td>102.000000</td>\n",
              "    </tr>\n",
              "    <tr>\n",
              "      <th>max</th>\n",
              "      <td>2020.000000</td>\n",
              "      <td>1.000000e+07</td>\n",
              "      <td>2.360457e+06</td>\n",
              "      <td>14.000000</td>\n",
              "      <td>3604.000000</td>\n",
              "      <td>42.000000</td>\n",
              "      <td>400.000000</td>\n",
              "    </tr>\n",
              "  </tbody>\n",
              "</table>\n",
              "</div>\n",
              "    <div class=\"colab-df-buttons\">\n",
              "\n",
              "  <div class=\"colab-df-container\">\n",
              "    <button class=\"colab-df-convert\" onclick=\"convertToInteractive('df-c1a918a7-e5cb-442a-9d70-cf68527ece5d')\"\n",
              "            title=\"Convert this dataframe to an interactive table.\"\n",
              "            style=\"display:none;\">\n",
              "\n",
              "  <svg xmlns=\"http://www.w3.org/2000/svg\" height=\"24px\" viewBox=\"0 -960 960 960\">\n",
              "    <path d=\"M120-120v-720h720v720H120Zm60-500h600v-160H180v160Zm220 220h160v-160H400v160Zm0 220h160v-160H400v160ZM180-400h160v-160H180v160Zm440 0h160v-160H620v160ZM180-180h160v-160H180v160Zm440 0h160v-160H620v160Z\"/>\n",
              "  </svg>\n",
              "    </button>\n",
              "\n",
              "  <style>\n",
              "    .colab-df-container {\n",
              "      display:flex;\n",
              "      gap: 12px;\n",
              "    }\n",
              "\n",
              "    .colab-df-convert {\n",
              "      background-color: #E8F0FE;\n",
              "      border: none;\n",
              "      border-radius: 50%;\n",
              "      cursor: pointer;\n",
              "      display: none;\n",
              "      fill: #1967D2;\n",
              "      height: 32px;\n",
              "      padding: 0 0 0 0;\n",
              "      width: 32px;\n",
              "    }\n",
              "\n",
              "    .colab-df-convert:hover {\n",
              "      background-color: #E2EBFA;\n",
              "      box-shadow: 0px 1px 2px rgba(60, 64, 67, 0.3), 0px 1px 3px 1px rgba(60, 64, 67, 0.15);\n",
              "      fill: #174EA6;\n",
              "    }\n",
              "\n",
              "    .colab-df-buttons div {\n",
              "      margin-bottom: 4px;\n",
              "    }\n",
              "\n",
              "    [theme=dark] .colab-df-convert {\n",
              "      background-color: #3B4455;\n",
              "      fill: #D2E3FC;\n",
              "    }\n",
              "\n",
              "    [theme=dark] .colab-df-convert:hover {\n",
              "      background-color: #434B5C;\n",
              "      box-shadow: 0px 1px 3px 1px rgba(0, 0, 0, 0.15);\n",
              "      filter: drop-shadow(0px 1px 2px rgba(0, 0, 0, 0.3));\n",
              "      fill: #FFFFFF;\n",
              "    }\n",
              "  </style>\n",
              "\n",
              "    <script>\n",
              "      const buttonEl =\n",
              "        document.querySelector('#df-c1a918a7-e5cb-442a-9d70-cf68527ece5d button.colab-df-convert');\n",
              "      buttonEl.style.display =\n",
              "        google.colab.kernel.accessAllowed ? 'block' : 'none';\n",
              "\n",
              "      async function convertToInteractive(key) {\n",
              "        const element = document.querySelector('#df-c1a918a7-e5cb-442a-9d70-cf68527ece5d');\n",
              "        const dataTable =\n",
              "          await google.colab.kernel.invokeFunction('convertToInteractive',\n",
              "                                                    [key], {});\n",
              "        if (!dataTable) return;\n",
              "\n",
              "        const docLinkHtml = 'Like what you see? Visit the ' +\n",
              "          '<a target=\"_blank\" href=https://colab.research.google.com/notebooks/data_table.ipynb>data table notebook</a>'\n",
              "          + ' to learn more about interactive tables.';\n",
              "        element.innerHTML = '';\n",
              "        dataTable['output_type'] = 'display_data';\n",
              "        await google.colab.output.renderOutput(dataTable, element);\n",
              "        const docLink = document.createElement('div');\n",
              "        docLink.innerHTML = docLinkHtml;\n",
              "        element.appendChild(docLink);\n",
              "      }\n",
              "    </script>\n",
              "  </div>\n",
              "\n",
              "\n",
              "<div id=\"df-f0635496-b76a-43ed-98f2-26909e42ab71\">\n",
              "  <button class=\"colab-df-quickchart\" onclick=\"quickchart('df-f0635496-b76a-43ed-98f2-26909e42ab71')\"\n",
              "            title=\"Suggest charts.\"\n",
              "            style=\"display:none;\">\n",
              "\n",
              "<svg xmlns=\"http://www.w3.org/2000/svg\" height=\"24px\"viewBox=\"0 0 24 24\"\n",
              "     width=\"24px\">\n",
              "    <g>\n",
              "        <path d=\"M19 3H5c-1.1 0-2 .9-2 2v14c0 1.1.9 2 2 2h14c1.1 0 2-.9 2-2V5c0-1.1-.9-2-2-2zM9 17H7v-7h2v7zm4 0h-2V7h2v10zm4 0h-2v-4h2v4z\"/>\n",
              "    </g>\n",
              "</svg>\n",
              "  </button>\n",
              "\n",
              "<style>\n",
              "  .colab-df-quickchart {\n",
              "      --bg-color: #E8F0FE;\n",
              "      --fill-color: #1967D2;\n",
              "      --hover-bg-color: #E2EBFA;\n",
              "      --hover-fill-color: #174EA6;\n",
              "      --disabled-fill-color: #AAA;\n",
              "      --disabled-bg-color: #DDD;\n",
              "  }\n",
              "\n",
              "  [theme=dark] .colab-df-quickchart {\n",
              "      --bg-color: #3B4455;\n",
              "      --fill-color: #D2E3FC;\n",
              "      --hover-bg-color: #434B5C;\n",
              "      --hover-fill-color: #FFFFFF;\n",
              "      --disabled-bg-color: #3B4455;\n",
              "      --disabled-fill-color: #666;\n",
              "  }\n",
              "\n",
              "  .colab-df-quickchart {\n",
              "    background-color: var(--bg-color);\n",
              "    border: none;\n",
              "    border-radius: 50%;\n",
              "    cursor: pointer;\n",
              "    display: none;\n",
              "    fill: var(--fill-color);\n",
              "    height: 32px;\n",
              "    padding: 0;\n",
              "    width: 32px;\n",
              "  }\n",
              "\n",
              "  .colab-df-quickchart:hover {\n",
              "    background-color: var(--hover-bg-color);\n",
              "    box-shadow: 0 1px 2px rgba(60, 64, 67, 0.3), 0 1px 3px 1px rgba(60, 64, 67, 0.15);\n",
              "    fill: var(--button-hover-fill-color);\n",
              "  }\n",
              "\n",
              "  .colab-df-quickchart-complete:disabled,\n",
              "  .colab-df-quickchart-complete:disabled:hover {\n",
              "    background-color: var(--disabled-bg-color);\n",
              "    fill: var(--disabled-fill-color);\n",
              "    box-shadow: none;\n",
              "  }\n",
              "\n",
              "  .colab-df-spinner {\n",
              "    border: 2px solid var(--fill-color);\n",
              "    border-color: transparent;\n",
              "    border-bottom-color: var(--fill-color);\n",
              "    animation:\n",
              "      spin 1s steps(1) infinite;\n",
              "  }\n",
              "\n",
              "  @keyframes spin {\n",
              "    0% {\n",
              "      border-color: transparent;\n",
              "      border-bottom-color: var(--fill-color);\n",
              "      border-left-color: var(--fill-color);\n",
              "    }\n",
              "    20% {\n",
              "      border-color: transparent;\n",
              "      border-left-color: var(--fill-color);\n",
              "      border-top-color: var(--fill-color);\n",
              "    }\n",
              "    30% {\n",
              "      border-color: transparent;\n",
              "      border-left-color: var(--fill-color);\n",
              "      border-top-color: var(--fill-color);\n",
              "      border-right-color: var(--fill-color);\n",
              "    }\n",
              "    40% {\n",
              "      border-color: transparent;\n",
              "      border-right-color: var(--fill-color);\n",
              "      border-top-color: var(--fill-color);\n",
              "    }\n",
              "    60% {\n",
              "      border-color: transparent;\n",
              "      border-right-color: var(--fill-color);\n",
              "    }\n",
              "    80% {\n",
              "      border-color: transparent;\n",
              "      border-right-color: var(--fill-color);\n",
              "      border-bottom-color: var(--fill-color);\n",
              "    }\n",
              "    90% {\n",
              "      border-color: transparent;\n",
              "      border-bottom-color: var(--fill-color);\n",
              "    }\n",
              "  }\n",
              "</style>\n",
              "\n",
              "  <script>\n",
              "    async function quickchart(key) {\n",
              "      const quickchartButtonEl =\n",
              "        document.querySelector('#' + key + ' button');\n",
              "      quickchartButtonEl.disabled = true;  // To prevent multiple clicks.\n",
              "      quickchartButtonEl.classList.add('colab-df-spinner');\n",
              "      try {\n",
              "        const charts = await google.colab.kernel.invokeFunction(\n",
              "            'suggestCharts', [key], {});\n",
              "      } catch (error) {\n",
              "        console.error('Error during call to suggestCharts:', error);\n",
              "      }\n",
              "      quickchartButtonEl.classList.remove('colab-df-spinner');\n",
              "      quickchartButtonEl.classList.add('colab-df-quickchart-complete');\n",
              "    }\n",
              "    (() => {\n",
              "      let quickchartButtonEl =\n",
              "        document.querySelector('#df-f0635496-b76a-43ed-98f2-26909e42ab71 button');\n",
              "      quickchartButtonEl.style.display =\n",
              "        google.colab.kernel.accessAllowed ? 'block' : 'none';\n",
              "    })();\n",
              "  </script>\n",
              "</div>\n",
              "    </div>\n",
              "  </div>\n"
            ]
          },
          "metadata": {},
          "execution_count": 17
        }
      ]
    },
    {
      "cell_type": "code",
      "source": [
        "df['new_engine'].isnull().sum()"
      ],
      "metadata": {
        "colab": {
          "base_uri": "https://localhost:8080/"
        },
        "id": "PfldPDZQ3j3H",
        "outputId": "23b6248f-1972-4e90-9ac2-804c44d760ec"
      },
      "execution_count": 18,
      "outputs": [
        {
          "output_type": "execute_result",
          "data": {
            "text/plain": [
              "221"
            ]
          },
          "metadata": {},
          "execution_count": 18
        }
      ]
    },
    {
      "cell_type": "code",
      "source": [
        "# missing_values = df.isnull().sum()\n",
        "# missing_values = missing_values[missing_values>0]\n",
        "# missing_percent =  round(missing_values/len(df) , 4)*100\n",
        "# pd.DataFrame({\"Number of missing values\":missing_values, \"Percentage\": missing_percent})"
      ],
      "metadata": {
        "id": "oFfWVcu33qAw"
      },
      "execution_count": 19,
      "outputs": []
    },
    {
      "cell_type": "code",
      "source": [
        "df.info()"
      ],
      "metadata": {
        "id": "wHu5LV6FmNXp",
        "colab": {
          "base_uri": "https://localhost:8080/"
        },
        "outputId": "bd0a81b7-d4e9-4a82-cc1e-3e1dd3052310"
      },
      "execution_count": 20,
      "outputs": [
        {
          "output_type": "stream",
          "name": "stdout",
          "text": [
            "<class 'pandas.core.frame.DataFrame'>\n",
            "RangeIndex: 8128 entries, 0 to 8127\n",
            "Data columns (total 19 columns):\n",
            " #   Column          Non-Null Count  Dtype  \n",
            "---  ------          --------------  -----  \n",
            " 0   name            8128 non-null   object \n",
            " 1   year            8128 non-null   int64  \n",
            " 2   selling_price   8128 non-null   int64  \n",
            " 3   km_driven       8128 non-null   int64  \n",
            " 4   fuel            8128 non-null   object \n",
            " 5   seller_type     8128 non-null   object \n",
            " 6   transmission    8128 non-null   object \n",
            " 7   owner           8128 non-null   object \n",
            " 8   mileage         7907 non-null   object \n",
            " 9   engine          7907 non-null   object \n",
            " 10  max_power       7913 non-null   object \n",
            " 11  torque          7906 non-null   object \n",
            " 12  seats           7907 non-null   float64\n",
            " 13  new_engine      7907 non-null   float64\n",
            " 14  engine_unit     7907 non-null   object \n",
            " 15  new_mileage     7907 non-null   float64\n",
            " 16  mileage_unit    7907 non-null   object \n",
            " 17  new_max_power   7912 non-null   float64\n",
            " 18  max_power_unit  7907 non-null   object \n",
            "dtypes: float64(4), int64(3), object(12)\n",
            "memory usage: 1.2+ MB\n"
          ]
        }
      ]
    },
    {
      "cell_type": "markdown",
      "source": [
        "# Here note that since we have already taken care of engine(in CC) , mileage and maxpower we will only consider new version of those features. so we will drop columns **mileage** , **engine** and **maxpower** columns for simplicity.\n",
        "Also remove the units columns from df"
      ],
      "metadata": {
        "id": "EdaQQsYg0gXc"
      }
    },
    {
      "cell_type": "code",
      "source": [
        "df1 = df.drop(['engine','mileage','max_power','mileage_unit','max_power_unit','engine_unit'], axis =1)\n",
        "df1"
      ],
      "metadata": {
        "colab": {
          "base_uri": "https://localhost:8080/",
          "height": 423
        },
        "id": "vz75zJJq0Yb-",
        "outputId": "c84f84d1-d28b-4aaf-efa7-6ef861bfe824"
      },
      "execution_count": 21,
      "outputs": [
        {
          "output_type": "execute_result",
          "data": {
            "text/plain": [
              "                              name  year  selling_price  km_driven    fuel  \\\n",
              "0           Maruti Swift Dzire VDI  2014         450000     145500  Diesel   \n",
              "1     Skoda Rapid 1.5 TDI Ambition  2014         370000     120000  Diesel   \n",
              "2         Honda City 2017-2020 EXi  2006         158000     140000  Petrol   \n",
              "3        Hyundai i20 Sportz Diesel  2010         225000     127000  Diesel   \n",
              "4           Maruti Swift VXI BSIII  2007         130000     120000  Petrol   \n",
              "...                            ...   ...            ...        ...     ...   \n",
              "8123             Hyundai i20 Magna  2013         320000     110000  Petrol   \n",
              "8124         Hyundai Verna CRDi SX  2007         135000     119000  Diesel   \n",
              "8125        Maruti Swift Dzire ZDi  2009         382000     120000  Diesel   \n",
              "8126               Tata Indigo CR4  2013         290000      25000  Diesel   \n",
              "8127               Tata Indigo CR4  2013         290000      25000  Diesel   \n",
              "\n",
              "     seller_type transmission                 owner  \\\n",
              "0     Individual       Manual           First Owner   \n",
              "1     Individual       Manual          Second Owner   \n",
              "2     Individual       Manual           Third Owner   \n",
              "3     Individual       Manual           First Owner   \n",
              "4     Individual       Manual           First Owner   \n",
              "...          ...          ...                   ...   \n",
              "8123  Individual       Manual           First Owner   \n",
              "8124  Individual       Manual  Fourth & Above Owner   \n",
              "8125  Individual       Manual           First Owner   \n",
              "8126  Individual       Manual           First Owner   \n",
              "8127  Individual       Manual           First Owner   \n",
              "\n",
              "                         torque  seats  new_engine  new_mileage  new_max_power  \n",
              "0                190Nm@ 2000rpm    5.0      1248.0        23.40          74.00  \n",
              "1           250Nm@ 1500-2500rpm    5.0      1498.0        21.14         103.52  \n",
              "2         12.7@ 2,700(kgm@ rpm)    5.0      1497.0        17.70          78.00  \n",
              "3      22.4 kgm at 1750-2750rpm    5.0      1396.0        23.00          90.00  \n",
              "4         11.5@ 4,500(kgm@ rpm)    5.0      1298.0        16.10          88.20  \n",
              "...                         ...    ...         ...          ...            ...  \n",
              "8123           113.7Nm@ 4000rpm    5.0      1197.0        18.50          82.85  \n",
              "8124  24@ 1,900-2,750(kgm@ rpm)    5.0      1493.0        16.80         110.00  \n",
              "8125             190Nm@ 2000rpm    5.0      1248.0        19.30          73.90  \n",
              "8126        140Nm@ 1800-3000rpm    5.0      1396.0        23.57          70.00  \n",
              "8127        140Nm@ 1800-3000rpm    5.0      1396.0        23.57          70.00  \n",
              "\n",
              "[8128 rows x 13 columns]"
            ],
            "text/html": [
              "\n",
              "  <div id=\"df-5d6daebc-3be2-4270-804a-4ec411f00fa0\" class=\"colab-df-container\">\n",
              "    <div>\n",
              "<style scoped>\n",
              "    .dataframe tbody tr th:only-of-type {\n",
              "        vertical-align: middle;\n",
              "    }\n",
              "\n",
              "    .dataframe tbody tr th {\n",
              "        vertical-align: top;\n",
              "    }\n",
              "\n",
              "    .dataframe thead th {\n",
              "        text-align: right;\n",
              "    }\n",
              "</style>\n",
              "<table border=\"1\" class=\"dataframe\">\n",
              "  <thead>\n",
              "    <tr style=\"text-align: right;\">\n",
              "      <th></th>\n",
              "      <th>name</th>\n",
              "      <th>year</th>\n",
              "      <th>selling_price</th>\n",
              "      <th>km_driven</th>\n",
              "      <th>fuel</th>\n",
              "      <th>seller_type</th>\n",
              "      <th>transmission</th>\n",
              "      <th>owner</th>\n",
              "      <th>torque</th>\n",
              "      <th>seats</th>\n",
              "      <th>new_engine</th>\n",
              "      <th>new_mileage</th>\n",
              "      <th>new_max_power</th>\n",
              "    </tr>\n",
              "  </thead>\n",
              "  <tbody>\n",
              "    <tr>\n",
              "      <th>0</th>\n",
              "      <td>Maruti Swift Dzire VDI</td>\n",
              "      <td>2014</td>\n",
              "      <td>450000</td>\n",
              "      <td>145500</td>\n",
              "      <td>Diesel</td>\n",
              "      <td>Individual</td>\n",
              "      <td>Manual</td>\n",
              "      <td>First Owner</td>\n",
              "      <td>190Nm@ 2000rpm</td>\n",
              "      <td>5.0</td>\n",
              "      <td>1248.0</td>\n",
              "      <td>23.40</td>\n",
              "      <td>74.00</td>\n",
              "    </tr>\n",
              "    <tr>\n",
              "      <th>1</th>\n",
              "      <td>Skoda Rapid 1.5 TDI Ambition</td>\n",
              "      <td>2014</td>\n",
              "      <td>370000</td>\n",
              "      <td>120000</td>\n",
              "      <td>Diesel</td>\n",
              "      <td>Individual</td>\n",
              "      <td>Manual</td>\n",
              "      <td>Second Owner</td>\n",
              "      <td>250Nm@ 1500-2500rpm</td>\n",
              "      <td>5.0</td>\n",
              "      <td>1498.0</td>\n",
              "      <td>21.14</td>\n",
              "      <td>103.52</td>\n",
              "    </tr>\n",
              "    <tr>\n",
              "      <th>2</th>\n",
              "      <td>Honda City 2017-2020 EXi</td>\n",
              "      <td>2006</td>\n",
              "      <td>158000</td>\n",
              "      <td>140000</td>\n",
              "      <td>Petrol</td>\n",
              "      <td>Individual</td>\n",
              "      <td>Manual</td>\n",
              "      <td>Third Owner</td>\n",
              "      <td>12.7@ 2,700(kgm@ rpm)</td>\n",
              "      <td>5.0</td>\n",
              "      <td>1497.0</td>\n",
              "      <td>17.70</td>\n",
              "      <td>78.00</td>\n",
              "    </tr>\n",
              "    <tr>\n",
              "      <th>3</th>\n",
              "      <td>Hyundai i20 Sportz Diesel</td>\n",
              "      <td>2010</td>\n",
              "      <td>225000</td>\n",
              "      <td>127000</td>\n",
              "      <td>Diesel</td>\n",
              "      <td>Individual</td>\n",
              "      <td>Manual</td>\n",
              "      <td>First Owner</td>\n",
              "      <td>22.4 kgm at 1750-2750rpm</td>\n",
              "      <td>5.0</td>\n",
              "      <td>1396.0</td>\n",
              "      <td>23.00</td>\n",
              "      <td>90.00</td>\n",
              "    </tr>\n",
              "    <tr>\n",
              "      <th>4</th>\n",
              "      <td>Maruti Swift VXI BSIII</td>\n",
              "      <td>2007</td>\n",
              "      <td>130000</td>\n",
              "      <td>120000</td>\n",
              "      <td>Petrol</td>\n",
              "      <td>Individual</td>\n",
              "      <td>Manual</td>\n",
              "      <td>First Owner</td>\n",
              "      <td>11.5@ 4,500(kgm@ rpm)</td>\n",
              "      <td>5.0</td>\n",
              "      <td>1298.0</td>\n",
              "      <td>16.10</td>\n",
              "      <td>88.20</td>\n",
              "    </tr>\n",
              "    <tr>\n",
              "      <th>...</th>\n",
              "      <td>...</td>\n",
              "      <td>...</td>\n",
              "      <td>...</td>\n",
              "      <td>...</td>\n",
              "      <td>...</td>\n",
              "      <td>...</td>\n",
              "      <td>...</td>\n",
              "      <td>...</td>\n",
              "      <td>...</td>\n",
              "      <td>...</td>\n",
              "      <td>...</td>\n",
              "      <td>...</td>\n",
              "      <td>...</td>\n",
              "    </tr>\n",
              "    <tr>\n",
              "      <th>8123</th>\n",
              "      <td>Hyundai i20 Magna</td>\n",
              "      <td>2013</td>\n",
              "      <td>320000</td>\n",
              "      <td>110000</td>\n",
              "      <td>Petrol</td>\n",
              "      <td>Individual</td>\n",
              "      <td>Manual</td>\n",
              "      <td>First Owner</td>\n",
              "      <td>113.7Nm@ 4000rpm</td>\n",
              "      <td>5.0</td>\n",
              "      <td>1197.0</td>\n",
              "      <td>18.50</td>\n",
              "      <td>82.85</td>\n",
              "    </tr>\n",
              "    <tr>\n",
              "      <th>8124</th>\n",
              "      <td>Hyundai Verna CRDi SX</td>\n",
              "      <td>2007</td>\n",
              "      <td>135000</td>\n",
              "      <td>119000</td>\n",
              "      <td>Diesel</td>\n",
              "      <td>Individual</td>\n",
              "      <td>Manual</td>\n",
              "      <td>Fourth &amp; Above Owner</td>\n",
              "      <td>24@ 1,900-2,750(kgm@ rpm)</td>\n",
              "      <td>5.0</td>\n",
              "      <td>1493.0</td>\n",
              "      <td>16.80</td>\n",
              "      <td>110.00</td>\n",
              "    </tr>\n",
              "    <tr>\n",
              "      <th>8125</th>\n",
              "      <td>Maruti Swift Dzire ZDi</td>\n",
              "      <td>2009</td>\n",
              "      <td>382000</td>\n",
              "      <td>120000</td>\n",
              "      <td>Diesel</td>\n",
              "      <td>Individual</td>\n",
              "      <td>Manual</td>\n",
              "      <td>First Owner</td>\n",
              "      <td>190Nm@ 2000rpm</td>\n",
              "      <td>5.0</td>\n",
              "      <td>1248.0</td>\n",
              "      <td>19.30</td>\n",
              "      <td>73.90</td>\n",
              "    </tr>\n",
              "    <tr>\n",
              "      <th>8126</th>\n",
              "      <td>Tata Indigo CR4</td>\n",
              "      <td>2013</td>\n",
              "      <td>290000</td>\n",
              "      <td>25000</td>\n",
              "      <td>Diesel</td>\n",
              "      <td>Individual</td>\n",
              "      <td>Manual</td>\n",
              "      <td>First Owner</td>\n",
              "      <td>140Nm@ 1800-3000rpm</td>\n",
              "      <td>5.0</td>\n",
              "      <td>1396.0</td>\n",
              "      <td>23.57</td>\n",
              "      <td>70.00</td>\n",
              "    </tr>\n",
              "    <tr>\n",
              "      <th>8127</th>\n",
              "      <td>Tata Indigo CR4</td>\n",
              "      <td>2013</td>\n",
              "      <td>290000</td>\n",
              "      <td>25000</td>\n",
              "      <td>Diesel</td>\n",
              "      <td>Individual</td>\n",
              "      <td>Manual</td>\n",
              "      <td>First Owner</td>\n",
              "      <td>140Nm@ 1800-3000rpm</td>\n",
              "      <td>5.0</td>\n",
              "      <td>1396.0</td>\n",
              "      <td>23.57</td>\n",
              "      <td>70.00</td>\n",
              "    </tr>\n",
              "  </tbody>\n",
              "</table>\n",
              "<p>8128 rows × 13 columns</p>\n",
              "</div>\n",
              "    <div class=\"colab-df-buttons\">\n",
              "\n",
              "  <div class=\"colab-df-container\">\n",
              "    <button class=\"colab-df-convert\" onclick=\"convertToInteractive('df-5d6daebc-3be2-4270-804a-4ec411f00fa0')\"\n",
              "            title=\"Convert this dataframe to an interactive table.\"\n",
              "            style=\"display:none;\">\n",
              "\n",
              "  <svg xmlns=\"http://www.w3.org/2000/svg\" height=\"24px\" viewBox=\"0 -960 960 960\">\n",
              "    <path d=\"M120-120v-720h720v720H120Zm60-500h600v-160H180v160Zm220 220h160v-160H400v160Zm0 220h160v-160H400v160ZM180-400h160v-160H180v160Zm440 0h160v-160H620v160ZM180-180h160v-160H180v160Zm440 0h160v-160H620v160Z\"/>\n",
              "  </svg>\n",
              "    </button>\n",
              "\n",
              "  <style>\n",
              "    .colab-df-container {\n",
              "      display:flex;\n",
              "      gap: 12px;\n",
              "    }\n",
              "\n",
              "    .colab-df-convert {\n",
              "      background-color: #E8F0FE;\n",
              "      border: none;\n",
              "      border-radius: 50%;\n",
              "      cursor: pointer;\n",
              "      display: none;\n",
              "      fill: #1967D2;\n",
              "      height: 32px;\n",
              "      padding: 0 0 0 0;\n",
              "      width: 32px;\n",
              "    }\n",
              "\n",
              "    .colab-df-convert:hover {\n",
              "      background-color: #E2EBFA;\n",
              "      box-shadow: 0px 1px 2px rgba(60, 64, 67, 0.3), 0px 1px 3px 1px rgba(60, 64, 67, 0.15);\n",
              "      fill: #174EA6;\n",
              "    }\n",
              "\n",
              "    .colab-df-buttons div {\n",
              "      margin-bottom: 4px;\n",
              "    }\n",
              "\n",
              "    [theme=dark] .colab-df-convert {\n",
              "      background-color: #3B4455;\n",
              "      fill: #D2E3FC;\n",
              "    }\n",
              "\n",
              "    [theme=dark] .colab-df-convert:hover {\n",
              "      background-color: #434B5C;\n",
              "      box-shadow: 0px 1px 3px 1px rgba(0, 0, 0, 0.15);\n",
              "      filter: drop-shadow(0px 1px 2px rgba(0, 0, 0, 0.3));\n",
              "      fill: #FFFFFF;\n",
              "    }\n",
              "  </style>\n",
              "\n",
              "    <script>\n",
              "      const buttonEl =\n",
              "        document.querySelector('#df-5d6daebc-3be2-4270-804a-4ec411f00fa0 button.colab-df-convert');\n",
              "      buttonEl.style.display =\n",
              "        google.colab.kernel.accessAllowed ? 'block' : 'none';\n",
              "\n",
              "      async function convertToInteractive(key) {\n",
              "        const element = document.querySelector('#df-5d6daebc-3be2-4270-804a-4ec411f00fa0');\n",
              "        const dataTable =\n",
              "          await google.colab.kernel.invokeFunction('convertToInteractive',\n",
              "                                                    [key], {});\n",
              "        if (!dataTable) return;\n",
              "\n",
              "        const docLinkHtml = 'Like what you see? Visit the ' +\n",
              "          '<a target=\"_blank\" href=https://colab.research.google.com/notebooks/data_table.ipynb>data table notebook</a>'\n",
              "          + ' to learn more about interactive tables.';\n",
              "        element.innerHTML = '';\n",
              "        dataTable['output_type'] = 'display_data';\n",
              "        await google.colab.output.renderOutput(dataTable, element);\n",
              "        const docLink = document.createElement('div');\n",
              "        docLink.innerHTML = docLinkHtml;\n",
              "        element.appendChild(docLink);\n",
              "      }\n",
              "    </script>\n",
              "  </div>\n",
              "\n",
              "\n",
              "<div id=\"df-bb95f1b8-9d48-49f1-bf41-9f8a5017260c\">\n",
              "  <button class=\"colab-df-quickchart\" onclick=\"quickchart('df-bb95f1b8-9d48-49f1-bf41-9f8a5017260c')\"\n",
              "            title=\"Suggest charts.\"\n",
              "            style=\"display:none;\">\n",
              "\n",
              "<svg xmlns=\"http://www.w3.org/2000/svg\" height=\"24px\"viewBox=\"0 0 24 24\"\n",
              "     width=\"24px\">\n",
              "    <g>\n",
              "        <path d=\"M19 3H5c-1.1 0-2 .9-2 2v14c0 1.1.9 2 2 2h14c1.1 0 2-.9 2-2V5c0-1.1-.9-2-2-2zM9 17H7v-7h2v7zm4 0h-2V7h2v10zm4 0h-2v-4h2v4z\"/>\n",
              "    </g>\n",
              "</svg>\n",
              "  </button>\n",
              "\n",
              "<style>\n",
              "  .colab-df-quickchart {\n",
              "      --bg-color: #E8F0FE;\n",
              "      --fill-color: #1967D2;\n",
              "      --hover-bg-color: #E2EBFA;\n",
              "      --hover-fill-color: #174EA6;\n",
              "      --disabled-fill-color: #AAA;\n",
              "      --disabled-bg-color: #DDD;\n",
              "  }\n",
              "\n",
              "  [theme=dark] .colab-df-quickchart {\n",
              "      --bg-color: #3B4455;\n",
              "      --fill-color: #D2E3FC;\n",
              "      --hover-bg-color: #434B5C;\n",
              "      --hover-fill-color: #FFFFFF;\n",
              "      --disabled-bg-color: #3B4455;\n",
              "      --disabled-fill-color: #666;\n",
              "  }\n",
              "\n",
              "  .colab-df-quickchart {\n",
              "    background-color: var(--bg-color);\n",
              "    border: none;\n",
              "    border-radius: 50%;\n",
              "    cursor: pointer;\n",
              "    display: none;\n",
              "    fill: var(--fill-color);\n",
              "    height: 32px;\n",
              "    padding: 0;\n",
              "    width: 32px;\n",
              "  }\n",
              "\n",
              "  .colab-df-quickchart:hover {\n",
              "    background-color: var(--hover-bg-color);\n",
              "    box-shadow: 0 1px 2px rgba(60, 64, 67, 0.3), 0 1px 3px 1px rgba(60, 64, 67, 0.15);\n",
              "    fill: var(--button-hover-fill-color);\n",
              "  }\n",
              "\n",
              "  .colab-df-quickchart-complete:disabled,\n",
              "  .colab-df-quickchart-complete:disabled:hover {\n",
              "    background-color: var(--disabled-bg-color);\n",
              "    fill: var(--disabled-fill-color);\n",
              "    box-shadow: none;\n",
              "  }\n",
              "\n",
              "  .colab-df-spinner {\n",
              "    border: 2px solid var(--fill-color);\n",
              "    border-color: transparent;\n",
              "    border-bottom-color: var(--fill-color);\n",
              "    animation:\n",
              "      spin 1s steps(1) infinite;\n",
              "  }\n",
              "\n",
              "  @keyframes spin {\n",
              "    0% {\n",
              "      border-color: transparent;\n",
              "      border-bottom-color: var(--fill-color);\n",
              "      border-left-color: var(--fill-color);\n",
              "    }\n",
              "    20% {\n",
              "      border-color: transparent;\n",
              "      border-left-color: var(--fill-color);\n",
              "      border-top-color: var(--fill-color);\n",
              "    }\n",
              "    30% {\n",
              "      border-color: transparent;\n",
              "      border-left-color: var(--fill-color);\n",
              "      border-top-color: var(--fill-color);\n",
              "      border-right-color: var(--fill-color);\n",
              "    }\n",
              "    40% {\n",
              "      border-color: transparent;\n",
              "      border-right-color: var(--fill-color);\n",
              "      border-top-color: var(--fill-color);\n",
              "    }\n",
              "    60% {\n",
              "      border-color: transparent;\n",
              "      border-right-color: var(--fill-color);\n",
              "    }\n",
              "    80% {\n",
              "      border-color: transparent;\n",
              "      border-right-color: var(--fill-color);\n",
              "      border-bottom-color: var(--fill-color);\n",
              "    }\n",
              "    90% {\n",
              "      border-color: transparent;\n",
              "      border-bottom-color: var(--fill-color);\n",
              "    }\n",
              "  }\n",
              "</style>\n",
              "\n",
              "  <script>\n",
              "    async function quickchart(key) {\n",
              "      const quickchartButtonEl =\n",
              "        document.querySelector('#' + key + ' button');\n",
              "      quickchartButtonEl.disabled = true;  // To prevent multiple clicks.\n",
              "      quickchartButtonEl.classList.add('colab-df-spinner');\n",
              "      try {\n",
              "        const charts = await google.colab.kernel.invokeFunction(\n",
              "            'suggestCharts', [key], {});\n",
              "      } catch (error) {\n",
              "        console.error('Error during call to suggestCharts:', error);\n",
              "      }\n",
              "      quickchartButtonEl.classList.remove('colab-df-spinner');\n",
              "      quickchartButtonEl.classList.add('colab-df-quickchart-complete');\n",
              "    }\n",
              "    (() => {\n",
              "      let quickchartButtonEl =\n",
              "        document.querySelector('#df-bb95f1b8-9d48-49f1-bf41-9f8a5017260c button');\n",
              "      quickchartButtonEl.style.display =\n",
              "        google.colab.kernel.accessAllowed ? 'block' : 'none';\n",
              "    })();\n",
              "  </script>\n",
              "</div>\n",
              "    </div>\n",
              "  </div>\n"
            ]
          },
          "metadata": {},
          "execution_count": 21
        }
      ]
    },
    {
      "cell_type": "markdown",
      "source": [
        "## 1.a checking which numerical variables are categorical\n",
        "\n",
        "\n",
        "\n",
        "Step1: finidng number of unique values to identify categorical variable"
      ],
      "metadata": {
        "id": "GUO5JIkkz89g"
      }
    },
    {
      "cell_type": "code",
      "source": [
        "# Extract numerical and non-numerical columns\n",
        "numerical_col = df1.select_dtypes(include=['int64', 'float64']).columns\n",
        "non_numerical_col = df1.select_dtypes(exclude=['int64', 'float64']).columns\n",
        "print(\"numerical columns are:\",numerical_col)\n",
        "print(\"non numerical columns are\",non_numerical_col)\n",
        "print(len(numerical_col)+len(non_numerical_col), df1.shape)"
      ],
      "metadata": {
        "colab": {
          "base_uri": "https://localhost:8080/"
        },
        "id": "Cm-tirVmySC8",
        "outputId": "7e3056e3-2952-450a-cc45-bc05b486ae88"
      },
      "execution_count": 22,
      "outputs": [
        {
          "output_type": "stream",
          "name": "stdout",
          "text": [
            "numerical columns are: Index(['year', 'selling_price', 'km_driven', 'seats', 'new_engine',\n",
            "       'new_mileage', 'new_max_power'],\n",
            "      dtype='object')\n",
            "non numerical columns are Index(['name', 'fuel', 'seller_type', 'transmission', 'owner', 'torque'], dtype='object')\n",
            "13 (8128, 13)\n"
          ]
        }
      ]
    },
    {
      "cell_type": "markdown",
      "source": [
        "Step2: Set a threshold to differentiate categorical variable"
      ],
      "metadata": {
        "id": "BAt2KIUU0C3i"
      }
    },
    {
      "cell_type": "code",
      "source": [
        "for column in df1[numerical_col]:\n",
        "    unique_count = df1[column].nunique()\n",
        "    print(column, unique_count)"
      ],
      "metadata": {
        "colab": {
          "base_uri": "https://localhost:8080/"
        },
        "id": "PS1riEw5y1PB",
        "outputId": "31736d21-6aca-451a-8f18-9879e1bf5fa2"
      },
      "execution_count": 23,
      "outputs": [
        {
          "output_type": "stream",
          "name": "stdout",
          "text": [
            "year 29\n",
            "selling_price 677\n",
            "km_driven 921\n",
            "seats 9\n",
            "new_engine 121\n",
            "new_mileage 381\n",
            "new_max_power 319\n"
          ]
        }
      ]
    },
    {
      "cell_type": "code",
      "source": [
        "categorical_threshold =9  # You can adjust this threshold based on your data\n",
        "\n",
        "continuous_numerical_vars = []\n",
        "categorical_numerical_vars = []\n",
        "\n",
        "# Loop through the columns to classify variables\n",
        "for column in df[numerical_col]:\n",
        "    unique_count = df[column].nunique()\n",
        "\n",
        "    if unique_count <= categorical_threshold:\n",
        "        categorical_numerical_vars.append(column)\n",
        "    else:\n",
        "        continuous_numerical_vars.append(column)"
      ],
      "metadata": {
        "id": "H8iFMeRZzCRr"
      },
      "execution_count": 24,
      "outputs": []
    },
    {
      "cell_type": "code",
      "source": [
        "print(categorical_numerical_vars)"
      ],
      "metadata": {
        "colab": {
          "base_uri": "https://localhost:8080/"
        },
        "id": "z3VV7MoKzUPm",
        "outputId": "0905c0dc-bbc5-45cc-e952-4e743e0e5f44"
      },
      "execution_count": 25,
      "outputs": [
        {
          "output_type": "stream",
          "name": "stdout",
          "text": [
            "['seats']\n"
          ]
        }
      ]
    },
    {
      "cell_type": "markdown",
      "source": [
        "### 1.b Checking which non numeric variables are categorical\n",
        "\n",
        "\n",
        "\n",
        "\n",
        "Step1: finidng number of unique values to identify categorical variable"
      ],
      "metadata": {
        "id": "UZB6W1ygzzSA"
      }
    },
    {
      "cell_type": "code",
      "source": [
        "for column in df1[non_numerical_col]:\n",
        "    unique_count = df1[column].nunique()\n",
        "    print(column, unique_count)"
      ],
      "metadata": {
        "colab": {
          "base_uri": "https://localhost:8080/"
        },
        "id": "dVIgjIy1zY5u",
        "outputId": "b6d3bd56-bb53-4132-f732-4704c99c5fdc"
      },
      "execution_count": 26,
      "outputs": [
        {
          "output_type": "stream",
          "name": "stdout",
          "text": [
            "name 2058\n",
            "fuel 4\n",
            "seller_type 3\n",
            "transmission 2\n",
            "owner 5\n",
            "torque 441\n"
          ]
        }
      ]
    },
    {
      "cell_type": "code",
      "source": [
        "for column in df1[non_numerical_col]:\n",
        "    unique_count = df1[column].nunique()\n",
        "    print(column, unique_count)"
      ],
      "metadata": {
        "colab": {
          "base_uri": "https://localhost:8080/"
        },
        "id": "_HeFDPWKqc_j",
        "outputId": "13c275f3-a633-4b01-ca45-09ce88bb4b8f"
      },
      "execution_count": 27,
      "outputs": [
        {
          "output_type": "stream",
          "name": "stdout",
          "text": [
            "name 2058\n",
            "fuel 4\n",
            "seller_type 3\n",
            "transmission 2\n",
            "owner 5\n",
            "torque 441\n"
          ]
        }
      ]
    },
    {
      "cell_type": "code",
      "source": [
        "df1['fuel'].value_counts(), df1['seller_type'].value_counts(),df1['transmission'].value_counts(),df1['owner'].value_counts()"
      ],
      "metadata": {
        "colab": {
          "base_uri": "https://localhost:8080/"
        },
        "id": "j-pV_QeXxgOo",
        "outputId": "9855f2ab-8463-4b21-8820-4dd9efc4c292"
      },
      "execution_count": 28,
      "outputs": [
        {
          "output_type": "execute_result",
          "data": {
            "text/plain": [
              "(Diesel    4402\n",
              " Petrol    3631\n",
              " CNG         57\n",
              " LPG         38\n",
              " Name: fuel, dtype: int64,\n",
              " Individual          6766\n",
              " Dealer              1126\n",
              " Trustmark Dealer     236\n",
              " Name: seller_type, dtype: int64,\n",
              " Manual       7078\n",
              " Automatic    1050\n",
              " Name: transmission, dtype: int64,\n",
              " First Owner             5289\n",
              " Second Owner            2105\n",
              " Third Owner              555\n",
              " Fourth & Above Owner     174\n",
              " Test Drive Car             5\n",
              " Name: owner, dtype: int64)"
            ]
          },
          "metadata": {},
          "execution_count": 28
        }
      ]
    },
    {
      "cell_type": "code",
      "source": [
        "categorical_threshold =5  # You can adjust this threshold based on your data\n",
        "\n",
        "continuous_non_numerical_vars = []\n",
        "categorical_non_numerical_vars = []\n",
        "\n",
        "# Loop through the columns to classify variables\n",
        "for column in df1[numerical_col]:\n",
        "    unique_count = df1[column].nunique()\n",
        "\n",
        "    if unique_count <= categorical_threshold:\n",
        "        categorical_non_numerical_vars.append(column)\n",
        "    else:\n",
        "        continuous_non_numerical_vars.append(column)"
      ],
      "metadata": {
        "id": "tgI058-qxgSD"
      },
      "execution_count": 29,
      "outputs": []
    },
    {
      "cell_type": "code",
      "source": [
        "print(categorical_non_numerical_vars)"
      ],
      "metadata": {
        "colab": {
          "base_uri": "https://localhost:8080/"
        },
        "id": "tprNlFmgxgh7",
        "outputId": "11927255-0fca-4e08-e7be-d05b52fc01ac"
      },
      "execution_count": 30,
      "outputs": [
        {
          "output_type": "stream",
          "name": "stdout",
          "text": [
            "[]\n"
          ]
        }
      ]
    },
    {
      "cell_type": "code",
      "source": [
        "categorical_vars = categorical_numerical_vars + categorical_non_numerical_vars\n",
        "len(categorical_vars)"
      ],
      "metadata": {
        "colab": {
          "base_uri": "https://localhost:8080/"
        },
        "id": "nmClsd9exglS",
        "outputId": "d4d9c30a-f934-4bd3-a2d7-ef9aa9b6cd51"
      },
      "execution_count": 31,
      "outputs": [
        {
          "output_type": "execute_result",
          "data": {
            "text/plain": [
              "1"
            ]
          },
          "metadata": {},
          "execution_count": 31
        }
      ]
    },
    {
      "cell_type": "code",
      "source": [
        "continous_vars = continuous_non_numerical_vars+ continuous_numerical_vars\n",
        "print(continous_vars)\n",
        "len(continous_vars)"
      ],
      "metadata": {
        "colab": {
          "base_uri": "https://localhost:8080/"
        },
        "id": "SboTIvZLyntf",
        "outputId": "0605a273-3d8a-4e67-f04b-820983f706f7"
      },
      "execution_count": 32,
      "outputs": [
        {
          "output_type": "stream",
          "name": "stdout",
          "text": [
            "['year', 'selling_price', 'km_driven', 'seats', 'new_engine', 'new_mileage', 'new_max_power', 'year', 'selling_price', 'km_driven', 'new_engine', 'new_mileage', 'new_max_power']\n"
          ]
        },
        {
          "output_type": "execute_result",
          "data": {
            "text/plain": [
              "13"
            ]
          },
          "metadata": {},
          "execution_count": 32
        }
      ]
    },
    {
      "cell_type": "code",
      "source": [
        "len(df1.columns)\n",
        "print(9+4)\n",
        "print(len(df1.columns))"
      ],
      "metadata": {
        "colab": {
          "base_uri": "https://localhost:8080/"
        },
        "id": "uobkF2MKyqwl",
        "outputId": "e30923c9-eae4-4736-8f97-f18e7999e27e"
      },
      "execution_count": 33,
      "outputs": [
        {
          "output_type": "stream",
          "name": "stdout",
          "text": [
            "13\n",
            "13\n"
          ]
        }
      ]
    },
    {
      "cell_type": "markdown",
      "source": [
        "Before proceeding lets do the data validation."
      ],
      "metadata": {
        "id": "CgeCZBy7sWNp"
      }
    },
    {
      "cell_type": "markdown",
      "source": [
        "## 2. Data Cleaning:\n",
        "\n",
        "#### 1.Name"
      ],
      "metadata": {
        "id": "hSraoXoB1kNh"
      }
    },
    {
      "cell_type": "code",
      "source": [
        "df1['name'].value_counts().sum()"
      ],
      "metadata": {
        "colab": {
          "base_uri": "https://localhost:8080/"
        },
        "id": "V0_rVTT31Tqc",
        "outputId": "9c44539c-ad45-4914-b66e-05ad8327d8f2"
      },
      "execution_count": 34,
      "outputs": [
        {
          "output_type": "execute_result",
          "data": {
            "text/plain": [
              "8128"
            ]
          },
          "metadata": {},
          "execution_count": 34
        }
      ]
    },
    {
      "cell_type": "code",
      "source": [
        "df1['name'].value_counts(sort = True)"
      ],
      "metadata": {
        "colab": {
          "base_uri": "https://localhost:8080/"
        },
        "id": "vVwQzBjT16Y6",
        "outputId": "05e48838-0e53-4844-da73-4144c55b8f88"
      },
      "execution_count": 35,
      "outputs": [
        {
          "output_type": "execute_result",
          "data": {
            "text/plain": [
              "Maruti Swift Dzire VDI                             129\n",
              "Maruti Alto 800 LXI                                 82\n",
              "Maruti Alto LXi                                     71\n",
              "BMW X4 M Sport X xDrive20d                          62\n",
              "Maruti Swift VDI                                    61\n",
              "                                                  ... \n",
              "Skoda Fabia 1.4 TDI Ambiente                         1\n",
              "Mahindra Scorpio VLX 2WD AT BSIII                    1\n",
              "Renault KWID Climber 1.0 AMT                         1\n",
              "Mahindra XUV300 W8 Option Dual Tone Diesel BSIV      1\n",
              "Toyota Innova 2.5 GX (Diesel) 8 Seater BS IV         1\n",
              "Name: name, Length: 2058, dtype: int64"
            ]
          },
          "metadata": {},
          "execution_count": 35
        }
      ]
    },
    {
      "cell_type": "code",
      "source": [
        "# df1[\"BrandName\"] = df1[\"name\"].str.split(\" \",0,expand = True)\n",
        "# df1.colummns()\n",
        "# df[[\"BrandName\",\"NameDetails\"]] = df1[\"name\"].str.split(\" \",0,expand = True)\n",
        "df1['name'].nunique()"
      ],
      "metadata": {
        "colab": {
          "base_uri": "https://localhost:8080/"
        },
        "id": "YNpmeBTW2ZPO",
        "outputId": "0935b782-b7e3-4803-9455-41fd0cdf584d"
      },
      "execution_count": 36,
      "outputs": [
        {
          "output_type": "execute_result",
          "data": {
            "text/plain": [
              "2058"
            ]
          },
          "metadata": {},
          "execution_count": 36
        }
      ]
    },
    {
      "cell_type": "markdown",
      "source": [
        "This is a data of 2058 different cars. This column does not need cleaning."
      ],
      "metadata": {
        "id": "XMPv7cF_pcZb"
      }
    },
    {
      "cell_type": "markdown",
      "source": [
        "### 2. torque"
      ],
      "metadata": {
        "id": "YCW-oq4Zzy4L"
      }
    },
    {
      "cell_type": "code",
      "source": [
        "df1['torque'].nunique()\n",
        "df1['torque'].head(10)"
      ],
      "metadata": {
        "colab": {
          "base_uri": "https://localhost:8080/"
        },
        "id": "fY7urQp3zzsw",
        "outputId": "20f295e7-13a3-477c-a1a6-8d853e3a4a67"
      },
      "execution_count": 37,
      "outputs": [
        {
          "output_type": "execute_result",
          "data": {
            "text/plain": [
              "0              190Nm@ 2000rpm\n",
              "1         250Nm@ 1500-2500rpm\n",
              "2       12.7@ 2,700(kgm@ rpm)\n",
              "3    22.4 kgm at 1750-2750rpm\n",
              "4       11.5@ 4,500(kgm@ rpm)\n",
              "5           113.75nm@ 4000rpm\n",
              "6        7.8@ 4,500(kgm@ rpm)\n",
              "7               59Nm@ 2500rpm\n",
              "8         170Nm@ 1800-2400rpm\n",
              "9              160Nm@ 2000rpm\n",
              "Name: torque, dtype: object"
            ]
          },
          "metadata": {},
          "execution_count": 37
        }
      ]
    },
    {
      "cell_type": "markdown",
      "source": [
        "We need to drop this column it has uneven data. Like there is no pattern found in the data."
      ],
      "metadata": {
        "id": "QHKuXatH0ZD-"
      }
    },
    {
      "cell_type": "code",
      "source": [
        "df1 = df1.drop(['torque'],axis =1)"
      ],
      "metadata": {
        "id": "6pgbnprG29OW"
      },
      "execution_count": 38,
      "outputs": []
    },
    {
      "cell_type": "markdown",
      "source": [
        "3. year"
      ],
      "metadata": {
        "id": "KMC5r0pPtgUZ"
      }
    },
    {
      "cell_type": "code",
      "source": [
        "df1['year'].value_counts(sort = True)\n",
        "import matplotlib.pyplot as plt\n",
        "plt.boxplot(df1.year)\n"
      ],
      "metadata": {
        "colab": {
          "base_uri": "https://localhost:8080/",
          "height": 576
        },
        "id": "EU4CSfEFte3C",
        "outputId": "99e84d97-d895-428b-8e1d-f5cb27dd030c"
      },
      "execution_count": 39,
      "outputs": [
        {
          "output_type": "execute_result",
          "data": {
            "text/plain": [
              "{'whiskers': [<matplotlib.lines.Line2D at 0x7d9761537070>,\n",
              "  <matplotlib.lines.Line2D at 0x7d9761537310>],\n",
              " 'caps': [<matplotlib.lines.Line2D at 0x7d97615375b0>,\n",
              "  <matplotlib.lines.Line2D at 0x7d9761537850>],\n",
              " 'boxes': [<matplotlib.lines.Line2D at 0x7d9761536dd0>],\n",
              " 'medians': [<matplotlib.lines.Line2D at 0x7d9761537af0>],\n",
              " 'fliers': [<matplotlib.lines.Line2D at 0x7d9761537d90>],\n",
              " 'means': []}"
            ]
          },
          "metadata": {},
          "execution_count": 39
        },
        {
          "output_type": "display_data",
          "data": {
            "text/plain": [
              "<Figure size 640x480 with 1 Axes>"
            ],
            "image/png": "[encoded data removed]"
          },
          "metadata": {}
        }
      ]
    },
    {
      "cell_type": "code",
      "source": [
        "import numpy as np\n",
        "column = 'year'\n",
        "# Calculate the first quartile (Q1) and third quartile (Q3)\n",
        "Q1 = np.percentile(df1[column], 25)\n",
        "Q3 = np.percentile(df1[column], 75)\n",
        "\n",
        "# Calculate the Interquartile Range (IQR)\n",
        "IQR = Q3 - Q1\n",
        "\n",
        "# Define the lower and upper bounds for outliers\n",
        "lower_bound = Q1 - 1.5 * IQR\n",
        "upper_bound = Q3 + 1.5 * IQR\n",
        "\n",
        "# Identify outliers\n",
        "outliers = [x for x in df1[column] if x < lower_bound or x > upper_bound]\n",
        "\n",
        "# Calculate the percentage of data with outliers\n",
        "percentage_with_outliers = (len(outliers) / len(df1[column])) * 100\n",
        "\n",
        "print(f\"Percentage of data with outliers: {percentage_with_outliers:.2f}%\")"
      ],
      "metadata": {
        "colab": {
          "base_uri": "https://localhost:8080/"
        },
        "id": "0Mb56FyHsuu9",
        "outputId": "cc35b84c-aa11-4837-83a6-1c1577cbf83f"
      },
      "execution_count": 40,
      "outputs": [
        {
          "output_type": "stream",
          "name": "stdout",
          "text": [
            "Percentage of data with outliers: 1.00%\n"
          ]
        }
      ]
    },
    {
      "cell_type": "code",
      "source": [
        "df1[column].quantile([0,.0001,.0001,.0002,.0003,.0004,.0005,.0006,.0007,.0008,.0009])"
      ],
      "metadata": {
        "colab": {
          "base_uri": "https://localhost:8080/"
        },
        "id": "mJ2xkyJQu3aS",
        "outputId": "ccac8e9c-e508-46d1-fe5b-2538e757f68c"
      },
      "execution_count": 41,
      "outputs": [
        {
          "output_type": "execute_result",
          "data": {
            "text/plain": [
              "0.0000    1983.0000\n",
              "0.0001    1989.5016\n",
              "0.0001    1989.5016\n",
              "0.0002    1992.8762\n",
              "0.0003    1994.0000\n",
              "0.0004    1994.0000\n",
              "0.0005    1994.0635\n",
              "0.0006    1994.8762\n",
              "0.0007    1995.0000\n",
              "0.0008    1995.5016\n",
              "0.0009    1996.0000\n",
              "Name: year, dtype: float64"
            ]
          },
          "metadata": {},
          "execution_count": 41
        }
      ]
    },
    {
      "cell_type": "code",
      "source": [
        "df1['new_year']=df1['year']\n",
        "mask1 =df1['year']<1992\n",
        "df1['new_year'][mask1]=df1['year'].median()\n"
      ],
      "metadata": {
        "colab": {
          "base_uri": "https://localhost:8080/"
        },
        "id": "tmNenqG0vnhR",
        "outputId": "99e0c971-be7b-4d9d-968d-5399a7a1f97b"
      },
      "execution_count": 42,
      "outputs": [
        {
          "output_type": "stream",
          "name": "stderr",
          "text": [
            "<ipython-input-42-2ae8d3bce8e9>:3: SettingWithCopyWarning: \n",
            "A value is trying to be set on a copy of a slice from a DataFrame\n",
            "\n",
            "See the caveats in the documentation: https://pandas.pydata.org/pandas-docs/stable/user_guide/indexing.html#returning-a-view-versus-a-copy\n",
            "  df1['new_year'][mask1]=df1['year'].median()\n"
          ]
        }
      ]
    },
    {
      "cell_type": "code",
      "source": [
        "df1['year'].value_counts(sort = True)\n",
        "import matplotlib.pyplot as plt\n",
        "plt.boxplot(df1.year)\n"
      ],
      "metadata": {
        "colab": {
          "base_uri": "https://localhost:8080/",
          "height": 576
        },
        "id": "Im-nBxKEws80",
        "outputId": "8b9bf7fd-d274-499b-ca0f-78fa7e1450ce"
      },
      "execution_count": 43,
      "outputs": [
        {
          "output_type": "execute_result",
          "data": {
            "text/plain": [
              "{'whiskers': [<matplotlib.lines.Line2D at 0x7d97611f9000>,\n",
              "  <matplotlib.lines.Line2D at 0x7d97611f92a0>],\n",
              " 'caps': [<matplotlib.lines.Line2D at 0x7d97611f9540>,\n",
              "  <matplotlib.lines.Line2D at 0x7d97611f97e0>],\n",
              " 'boxes': [<matplotlib.lines.Line2D at 0x7d97611e3a90>],\n",
              " 'medians': [<matplotlib.lines.Line2D at 0x7d97611f9a80>],\n",
              " 'fliers': [<matplotlib.lines.Line2D at 0x7d97611f9d20>],\n",
              " 'means': []}"
            ]
          },
          "metadata": {},
          "execution_count": 43
        },
        {
          "output_type": "display_data",
          "data": {
            "text/plain": [
              "<Figure size 640x480 with 1 Axes>"
            ],
            "image/png": "[encoded data removed]"
          },
          "metadata": {}
        }
      ]
    },
    {
      "cell_type": "markdown",
      "source": [
        "No further cleani g required."
      ],
      "metadata": {
        "id": "DRjLhDtRxD4j"
      }
    },
    {
      "cell_type": "markdown",
      "source": [
        "4. selling price"
      ],
      "metadata": {
        "id": "iIWrWdAWxHfX"
      }
    },
    {
      "cell_type": "code",
      "source": [
        "df1['selling_price'].isnull().value_counts()\n"
      ],
      "metadata": {
        "colab": {
          "base_uri": "https://localhost:8080/"
        },
        "id": "O-MUKCeS1KzB",
        "outputId": "947aad33-ac36-4b1b-b834-7cea4cee04bf"
      },
      "execution_count": 44,
      "outputs": [
        {
          "output_type": "execute_result",
          "data": {
            "text/plain": [
              "False    8128\n",
              "Name: selling_price, dtype: int64"
            ]
          },
          "metadata": {},
          "execution_count": 44
        }
      ]
    },
    {
      "cell_type": "code",
      "source": [
        "df1['selling_price'].value_counts(sort = True)\n",
        "import matplotlib.pyplot as plt\n",
        "plt.boxplot(df1.selling_price)\n"
      ],
      "metadata": {
        "colab": {
          "base_uri": "https://localhost:8080/",
          "height": 591
        },
        "id": "AJ7QRQpB1o4h",
        "outputId": "1346e041-c86d-4e2a-ae41-2f3c26f5b228"
      },
      "execution_count": 45,
      "outputs": [
        {
          "output_type": "execute_result",
          "data": {
            "text/plain": [
              "{'whiskers': [<matplotlib.lines.Line2D at 0x7d975f0593c0>,\n",
              "  <matplotlib.lines.Line2D at 0x7d975f059660>],\n",
              " 'caps': [<matplotlib.lines.Line2D at 0x7d975f059900>,\n",
              "  <matplotlib.lines.Line2D at 0x7d975f059ba0>],\n",
              " 'boxes': [<matplotlib.lines.Line2D at 0x7d975f059120>],\n",
              " 'medians': [<matplotlib.lines.Line2D at 0x7d975f059e40>],\n",
              " 'fliers': [<matplotlib.lines.Line2D at 0x7d975f05a0e0>],\n",
              " 'means': []}"
            ]
          },
          "metadata": {},
          "execution_count": 45
        },
        {
          "output_type": "display_data",
          "data": {
            "text/plain": [
              "<Figure size 640x480 with 1 Axes>"
            ],
            "image/png": "[encoded data removed]"
          },
          "metadata": {}
        }
      ]
    },
    {
      "cell_type": "code",
      "source": [
        "import numpy as np\n",
        "column = 'selling_price'\n",
        "# Calculate the first quartile (Q1) and third quartile (Q3)\n",
        "Q1 = np.percentile(df1[column], 25)\n",
        "Q3 = np.percentile(df1[column], 75)\n",
        "\n",
        "# Calculate the Interquartile Range (IQR)\n",
        "IQR = Q3 - Q1\n",
        "\n",
        "# Define the lower and upper bounds for outliers\n",
        "lower_bound = Q1 - 1.5 * IQR\n",
        "upper_bound = Q3 + 1.5 * IQR\n",
        "\n",
        "# Identify outliers\n",
        "outliers = [x for x in df1[column] if x < lower_bound or x > upper_bound]\n",
        "\n",
        "# Calculate the percentage of data with outliers\n",
        "percentage_with_outliers = (len(outliers) / len(df1[column])) * 100\n",
        "\n",
        "print(f\"Percentage of data with outliers: {percentage_with_outliers:.2f}%\")"
      ],
      "metadata": {
        "colab": {
          "base_uri": "https://localhost:8080/"
        },
        "id": "e1oM00N81xVg",
        "outputId": "542264e8-7a33-4ccb-c43e-c621ff07872a"
      },
      "execution_count": 46,
      "outputs": [
        {
          "output_type": "stream",
          "name": "stdout",
          "text": [
            "Percentage of data with outliers: 7.38%\n"
          ]
        }
      ]
    },
    {
      "cell_type": "code",
      "source": [
        "df1[column].quantile([.90,.91,.92,.93,.94,.95,.95,.96,.97,.98,.99,1])"
      ],
      "metadata": {
        "colab": {
          "base_uri": "https://localhost:8080/"
        },
        "id": "nVNFWYrn2Avr",
        "outputId": "026319d3-b9b8-4e3e-fc07-66bc326ead0d"
      },
      "execution_count": 47,
      "outputs": [
        {
          "output_type": "execute_result",
          "data": {
            "text/plain": [
              "0.90     1025000.0\n",
              "0.91     1100000.0\n",
              "0.92     1224200.0\n",
              "0.93     1400000.0\n",
              "0.94     1650000.0\n",
              "0.95     1950000.0\n",
              "0.95     1950000.0\n",
              "0.96     2475000.0\n",
              "0.97     2900000.0\n",
              "0.98     3800000.0\n",
              "0.99     5200000.0\n",
              "1.00    10000000.0\n",
              "Name: selling_price, dtype: float64"
            ]
          },
          "metadata": {},
          "execution_count": 47
        }
      ]
    },
    {
      "cell_type": "markdown",
      "source": [
        "We can choose 1950000.0 as benchmarkk for separation"
      ],
      "metadata": {
        "id": "YhgS7NUV2ZQr"
      }
    },
    {
      "cell_type": "code",
      "source": [
        "df1['new_selling_price']=df1['selling_price']\n",
        "mask1 =df1['selling_price']>1950000\n",
        "df1['new_selling_price'][mask1]=df1['selling_price'].median()\n"
      ],
      "metadata": {
        "colab": {
          "base_uri": "https://localhost:8080/"
        },
        "id": "QIgbCtES2it7",
        "outputId": "8d100aba-13ef-46e9-9ea1-182193fdd92b"
      },
      "execution_count": 48,
      "outputs": [
        {
          "output_type": "stream",
          "name": "stderr",
          "text": [
            "<ipython-input-48-3b45261480d7>:3: SettingWithCopyWarning: \n",
            "A value is trying to be set on a copy of a slice from a DataFrame\n",
            "\n",
            "See the caveats in the documentation: https://pandas.pydata.org/pandas-docs/stable/user_guide/indexing.html#returning-a-view-versus-a-copy\n",
            "  df1['new_selling_price'][mask1]=df1['selling_price'].median()\n"
          ]
        }
      ]
    },
    {
      "cell_type": "markdown",
      "source": [
        "### 5. km_driven"
      ],
      "metadata": {
        "id": "HBYxeYg63GTi"
      }
    },
    {
      "cell_type": "code",
      "source": [
        "df1['km_driven'].value_counts(sort=True)"
      ],
      "metadata": {
        "colab": {
          "base_uri": "https://localhost:8080/"
        },
        "id": "Age7C0gb3LhF",
        "outputId": "cf7df98b-1c4b-440b-84d3-3fe8133eb6a6"
      },
      "execution_count": 49,
      "outputs": [
        {
          "output_type": "execute_result",
          "data": {
            "text/plain": [
              "120000    536\n",
              "70000     456\n",
              "80000     448\n",
              "60000     425\n",
              "50000     391\n",
              "         ... \n",
              "59635       1\n",
              "123219      1\n",
              "65300       1\n",
              "39395       1\n",
              "191000      1\n",
              "Name: km_driven, Length: 921, dtype: int64"
            ]
          },
          "metadata": {},
          "execution_count": 49
        }
      ]
    },
    {
      "cell_type": "code",
      "source": [
        "df1['km_driven'].value_counts(sort = True)\n",
        "import matplotlib.pyplot as plt\n",
        "plt.boxplot(df1.km_driven)\n"
      ],
      "metadata": {
        "colab": {
          "base_uri": "https://localhost:8080/",
          "height": 591
        },
        "id": "OEuQlxsM3cl4",
        "outputId": "6bfdd2c4-9ae5-413b-8e43-5faa2a18787a"
      },
      "execution_count": 50,
      "outputs": [
        {
          "output_type": "execute_result",
          "data": {
            "text/plain": [
              "{'whiskers': [<matplotlib.lines.Line2D at 0x7d975f0dcca0>,\n",
              "  <matplotlib.lines.Line2D at 0x7d975f0dcf40>],\n",
              " 'caps': [<matplotlib.lines.Line2D at 0x7d975f0dd090>,\n",
              "  <matplotlib.lines.Line2D at 0x7d975f0dd360>],\n",
              " 'boxes': [<matplotlib.lines.Line2D at 0x7d975f0dca00>],\n",
              " 'medians': [<matplotlib.lines.Line2D at 0x7d975f0dd600>],\n",
              " 'fliers': [<matplotlib.lines.Line2D at 0x7d975f0dd8a0>],\n",
              " 'means': []}"
            ]
          },
          "metadata": {},
          "execution_count": 50
        },
        {
          "output_type": "display_data",
          "data": {
            "text/plain": [
              "<Figure size 640x480 with 1 Axes>"
            ],
            "image/png": "[encoded data removed]"
          },
          "metadata": {}
        }
      ]
    },
    {
      "cell_type": "code",
      "source": [
        "import numpy as np\n",
        "column = 'km_driven'\n",
        "# Calculate the first quartile (Q1) and third quartile (Q3)\n",
        "Q1 = np.percentile(df1[column], 25)\n",
        "Q3 = np.percentile(df1[column], 75)\n",
        "\n",
        "# Calculate the Interquartile Range (IQR)\n",
        "IQR = Q3 - Q1\n",
        "\n",
        "# Define the lower and upper bounds for outliers\n",
        "lower_bound = Q1 - 1.5 * IQR\n",
        "upper_bound = Q3 + 1.5 * IQR\n",
        "\n",
        "# Identify outliers\n",
        "outliers = [x for x in df1[column] if x < lower_bound or x > upper_bound]\n",
        "\n",
        "# Calculate the percentage of data with outliers\n",
        "percentage_with_outliers = (len(outliers) / len(df1[column])) * 100\n",
        "\n",
        "print(f\"Percentage of data with outliers: {percentage_with_outliers:.2f}%\")"
      ],
      "metadata": {
        "colab": {
          "base_uri": "https://localhost:8080/"
        },
        "id": "6pZCPVaI3cif",
        "outputId": "efd04758-b6db-4038-9a24-3d1a961c3e2b"
      },
      "execution_count": 51,
      "outputs": [
        {
          "output_type": "stream",
          "name": "stdout",
          "text": [
            "Percentage of data with outliers: 2.09%\n"
          ]
        }
      ]
    },
    {
      "cell_type": "code",
      "source": [
        "df1[column].quantile([.90,.91,.92,.93,.94,.95,.95,.96,.97,.98,.99,1])"
      ],
      "metadata": {
        "colab": {
          "base_uri": "https://localhost:8080/"
        },
        "id": "uQQIPPxj3cgb",
        "outputId": "9343cd16-8496-4130-b655-25072f506277"
      },
      "execution_count": 52,
      "outputs": [
        {
          "output_type": "execute_result",
          "data": {
            "text/plain": [
              "0.90     120000.00\n",
              "0.91     120000.00\n",
              "0.92     125980.16\n",
              "0.93     136055.00\n",
              "0.94     143000.00\n",
              "0.95     150000.00\n",
              "0.95     150000.00\n",
              "0.96     160000.00\n",
              "0.97     175000.00\n",
              "0.98     195000.00\n",
              "0.99     225000.00\n",
              "1.00    2360457.00\n",
              "Name: km_driven, dtype: float64"
            ]
          },
          "metadata": {},
          "execution_count": 52
        }
      ]
    },
    {
      "cell_type": "code",
      "source": [
        "df1['new_km_driven']=df1['km_driven']\n",
        "mask1 =df1['km_driven']>175000\n",
        "df1['new_km_driven'][mask1]=df1['km_driven'].median()\n"
      ],
      "metadata": {
        "colab": {
          "base_uri": "https://localhost:8080/"
        },
        "id": "2VuhY19K30Op",
        "outputId": "97c0ce61-9378-439a-92f1-bb17eebeb387"
      },
      "execution_count": 53,
      "outputs": [
        {
          "output_type": "stream",
          "name": "stderr",
          "text": [
            "<ipython-input-53-1d67cc4d1b8e>:3: SettingWithCopyWarning: \n",
            "A value is trying to be set on a copy of a slice from a DataFrame\n",
            "\n",
            "See the caveats in the documentation: https://pandas.pydata.org/pandas-docs/stable/user_guide/indexing.html#returning-a-view-versus-a-copy\n",
            "  df1['new_km_driven'][mask1]=df1['km_driven'].median()\n"
          ]
        }
      ]
    },
    {
      "cell_type": "code",
      "source": [
        "import numpy as np\n",
        "column = 'new_km_driven'\n",
        "# Calculate the first quartile (Q1) and third quartile (Q3)\n",
        "Q1 = np.percentile(df1[column], 25)\n",
        "Q3 = np.percentile(df1[column], 75)\n",
        "\n",
        "# Calculate the Interquartile Range (IQR)\n",
        "IQR = Q3 - Q1\n",
        "\n",
        "# Define the lower and upper bounds for outliers\n",
        "lower_bound = Q1 - 1.5 * IQR\n",
        "upper_bound = Q3 + 1.5 * IQR\n",
        "\n",
        "# Identify outliers\n",
        "outliers = [x for x in df1[column] if x < lower_bound or x > upper_bound]\n",
        "\n",
        "# Calculate the percentage of data with outliers\n",
        "percentage_with_outliers = (len(outliers) / len(df1[column])) * 100\n",
        "\n",
        "print(f\"Percentage of data with outliers: {percentage_with_outliers:.2f}%\")\n"
      ],
      "metadata": {
        "colab": {
          "base_uri": "https://localhost:8080/"
        },
        "id": "mWY-4LLD4DCd",
        "outputId": "991f3b4d-4d02-421b-b052-0175ff075237"
      },
      "execution_count": 54,
      "outputs": [
        {
          "output_type": "stream",
          "name": "stdout",
          "text": [
            "Percentage of data with outliers: 0.23%\n"
          ]
        }
      ]
    },
    {
      "cell_type": "code",
      "source": [],
      "metadata": {
        "id": "Ueb-b9VM4ftU"
      },
      "execution_count": 54,
      "outputs": []
    },
    {
      "cell_type": "markdown",
      "source": [
        "### 5. seats"
      ],
      "metadata": {
        "id": "eaPTgrK_4goP"
      }
    },
    {
      "cell_type": "code",
      "source": [
        "df1['seats'].value_counts(sort=True)"
      ],
      "metadata": {
        "colab": {
          "base_uri": "https://localhost:8080/"
        },
        "outputId": "9de42316-d71b-49c2-a70b-de322dc7ea85",
        "id": "MVrO5XAg4goj"
      },
      "execution_count": 55,
      "outputs": [
        {
          "output_type": "execute_result",
          "data": {
            "text/plain": [
              "5.0     6254\n",
              "7.0     1120\n",
              "8.0      236\n",
              "4.0      133\n",
              "9.0       80\n",
              "6.0       62\n",
              "10.0      19\n",
              "2.0        2\n",
              "14.0       1\n",
              "Name: seats, dtype: int64"
            ]
          },
          "metadata": {},
          "execution_count": 55
        }
      ]
    },
    {
      "cell_type": "code",
      "source": [
        "import numpy as np\n",
        "column = 'seats'\n",
        "# Calculate the first quartile (Q1) and third quartile (Q3)\n",
        "Q1 = np.percentile(df1[column], 25)\n",
        "Q3 = np.percentile(df1[column], 75)\n",
        "\n",
        "# Calculate the Interquartile Range (IQR)\n",
        "IQR = Q3 - Q1\n",
        "\n",
        "# Define the lower and upper bounds for outliers\n",
        "lower_bound = Q1 - 1.5 * IQR\n",
        "upper_bound = Q3 + 1.5 * IQR\n",
        "\n",
        "# Identify outliers\n",
        "outliers = [x for x in df1[column] if x < lower_bound or x > upper_bound]\n",
        "\n",
        "# Calculate the percentage of data with outliers\n",
        "percentage_with_outliers = (len(outliers) / len(df1[column])) * 100\n",
        "\n",
        "print(f\"Percentage of data with outliers: {percentage_with_outliers:.2f}%\")"
      ],
      "metadata": {
        "colab": {
          "base_uri": "https://localhost:8080/"
        },
        "outputId": "4f440b20-9790-41cd-df95-4b6ca26d2416",
        "id": "8s8uDjH74gok"
      },
      "execution_count": 56,
      "outputs": [
        {
          "output_type": "stream",
          "name": "stdout",
          "text": [
            "Percentage of data with outliers: 0.00%\n"
          ]
        }
      ]
    },
    {
      "cell_type": "markdown",
      "source": [
        "### 6. new_engine"
      ],
      "metadata": {
        "id": "5MVx6kRZ7XyC"
      }
    },
    {
      "cell_type": "code",
      "source": [
        "df1['new_engine'].value_counts()"
      ],
      "metadata": {
        "colab": {
          "base_uri": "https://localhost:8080/"
        },
        "id": "N9Qam8Tt7eHg",
        "outputId": "a5c798f4-bb0b-4524-e7f9-5ca9c798f5b3"
      },
      "execution_count": 57,
      "outputs": [
        {
          "output_type": "execute_result",
          "data": {
            "text/plain": [
              "1248.0    1017\n",
              "1197.0     832\n",
              "998.0      453\n",
              "796.0      444\n",
              "2179.0     389\n",
              "          ... \n",
              "2835.0       1\n",
              "1489.0       1\n",
              "1422.0       1\n",
              "2496.0       1\n",
              "1950.0       1\n",
              "Name: new_engine, Length: 121, dtype: int64"
            ]
          },
          "metadata": {},
          "execution_count": 57
        }
      ]
    },
    {
      "cell_type": "code",
      "source": [
        "import numpy as np\n",
        "column = 'new_engine'\n",
        "# Calculate the first quartile (Q1) and third quartile (Q3)\n",
        "Q1 = np.percentile(df1[column], 25)\n",
        "Q3 = np.percentile(df1[column], 75)\n",
        "\n",
        "# Calculate the Interquartile Range (IQR)\n",
        "IQR = Q3 - Q1\n",
        "\n",
        "# Define the lower and upper bounds for outliers\n",
        "lower_bound = Q1 - 1.5 * IQR\n",
        "upper_bound = Q3 + 1.5 * IQR\n",
        "\n",
        "# Identify outliers\n",
        "outliers = [x for x in df1[column] if x < lower_bound or x > upper_bound]\n",
        "\n",
        "# Calculate the percentage of data with outliers\n",
        "percentage_with_outliers = (len(outliers) / len(df1[column])) * 100\n",
        "\n",
        "print(f\"Percentage of data with outliers: {percentage_with_outliers:.2f}%\")"
      ],
      "metadata": {
        "colab": {
          "base_uri": "https://localhost:8080/"
        },
        "id": "DASwAWx-7pmL",
        "outputId": "d27ffb7f-d2f4-471f-e7fd-9a440f05c161"
      },
      "execution_count": 58,
      "outputs": [
        {
          "output_type": "stream",
          "name": "stdout",
          "text": [
            "Percentage of data with outliers: 0.00%\n"
          ]
        }
      ]
    },
    {
      "cell_type": "markdown",
      "source": [
        "### 7. new_mileage"
      ],
      "metadata": {
        "id": "P7CgsyOL7zuB"
      }
    },
    {
      "cell_type": "code",
      "source": [
        "df1['new_mileage'].value_counts()"
      ],
      "metadata": {
        "colab": {
          "base_uri": "https://localhost:8080/"
        },
        "outputId": "a536a004-063b-4cb4-e63e-93fbaec3f9aa",
        "id": "2QUMe0LE7zuj"
      },
      "execution_count": 59,
      "outputs": [
        {
          "output_type": "execute_result",
          "data": {
            "text/plain": [
              "18.90    225\n",
              "19.70    173\n",
              "18.60    164\n",
              "21.10    158\n",
              "17.00    133\n",
              "        ... \n",
              "17.42      1\n",
              "18.24      1\n",
              "10.71      1\n",
              "21.76      1\n",
              "16.51      1\n",
              "Name: new_mileage, Length: 381, dtype: int64"
            ]
          },
          "metadata": {},
          "execution_count": 59
        }
      ]
    },
    {
      "cell_type": "code",
      "source": [
        "import numpy as np\n",
        "column = 'new_mileage'\n",
        "# Calculate the first quartile (Q1) and third quartile (Q3)\n",
        "Q1 = np.percentile(df1[column], 25)\n",
        "Q3 = np.percentile(df1[column], 75)\n",
        "\n",
        "# Calculate the Interquartile Range (IQR)\n",
        "IQR = Q3 - Q1\n",
        "\n",
        "# Define the lower and upper bounds for outliers\n",
        "lower_bound = Q1 - 1.5 * IQR\n",
        "upper_bound = Q3 + 1.5 * IQR\n",
        "\n",
        "# Identify outliers\n",
        "outliers = [x for x in df1[column] if x < lower_bound or x > upper_bound]\n",
        "\n",
        "# Calculate the percentage of data with outliers\n",
        "percentage_with_outliers = (len(outliers) / len(df1[column])) * 100\n",
        "\n",
        "print(f\"Percentage of data with outliers: {percentage_with_outliers:.2f}%\")\n",
        "print(df1[column].mean()-df[column].median())"
      ],
      "metadata": {
        "colab": {
          "base_uri": "https://localhost:8080/"
        },
        "outputId": "ffb7df36-6a19-4a81-b1e2-2bfada60369e",
        "id": "k8fODht37zuk"
      },
      "execution_count": 60,
      "outputs": [
        {
          "output_type": "stream",
          "name": "stdout",
          "text": [
            "Percentage of data with outliers: 0.00%\n",
            "0.11878335651953975\n"
          ]
        }
      ]
    },
    {
      "cell_type": "markdown",
      "source": [
        "### 8. new_max_power"
      ],
      "metadata": {
        "id": "6S0ZSunW8HFr"
      }
    },
    {
      "cell_type": "code",
      "source": [
        "df1['new_max_power'].value_counts()"
      ],
      "metadata": {
        "colab": {
          "base_uri": "https://localhost:8080/"
        },
        "outputId": "42e73a5a-095a-4295-bd67-13e9213e9b7d",
        "id": "OGoQxrEX8HGN"
      },
      "execution_count": 61,
      "outputs": [
        {
          "output_type": "execute_result",
          "data": {
            "text/plain": [
              "74.00     377\n",
              "88.50     222\n",
              "81.80     220\n",
              "67.00     165\n",
              "46.30     162\n",
              "         ... \n",
              "58.33       1\n",
              "68.40       1\n",
              "169.00      1\n",
              "170.63      1\n",
              "135.10      1\n",
              "Name: new_max_power, Length: 319, dtype: int64"
            ]
          },
          "metadata": {},
          "execution_count": 61
        }
      ]
    },
    {
      "cell_type": "code",
      "source": [
        "import numpy as np\n",
        "column = 'new_max_power'\n",
        "# Calculate the first quartile (Q1) and third quartile (Q3)\n",
        "Q1 = np.percentile(df1[column], 25)\n",
        "Q3 = np.percentile(df1[column], 75)\n",
        "\n",
        "# Calculate the Interquartile Range (IQR)\n",
        "IQR = Q3 - Q1\n",
        "\n",
        "# Define the lower and upper bounds for outliers\n",
        "lower_bound = Q1 - 1.5 * IQR\n",
        "upper_bound = Q3 + 1.5 * IQR\n",
        "\n",
        "# Identify outliers\n",
        "outliers = [x for x in df1[column] if x < lower_bound or x > upper_bound]\n",
        "\n",
        "# Calculate the percentage of data with outliers\n",
        "percentage_with_outliers = (len(outliers) / len(df1[column])) * 100\n",
        "\n",
        "print(f\"Percentage of data with outliers: {percentage_with_outliers:.2f}%\")"
      ],
      "metadata": {
        "colab": {
          "base_uri": "https://localhost:8080/"
        },
        "outputId": "28fd2618-0735-4fd1-af08-8db7a85b9eb1",
        "id": "RxtZf9ml8HGO"
      },
      "execution_count": 62,
      "outputs": [
        {
          "output_type": "stream",
          "name": "stdout",
          "text": [
            "Percentage of data with outliers: 0.00%\n"
          ]
        }
      ]
    },
    {
      "cell_type": "code",
      "source": [
        "print(df1['new_max_power'].mean()-df1['new_max_power'].median())"
      ],
      "metadata": {
        "colab": {
          "base_uri": "https://localhost:8080/"
        },
        "id": "_zEmJf_C8VC1",
        "outputId": "c3de8cb5-f4b2-446e-c8f5-ab83c48d1659"
      },
      "execution_count": 63,
      "outputs": [
        {
          "output_type": "stream",
          "name": "stdout",
          "text": [
            "9.517918983822028\n"
          ]
        }
      ]
    },
    {
      "cell_type": "markdown",
      "source": [
        "Done till now: name, torque, year,selling price, km_riven, new_engine,new_mileage,new_max_power"
      ],
      "metadata": {
        "id": "1WRTTc7RyROx"
      }
    },
    {
      "cell_type": "code",
      "source": [
        "df1.columns"
      ],
      "metadata": {
        "colab": {
          "base_uri": "https://localhost:8080/"
        },
        "id": "OOiJ1VSGyQgi",
        "outputId": "db6ceea7-d48e-4cd6-b3cb-6bf65c0f0cfb"
      },
      "execution_count": 64,
      "outputs": [
        {
          "output_type": "execute_result",
          "data": {
            "text/plain": [
              "Index(['name', 'year', 'selling_price', 'km_driven', 'fuel', 'seller_type',\n",
              "       'transmission', 'owner', 'seats', 'new_engine', 'new_mileage',\n",
              "       'new_max_power', 'new_year', 'new_selling_price', 'new_km_driven'],\n",
              "      dtype='object')"
            ]
          },
          "metadata": {},
          "execution_count": 64
        }
      ]
    },
    {
      "cell_type": "markdown",
      "source": [
        "9.**Fuel**"
      ],
      "metadata": {
        "id": "JXV-Z50kPZ-E"
      }
    },
    {
      "cell_type": "code",
      "source": [
        "df1['fuel'].value_counts()"
      ],
      "metadata": {
        "colab": {
          "base_uri": "https://localhost:8080/"
        },
        "id": "1jA7iUWgyqY2",
        "outputId": "5044eaca-9528-4474-aedc-7d423405cb56"
      },
      "execution_count": 65,
      "outputs": [
        {
          "output_type": "execute_result",
          "data": {
            "text/plain": [
              "Diesel    4402\n",
              "Petrol    3631\n",
              "CNG         57\n",
              "LPG         38\n",
              "Name: fuel, dtype: int64"
            ]
          },
          "metadata": {},
          "execution_count": 65
        }
      ]
    },
    {
      "cell_type": "markdown",
      "source": [
        "10.Seller type"
      ],
      "metadata": {
        "id": "cZarf_Rwyy7P"
      }
    },
    {
      "cell_type": "code",
      "source": [
        "df1['seller_type'].value_counts()"
      ],
      "metadata": {
        "colab": {
          "base_uri": "https://localhost:8080/"
        },
        "id": "BmB_TEKPy2F9",
        "outputId": "cdd38dfb-4463-4fbc-bcca-7ee6380dcbc3"
      },
      "execution_count": 66,
      "outputs": [
        {
          "output_type": "execute_result",
          "data": {
            "text/plain": [
              "Individual          6766\n",
              "Dealer              1126\n",
              "Trustmark Dealer     236\n",
              "Name: seller_type, dtype: int64"
            ]
          },
          "metadata": {},
          "execution_count": 66
        }
      ]
    },
    {
      "cell_type": "markdown",
      "source": [
        "11.transimission"
      ],
      "metadata": {
        "id": "E-H6Qtkmy9Uk"
      }
    },
    {
      "cell_type": "code",
      "source": [
        "df1['transmission'].value_counts()"
      ],
      "metadata": {
        "colab": {
          "base_uri": "https://localhost:8080/"
        },
        "id": "RfY7nMEDzAYv",
        "outputId": "6659ac87-1c10-4442-a552-d53a8c736edc"
      },
      "execution_count": 67,
      "outputs": [
        {
          "output_type": "execute_result",
          "data": {
            "text/plain": [
              "Manual       7078\n",
              "Automatic    1050\n",
              "Name: transmission, dtype: int64"
            ]
          },
          "metadata": {},
          "execution_count": 67
        }
      ]
    },
    {
      "cell_type": "markdown",
      "source": [
        "12.owner"
      ],
      "metadata": {
        "id": "gy1Z_5ITzG3a"
      }
    },
    {
      "cell_type": "code",
      "source": [
        "df1['owner'].value_counts()"
      ],
      "metadata": {
        "colab": {
          "base_uri": "https://localhost:8080/"
        },
        "id": "fkGuwbfAPgyf",
        "outputId": "45db8efa-f783-48cd-89ae-3ec98f7d5517"
      },
      "execution_count": 68,
      "outputs": [
        {
          "output_type": "execute_result",
          "data": {
            "text/plain": [
              "First Owner             5289\n",
              "Second Owner            2105\n",
              "Third Owner              555\n",
              "Fourth & Above Owner     174\n",
              "Test Drive Car             5\n",
              "Name: owner, dtype: int64"
            ]
          },
          "metadata": {},
          "execution_count": 68
        }
      ]
    },
    {
      "cell_type": "markdown",
      "source": [
        "### All above categorical variables don not need any cleaning, Data cleaning done"
      ],
      "metadata": {
        "id": "BmX1M7dx8szm"
      }
    },
    {
      "cell_type": "markdown",
      "source": [
        "But, in oder to use it in model we need non numeric string variables to be converted into flags."
      ],
      "metadata": {
        "id": "PJP0FDYZ2A9t"
      }
    },
    {
      "cell_type": "markdown",
      "source": [
        "## 1. fuel needs to converted into flags Diesel ==1,Petrol=2 CNG=57 and LPG=4"
      ],
      "metadata": {
        "id": "DJoOOIoQ2Yl1"
      }
    },
    {
      "cell_type": "code",
      "source": [
        "df1['fuel'].value_counts()"
      ],
      "metadata": {
        "colab": {
          "base_uri": "https://localhost:8080/"
        },
        "id": "7-MDf7YZ2Ooc",
        "outputId": "16380d5a-cb8b-43cc-a48c-161efb210c02"
      },
      "execution_count": 69,
      "outputs": [
        {
          "output_type": "execute_result",
          "data": {
            "text/plain": [
              "Diesel    4402\n",
              "Petrol    3631\n",
              "CNG         57\n",
              "LPG         38\n",
              "Name: fuel, dtype: int64"
            ]
          },
          "metadata": {},
          "execution_count": 69
        }
      ]
    },
    {
      "cell_type": "code",
      "source": [
        "mask1 = df1['fuel']=='Diesel'\n",
        "mask2 = df1['fuel']=='Petrol'\n",
        "mask3 = df1['fuel']=='CNG'\n",
        "mask4 = df1['fuel']=='LNG'\n",
        "\n",
        "df1['fuel_flag']=1\n",
        "df1['fuel_flag'][mask2] = 2\n",
        "df1['fuel_flag'][mask3] = 3\n",
        "df1['fuel_flag'][mask4] = 4"
      ],
      "metadata": {
        "colab": {
          "base_uri": "https://localhost:8080/"
        },
        "id": "nfsmvSZ927QG",
        "outputId": "261ff2ad-3075-49e5-f49f-e70c7063eafe"
      },
      "execution_count": 70,
      "outputs": [
        {
          "output_type": "stream",
          "name": "stderr",
          "text": [
            "<ipython-input-70-e119fb2f6ef8>:7: SettingWithCopyWarning: \n",
            "A value is trying to be set on a copy of a slice from a DataFrame\n",
            "\n",
            "See the caveats in the documentation: https://pandas.pydata.org/pandas-docs/stable/user_guide/indexing.html#returning-a-view-versus-a-copy\n",
            "  df1['fuel_flag'][mask2] = 2\n",
            "<ipython-input-70-e119fb2f6ef8>:8: SettingWithCopyWarning: \n",
            "A value is trying to be set on a copy of a slice from a DataFrame\n",
            "\n",
            "See the caveats in the documentation: https://pandas.pydata.org/pandas-docs/stable/user_guide/indexing.html#returning-a-view-versus-a-copy\n",
            "  df1['fuel_flag'][mask3] = 3\n",
            "<ipython-input-70-e119fb2f6ef8>:9: SettingWithCopyWarning: \n",
            "A value is trying to be set on a copy of a slice from a DataFrame\n",
            "\n",
            "See the caveats in the documentation: https://pandas.pydata.org/pandas-docs/stable/user_guide/indexing.html#returning-a-view-versus-a-copy\n",
            "  df1['fuel_flag'][mask4] = 4\n"
          ]
        }
      ]
    },
    {
      "cell_type": "markdown",
      "source": [
        "## 2. seller_type needs to be converted into flags"
      ],
      "metadata": {
        "id": "Bd4W5sU54MRb"
      }
    },
    {
      "cell_type": "code",
      "source": [
        "df1['seller_type'].value_counts()"
      ],
      "metadata": {
        "colab": {
          "base_uri": "https://localhost:8080/"
        },
        "id": "Dp0iYwdI4WLj",
        "outputId": "6575994d-95c8-45b4-f4b0-7db96f7ec511"
      },
      "execution_count": 71,
      "outputs": [
        {
          "output_type": "execute_result",
          "data": {
            "text/plain": [
              "Individual          6766\n",
              "Dealer              1126\n",
              "Trustmark Dealer     236\n",
              "Name: seller_type, dtype: int64"
            ]
          },
          "metadata": {},
          "execution_count": 71
        }
      ]
    },
    {
      "cell_type": "code",
      "source": [
        "mask1 = df1['seller_type']=='Individual'\n",
        "mask2 = df1['seller_type']=='Dealer'\n",
        "mask3 = df1['seller_type']=='Trustmark Dealer'\n",
        "\n",
        "df1['seller_type_flag']=1\n",
        "df1['seller_type_flag'][mask2] = 2\n",
        "df1['seller_type_flag'][mask3] = 3\n"
      ],
      "metadata": {
        "colab": {
          "base_uri": "https://localhost:8080/"
        },
        "id": "b-2BmPhr4d4J",
        "outputId": "218d9ba7-2c46-40f6-b556-4a0aab2eea78"
      },
      "execution_count": 72,
      "outputs": [
        {
          "output_type": "stream",
          "name": "stderr",
          "text": [
            "<ipython-input-72-da9ac73a8a55>:6: SettingWithCopyWarning: \n",
            "A value is trying to be set on a copy of a slice from a DataFrame\n",
            "\n",
            "See the caveats in the documentation: https://pandas.pydata.org/pandas-docs/stable/user_guide/indexing.html#returning-a-view-versus-a-copy\n",
            "  df1['seller_type_flag'][mask2] = 2\n",
            "<ipython-input-72-da9ac73a8a55>:7: SettingWithCopyWarning: \n",
            "A value is trying to be set on a copy of a slice from a DataFrame\n",
            "\n",
            "See the caveats in the documentation: https://pandas.pydata.org/pandas-docs/stable/user_guide/indexing.html#returning-a-view-versus-a-copy\n",
            "  df1['seller_type_flag'][mask3] = 3\n"
          ]
        }
      ]
    },
    {
      "cell_type": "markdown",
      "source": [
        "3.transmission needs to add flags"
      ],
      "metadata": {
        "id": "9uyYw0-B4yfx"
      }
    },
    {
      "cell_type": "code",
      "source": [
        "df1['transmission'].value_counts()"
      ],
      "metadata": {
        "colab": {
          "base_uri": "https://localhost:8080/"
        },
        "id": "Lwn8cgvT5DwF",
        "outputId": "0b3b8e25-9bf9-442d-de9d-f4efe31b2da6"
      },
      "execution_count": 73,
      "outputs": [
        {
          "output_type": "execute_result",
          "data": {
            "text/plain": [
              "Manual       7078\n",
              "Automatic    1050\n",
              "Name: transmission, dtype: int64"
            ]
          },
          "metadata": {},
          "execution_count": 73
        }
      ]
    },
    {
      "cell_type": "code",
      "source": [
        "mask1 = df1['transmission']=='Manual'\n",
        "mask2 = df1['transmission']=='Automatic'\n",
        "\n",
        "\n",
        "df1['transmission_flag']=1\n",
        "df1['transmission_flag'][mask2] = 2\n",
        "\n"
      ],
      "metadata": {
        "colab": {
          "base_uri": "https://localhost:8080/"
        },
        "id": "xoSKjGi344yJ",
        "outputId": "d326151f-c359-440a-c454-d4eba44050a0"
      },
      "execution_count": 74,
      "outputs": [
        {
          "output_type": "stream",
          "name": "stderr",
          "text": [
            "<ipython-input-74-dce8c9487a23>:6: SettingWithCopyWarning: \n",
            "A value is trying to be set on a copy of a slice from a DataFrame\n",
            "\n",
            "See the caveats in the documentation: https://pandas.pydata.org/pandas-docs/stable/user_guide/indexing.html#returning-a-view-versus-a-copy\n",
            "  df1['transmission_flag'][mask2] = 2\n"
          ]
        }
      ]
    },
    {
      "cell_type": "markdown",
      "source": [
        "4. owner needs to add flags"
      ],
      "metadata": {
        "id": "YWzaqEbL5SaD"
      }
    },
    {
      "cell_type": "code",
      "source": [
        "df1['owner'].value_counts()"
      ],
      "metadata": {
        "colab": {
          "base_uri": "https://localhost:8080/"
        },
        "id": "qeQ__SkS5WBU",
        "outputId": "86bd4506-7d9a-4458-cb19-d61ea3b8a9a1"
      },
      "execution_count": 75,
      "outputs": [
        {
          "output_type": "execute_result",
          "data": {
            "text/plain": [
              "First Owner             5289\n",
              "Second Owner            2105\n",
              "Third Owner              555\n",
              "Fourth & Above Owner     174\n",
              "Test Drive Car             5\n",
              "Name: owner, dtype: int64"
            ]
          },
          "metadata": {},
          "execution_count": 75
        }
      ]
    },
    {
      "cell_type": "code",
      "source": [
        "mask1 = df1['owner']=='First Owner'\n",
        "mask2 = df1['owner']=='Second Owner'\n",
        "mask3 = df1['owner']=='Third Owner'\n",
        "mask4 = df1['owner']=='Fourth & Above Owner'\n",
        "mask5 = df1['owner'] == 'Test Drive Car'\n",
        "\n",
        "df1['owner_flag']=1\n",
        "df1['owner_flag'][mask2] = 2\n",
        "df1['owner_flag'][mask3] = 3\n",
        "df1['owner_flag'][mask4] = 4\n",
        "df1['owner_flag'][mask5] = 5"
      ],
      "metadata": {
        "colab": {
          "base_uri": "https://localhost:8080/"
        },
        "id": "4j8HyHQ45hB7",
        "outputId": "3718be7e-fc16-4cd2-e85a-ca3bf95dc4c9"
      },
      "execution_count": 76,
      "outputs": [
        {
          "output_type": "stream",
          "name": "stderr",
          "text": [
            "<ipython-input-76-845da064f133>:8: SettingWithCopyWarning: \n",
            "A value is trying to be set on a copy of a slice from a DataFrame\n",
            "\n",
            "See the caveats in the documentation: https://pandas.pydata.org/pandas-docs/stable/user_guide/indexing.html#returning-a-view-versus-a-copy\n",
            "  df1['owner_flag'][mask2] = 2\n",
            "<ipython-input-76-845da064f133>:9: SettingWithCopyWarning: \n",
            "A value is trying to be set on a copy of a slice from a DataFrame\n",
            "\n",
            "See the caveats in the documentation: https://pandas.pydata.org/pandas-docs/stable/user_guide/indexing.html#returning-a-view-versus-a-copy\n",
            "  df1['owner_flag'][mask3] = 3\n",
            "<ipython-input-76-845da064f133>:10: SettingWithCopyWarning: \n",
            "A value is trying to be set on a copy of a slice from a DataFrame\n",
            "\n",
            "See the caveats in the documentation: https://pandas.pydata.org/pandas-docs/stable/user_guide/indexing.html#returning-a-view-versus-a-copy\n",
            "  df1['owner_flag'][mask4] = 4\n",
            "<ipython-input-76-845da064f133>:11: SettingWithCopyWarning: \n",
            "A value is trying to be set on a copy of a slice from a DataFrame\n",
            "\n",
            "See the caveats in the documentation: https://pandas.pydata.org/pandas-docs/stable/user_guide/indexing.html#returning-a-view-versus-a-copy\n",
            "  df1['owner_flag'][mask5] = 5\n"
          ]
        }
      ]
    },
    {
      "cell_type": "markdown",
      "source": [
        "### Model Building"
      ],
      "metadata": {
        "id": "jH-N75-xBmT8"
      }
    },
    {
      "cell_type": "code",
      "source": [
        "print(df1.columns)\n",
        "numerical_col,non_numerical_col,categorical_non_numerical_vars"
      ],
      "metadata": {
        "colab": {
          "base_uri": "https://localhost:8080/"
        },
        "id": "aI-a6ChrB_I1",
        "outputId": "851cec0c-b2e0-42be-8363-3738e0995242"
      },
      "execution_count": 77,
      "outputs": [
        {
          "output_type": "stream",
          "name": "stdout",
          "text": [
            "Index(['name', 'year', 'selling_price', 'km_driven', 'fuel', 'seller_type',\n",
            "       'transmission', 'owner', 'seats', 'new_engine', 'new_mileage',\n",
            "       'new_max_power', 'new_year', 'new_selling_price', 'new_km_driven',\n",
            "       'fuel_flag', 'seller_type_flag', 'transmission_flag', 'owner_flag'],\n",
            "      dtype='object')\n"
          ]
        },
        {
          "output_type": "execute_result",
          "data": {
            "text/plain": [
              "(Index(['year', 'selling_price', 'km_driven', 'seats', 'new_engine',\n",
              "        'new_mileage', 'new_max_power'],\n",
              "       dtype='object'),\n",
              " Index(['name', 'fuel', 'seller_type', 'transmission', 'owner', 'torque'], dtype='object'),\n",
              " [])"
            ]
          },
          "metadata": {},
          "execution_count": 77
        }
      ]
    },
    {
      "cell_type": "code",
      "source": [
        "import statsmodels.formula.api as sm\n",
        "model = sm.ols(formula='selling_price ~ new_year + new_km_driven + seats + new_engine + new_mileage + new_max_power+fuel_flag + seller_type_flag + transmission_flag + owner_flag ', data=df1)\n",
        "model\n",
        "fitted1 = model.fit()\n",
        "fitted1.summary()"
      ],
      "metadata": {
        "colab": {
          "base_uri": "https://localhost:8080/",
          "height": 672
        },
        "id": "2L4w9KeQBsUS",
        "outputId": "366abc4a-0095-4711-eb83-ececd27de77c"
      },
      "execution_count": 78,
      "outputs": [
        {
          "output_type": "execute_result",
          "data": {
            "text/plain": [
              "<class 'statsmodels.iolib.summary.Summary'>\n",
              "\"\"\"\n",
              "                            OLS Regression Results                            \n",
              "==============================================================================\n",
              "Dep. Variable:          selling_price   R-squared:                       0.679\n",
              "Model:                            OLS   Adj. R-squared:                  0.679\n",
              "Method:                 Least Squares   F-statistic:                     1669.\n",
              "Date:                Sun, 05 Nov 2023   Prob (F-statistic):               0.00\n",
              "Time:                        19:29:53   Log-Likelihood:            -1.1432e+05\n",
              "No. Observations:                7906   AIC:                         2.287e+05\n",
              "Df Residuals:                    7895   BIC:                         2.287e+05\n",
              "Df Model:                          10                                         \n",
              "Covariance Type:            nonrobust                                         \n",
              "=====================================================================================\n",
              "                        coef    std err          t      P>|t|      [0.025      0.975]\n",
              "-------------------------------------------------------------------------------------\n",
              "Intercept         -5.538e+07   3.94e+06    -14.062      0.000   -6.31e+07   -4.77e+07\n",
              "new_year             2.7e+04   1968.952     13.711      0.000    2.31e+04    3.09e+04\n",
              "new_km_driven        -3.0743      0.177    -17.408      0.000      -3.420      -2.728\n",
              "seats             -3.408e+04   8042.725     -4.238      0.000   -4.98e+04   -1.83e+04\n",
              "new_engine           65.1799     23.341      2.792      0.005      19.425     110.935\n",
              "new_mileage        1.349e+04   2081.682      6.482      0.000    9413.572    1.76e+04\n",
              "new_max_power      1.324e+04    259.057     51.126      0.000    1.27e+04    1.38e+04\n",
              "fuel_flag         -1.063e+05   1.42e+04     -7.480      0.000   -1.34e+05   -7.84e+04\n",
              "seller_type_flag   8.622e+04   1.22e+04      7.065      0.000    6.23e+04     1.1e+05\n",
              "transmission_flag  4.544e+05   1.99e+04     22.841      0.000    4.15e+05    4.93e+05\n",
              "owner_flag         6533.2426   8529.911      0.766      0.444   -1.02e+04    2.33e+04\n",
              "==============================================================================\n",
              "Omnibus:                     4452.096   Durbin-Watson:                   1.613\n",
              "Prob(Omnibus):                  0.000   Jarque-Bera (JB):            75795.021\n",
              "Skew:                           2.340   Prob(JB):                         0.00\n",
              "Kurtosis:                      17.428   Cond. No.                     5.64e+07\n",
              "==============================================================================\n",
              "\n",
              "Notes:\n",
              "[1] Standard Errors assume that the covariance matrix of the errors is correctly specified.\n",
              "[2] The condition number is large, 5.64e+07. This might indicate that there are\n",
              "strong multicollinearity or other numerical problems.\n",
              "\"\"\""
            ],
            "text/html": [
              "<table class=\"simpletable\">\n",
              "<caption>OLS Regression Results</caption>\n",
              "<tr>\n",
              "  <th>Dep. Variable:</th>      <td>selling_price</td>  <th>  R-squared:         </th>  <td>   0.679</td>  \n",
              "</tr>\n",
              "<tr>\n",
              "  <th>Model:</th>                   <td>OLS</td>       <th>  Adj. R-squared:    </th>  <td>   0.679</td>  \n",
              "</tr>\n",
              "<tr>\n",
              "  <th>Method:</th>             <td>Least Squares</td>  <th>  F-statistic:       </th>  <td>   1669.</td>  \n",
              "</tr>\n",
              "<tr>\n",
              "  <th>Date:</th>             <td>Sun, 05 Nov 2023</td> <th>  Prob (F-statistic):</th>   <td>  0.00</td>   \n",
              "</tr>\n",
              "<tr>\n",
              "  <th>Time:</th>                 <td>19:29:53</td>     <th>  Log-Likelihood:    </th> <td>-1.1432e+05</td>\n",
              "</tr>\n",
              "<tr>\n",
              "  <th>No. Observations:</th>      <td>  7906</td>      <th>  AIC:               </th>  <td>2.287e+05</td> \n",
              "</tr>\n",
              "<tr>\n",
              "  <th>Df Residuals:</th>          <td>  7895</td>      <th>  BIC:               </th>  <td>2.287e+05</td> \n",
              "</tr>\n",
              "<tr>\n",
              "  <th>Df Model:</th>              <td>    10</td>      <th>                     </th>      <td> </td>     \n",
              "</tr>\n",
              "<tr>\n",
              "  <th>Covariance Type:</th>      <td>nonrobust</td>    <th>                     </th>      <td> </td>     \n",
              "</tr>\n",
              "</table>\n",
              "<table class=\"simpletable\">\n",
              "<tr>\n",
              "          <td></td>             <th>coef</th>     <th>std err</th>      <th>t</th>      <th>P>|t|</th>  <th>[0.025</th>    <th>0.975]</th>  \n",
              "</tr>\n",
              "<tr>\n",
              "  <th>Intercept</th>         <td>-5.538e+07</td> <td> 3.94e+06</td> <td>  -14.062</td> <td> 0.000</td> <td>-6.31e+07</td> <td>-4.77e+07</td>\n",
              "</tr>\n",
              "<tr>\n",
              "  <th>new_year</th>          <td>   2.7e+04</td> <td> 1968.952</td> <td>   13.711</td> <td> 0.000</td> <td> 2.31e+04</td> <td> 3.09e+04</td>\n",
              "</tr>\n",
              "<tr>\n",
              "  <th>new_km_driven</th>     <td>   -3.0743</td> <td>    0.177</td> <td>  -17.408</td> <td> 0.000</td> <td>   -3.420</td> <td>   -2.728</td>\n",
              "</tr>\n",
              "<tr>\n",
              "  <th>seats</th>             <td>-3.408e+04</td> <td> 8042.725</td> <td>   -4.238</td> <td> 0.000</td> <td>-4.98e+04</td> <td>-1.83e+04</td>\n",
              "</tr>\n",
              "<tr>\n",
              "  <th>new_engine</th>        <td>   65.1799</td> <td>   23.341</td> <td>    2.792</td> <td> 0.005</td> <td>   19.425</td> <td>  110.935</td>\n",
              "</tr>\n",
              "<tr>\n",
              "  <th>new_mileage</th>       <td> 1.349e+04</td> <td> 2081.682</td> <td>    6.482</td> <td> 0.000</td> <td> 9413.572</td> <td> 1.76e+04</td>\n",
              "</tr>\n",
              "<tr>\n",
              "  <th>new_max_power</th>     <td> 1.324e+04</td> <td>  259.057</td> <td>   51.126</td> <td> 0.000</td> <td> 1.27e+04</td> <td> 1.38e+04</td>\n",
              "</tr>\n",
              "<tr>\n",
              "  <th>fuel_flag</th>         <td>-1.063e+05</td> <td> 1.42e+04</td> <td>   -7.480</td> <td> 0.000</td> <td>-1.34e+05</td> <td>-7.84e+04</td>\n",
              "</tr>\n",
              "<tr>\n",
              "  <th>seller_type_flag</th>  <td> 8.622e+04</td> <td> 1.22e+04</td> <td>    7.065</td> <td> 0.000</td> <td> 6.23e+04</td> <td>  1.1e+05</td>\n",
              "</tr>\n",
              "<tr>\n",
              "  <th>transmission_flag</th> <td> 4.544e+05</td> <td> 1.99e+04</td> <td>   22.841</td> <td> 0.000</td> <td> 4.15e+05</td> <td> 4.93e+05</td>\n",
              "</tr>\n",
              "<tr>\n",
              "  <th>owner_flag</th>        <td> 6533.2426</td> <td> 8529.911</td> <td>    0.766</td> <td> 0.444</td> <td>-1.02e+04</td> <td> 2.33e+04</td>\n",
              "</tr>\n",
              "</table>\n",
              "<table class=\"simpletable\">\n",
              "<tr>\n",
              "  <th>Omnibus:</th>       <td>4452.096</td> <th>  Durbin-Watson:     </th> <td>   1.613</td> \n",
              "</tr>\n",
              "<tr>\n",
              "  <th>Prob(Omnibus):</th>  <td> 0.000</td>  <th>  Jarque-Bera (JB):  </th> <td>75795.021</td>\n",
              "</tr>\n",
              "<tr>\n",
              "  <th>Skew:</th>           <td> 2.340</td>  <th>  Prob(JB):          </th> <td>    0.00</td> \n",
              "</tr>\n",
              "<tr>\n",
              "  <th>Kurtosis:</th>       <td>17.428</td>  <th>  Cond. No.          </th> <td>5.64e+07</td> \n",
              "</tr>\n",
              "</table><br/><br/>Notes:<br/>[1] Standard Errors assume that the covariance matrix of the errors is correctly specified.<br/>[2] The condition number is large, 5.64e+07. This might indicate that there are<br/>strong multicollinearity or other numerical problems."
            ],
            "text/latex": "\\begin{center}\n\\begin{tabular}{lclc}\n\\toprule\n\\textbf{Dep. Variable:}     &  selling\\_price  & \\textbf{  R-squared:         } &      0.679   \\\\\n\\textbf{Model:}             &       OLS        & \\textbf{  Adj. R-squared:    } &      0.679   \\\\\n\\textbf{Method:}            &  Least Squares   & \\textbf{  F-statistic:       } &      1669.   \\\\\n\\textbf{Date:}              & Sun, 05 Nov 2023 & \\textbf{  Prob (F-statistic):} &      0.00    \\\\\n\\textbf{Time:}              &     19:29:53     & \\textbf{  Log-Likelihood:    } & -1.1432e+05  \\\\\n\\textbf{No. Observations:}  &        7906      & \\textbf{  AIC:               } &  2.287e+05   \\\\\n\\textbf{Df Residuals:}      &        7895      & \\textbf{  BIC:               } &  2.287e+05   \\\\\n\\textbf{Df Model:}          &          10      & \\textbf{                     } &              \\\\\n\\textbf{Covariance Type:}   &    nonrobust     & \\textbf{                     } &              \\\\\n\\bottomrule\n\\end{tabular}\n\\begin{tabular}{lcccccc}\n                            & \\textbf{coef} & \\textbf{std err} & \\textbf{t} & \\textbf{P$> |$t$|$} & \\textbf{[0.025} & \\textbf{0.975]}  \\\\\n\\midrule\n\\textbf{Intercept}          &   -5.538e+07  &     3.94e+06     &   -14.062  &         0.000        &    -6.31e+07    &    -4.77e+07     \\\\\n\\textbf{new\\_year}          &      2.7e+04  &     1968.952     &    13.711  &         0.000        &     2.31e+04    &     3.09e+04     \\\\\n\\textbf{new\\_km\\_driven}    &      -3.0743  &        0.177     &   -17.408  &         0.000        &       -3.420    &       -2.728     \\\\\n\\textbf{seats}              &   -3.408e+04  &     8042.725     &    -4.238  &         0.000        &    -4.98e+04    &    -1.83e+04     \\\\\n\\textbf{new\\_engine}        &      65.1799  &       23.341     &     2.792  &         0.005        &       19.425    &      110.935     \\\\\n\\textbf{new\\_mileage}       &    1.349e+04  &     2081.682     &     6.482  &         0.000        &     9413.572    &     1.76e+04     \\\\\n\\textbf{new\\_max\\_power}    &    1.324e+04  &      259.057     &    51.126  &         0.000        &     1.27e+04    &     1.38e+04     \\\\\n\\textbf{fuel\\_flag}         &   -1.063e+05  &     1.42e+04     &    -7.480  &         0.000        &    -1.34e+05    &    -7.84e+04     \\\\\n\\textbf{seller\\_type\\_flag} &    8.622e+04  &     1.22e+04     &     7.065  &         0.000        &     6.23e+04    &      1.1e+05     \\\\\n\\textbf{transmission\\_flag} &    4.544e+05  &     1.99e+04     &    22.841  &         0.000        &     4.15e+05    &     4.93e+05     \\\\\n\\textbf{owner\\_flag}        &    6533.2426  &     8529.911     &     0.766  &         0.444        &    -1.02e+04    &     2.33e+04     \\\\\n\\bottomrule\n\\end{tabular}\n\\begin{tabular}{lclc}\n\\textbf{Omnibus:}       & 4452.096 & \\textbf{  Durbin-Watson:     } &     1.613  \\\\\n\\textbf{Prob(Omnibus):} &   0.000  & \\textbf{  Jarque-Bera (JB):  } & 75795.021  \\\\\n\\textbf{Skew:}          &   2.340  & \\textbf{  Prob(JB):          } &      0.00  \\\\\n\\textbf{Kurtosis:}      &  17.428  & \\textbf{  Cond. No.          } &  5.64e+07  \\\\\n\\bottomrule\n\\end{tabular}\n%\\caption{OLS Regression Results}\n\\end{center}\n\nNotes: \\newline\n [1] Standard Errors assume that the covariance matrix of the errors is correctly specified. \\newline\n [2] The condition number is large, 5.64e+07. This might indicate that there are \\newline\n strong multicollinearity or other numerical problems."
          },
          "metadata": {},
          "execution_count": 78
        }
      ]
    },
    {
      "cell_type": "code",
      "source": [
        "import statsmodels.formula.api as sm\n",
        "model = sm.ols(formula='selling_price ~ new_year + new_km_driven + seats + new_engine + new_mileage + new_max_power+fuel_flag + seller_type_flag + transmission_flag  ', data=df1)\n",
        "model\n",
        "fitted1 = model.fit()\n",
        "fitted1.summary()"
      ],
      "metadata": {
        "colab": {
          "base_uri": "https://localhost:8080/",
          "height": 651
        },
        "id": "HLN7OfFMIuVg",
        "outputId": "dea095ba-a0d5-421a-e7c6-92958bbadd5e"
      },
      "execution_count": 79,
      "outputs": [
        {
          "output_type": "execute_result",
          "data": {
            "text/plain": [
              "<class 'statsmodels.iolib.summary.Summary'>\n",
              "\"\"\"\n",
              "                            OLS Regression Results                            \n",
              "==============================================================================\n",
              "Dep. Variable:          selling_price   R-squared:                       0.679\n",
              "Model:                            OLS   Adj. R-squared:                  0.679\n",
              "Method:                 Least Squares   F-statistic:                     1855.\n",
              "Date:                Sun, 05 Nov 2023   Prob (F-statistic):               0.00\n",
              "Time:                        19:29:53   Log-Likelihood:            -1.1432e+05\n",
              "No. Observations:                7906   AIC:                         2.287e+05\n",
              "Df Residuals:                    7896   BIC:                         2.287e+05\n",
              "Df Model:                           9                                         \n",
              "Covariance Type:            nonrobust                                         \n",
              "=====================================================================================\n",
              "                        coef    std err          t      P>|t|      [0.025      0.975]\n",
              "-------------------------------------------------------------------------------------\n",
              "Intercept         -5.437e+07   3.71e+06    -14.659      0.000   -6.16e+07   -4.71e+07\n",
              "new_year            2.65e+04   1858.212     14.260      0.000    2.29e+04    3.01e+04\n",
              "new_km_driven        -3.0588      0.175    -17.435      0.000      -3.403      -2.715\n",
              "seats             -3.411e+04   8042.425     -4.242      0.000   -4.99e+04   -1.83e+04\n",
              "new_engine           64.8872     23.338      2.780      0.005      19.139     110.635\n",
              "new_mileage        1.346e+04   2081.034      6.466      0.000    9376.749    1.75e+04\n",
              "new_max_power      1.325e+04    259.028     51.141      0.000    1.27e+04    1.38e+04\n",
              "fuel_flag         -1.063e+05   1.42e+04     -7.480      0.000   -1.34e+05   -7.84e+04\n",
              "seller_type_flag   8.543e+04   1.22e+04      7.026      0.000    6.16e+04    1.09e+05\n",
              "transmission_flag  4.546e+05   1.99e+04     22.854      0.000    4.16e+05    4.94e+05\n",
              "==============================================================================\n",
              "Omnibus:                     4460.726   Durbin-Watson:                   1.612\n",
              "Prob(Omnibus):                  0.000   Jarque-Bera (JB):            76290.576\n",
              "Skew:                           2.345   Prob(JB):                         0.00\n",
              "Kurtosis:                      17.477   Cond. No.                     5.31e+07\n",
              "==============================================================================\n",
              "\n",
              "Notes:\n",
              "[1] Standard Errors assume that the covariance matrix of the errors is correctly specified.\n",
              "[2] The condition number is large, 5.31e+07. This might indicate that there are\n",
              "strong multicollinearity or other numerical problems.\n",
              "\"\"\""
            ],
            "text/html": [
              "<table class=\"simpletable\">\n",
              "<caption>OLS Regression Results</caption>\n",
              "<tr>\n",
              "  <th>Dep. Variable:</th>      <td>selling_price</td>  <th>  R-squared:         </th>  <td>   0.679</td>  \n",
              "</tr>\n",
              "<tr>\n",
              "  <th>Model:</th>                   <td>OLS</td>       <th>  Adj. R-squared:    </th>  <td>   0.679</td>  \n",
              "</tr>\n",
              "<tr>\n",
              "  <th>Method:</th>             <td>Least Squares</td>  <th>  F-statistic:       </th>  <td>   1855.</td>  \n",
              "</tr>\n",
              "<tr>\n",
              "  <th>Date:</th>             <td>Sun, 05 Nov 2023</td> <th>  Prob (F-statistic):</th>   <td>  0.00</td>   \n",
              "</tr>\n",
              "<tr>\n",
              "  <th>Time:</th>                 <td>19:29:53</td>     <th>  Log-Likelihood:    </th> <td>-1.1432e+05</td>\n",
              "</tr>\n",
              "<tr>\n",
              "  <th>No. Observations:</th>      <td>  7906</td>      <th>  AIC:               </th>  <td>2.287e+05</td> \n",
              "</tr>\n",
              "<tr>\n",
              "  <th>Df Residuals:</th>          <td>  7896</td>      <th>  BIC:               </th>  <td>2.287e+05</td> \n",
              "</tr>\n",
              "<tr>\n",
              "  <th>Df Model:</th>              <td>     9</td>      <th>                     </th>      <td> </td>     \n",
              "</tr>\n",
              "<tr>\n",
              "  <th>Covariance Type:</th>      <td>nonrobust</td>    <th>                     </th>      <td> </td>     \n",
              "</tr>\n",
              "</table>\n",
              "<table class=\"simpletable\">\n",
              "<tr>\n",
              "          <td></td>             <th>coef</th>     <th>std err</th>      <th>t</th>      <th>P>|t|</th>  <th>[0.025</th>    <th>0.975]</th>  \n",
              "</tr>\n",
              "<tr>\n",
              "  <th>Intercept</th>         <td>-5.437e+07</td> <td> 3.71e+06</td> <td>  -14.659</td> <td> 0.000</td> <td>-6.16e+07</td> <td>-4.71e+07</td>\n",
              "</tr>\n",
              "<tr>\n",
              "  <th>new_year</th>          <td>  2.65e+04</td> <td> 1858.212</td> <td>   14.260</td> <td> 0.000</td> <td> 2.29e+04</td> <td> 3.01e+04</td>\n",
              "</tr>\n",
              "<tr>\n",
              "  <th>new_km_driven</th>     <td>   -3.0588</td> <td>    0.175</td> <td>  -17.435</td> <td> 0.000</td> <td>   -3.403</td> <td>   -2.715</td>\n",
              "</tr>\n",
              "<tr>\n",
              "  <th>seats</th>             <td>-3.411e+04</td> <td> 8042.425</td> <td>   -4.242</td> <td> 0.000</td> <td>-4.99e+04</td> <td>-1.83e+04</td>\n",
              "</tr>\n",
              "<tr>\n",
              "  <th>new_engine</th>        <td>   64.8872</td> <td>   23.338</td> <td>    2.780</td> <td> 0.005</td> <td>   19.139</td> <td>  110.635</td>\n",
              "</tr>\n",
              "<tr>\n",
              "  <th>new_mileage</th>       <td> 1.346e+04</td> <td> 2081.034</td> <td>    6.466</td> <td> 0.000</td> <td> 9376.749</td> <td> 1.75e+04</td>\n",
              "</tr>\n",
              "<tr>\n",
              "  <th>new_max_power</th>     <td> 1.325e+04</td> <td>  259.028</td> <td>   51.141</td> <td> 0.000</td> <td> 1.27e+04</td> <td> 1.38e+04</td>\n",
              "</tr>\n",
              "<tr>\n",
              "  <th>fuel_flag</th>         <td>-1.063e+05</td> <td> 1.42e+04</td> <td>   -7.480</td> <td> 0.000</td> <td>-1.34e+05</td> <td>-7.84e+04</td>\n",
              "</tr>\n",
              "<tr>\n",
              "  <th>seller_type_flag</th>  <td> 8.543e+04</td> <td> 1.22e+04</td> <td>    7.026</td> <td> 0.000</td> <td> 6.16e+04</td> <td> 1.09e+05</td>\n",
              "</tr>\n",
              "<tr>\n",
              "  <th>transmission_flag</th> <td> 4.546e+05</td> <td> 1.99e+04</td> <td>   22.854</td> <td> 0.000</td> <td> 4.16e+05</td> <td> 4.94e+05</td>\n",
              "</tr>\n",
              "</table>\n",
              "<table class=\"simpletable\">\n",
              "<tr>\n",
              "  <th>Omnibus:</th>       <td>4460.726</td> <th>  Durbin-Watson:     </th> <td>   1.612</td> \n",
              "</tr>\n",
              "<tr>\n",
              "  <th>Prob(Omnibus):</th>  <td> 0.000</td>  <th>  Jarque-Bera (JB):  </th> <td>76290.576</td>\n",
              "</tr>\n",
              "<tr>\n",
              "  <th>Skew:</th>           <td> 2.345</td>  <th>  Prob(JB):          </th> <td>    0.00</td> \n",
              "</tr>\n",
              "<tr>\n",
              "  <th>Kurtosis:</th>       <td>17.477</td>  <th>  Cond. No.          </th> <td>5.31e+07</td> \n",
              "</tr>\n",
              "</table><br/><br/>Notes:<br/>[1] Standard Errors assume that the covariance matrix of the errors is correctly specified.<br/>[2] The condition number is large, 5.31e+07. This might indicate that there are<br/>strong multicollinearity or other numerical problems."
            ],
            "text/latex": "\\begin{center}\n\\begin{tabular}{lclc}\n\\toprule\n\\textbf{Dep. Variable:}     &  selling\\_price  & \\textbf{  R-squared:         } &      0.679   \\\\\n\\textbf{Model:}             &       OLS        & \\textbf{  Adj. R-squared:    } &      0.679   \\\\\n\\textbf{Method:}            &  Least Squares   & \\textbf{  F-statistic:       } &      1855.   \\\\\n\\textbf{Date:}              & Sun, 05 Nov 2023 & \\textbf{  Prob (F-statistic):} &      0.00    \\\\\n\\textbf{Time:}              &     19:29:53     & \\textbf{  Log-Likelihood:    } & -1.1432e+05  \\\\\n\\textbf{No. Observations:}  &        7906      & \\textbf{  AIC:               } &  2.287e+05   \\\\\n\\textbf{Df Residuals:}      &        7896      & \\textbf{  BIC:               } &  2.287e+05   \\\\\n\\textbf{Df Model:}          &           9      & \\textbf{                     } &              \\\\\n\\textbf{Covariance Type:}   &    nonrobust     & \\textbf{                     } &              \\\\\n\\bottomrule\n\\end{tabular}\n\\begin{tabular}{lcccccc}\n                            & \\textbf{coef} & \\textbf{std err} & \\textbf{t} & \\textbf{P$> |$t$|$} & \\textbf{[0.025} & \\textbf{0.975]}  \\\\\n\\midrule\n\\textbf{Intercept}          &   -5.437e+07  &     3.71e+06     &   -14.659  &         0.000        &    -6.16e+07    &    -4.71e+07     \\\\\n\\textbf{new\\_year}          &     2.65e+04  &     1858.212     &    14.260  &         0.000        &     2.29e+04    &     3.01e+04     \\\\\n\\textbf{new\\_km\\_driven}    &      -3.0588  &        0.175     &   -17.435  &         0.000        &       -3.403    &       -2.715     \\\\\n\\textbf{seats}              &   -3.411e+04  &     8042.425     &    -4.242  &         0.000        &    -4.99e+04    &    -1.83e+04     \\\\\n\\textbf{new\\_engine}        &      64.8872  &       23.338     &     2.780  &         0.005        &       19.139    &      110.635     \\\\\n\\textbf{new\\_mileage}       &    1.346e+04  &     2081.034     &     6.466  &         0.000        &     9376.749    &     1.75e+04     \\\\\n\\textbf{new\\_max\\_power}    &    1.325e+04  &      259.028     &    51.141  &         0.000        &     1.27e+04    &     1.38e+04     \\\\\n\\textbf{fuel\\_flag}         &   -1.063e+05  &     1.42e+04     &    -7.480  &         0.000        &    -1.34e+05    &    -7.84e+04     \\\\\n\\textbf{seller\\_type\\_flag} &    8.543e+04  &     1.22e+04     &     7.026  &         0.000        &     6.16e+04    &     1.09e+05     \\\\\n\\textbf{transmission\\_flag} &    4.546e+05  &     1.99e+04     &    22.854  &         0.000        &     4.16e+05    &     4.94e+05     \\\\\n\\bottomrule\n\\end{tabular}\n\\begin{tabular}{lclc}\n\\textbf{Omnibus:}       & 4460.726 & \\textbf{  Durbin-Watson:     } &     1.612  \\\\\n\\textbf{Prob(Omnibus):} &   0.000  & \\textbf{  Jarque-Bera (JB):  } & 76290.576  \\\\\n\\textbf{Skew:}          &   2.345  & \\textbf{  Prob(JB):          } &      0.00  \\\\\n\\textbf{Kurtosis:}      &  17.477  & \\textbf{  Cond. No.          } &  5.31e+07  \\\\\n\\bottomrule\n\\end{tabular}\n%\\caption{OLS Regression Results}\n\\end{center}\n\nNotes: \\newline\n [1] Standard Errors assume that the covariance matrix of the errors is correctly specified. \\newline\n [2] The condition number is large, 5.31e+07. This might indicate that there are \\newline\n strong multicollinearity or other numerical problems."
          },
          "metadata": {},
          "execution_count": 79
        }
      ]
    },
    {
      "cell_type": "code",
      "source": [
        "import statsmodels.formula.api as sm\n",
        "model = sm.ols(formula='selling_price ~ new_year + new_km_driven + seats + new_mileage + new_max_power+fuel_flag + seller_type_flag + transmission_flag  ', data=df1)\n",
        "model\n",
        "fitted1 = model.fit()\n",
        "fitted1.summary()"
      ],
      "metadata": {
        "colab": {
          "base_uri": "https://localhost:8080/",
          "height": 630
        },
        "id": "_JgzH2t4Od3J",
        "outputId": "32f31981-8d69-48eb-d1c8-e0c16cc70e66"
      },
      "execution_count": 80,
      "outputs": [
        {
          "output_type": "execute_result",
          "data": {
            "text/plain": [
              "<class 'statsmodels.iolib.summary.Summary'>\n",
              "\"\"\"\n",
              "                            OLS Regression Results                            \n",
              "==============================================================================\n",
              "Dep. Variable:          selling_price   R-squared:                       0.679\n",
              "Model:                            OLS   Adj. R-squared:                  0.678\n",
              "Method:                 Least Squares   F-statistic:                     2084.\n",
              "Date:                Sun, 05 Nov 2023   Prob (F-statistic):               0.00\n",
              "Time:                        19:29:53   Log-Likelihood:            -1.1433e+05\n",
              "No. Observations:                7906   AIC:                         2.287e+05\n",
              "Df Residuals:                    7897   BIC:                         2.287e+05\n",
              "Df Model:                           8                                         \n",
              "Covariance Type:            nonrobust                                         \n",
              "=====================================================================================\n",
              "                        coef    std err          t      P>|t|      [0.025      0.975]\n",
              "-------------------------------------------------------------------------------------\n",
              "Intercept         -5.453e+07   3.71e+06    -14.697      0.000   -6.18e+07   -4.73e+07\n",
              "new_year           2.661e+04   1858.602     14.315      0.000     2.3e+04    3.02e+04\n",
              "new_km_driven        -3.0179      0.175    -17.255      0.000      -3.361      -2.675\n",
              "seats              -2.36e+04   7101.688     -3.324      0.001   -3.75e+04   -9681.324\n",
              "new_mileage        1.124e+04   1923.763      5.845      0.000    7472.959     1.5e+04\n",
              "new_max_power      1.366e+04    212.664     64.226      0.000    1.32e+04    1.41e+04\n",
              "fuel_flag         -1.224e+05    1.3e+04     -9.433      0.000   -1.48e+05    -9.7e+04\n",
              "seller_type_flag   8.865e+04   1.21e+04      7.321      0.000    6.49e+04    1.12e+05\n",
              "transmission_flag  4.557e+05   1.99e+04     22.903      0.000    4.17e+05    4.95e+05\n",
              "==============================================================================\n",
              "Omnibus:                     4428.805   Durbin-Watson:                   1.616\n",
              "Prob(Omnibus):                  0.000   Jarque-Bera (JB):            74284.849\n",
              "Skew:                           2.329   Prob(JB):                         0.00\n",
              "Kurtosis:                      17.276   Cond. No.                     5.31e+07\n",
              "==============================================================================\n",
              "\n",
              "Notes:\n",
              "[1] Standard Errors assume that the covariance matrix of the errors is correctly specified.\n",
              "[2] The condition number is large, 5.31e+07. This might indicate that there are\n",
              "strong multicollinearity or other numerical problems.\n",
              "\"\"\""
            ],
            "text/html": [
              "<table class=\"simpletable\">\n",
              "<caption>OLS Regression Results</caption>\n",
              "<tr>\n",
              "  <th>Dep. Variable:</th>      <td>selling_price</td>  <th>  R-squared:         </th>  <td>   0.679</td>  \n",
              "</tr>\n",
              "<tr>\n",
              "  <th>Model:</th>                   <td>OLS</td>       <th>  Adj. R-squared:    </th>  <td>   0.678</td>  \n",
              "</tr>\n",
              "<tr>\n",
              "  <th>Method:</th>             <td>Least Squares</td>  <th>  F-statistic:       </th>  <td>   2084.</td>  \n",
              "</tr>\n",
              "<tr>\n",
              "  <th>Date:</th>             <td>Sun, 05 Nov 2023</td> <th>  Prob (F-statistic):</th>   <td>  0.00</td>   \n",
              "</tr>\n",
              "<tr>\n",
              "  <th>Time:</th>                 <td>19:29:53</td>     <th>  Log-Likelihood:    </th> <td>-1.1433e+05</td>\n",
              "</tr>\n",
              "<tr>\n",
              "  <th>No. Observations:</th>      <td>  7906</td>      <th>  AIC:               </th>  <td>2.287e+05</td> \n",
              "</tr>\n",
              "<tr>\n",
              "  <th>Df Residuals:</th>          <td>  7897</td>      <th>  BIC:               </th>  <td>2.287e+05</td> \n",
              "</tr>\n",
              "<tr>\n",
              "  <th>Df Model:</th>              <td>     8</td>      <th>                     </th>      <td> </td>     \n",
              "</tr>\n",
              "<tr>\n",
              "  <th>Covariance Type:</th>      <td>nonrobust</td>    <th>                     </th>      <td> </td>     \n",
              "</tr>\n",
              "</table>\n",
              "<table class=\"simpletable\">\n",
              "<tr>\n",
              "          <td></td>             <th>coef</th>     <th>std err</th>      <th>t</th>      <th>P>|t|</th>  <th>[0.025</th>    <th>0.975]</th>  \n",
              "</tr>\n",
              "<tr>\n",
              "  <th>Intercept</th>         <td>-5.453e+07</td> <td> 3.71e+06</td> <td>  -14.697</td> <td> 0.000</td> <td>-6.18e+07</td> <td>-4.73e+07</td>\n",
              "</tr>\n",
              "<tr>\n",
              "  <th>new_year</th>          <td> 2.661e+04</td> <td> 1858.602</td> <td>   14.315</td> <td> 0.000</td> <td>  2.3e+04</td> <td> 3.02e+04</td>\n",
              "</tr>\n",
              "<tr>\n",
              "  <th>new_km_driven</th>     <td>   -3.0179</td> <td>    0.175</td> <td>  -17.255</td> <td> 0.000</td> <td>   -3.361</td> <td>   -2.675</td>\n",
              "</tr>\n",
              "<tr>\n",
              "  <th>seats</th>             <td> -2.36e+04</td> <td> 7101.688</td> <td>   -3.324</td> <td> 0.001</td> <td>-3.75e+04</td> <td>-9681.324</td>\n",
              "</tr>\n",
              "<tr>\n",
              "  <th>new_mileage</th>       <td> 1.124e+04</td> <td> 1923.763</td> <td>    5.845</td> <td> 0.000</td> <td> 7472.959</td> <td>  1.5e+04</td>\n",
              "</tr>\n",
              "<tr>\n",
              "  <th>new_max_power</th>     <td> 1.366e+04</td> <td>  212.664</td> <td>   64.226</td> <td> 0.000</td> <td> 1.32e+04</td> <td> 1.41e+04</td>\n",
              "</tr>\n",
              "<tr>\n",
              "  <th>fuel_flag</th>         <td>-1.224e+05</td> <td>  1.3e+04</td> <td>   -9.433</td> <td> 0.000</td> <td>-1.48e+05</td> <td> -9.7e+04</td>\n",
              "</tr>\n",
              "<tr>\n",
              "  <th>seller_type_flag</th>  <td> 8.865e+04</td> <td> 1.21e+04</td> <td>    7.321</td> <td> 0.000</td> <td> 6.49e+04</td> <td> 1.12e+05</td>\n",
              "</tr>\n",
              "<tr>\n",
              "  <th>transmission_flag</th> <td> 4.557e+05</td> <td> 1.99e+04</td> <td>   22.903</td> <td> 0.000</td> <td> 4.17e+05</td> <td> 4.95e+05</td>\n",
              "</tr>\n",
              "</table>\n",
              "<table class=\"simpletable\">\n",
              "<tr>\n",
              "  <th>Omnibus:</th>       <td>4428.805</td> <th>  Durbin-Watson:     </th> <td>   1.616</td> \n",
              "</tr>\n",
              "<tr>\n",
              "  <th>Prob(Omnibus):</th>  <td> 0.000</td>  <th>  Jarque-Bera (JB):  </th> <td>74284.849</td>\n",
              "</tr>\n",
              "<tr>\n",
              "  <th>Skew:</th>           <td> 2.329</td>  <th>  Prob(JB):          </th> <td>    0.00</td> \n",
              "</tr>\n",
              "<tr>\n",
              "  <th>Kurtosis:</th>       <td>17.276</td>  <th>  Cond. No.          </th> <td>5.31e+07</td> \n",
              "</tr>\n",
              "</table><br/><br/>Notes:<br/>[1] Standard Errors assume that the covariance matrix of the errors is correctly specified.<br/>[2] The condition number is large, 5.31e+07. This might indicate that there are<br/>strong multicollinearity or other numerical problems."
            ],
            "text/latex": "\\begin{center}\n\\begin{tabular}{lclc}\n\\toprule\n\\textbf{Dep. Variable:}     &  selling\\_price  & \\textbf{  R-squared:         } &      0.679   \\\\\n\\textbf{Model:}             &       OLS        & \\textbf{  Adj. R-squared:    } &      0.678   \\\\\n\\textbf{Method:}            &  Least Squares   & \\textbf{  F-statistic:       } &      2084.   \\\\\n\\textbf{Date:}              & Sun, 05 Nov 2023 & \\textbf{  Prob (F-statistic):} &      0.00    \\\\\n\\textbf{Time:}              &     19:29:53     & \\textbf{  Log-Likelihood:    } & -1.1433e+05  \\\\\n\\textbf{No. Observations:}  &        7906      & \\textbf{  AIC:               } &  2.287e+05   \\\\\n\\textbf{Df Residuals:}      &        7897      & \\textbf{  BIC:               } &  2.287e+05   \\\\\n\\textbf{Df Model:}          &           8      & \\textbf{                     } &              \\\\\n\\textbf{Covariance Type:}   &    nonrobust     & \\textbf{                     } &              \\\\\n\\bottomrule\n\\end{tabular}\n\\begin{tabular}{lcccccc}\n                            & \\textbf{coef} & \\textbf{std err} & \\textbf{t} & \\textbf{P$> |$t$|$} & \\textbf{[0.025} & \\textbf{0.975]}  \\\\\n\\midrule\n\\textbf{Intercept}          &   -5.453e+07  &     3.71e+06     &   -14.697  &         0.000        &    -6.18e+07    &    -4.73e+07     \\\\\n\\textbf{new\\_year}          &    2.661e+04  &     1858.602     &    14.315  &         0.000        &      2.3e+04    &     3.02e+04     \\\\\n\\textbf{new\\_km\\_driven}    &      -3.0179  &        0.175     &   -17.255  &         0.000        &       -3.361    &       -2.675     \\\\\n\\textbf{seats}              &    -2.36e+04  &     7101.688     &    -3.324  &         0.001        &    -3.75e+04    &    -9681.324     \\\\\n\\textbf{new\\_mileage}       &    1.124e+04  &     1923.763     &     5.845  &         0.000        &     7472.959    &      1.5e+04     \\\\\n\\textbf{new\\_max\\_power}    &    1.366e+04  &      212.664     &    64.226  &         0.000        &     1.32e+04    &     1.41e+04     \\\\\n\\textbf{fuel\\_flag}         &   -1.224e+05  &      1.3e+04     &    -9.433  &         0.000        &    -1.48e+05    &     -9.7e+04     \\\\\n\\textbf{seller\\_type\\_flag} &    8.865e+04  &     1.21e+04     &     7.321  &         0.000        &     6.49e+04    &     1.12e+05     \\\\\n\\textbf{transmission\\_flag} &    4.557e+05  &     1.99e+04     &    22.903  &         0.000        &     4.17e+05    &     4.95e+05     \\\\\n\\bottomrule\n\\end{tabular}\n\\begin{tabular}{lclc}\n\\textbf{Omnibus:}       & 4428.805 & \\textbf{  Durbin-Watson:     } &     1.616  \\\\\n\\textbf{Prob(Omnibus):} &   0.000  & \\textbf{  Jarque-Bera (JB):  } & 74284.849  \\\\\n\\textbf{Skew:}          &   2.329  & \\textbf{  Prob(JB):          } &      0.00  \\\\\n\\textbf{Kurtosis:}      &  17.276  & \\textbf{  Cond. No.          } &  5.31e+07  \\\\\n\\bottomrule\n\\end{tabular}\n%\\caption{OLS Regression Results}\n\\end{center}\n\nNotes: \\newline\n [1] Standard Errors assume that the covariance matrix of the errors is correctly specified. \\newline\n [2] The condition number is large, 5.31e+07. This might indicate that there are \\newline\n strong multicollinearity or other numerical problems."
          },
          "metadata": {},
          "execution_count": 80
        }
      ]
    },
    {
      "cell_type": "markdown",
      "source": [
        "VIF\n"
      ],
      "metadata": {
        "id": "Pn4YgQbAtoA5"
      }
    },
    {
      "cell_type": "code",
      "source": [
        "#Code for VIF Calculation\n",
        "\n",
        "#Writing a function to calculate the VIF values\n",
        "\n",
        "def vif_cal(input_data, dependent_col):\n",
        "    x_vars=input_data.drop([dependent_col], axis=1)\n",
        "    xvar_names=x_vars.columns\n",
        "    for i in range(0,xvar_names.shape[0]):\n",
        "        y=x_vars[xvar_names[i]]\n",
        "        x=x_vars[xvar_names.drop(xvar_names[i])]\n",
        "        rsq=sm.ols(formula=\"y~x\", data=x_vars).fit().rsquared\n",
        "        vif=round(1/(1-rsq),2)\n",
        "        print (xvar_names[i], \" VIF = \" , vif)\n"
      ],
      "metadata": {
        "id": "3-gCLoFHtp4j"
      },
      "execution_count": 81,
      "outputs": []
    },
    {
      "cell_type": "code",
      "source": [
        "df1.head()"
      ],
      "metadata": {
        "colab": {
          "base_uri": "https://localhost:8080/",
          "height": 504
        },
        "id": "5KaMPgMSvTrY",
        "outputId": "31d90ecf-3a13-4266-ee64-1464dc54b04b"
      },
      "execution_count": 82,
      "outputs": [
        {
          "output_type": "execute_result",
          "data": {
            "text/plain": [
              "                           name  year  selling_price  km_driven    fuel  \\\n",
              "0        Maruti Swift Dzire VDI  2014         450000     145500  Diesel   \n",
              "1  Skoda Rapid 1.5 TDI Ambition  2014         370000     120000  Diesel   \n",
              "2      Honda City 2017-2020 EXi  2006         158000     140000  Petrol   \n",
              "3     Hyundai i20 Sportz Diesel  2010         225000     127000  Diesel   \n",
              "4        Maruti Swift VXI BSIII  2007         130000     120000  Petrol   \n",
              "\n",
              "  seller_type transmission         owner  seats  new_engine  new_mileage  \\\n",
              "0  Individual       Manual   First Owner    5.0      1248.0        23.40   \n",
              "1  Individual       Manual  Second Owner    5.0      1498.0        21.14   \n",
              "2  Individual       Manual   Third Owner    5.0      1497.0        17.70   \n",
              "3  Individual       Manual   First Owner    5.0      1396.0        23.00   \n",
              "4  Individual       Manual   First Owner    5.0      1298.0        16.10   \n",
              "\n",
              "   new_max_power  new_year  new_selling_price  new_km_driven  fuel_flag  \\\n",
              "0          74.00      2014             450000         145500          1   \n",
              "1         103.52      2014             370000         120000          1   \n",
              "2          78.00      2006             158000         140000          2   \n",
              "3          90.00      2010             225000         127000          1   \n",
              "4          88.20      2007             130000         120000          2   \n",
              "\n",
              "   seller_type_flag  transmission_flag  owner_flag  \n",
              "0                 1                  1           1  \n",
              "1                 1                  1           2  \n",
              "2                 1                  1           3  \n",
              "3                 1                  1           1  \n",
              "4                 1                  1           1  "
            ],
            "text/html": [
              "\n",
              "  <div id=\"df-1778255b-724f-4c8b-852c-6e2e4bad085b\" class=\"colab-df-container\">\n",
              "    <div>\n",
              "<style scoped>\n",
              "    .dataframe tbody tr th:only-of-type {\n",
              "        vertical-align: middle;\n",
              "    }\n",
              "\n",
              "    .dataframe tbody tr th {\n",
              "        vertical-align: top;\n",
              "    }\n",
              "\n",
              "    .dataframe thead th {\n",
              "        text-align: right;\n",
              "    }\n",
              "</style>\n",
              "<table border=\"1\" class=\"dataframe\">\n",
              "  <thead>\n",
              "    <tr style=\"text-align: right;\">\n",
              "      <th></th>\n",
              "      <th>name</th>\n",
              "      <th>year</th>\n",
              "      <th>selling_price</th>\n",
              "      <th>km_driven</th>\n",
              "      <th>fuel</th>\n",
              "      <th>seller_type</th>\n",
              "      <th>transmission</th>\n",
              "      <th>owner</th>\n",
              "      <th>seats</th>\n",
              "      <th>new_engine</th>\n",
              "      <th>new_mileage</th>\n",
              "      <th>new_max_power</th>\n",
              "      <th>new_year</th>\n",
              "      <th>new_selling_price</th>\n",
              "      <th>new_km_driven</th>\n",
              "      <th>fuel_flag</th>\n",
              "      <th>seller_type_flag</th>\n",
              "      <th>transmission_flag</th>\n",
              "      <th>owner_flag</th>\n",
              "    </tr>\n",
              "  </thead>\n",
              "  <tbody>\n",
              "    <tr>\n",
              "      <th>0</th>\n",
              "      <td>Maruti Swift Dzire VDI</td>\n",
              "      <td>2014</td>\n",
              "      <td>450000</td>\n",
              "      <td>145500</td>\n",
              "      <td>Diesel</td>\n",
              "      <td>Individual</td>\n",
              "      <td>Manual</td>\n",
              "      <td>First Owner</td>\n",
              "      <td>5.0</td>\n",
              "      <td>1248.0</td>\n",
              "      <td>23.40</td>\n",
              "      <td>74.00</td>\n",
              "      <td>2014</td>\n",
              "      <td>450000</td>\n",
              "      <td>145500</td>\n",
              "      <td>1</td>\n",
              "      <td>1</td>\n",
              "      <td>1</td>\n",
              "      <td>1</td>\n",
              "    </tr>\n",
              "    <tr>\n",
              "      <th>1</th>\n",
              "      <td>Skoda Rapid 1.5 TDI Ambition</td>\n",
              "      <td>2014</td>\n",
              "      <td>370000</td>\n",
              "      <td>120000</td>\n",
              "      <td>Diesel</td>\n",
              "      <td>Individual</td>\n",
              "      <td>Manual</td>\n",
              "      <td>Second Owner</td>\n",
              "      <td>5.0</td>\n",
              "      <td>1498.0</td>\n",
              "      <td>21.14</td>\n",
              "      <td>103.52</td>\n",
              "      <td>2014</td>\n",
              "      <td>370000</td>\n",
              "      <td>120000</td>\n",
              "      <td>1</td>\n",
              "      <td>1</td>\n",
              "      <td>1</td>\n",
              "      <td>2</td>\n",
              "    </tr>\n",
              "    <tr>\n",
              "      <th>2</th>\n",
              "      <td>Honda City 2017-2020 EXi</td>\n",
              "      <td>2006</td>\n",
              "      <td>158000</td>\n",
              "      <td>140000</td>\n",
              "      <td>Petrol</td>\n",
              "      <td>Individual</td>\n",
              "      <td>Manual</td>\n",
              "      <td>Third Owner</td>\n",
              "      <td>5.0</td>\n",
              "      <td>1497.0</td>\n",
              "      <td>17.70</td>\n",
              "      <td>78.00</td>\n",
              "      <td>2006</td>\n",
              "      <td>158000</td>\n",
              "      <td>140000</td>\n",
              "      <td>2</td>\n",
              "      <td>1</td>\n",
              "      <td>1</td>\n",
              "      <td>3</td>\n",
              "    </tr>\n",
              "    <tr>\n",
              "      <th>3</th>\n",
              "      <td>Hyundai i20 Sportz Diesel</td>\n",
              "      <td>2010</td>\n",
              "      <td>225000</td>\n",
              "      <td>127000</td>\n",
              "      <td>Diesel</td>\n",
              "      <td>Individual</td>\n",
              "      <td>Manual</td>\n",
              "      <td>First Owner</td>\n",
              "      <td>5.0</td>\n",
              "      <td>1396.0</td>\n",
              "      <td>23.00</td>\n",
              "      <td>90.00</td>\n",
              "      <td>2010</td>\n",
              "      <td>225000</td>\n",
              "      <td>127000</td>\n",
              "      <td>1</td>\n",
              "      <td>1</td>\n",
              "      <td>1</td>\n",
              "      <td>1</td>\n",
              "    </tr>\n",
              "    <tr>\n",
              "      <th>4</th>\n",
              "      <td>Maruti Swift VXI BSIII</td>\n",
              "      <td>2007</td>\n",
              "      <td>130000</td>\n",
              "      <td>120000</td>\n",
              "      <td>Petrol</td>\n",
              "      <td>Individual</td>\n",
              "      <td>Manual</td>\n",
              "      <td>First Owner</td>\n",
              "      <td>5.0</td>\n",
              "      <td>1298.0</td>\n",
              "      <td>16.10</td>\n",
              "      <td>88.20</td>\n",
              "      <td>2007</td>\n",
              "      <td>130000</td>\n",
              "      <td>120000</td>\n",
              "      <td>2</td>\n",
              "      <td>1</td>\n",
              "      <td>1</td>\n",
              "      <td>1</td>\n",
              "    </tr>\n",
              "  </tbody>\n",
              "</table>\n",
              "</div>\n",
              "    <div class=\"colab-df-buttons\">\n",
              "\n",
              "  <div class=\"colab-df-container\">\n",
              "    <button class=\"colab-df-convert\" onclick=\"convertToInteractive('df-1778255b-724f-4c8b-852c-6e2e4bad085b')\"\n",
              "            title=\"Convert this dataframe to an interactive table.\"\n",
              "            style=\"display:none;\">\n",
              "\n",
              "  <svg xmlns=\"http://www.w3.org/2000/svg\" height=\"24px\" viewBox=\"0 -960 960 960\">\n",
              "    <path d=\"M120-120v-720h720v720H120Zm60-500h600v-160H180v160Zm220 220h160v-160H400v160Zm0 220h160v-160H400v160ZM180-400h160v-160H180v160Zm440 0h160v-160H620v160ZM180-180h160v-160H180v160Zm440 0h160v-160H620v160Z\"/>\n",
              "  </svg>\n",
              "    </button>\n",
              "\n",
              "  <style>\n",
              "    .colab-df-container {\n",
              "      display:flex;\n",
              "      gap: 12px;\n",
              "    }\n",
              "\n",
              "    .colab-df-convert {\n",
              "      background-color: #E8F0FE;\n",
              "      border: none;\n",
              "      border-radius: 50%;\n",
              "      cursor: pointer;\n",
              "      display: none;\n",
              "      fill: #1967D2;\n",
              "      height: 32px;\n",
              "      padding: 0 0 0 0;\n",
              "      width: 32px;\n",
              "    }\n",
              "\n",
              "    .colab-df-convert:hover {\n",
              "      background-color: #E2EBFA;\n",
              "      box-shadow: 0px 1px 2px rgba(60, 64, 67, 0.3), 0px 1px 3px 1px rgba(60, 64, 67, 0.15);\n",
              "      fill: #174EA6;\n",
              "    }\n",
              "\n",
              "    .colab-df-buttons div {\n",
              "      margin-bottom: 4px;\n",
              "    }\n",
              "\n",
              "    [theme=dark] .colab-df-convert {\n",
              "      background-color: #3B4455;\n",
              "      fill: #D2E3FC;\n",
              "    }\n",
              "\n",
              "    [theme=dark] .colab-df-convert:hover {\n",
              "      background-color: #434B5C;\n",
              "      box-shadow: 0px 1px 3px 1px rgba(0, 0, 0, 0.15);\n",
              "      filter: drop-shadow(0px 1px 2px rgba(0, 0, 0, 0.3));\n",
              "      fill: #FFFFFF;\n",
              "    }\n",
              "  </style>\n",
              "\n",
              "    <script>\n",
              "      const buttonEl =\n",
              "        document.querySelector('#df-1778255b-724f-4c8b-852c-6e2e4bad085b button.colab-df-convert');\n",
              "      buttonEl.style.display =\n",
              "        google.colab.kernel.accessAllowed ? 'block' : 'none';\n",
              "\n",
              "      async function convertToInteractive(key) {\n",
              "        const element = document.querySelector('#df-1778255b-724f-4c8b-852c-6e2e4bad085b');\n",
              "        const dataTable =\n",
              "          await google.colab.kernel.invokeFunction('convertToInteractive',\n",
              "                                                    [key], {});\n",
              "        if (!dataTable) return;\n",
              "\n",
              "        const docLinkHtml = 'Like what you see? Visit the ' +\n",
              "          '<a target=\"_blank\" href=https://colab.research.google.com/notebooks/data_table.ipynb>data table notebook</a>'\n",
              "          + ' to learn more about interactive tables.';\n",
              "        element.innerHTML = '';\n",
              "        dataTable['output_type'] = 'display_data';\n",
              "        await google.colab.output.renderOutput(dataTable, element);\n",
              "        const docLink = document.createElement('div');\n",
              "        docLink.innerHTML = docLinkHtml;\n",
              "        element.appendChild(docLink);\n",
              "      }\n",
              "    </script>\n",
              "  </div>\n",
              "\n",
              "\n",
              "<div id=\"df-91d3aa90-77ff-4436-8223-8c9750437bc6\">\n",
              "  <button class=\"colab-df-quickchart\" onclick=\"quickchart('df-91d3aa90-77ff-4436-8223-8c9750437bc6')\"\n",
              "            title=\"Suggest charts.\"\n",
              "            style=\"display:none;\">\n",
              "\n",
              "<svg xmlns=\"http://www.w3.org/2000/svg\" height=\"24px\"viewBox=\"0 0 24 24\"\n",
              "     width=\"24px\">\n",
              "    <g>\n",
              "        <path d=\"M19 3H5c-1.1 0-2 .9-2 2v14c0 1.1.9 2 2 2h14c1.1 0 2-.9 2-2V5c0-1.1-.9-2-2-2zM9 17H7v-7h2v7zm4 0h-2V7h2v10zm4 0h-2v-4h2v4z\"/>\n",
              "    </g>\n",
              "</svg>\n",
              "  </button>\n",
              "\n",
              "<style>\n",
              "  .colab-df-quickchart {\n",
              "      --bg-color: #E8F0FE;\n",
              "      --fill-color: #1967D2;\n",
              "      --hover-bg-color: #E2EBFA;\n",
              "      --hover-fill-color: #174EA6;\n",
              "      --disabled-fill-color: #AAA;\n",
              "      --disabled-bg-color: #DDD;\n",
              "  }\n",
              "\n",
              "  [theme=dark] .colab-df-quickchart {\n",
              "      --bg-color: #3B4455;\n",
              "      --fill-color: #D2E3FC;\n",
              "      --hover-bg-color: #434B5C;\n",
              "      --hover-fill-color: #FFFFFF;\n",
              "      --disabled-bg-color: #3B4455;\n",
              "      --disabled-fill-color: #666;\n",
              "  }\n",
              "\n",
              "  .colab-df-quickchart {\n",
              "    background-color: var(--bg-color);\n",
              "    border: none;\n",
              "    border-radius: 50%;\n",
              "    cursor: pointer;\n",
              "    display: none;\n",
              "    fill: var(--fill-color);\n",
              "    height: 32px;\n",
              "    padding: 0;\n",
              "    width: 32px;\n",
              "  }\n",
              "\n",
              "  .colab-df-quickchart:hover {\n",
              "    background-color: var(--hover-bg-color);\n",
              "    box-shadow: 0 1px 2px rgba(60, 64, 67, 0.3), 0 1px 3px 1px rgba(60, 64, 67, 0.15);\n",
              "    fill: var(--button-hover-fill-color);\n",
              "  }\n",
              "\n",
              "  .colab-df-quickchart-complete:disabled,\n",
              "  .colab-df-quickchart-complete:disabled:hover {\n",
              "    background-color: var(--disabled-bg-color);\n",
              "    fill: var(--disabled-fill-color);\n",
              "    box-shadow: none;\n",
              "  }\n",
              "\n",
              "  .colab-df-spinner {\n",
              "    border: 2px solid var(--fill-color);\n",
              "    border-color: transparent;\n",
              "    border-bottom-color: var(--fill-color);\n",
              "    animation:\n",
              "      spin 1s steps(1) infinite;\n",
              "  }\n",
              "\n",
              "  @keyframes spin {\n",
              "    0% {\n",
              "      border-color: transparent;\n",
              "      border-bottom-color: var(--fill-color);\n",
              "      border-left-color: var(--fill-color);\n",
              "    }\n",
              "    20% {\n",
              "      border-color: transparent;\n",
              "      border-left-color: var(--fill-color);\n",
              "      border-top-color: var(--fill-color);\n",
              "    }\n",
              "    30% {\n",
              "      border-color: transparent;\n",
              "      border-left-color: var(--fill-color);\n",
              "      border-top-color: var(--fill-color);\n",
              "      border-right-color: var(--fill-color);\n",
              "    }\n",
              "    40% {\n",
              "      border-color: transparent;\n",
              "      border-right-color: var(--fill-color);\n",
              "      border-top-color: var(--fill-color);\n",
              "    }\n",
              "    60% {\n",
              "      border-color: transparent;\n",
              "      border-right-color: var(--fill-color);\n",
              "    }\n",
              "    80% {\n",
              "      border-color: transparent;\n",
              "      border-right-color: var(--fill-color);\n",
              "      border-bottom-color: var(--fill-color);\n",
              "    }\n",
              "    90% {\n",
              "      border-color: transparent;\n",
              "      border-bottom-color: var(--fill-color);\n",
              "    }\n",
              "  }\n",
              "</style>\n",
              "\n",
              "  <script>\n",
              "    async function quickchart(key) {\n",
              "      const quickchartButtonEl =\n",
              "        document.querySelector('#' + key + ' button');\n",
              "      quickchartButtonEl.disabled = true;  // To prevent multiple clicks.\n",
              "      quickchartButtonEl.classList.add('colab-df-spinner');\n",
              "      try {\n",
              "        const charts = await google.colab.kernel.invokeFunction(\n",
              "            'suggestCharts', [key], {});\n",
              "      } catch (error) {\n",
              "        console.error('Error during call to suggestCharts:', error);\n",
              "      }\n",
              "      quickchartButtonEl.classList.remove('colab-df-spinner');\n",
              "      quickchartButtonEl.classList.add('colab-df-quickchart-complete');\n",
              "    }\n",
              "    (() => {\n",
              "      let quickchartButtonEl =\n",
              "        document.querySelector('#df-91d3aa90-77ff-4436-8223-8c9750437bc6 button');\n",
              "      quickchartButtonEl.style.display =\n",
              "        google.colab.kernel.accessAllowed ? 'block' : 'none';\n",
              "    })();\n",
              "  </script>\n",
              "</div>\n",
              "    </div>\n",
              "  </div>\n"
            ]
          },
          "metadata": {},
          "execution_count": 82
        }
      ]
    },
    {
      "cell_type": "code",
      "source": [
        "#Calculating VIF values using that function\n",
        "vif_cal(input_data=df1.drop(['name','seats','fuel','seller_type','transmission','owner','year','new_selling_price'],axis =1), dependent_col=\"selling_price\")"
      ],
      "metadata": {
        "colab": {
          "base_uri": "https://localhost:8080/"
        },
        "id": "V_jixJPrtpM6",
        "outputId": "2f97f6e9-3393-4221-ece4-b8609f0f7828"
      },
      "execution_count": 83,
      "outputs": [
        {
          "output_type": "stream",
          "name": "stdout",
          "text": [
            "km_driven  VIF =  1.87\n",
            "new_engine  VIF =  4.05\n",
            "new_mileage  VIF =  2.43\n",
            "new_max_power  VIF =  2.79\n",
            "new_year  VIF =  2.06\n",
            "new_km_driven  VIF =  2.19\n",
            "fuel_flag  VIF =  1.94\n",
            "seller_type_flag  VIF =  1.21\n",
            "transmission_flag  VIF =  1.65\n",
            "owner_flag  VIF =  1.37\n"
          ]
        }
      ]
    },
    {
      "cell_type": "markdown",
      "source": [
        "# Note:\n",
        "\n",
        "### 1. VIF calculation should not have categorical variables and non numerical data columns"
      ],
      "metadata": {
        "id": "iJkBqDpQwHuB"
      }
    },
    {
      "cell_type": "markdown",
      "source": [
        "Now all VIF's are less than 5 hence build model using these columns finally.\n",
        "So Final model has columns: km_driven,new_engine,new_mileage,new_max_power,new_year,new_km_driven,fuel_flag,seller_type_flag,transmission_flag,owner_flag"
      ],
      "metadata": {
        "id": "3mSwkzWkwtF4"
      }
    },
    {
      "cell_type": "code",
      "source": [
        "import statsmodels.formula.api as sm\n",
        "model = sm.ols(formula='selling_price ~ km_driven + new_engine + new_mileage + new_max_power + new_year + new_km_driven + fuel_flag + seller_type_flag + transmission_flag + owner_flag', data=df1)\n",
        "model\n",
        "fitted1 = model.fit()\n",
        "fitted1.summary()"
      ],
      "metadata": {
        "colab": {
          "base_uri": "https://localhost:8080/",
          "height": 672
        },
        "id": "Tr5Kf40ht3Px",
        "outputId": "6470fef3-3ca2-42d1-a8dc-2bd187538c03"
      },
      "execution_count": 84,
      "outputs": [
        {
          "output_type": "execute_result",
          "data": {
            "text/plain": [
              "<class 'statsmodels.iolib.summary.Summary'>\n",
              "\"\"\"\n",
              "                            OLS Regression Results                            \n",
              "==============================================================================\n",
              "Dep. Variable:          selling_price   R-squared:                       0.678\n",
              "Model:                            OLS   Adj. R-squared:                  0.678\n",
              "Method:                 Least Squares   F-statistic:                     1665.\n",
              "Date:                Sun, 05 Nov 2023   Prob (F-statistic):               0.00\n",
              "Time:                        19:29:53   Log-Likelihood:            -1.1433e+05\n",
              "No. Observations:                7906   AIC:                         2.287e+05\n",
              "Df Residuals:                    7895   BIC:                         2.288e+05\n",
              "Df Model:                          10                                         \n",
              "Covariance Type:            nonrobust                                         \n",
              "=====================================================================================\n",
              "                        coef    std err          t      P>|t|      [0.025      0.975]\n",
              "-------------------------------------------------------------------------------------\n",
              "Intercept         -5.047e+07   3.87e+06    -13.034      0.000   -5.81e+07   -4.29e+07\n",
              "km_driven            -0.2898      0.125     -2.318      0.020      -0.535      -0.045\n",
              "new_engine           23.7549     20.735      1.146      0.252     -16.892      64.402\n",
              "new_mileage        1.593e+04   2004.126      7.949      0.000     1.2e+04    1.99e+04\n",
              "new_max_power       1.36e+04    242.801     56.019      0.000    1.31e+04    1.41e+04\n",
              "new_year           2.445e+04   1930.252     12.667      0.000    2.07e+04    2.82e+04\n",
              "new_km_driven        -2.8792      0.202    -14.228      0.000      -3.276      -2.482\n",
              "fuel_flag         -1.007e+05   1.41e+04     -7.125      0.000   -1.28e+05    -7.3e+04\n",
              "seller_type_flag   8.968e+04   1.22e+04      7.366      0.000    6.58e+04    1.14e+05\n",
              "transmission_flag  4.649e+05   1.97e+04     23.573      0.000    4.26e+05    5.04e+05\n",
              "owner_flag         7037.6090   8537.821      0.824      0.410   -9698.779    2.38e+04\n",
              "==============================================================================\n",
              "Omnibus:                     4438.438   Durbin-Watson:                   1.614\n",
              "Prob(Omnibus):                  0.000   Jarque-Bera (JB):            74965.230\n",
              "Skew:                           2.333   Prob(JB):                         0.00\n",
              "Kurtosis:                      17.346   Cond. No.                     8.42e+07\n",
              "==============================================================================\n",
              "\n",
              "Notes:\n",
              "[1] Standard Errors assume that the covariance matrix of the errors is correctly specified.\n",
              "[2] The condition number is large, 8.42e+07. This might indicate that there are\n",
              "strong multicollinearity or other numerical problems.\n",
              "\"\"\""
            ],
            "text/html": [
              "<table class=\"simpletable\">\n",
              "<caption>OLS Regression Results</caption>\n",
              "<tr>\n",
              "  <th>Dep. Variable:</th>      <td>selling_price</td>  <th>  R-squared:         </th>  <td>   0.678</td>  \n",
              "</tr>\n",
              "<tr>\n",
              "  <th>Model:</th>                   <td>OLS</td>       <th>  Adj. R-squared:    </th>  <td>   0.678</td>  \n",
              "</tr>\n",
              "<tr>\n",
              "  <th>Method:</th>             <td>Least Squares</td>  <th>  F-statistic:       </th>  <td>   1665.</td>  \n",
              "</tr>\n",
              "<tr>\n",
              "  <th>Date:</th>             <td>Sun, 05 Nov 2023</td> <th>  Prob (F-statistic):</th>   <td>  0.00</td>   \n",
              "</tr>\n",
              "<tr>\n",
              "  <th>Time:</th>                 <td>19:29:53</td>     <th>  Log-Likelihood:    </th> <td>-1.1433e+05</td>\n",
              "</tr>\n",
              "<tr>\n",
              "  <th>No. Observations:</th>      <td>  7906</td>      <th>  AIC:               </th>  <td>2.287e+05</td> \n",
              "</tr>\n",
              "<tr>\n",
              "  <th>Df Residuals:</th>          <td>  7895</td>      <th>  BIC:               </th>  <td>2.288e+05</td> \n",
              "</tr>\n",
              "<tr>\n",
              "  <th>Df Model:</th>              <td>    10</td>      <th>                     </th>      <td> </td>     \n",
              "</tr>\n",
              "<tr>\n",
              "  <th>Covariance Type:</th>      <td>nonrobust</td>    <th>                     </th>      <td> </td>     \n",
              "</tr>\n",
              "</table>\n",
              "<table class=\"simpletable\">\n",
              "<tr>\n",
              "          <td></td>             <th>coef</th>     <th>std err</th>      <th>t</th>      <th>P>|t|</th>  <th>[0.025</th>    <th>0.975]</th>  \n",
              "</tr>\n",
              "<tr>\n",
              "  <th>Intercept</th>         <td>-5.047e+07</td> <td> 3.87e+06</td> <td>  -13.034</td> <td> 0.000</td> <td>-5.81e+07</td> <td>-4.29e+07</td>\n",
              "</tr>\n",
              "<tr>\n",
              "  <th>km_driven</th>         <td>   -0.2898</td> <td>    0.125</td> <td>   -2.318</td> <td> 0.020</td> <td>   -0.535</td> <td>   -0.045</td>\n",
              "</tr>\n",
              "<tr>\n",
              "  <th>new_engine</th>        <td>   23.7549</td> <td>   20.735</td> <td>    1.146</td> <td> 0.252</td> <td>  -16.892</td> <td>   64.402</td>\n",
              "</tr>\n",
              "<tr>\n",
              "  <th>new_mileage</th>       <td> 1.593e+04</td> <td> 2004.126</td> <td>    7.949</td> <td> 0.000</td> <td>  1.2e+04</td> <td> 1.99e+04</td>\n",
              "</tr>\n",
              "<tr>\n",
              "  <th>new_max_power</th>     <td>  1.36e+04</td> <td>  242.801</td> <td>   56.019</td> <td> 0.000</td> <td> 1.31e+04</td> <td> 1.41e+04</td>\n",
              "</tr>\n",
              "<tr>\n",
              "  <th>new_year</th>          <td> 2.445e+04</td> <td> 1930.252</td> <td>   12.667</td> <td> 0.000</td> <td> 2.07e+04</td> <td> 2.82e+04</td>\n",
              "</tr>\n",
              "<tr>\n",
              "  <th>new_km_driven</th>     <td>   -2.8792</td> <td>    0.202</td> <td>  -14.228</td> <td> 0.000</td> <td>   -3.276</td> <td>   -2.482</td>\n",
              "</tr>\n",
              "<tr>\n",
              "  <th>fuel_flag</th>         <td>-1.007e+05</td> <td> 1.41e+04</td> <td>   -7.125</td> <td> 0.000</td> <td>-1.28e+05</td> <td> -7.3e+04</td>\n",
              "</tr>\n",
              "<tr>\n",
              "  <th>seller_type_flag</th>  <td> 8.968e+04</td> <td> 1.22e+04</td> <td>    7.366</td> <td> 0.000</td> <td> 6.58e+04</td> <td> 1.14e+05</td>\n",
              "</tr>\n",
              "<tr>\n",
              "  <th>transmission_flag</th> <td> 4.649e+05</td> <td> 1.97e+04</td> <td>   23.573</td> <td> 0.000</td> <td> 4.26e+05</td> <td> 5.04e+05</td>\n",
              "</tr>\n",
              "<tr>\n",
              "  <th>owner_flag</th>        <td> 7037.6090</td> <td> 8537.821</td> <td>    0.824</td> <td> 0.410</td> <td>-9698.779</td> <td> 2.38e+04</td>\n",
              "</tr>\n",
              "</table>\n",
              "<table class=\"simpletable\">\n",
              "<tr>\n",
              "  <th>Omnibus:</th>       <td>4438.438</td> <th>  Durbin-Watson:     </th> <td>   1.614</td> \n",
              "</tr>\n",
              "<tr>\n",
              "  <th>Prob(Omnibus):</th>  <td> 0.000</td>  <th>  Jarque-Bera (JB):  </th> <td>74965.230</td>\n",
              "</tr>\n",
              "<tr>\n",
              "  <th>Skew:</th>           <td> 2.333</td>  <th>  Prob(JB):          </th> <td>    0.00</td> \n",
              "</tr>\n",
              "<tr>\n",
              "  <th>Kurtosis:</th>       <td>17.346</td>  <th>  Cond. No.          </th> <td>8.42e+07</td> \n",
              "</tr>\n",
              "</table><br/><br/>Notes:<br/>[1] Standard Errors assume that the covariance matrix of the errors is correctly specified.<br/>[2] The condition number is large, 8.42e+07. This might indicate that there are<br/>strong multicollinearity or other numerical problems."
            ],
            "text/latex": "\\begin{center}\n\\begin{tabular}{lclc}\n\\toprule\n\\textbf{Dep. Variable:}     &  selling\\_price  & \\textbf{  R-squared:         } &      0.678   \\\\\n\\textbf{Model:}             &       OLS        & \\textbf{  Adj. R-squared:    } &      0.678   \\\\\n\\textbf{Method:}            &  Least Squares   & \\textbf{  F-statistic:       } &      1665.   \\\\\n\\textbf{Date:}              & Sun, 05 Nov 2023 & \\textbf{  Prob (F-statistic):} &      0.00    \\\\\n\\textbf{Time:}              &     19:29:53     & \\textbf{  Log-Likelihood:    } & -1.1433e+05  \\\\\n\\textbf{No. Observations:}  &        7906      & \\textbf{  AIC:               } &  2.287e+05   \\\\\n\\textbf{Df Residuals:}      &        7895      & \\textbf{  BIC:               } &  2.288e+05   \\\\\n\\textbf{Df Model:}          &          10      & \\textbf{                     } &              \\\\\n\\textbf{Covariance Type:}   &    nonrobust     & \\textbf{                     } &              \\\\\n\\bottomrule\n\\end{tabular}\n\\begin{tabular}{lcccccc}\n                            & \\textbf{coef} & \\textbf{std err} & \\textbf{t} & \\textbf{P$> |$t$|$} & \\textbf{[0.025} & \\textbf{0.975]}  \\\\\n\\midrule\n\\textbf{Intercept}          &   -5.047e+07  &     3.87e+06     &   -13.034  &         0.000        &    -5.81e+07    &    -4.29e+07     \\\\\n\\textbf{km\\_driven}         &      -0.2898  &        0.125     &    -2.318  &         0.020        &       -0.535    &       -0.045     \\\\\n\\textbf{new\\_engine}        &      23.7549  &       20.735     &     1.146  &         0.252        &      -16.892    &       64.402     \\\\\n\\textbf{new\\_mileage}       &    1.593e+04  &     2004.126     &     7.949  &         0.000        &      1.2e+04    &     1.99e+04     \\\\\n\\textbf{new\\_max\\_power}    &     1.36e+04  &      242.801     &    56.019  &         0.000        &     1.31e+04    &     1.41e+04     \\\\\n\\textbf{new\\_year}          &    2.445e+04  &     1930.252     &    12.667  &         0.000        &     2.07e+04    &     2.82e+04     \\\\\n\\textbf{new\\_km\\_driven}    &      -2.8792  &        0.202     &   -14.228  &         0.000        &       -3.276    &       -2.482     \\\\\n\\textbf{fuel\\_flag}         &   -1.007e+05  &     1.41e+04     &    -7.125  &         0.000        &    -1.28e+05    &     -7.3e+04     \\\\\n\\textbf{seller\\_type\\_flag} &    8.968e+04  &     1.22e+04     &     7.366  &         0.000        &     6.58e+04    &     1.14e+05     \\\\\n\\textbf{transmission\\_flag} &    4.649e+05  &     1.97e+04     &    23.573  &         0.000        &     4.26e+05    &     5.04e+05     \\\\\n\\textbf{owner\\_flag}        &    7037.6090  &     8537.821     &     0.824  &         0.410        &    -9698.779    &     2.38e+04     \\\\\n\\bottomrule\n\\end{tabular}\n\\begin{tabular}{lclc}\n\\textbf{Omnibus:}       & 4438.438 & \\textbf{  Durbin-Watson:     } &     1.614  \\\\\n\\textbf{Prob(Omnibus):} &   0.000  & \\textbf{  Jarque-Bera (JB):  } & 74965.230  \\\\\n\\textbf{Skew:}          &   2.333  & \\textbf{  Prob(JB):          } &      0.00  \\\\\n\\textbf{Kurtosis:}      &  17.346  & \\textbf{  Cond. No.          } &  8.42e+07  \\\\\n\\bottomrule\n\\end{tabular}\n%\\caption{OLS Regression Results}\n\\end{center}\n\nNotes: \\newline\n [1] Standard Errors assume that the covariance matrix of the errors is correctly specified. \\newline\n [2] The condition number is large, 8.42e+07. This might indicate that there are \\newline\n strong multicollinearity or other numerical problems."
          },
          "metadata": {},
          "execution_count": 84
        }
      ]
    },
    {
      "cell_type": "markdown",
      "source": [
        "Accuracy of the model is 67%. This model can predict the price of car based on given data 67% accurately."
      ],
      "metadata": {
        "id": "TFf1zpFgyAqx"
      }
    },
    {
      "cell_type": "markdown",
      "source": [
        "## Model Validation"
      ],
      "metadata": {
        "id": "qJ58w15z5m3m"
      }
    },
    {
      "cell_type": "code",
      "source": [
        "import numpy  as np\n",
        "from sklearn.model_selection import train_test_split # this package will help to sllit the data into desired parts\n",
        "\n",
        "#I am trying to split my whole data into two parts train and test data with 80% in train data and remaining 20% in test data\n",
        "X_train,X_test,Y_train,Y_test = train_test_split(df1,df1['selling_price'],train_size =.8)\n",
        "print(X_train.shape,X_test.shape,Y_train.shape,Y_test.shape)\n",
        "#in train  data we have 614 records with all variable 9 of them\n",
        "#in test  data we have 154 records with all variable 9 of them\n"
      ],
      "metadata": {
        "colab": {
          "base_uri": "https://localhost:8080/"
        },
        "id": "LBlb6xKv8oVH",
        "outputId": "32f5d316-d436-4006-b84b-9d43d50ee3c9"
      },
      "execution_count": 85,
      "outputs": [
        {
          "output_type": "stream",
          "name": "stdout",
          "text": [
            "(6502, 19) (1626, 19) (6502,) (1626,)\n"
          ]
        }
      ]
    },
    {
      "cell_type": "code",
      "source": [
        "#  km_driven + new_engine + new_mileage + new_max_power + new_year + new_km_driven + fuel_flag + seller_type_flag + transmission_flag + owner_flag'\n",
        "features = [ 'km_driven','new_engine','new_mileage','new_max_power','new_year','new_km_driven','fuel_flag','seller_type_flag' ,'transmission_flag' , 'owner_flag']\n",
        "print(features)\n",
        "x_train = X_train[features]\n",
        "y_train  = X_train['selling_price']\n",
        "\n",
        "# for test data\n",
        "x_test =X_test[features]\n",
        "y_test = X_test['selling_price']"
      ],
      "metadata": {
        "colab": {
          "base_uri": "https://localhost:8080/"
        },
        "id": "j5VOZFWS5lhA",
        "outputId": "61b04eb4-e691-49d4-de19-b6796fff1ee6"
      },
      "execution_count": 89,
      "outputs": [
        {
          "output_type": "stream",
          "name": "stdout",
          "text": [
            "['km_driven', 'new_engine', 'new_mileage', 'new_max_power', 'new_year', 'new_km_driven', 'fuel_flag', 'seller_type_flag', 'transmission_flag', 'owner_flag']\n"
          ]
        }
      ]
    },
    {
      "cell_type": "code",
      "source": [
        "import statsmodels.formula.api as sm\n",
        "model = sm.ols(formula= y_train ~ x_train, data=df1)\n",
        "model\n",
        "fitted1 = model.fit()\n",
        "fitted1.summary()"
      ],
      "metadata": {
        "colab": {
          "base_uri": "https://localhost:8080/",
          "height": 144
        },
        "id": "KXAsH-8T9_Pb",
        "outputId": "acb3a9e7-39b0-4314-ef9c-2a28ccb4a010"
      },
      "execution_count": 93,
      "outputs": [
        {
          "output_type": "error",
          "ename": "SyntaxError",
          "evalue": "ignored",
          "traceback": [
            "\u001b[0;36m  File \u001b[0;32m\"<ipython-input-93-152930b94c09>\"\u001b[0;36m, line \u001b[0;32m2\u001b[0m\n\u001b[0;31m    model = sm.ols(formula= y_train ~ x_train, data=df1)\u001b[0m\n\u001b[0m                            ^\u001b[0m\n\u001b[0;31mSyntaxError\u001b[0m\u001b[0;31m:\u001b[0m invalid syntax. Perhaps you forgot a comma?\n"
          ]
        }
      ]
    },
    {
      "cell_type": "code",
      "source": [],
      "metadata": {
        "id": "qKdpAozA-_Hy"
      },
      "execution_count": null,
      "outputs": []
    }
  ]
}