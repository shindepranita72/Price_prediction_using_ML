{
  "nbformat": 4,
  "nbformat_minor": 0,
  "metadata": {
    "colab": {
      "provenance": []
    },
    "kernelspec": {
      "name": "python3",
      "display_name": "Python 3"
    },
    "language_info": {
      "name": "python"
    }
  },
  "cells": [
    {
      "cell_type": "markdown",
      "source": [
        "STEPS:\n",
        "\n",
        "**1.** upload file to Google drive\n",
        "\n",
        "**2.** Click on mount drive button and mount googledrive"
      ],
      "metadata": {
        "id": "iyeknjWpaenL"
      }
    },
    {
      "cell_type": "code",
      "execution_count": 159,
      "metadata": {
        "id": "WMc3CZQ3KJ-X"
      },
      "outputs": [],
      "source": [
        "from google.colab import drive"
      ]
    },
    {
      "cell_type": "code",
      "source": [
        "drive.mount(\"/content/drive/\")"
      ],
      "metadata": {
        "id": "FJ4FXHs_KKk8",
        "colab": {
          "base_uri": "https://localhost:8080/"
        },
        "outputId": "5ec242b1-73a1-4c55-c2ff-aa4b3f57eae7"
      },
      "execution_count": 160,
      "outputs": [
        {
          "output_type": "stream",
          "name": "stdout",
          "text": [
            "Drive already mounted at /content/drive/; to attempt to forcibly remount, call drive.mount(\"/content/drive/\", force_remount=True).\n"
          ]
        }
      ]
    },
    {
      "cell_type": "code",
      "source": [
        "import pandas as pd\n",
        "df = pd.read_csv(\"/content/drive/MyDrive/Project_DB/Car details v3.csv\")"
      ],
      "metadata": {
        "id": "uXiWOrCraJi8"
      },
      "execution_count": 161,
      "outputs": []
    },
    {
      "cell_type": "code",
      "source": [
        "df.head()"
      ],
      "metadata": {
        "colab": {
          "base_uri": "https://localhost:8080/",
          "height": 206
        },
        "id": "urdiO8kba54E",
        "outputId": "f0198fee-5a05-4274-ee99-5e8784bae8cb"
      },
      "execution_count": 162,
      "outputs": [
        {
          "output_type": "execute_result",
          "data": {
            "text/plain": [
              "                           name  year  selling_price  km_driven    fuel  \\\n",
              "0        Maruti Swift Dzire VDI  2014         450000     145500  Diesel   \n",
              "1  Skoda Rapid 1.5 TDI Ambition  2014         370000     120000  Diesel   \n",
              "2      Honda City 2017-2020 EXi  2006         158000     140000  Petrol   \n",
              "3     Hyundai i20 Sportz Diesel  2010         225000     127000  Diesel   \n",
              "4        Maruti Swift VXI BSIII  2007         130000     120000  Petrol   \n",
              "\n",
              "  seller_type transmission         owner     mileage   engine   max_power  \\\n",
              "0  Individual       Manual   First Owner   23.4 kmpl  1248 CC      74 bhp   \n",
              "1  Individual       Manual  Second Owner  21.14 kmpl  1498 CC  103.52 bhp   \n",
              "2  Individual       Manual   Third Owner   17.7 kmpl  1497 CC      78 bhp   \n",
              "3  Individual       Manual   First Owner   23.0 kmpl  1396 CC      90 bhp   \n",
              "4  Individual       Manual   First Owner   16.1 kmpl  1298 CC    88.2 bhp   \n",
              "\n",
              "                     torque  seats  \n",
              "0            190Nm@ 2000rpm    5.0  \n",
              "1       250Nm@ 1500-2500rpm    5.0  \n",
              "2     12.7@ 2,700(kgm@ rpm)    5.0  \n",
              "3  22.4 kgm at 1750-2750rpm    5.0  \n",
              "4     11.5@ 4,500(kgm@ rpm)    5.0  "
            ],
            "text/html": [
              "\n",
              "  <div id=\"df-0fe5c46d-e652-43f1-82a2-08ad17c5c9e0\" class=\"colab-df-container\">\n",
              "    <div>\n",
              "<style scoped>\n",
              "    .dataframe tbody tr th:only-of-type {\n",
              "        vertical-align: middle;\n",
              "    }\n",
              "\n",
              "    .dataframe tbody tr th {\n",
              "        vertical-align: top;\n",
              "    }\n",
              "\n",
              "    .dataframe thead th {\n",
              "        text-align: right;\n",
              "    }\n",
              "</style>\n",
              "<table border=\"1\" class=\"dataframe\">\n",
              "  <thead>\n",
              "    <tr style=\"text-align: right;\">\n",
              "      <th></th>\n",
              "      <th>name</th>\n",
              "      <th>year</th>\n",
              "      <th>selling_price</th>\n",
              "      <th>km_driven</th>\n",
              "      <th>fuel</th>\n",
              "      <th>seller_type</th>\n",
              "      <th>transmission</th>\n",
              "      <th>owner</th>\n",
              "      <th>mileage</th>\n",
              "      <th>engine</th>\n",
              "      <th>max_power</th>\n",
              "      <th>torque</th>\n",
              "      <th>seats</th>\n",
              "    </tr>\n",
              "  </thead>\n",
              "  <tbody>\n",
              "    <tr>\n",
              "      <th>0</th>\n",
              "      <td>Maruti Swift Dzire VDI</td>\n",
              "      <td>2014</td>\n",
              "      <td>450000</td>\n",
              "      <td>145500</td>\n",
              "      <td>Diesel</td>\n",
              "      <td>Individual</td>\n",
              "      <td>Manual</td>\n",
              "      <td>First Owner</td>\n",
              "      <td>23.4 kmpl</td>\n",
              "      <td>1248 CC</td>\n",
              "      <td>74 bhp</td>\n",
              "      <td>190Nm@ 2000rpm</td>\n",
              "      <td>5.0</td>\n",
              "    </tr>\n",
              "    <tr>\n",
              "      <th>1</th>\n",
              "      <td>Skoda Rapid 1.5 TDI Ambition</td>\n",
              "      <td>2014</td>\n",
              "      <td>370000</td>\n",
              "      <td>120000</td>\n",
              "      <td>Diesel</td>\n",
              "      <td>Individual</td>\n",
              "      <td>Manual</td>\n",
              "      <td>Second Owner</td>\n",
              "      <td>21.14 kmpl</td>\n",
              "      <td>1498 CC</td>\n",
              "      <td>103.52 bhp</td>\n",
              "      <td>250Nm@ 1500-2500rpm</td>\n",
              "      <td>5.0</td>\n",
              "    </tr>\n",
              "    <tr>\n",
              "      <th>2</th>\n",
              "      <td>Honda City 2017-2020 EXi</td>\n",
              "      <td>2006</td>\n",
              "      <td>158000</td>\n",
              "      <td>140000</td>\n",
              "      <td>Petrol</td>\n",
              "      <td>Individual</td>\n",
              "      <td>Manual</td>\n",
              "      <td>Third Owner</td>\n",
              "      <td>17.7 kmpl</td>\n",
              "      <td>1497 CC</td>\n",
              "      <td>78 bhp</td>\n",
              "      <td>12.7@ 2,700(kgm@ rpm)</td>\n",
              "      <td>5.0</td>\n",
              "    </tr>\n",
              "    <tr>\n",
              "      <th>3</th>\n",
              "      <td>Hyundai i20 Sportz Diesel</td>\n",
              "      <td>2010</td>\n",
              "      <td>225000</td>\n",
              "      <td>127000</td>\n",
              "      <td>Diesel</td>\n",
              "      <td>Individual</td>\n",
              "      <td>Manual</td>\n",
              "      <td>First Owner</td>\n",
              "      <td>23.0 kmpl</td>\n",
              "      <td>1396 CC</td>\n",
              "      <td>90 bhp</td>\n",
              "      <td>22.4 kgm at 1750-2750rpm</td>\n",
              "      <td>5.0</td>\n",
              "    </tr>\n",
              "    <tr>\n",
              "      <th>4</th>\n",
              "      <td>Maruti Swift VXI BSIII</td>\n",
              "      <td>2007</td>\n",
              "      <td>130000</td>\n",
              "      <td>120000</td>\n",
              "      <td>Petrol</td>\n",
              "      <td>Individual</td>\n",
              "      <td>Manual</td>\n",
              "      <td>First Owner</td>\n",
              "      <td>16.1 kmpl</td>\n",
              "      <td>1298 CC</td>\n",
              "      <td>88.2 bhp</td>\n",
              "      <td>11.5@ 4,500(kgm@ rpm)</td>\n",
              "      <td>5.0</td>\n",
              "    </tr>\n",
              "  </tbody>\n",
              "</table>\n",
              "</div>\n",
              "    <div class=\"colab-df-buttons\">\n",
              "\n",
              "  <div class=\"colab-df-container\">\n",
              "    <button class=\"colab-df-convert\" onclick=\"convertToInteractive('df-0fe5c46d-e652-43f1-82a2-08ad17c5c9e0')\"\n",
              "            title=\"Convert this dataframe to an interactive table.\"\n",
              "            style=\"display:none;\">\n",
              "\n",
              "  <svg xmlns=\"http://www.w3.org/2000/svg\" height=\"24px\" viewBox=\"0 -960 960 960\">\n",
              "    <path d=\"M120-120v-720h720v720H120Zm60-500h600v-160H180v160Zm220 220h160v-160H400v160Zm0 220h160v-160H400v160ZM180-400h160v-160H180v160Zm440 0h160v-160H620v160ZM180-180h160v-160H180v160Zm440 0h160v-160H620v160Z\"/>\n",
              "  </svg>\n",
              "    </button>\n",
              "\n",
              "  <style>\n",
              "    .colab-df-container {\n",
              "      display:flex;\n",
              "      gap: 12px;\n",
              "    }\n",
              "\n",
              "    .colab-df-convert {\n",
              "      background-color: #E8F0FE;\n",
              "      border: none;\n",
              "      border-radius: 50%;\n",
              "      cursor: pointer;\n",
              "      display: none;\n",
              "      fill: #1967D2;\n",
              "      height: 32px;\n",
              "      padding: 0 0 0 0;\n",
              "      width: 32px;\n",
              "    }\n",
              "\n",
              "    .colab-df-convert:hover {\n",
              "      background-color: #E2EBFA;\n",
              "      box-shadow: 0px 1px 2px rgba(60, 64, 67, 0.3), 0px 1px 3px 1px rgba(60, 64, 67, 0.15);\n",
              "      fill: #174EA6;\n",
              "    }\n",
              "\n",
              "    .colab-df-buttons div {\n",
              "      margin-bottom: 4px;\n",
              "    }\n",
              "\n",
              "    [theme=dark] .colab-df-convert {\n",
              "      background-color: #3B4455;\n",
              "      fill: #D2E3FC;\n",
              "    }\n",
              "\n",
              "    [theme=dark] .colab-df-convert:hover {\n",
              "      background-color: #434B5C;\n",
              "      box-shadow: 0px 1px 3px 1px rgba(0, 0, 0, 0.15);\n",
              "      filter: drop-shadow(0px 1px 2px rgba(0, 0, 0, 0.3));\n",
              "      fill: #FFFFFF;\n",
              "    }\n",
              "  </style>\n",
              "\n",
              "    <script>\n",
              "      const buttonEl =\n",
              "        document.querySelector('#df-0fe5c46d-e652-43f1-82a2-08ad17c5c9e0 button.colab-df-convert');\n",
              "      buttonEl.style.display =\n",
              "        google.colab.kernel.accessAllowed ? 'block' : 'none';\n",
              "\n",
              "      async function convertToInteractive(key) {\n",
              "        const element = document.querySelector('#df-0fe5c46d-e652-43f1-82a2-08ad17c5c9e0');\n",
              "        const dataTable =\n",
              "          await google.colab.kernel.invokeFunction('convertToInteractive',\n",
              "                                                    [key], {});\n",
              "        if (!dataTable) return;\n",
              "\n",
              "        const docLinkHtml = 'Like what you see? Visit the ' +\n",
              "          '<a target=\"_blank\" href=https://colab.research.google.com/notebooks/data_table.ipynb>data table notebook</a>'\n",
              "          + ' to learn more about interactive tables.';\n",
              "        element.innerHTML = '';\n",
              "        dataTable['output_type'] = 'display_data';\n",
              "        await google.colab.output.renderOutput(dataTable, element);\n",
              "        const docLink = document.createElement('div');\n",
              "        docLink.innerHTML = docLinkHtml;\n",
              "        element.appendChild(docLink);\n",
              "      }\n",
              "    </script>\n",
              "  </div>\n",
              "\n",
              "\n",
              "<div id=\"df-0e833756-34b4-472f-9afe-6748ffa3e680\">\n",
              "  <button class=\"colab-df-quickchart\" onclick=\"quickchart('df-0e833756-34b4-472f-9afe-6748ffa3e680')\"\n",
              "            title=\"Suggest charts.\"\n",
              "            style=\"display:none;\">\n",
              "\n",
              "<svg xmlns=\"http://www.w3.org/2000/svg\" height=\"24px\"viewBox=\"0 0 24 24\"\n",
              "     width=\"24px\">\n",
              "    <g>\n",
              "        <path d=\"M19 3H5c-1.1 0-2 .9-2 2v14c0 1.1.9 2 2 2h14c1.1 0 2-.9 2-2V5c0-1.1-.9-2-2-2zM9 17H7v-7h2v7zm4 0h-2V7h2v10zm4 0h-2v-4h2v4z\"/>\n",
              "    </g>\n",
              "</svg>\n",
              "  </button>\n",
              "\n",
              "<style>\n",
              "  .colab-df-quickchart {\n",
              "      --bg-color: #E8F0FE;\n",
              "      --fill-color: #1967D2;\n",
              "      --hover-bg-color: #E2EBFA;\n",
              "      --hover-fill-color: #174EA6;\n",
              "      --disabled-fill-color: #AAA;\n",
              "      --disabled-bg-color: #DDD;\n",
              "  }\n",
              "\n",
              "  [theme=dark] .colab-df-quickchart {\n",
              "      --bg-color: #3B4455;\n",
              "      --fill-color: #D2E3FC;\n",
              "      --hover-bg-color: #434B5C;\n",
              "      --hover-fill-color: #FFFFFF;\n",
              "      --disabled-bg-color: #3B4455;\n",
              "      --disabled-fill-color: #666;\n",
              "  }\n",
              "\n",
              "  .colab-df-quickchart {\n",
              "    background-color: var(--bg-color);\n",
              "    border: none;\n",
              "    border-radius: 50%;\n",
              "    cursor: pointer;\n",
              "    display: none;\n",
              "    fill: var(--fill-color);\n",
              "    height: 32px;\n",
              "    padding: 0;\n",
              "    width: 32px;\n",
              "  }\n",
              "\n",
              "  .colab-df-quickchart:hover {\n",
              "    background-color: var(--hover-bg-color);\n",
              "    box-shadow: 0 1px 2px rgba(60, 64, 67, 0.3), 0 1px 3px 1px rgba(60, 64, 67, 0.15);\n",
              "    fill: var(--button-hover-fill-color);\n",
              "  }\n",
              "\n",
              "  .colab-df-quickchart-complete:disabled,\n",
              "  .colab-df-quickchart-complete:disabled:hover {\n",
              "    background-color: var(--disabled-bg-color);\n",
              "    fill: var(--disabled-fill-color);\n",
              "    box-shadow: none;\n",
              "  }\n",
              "\n",
              "  .colab-df-spinner {\n",
              "    border: 2px solid var(--fill-color);\n",
              "    border-color: transparent;\n",
              "    border-bottom-color: var(--fill-color);\n",
              "    animation:\n",
              "      spin 1s steps(1) infinite;\n",
              "  }\n",
              "\n",
              "  @keyframes spin {\n",
              "    0% {\n",
              "      border-color: transparent;\n",
              "      border-bottom-color: var(--fill-color);\n",
              "      border-left-color: var(--fill-color);\n",
              "    }\n",
              "    20% {\n",
              "      border-color: transparent;\n",
              "      border-left-color: var(--fill-color);\n",
              "      border-top-color: var(--fill-color);\n",
              "    }\n",
              "    30% {\n",
              "      border-color: transparent;\n",
              "      border-left-color: var(--fill-color);\n",
              "      border-top-color: var(--fill-color);\n",
              "      border-right-color: var(--fill-color);\n",
              "    }\n",
              "    40% {\n",
              "      border-color: transparent;\n",
              "      border-right-color: var(--fill-color);\n",
              "      border-top-color: var(--fill-color);\n",
              "    }\n",
              "    60% {\n",
              "      border-color: transparent;\n",
              "      border-right-color: var(--fill-color);\n",
              "    }\n",
              "    80% {\n",
              "      border-color: transparent;\n",
              "      border-right-color: var(--fill-color);\n",
              "      border-bottom-color: var(--fill-color);\n",
              "    }\n",
              "    90% {\n",
              "      border-color: transparent;\n",
              "      border-bottom-color: var(--fill-color);\n",
              "    }\n",
              "  }\n",
              "</style>\n",
              "\n",
              "  <script>\n",
              "    async function quickchart(key) {\n",
              "      const quickchartButtonEl =\n",
              "        document.querySelector('#' + key + ' button');\n",
              "      quickchartButtonEl.disabled = true;  // To prevent multiple clicks.\n",
              "      quickchartButtonEl.classList.add('colab-df-spinner');\n",
              "      try {\n",
              "        const charts = await google.colab.kernel.invokeFunction(\n",
              "            'suggestCharts', [key], {});\n",
              "      } catch (error) {\n",
              "        console.error('Error during call to suggestCharts:', error);\n",
              "      }\n",
              "      quickchartButtonEl.classList.remove('colab-df-spinner');\n",
              "      quickchartButtonEl.classList.add('colab-df-quickchart-complete');\n",
              "    }\n",
              "    (() => {\n",
              "      let quickchartButtonEl =\n",
              "        document.querySelector('#df-0e833756-34b4-472f-9afe-6748ffa3e680 button');\n",
              "      quickchartButtonEl.style.display =\n",
              "        google.colab.kernel.accessAllowed ? 'block' : 'none';\n",
              "    })();\n",
              "  </script>\n",
              "</div>\n",
              "    </div>\n",
              "  </div>\n"
            ]
          },
          "metadata": {},
          "execution_count": 162
        }
      ]
    },
    {
      "cell_type": "code",
      "source": [
        "df.shape"
      ],
      "metadata": {
        "colab": {
          "base_uri": "https://localhost:8080/"
        },
        "id": "KMKxWZVSa9MS",
        "outputId": "1cb6c31b-b7cb-49ed-e5c5-7b27b7ba9537"
      },
      "execution_count": 163,
      "outputs": [
        {
          "output_type": "execute_result",
          "data": {
            "text/plain": [
              "(8128, 13)"
            ]
          },
          "metadata": {},
          "execution_count": 163
        }
      ]
    },
    {
      "cell_type": "code",
      "source": [
        "df.columns"
      ],
      "metadata": {
        "colab": {
          "base_uri": "https://localhost:8080/"
        },
        "id": "Yi_bJPNWc1pj",
        "outputId": "eec51378-1225-4b43-ce40-5db95636922b"
      },
      "execution_count": 164,
      "outputs": [
        {
          "output_type": "execute_result",
          "data": {
            "text/plain": [
              "Index(['name', 'year', 'selling_price', 'km_driven', 'fuel', 'seller_type',\n",
              "       'transmission', 'owner', 'mileage', 'engine', 'max_power', 'torque',\n",
              "       'seats'],\n",
              "      dtype='object')"
            ]
          },
          "metadata": {},
          "execution_count": 164
        }
      ]
    },
    {
      "cell_type": "code",
      "source": [
        "df.info()"
      ],
      "metadata": {
        "id": "jq7ZTnaMc3ST",
        "colab": {
          "base_uri": "https://localhost:8080/"
        },
        "outputId": "009cea8b-3600-4cbe-e4a5-3ce16796f03b"
      },
      "execution_count": 165,
      "outputs": [
        {
          "output_type": "stream",
          "name": "stdout",
          "text": [
            "<class 'pandas.core.frame.DataFrame'>\n",
            "RangeIndex: 8128 entries, 0 to 8127\n",
            "Data columns (total 13 columns):\n",
            " #   Column         Non-Null Count  Dtype  \n",
            "---  ------         --------------  -----  \n",
            " 0   name           8128 non-null   object \n",
            " 1   year           8128 non-null   int64  \n",
            " 2   selling_price  8128 non-null   int64  \n",
            " 3   km_driven      8128 non-null   int64  \n",
            " 4   fuel           8128 non-null   object \n",
            " 5   seller_type    8128 non-null   object \n",
            " 6   transmission   8128 non-null   object \n",
            " 7   owner          8128 non-null   object \n",
            " 8   mileage        7907 non-null   object \n",
            " 9   engine         7907 non-null   object \n",
            " 10  max_power      7913 non-null   object \n",
            " 11  torque         7906 non-null   object \n",
            " 12  seats          7907 non-null   float64\n",
            "dtypes: float64(1), int64(3), object(9)\n",
            "memory usage: 825.6+ KB\n"
          ]
        }
      ]
    },
    {
      "cell_type": "code",
      "source": [
        "df.describe()"
      ],
      "metadata": {
        "colab": {
          "base_uri": "https://localhost:8080/",
          "height": 300
        },
        "id": "FD89OusQ-_rq",
        "outputId": "84b64dd7-9f26-4396-b703-9e4a17e29404"
      },
      "execution_count": 166,
      "outputs": [
        {
          "output_type": "execute_result",
          "data": {
            "text/plain": [
              "              year  selling_price     km_driven        seats\n",
              "count  8128.000000   8.128000e+03  8.128000e+03  7907.000000\n",
              "mean   2013.804011   6.382718e+05  6.981951e+04     5.416719\n",
              "std       4.044249   8.062534e+05  5.655055e+04     0.959588\n",
              "min    1983.000000   2.999900e+04  1.000000e+00     2.000000\n",
              "25%    2011.000000   2.549990e+05  3.500000e+04     5.000000\n",
              "50%    2015.000000   4.500000e+05  6.000000e+04     5.000000\n",
              "75%    2017.000000   6.750000e+05  9.800000e+04     5.000000\n",
              "max    2020.000000   1.000000e+07  2.360457e+06    14.000000"
            ],
            "text/html": [
              "\n",
              "  <div id=\"df-272e9957-d414-47c3-adfa-a9731cbba9dc\" class=\"colab-df-container\">\n",
              "    <div>\n",
              "<style scoped>\n",
              "    .dataframe tbody tr th:only-of-type {\n",
              "        vertical-align: middle;\n",
              "    }\n",
              "\n",
              "    .dataframe tbody tr th {\n",
              "        vertical-align: top;\n",
              "    }\n",
              "\n",
              "    .dataframe thead th {\n",
              "        text-align: right;\n",
              "    }\n",
              "</style>\n",
              "<table border=\"1\" class=\"dataframe\">\n",
              "  <thead>\n",
              "    <tr style=\"text-align: right;\">\n",
              "      <th></th>\n",
              "      <th>year</th>\n",
              "      <th>selling_price</th>\n",
              "      <th>km_driven</th>\n",
              "      <th>seats</th>\n",
              "    </tr>\n",
              "  </thead>\n",
              "  <tbody>\n",
              "    <tr>\n",
              "      <th>count</th>\n",
              "      <td>8128.000000</td>\n",
              "      <td>8.128000e+03</td>\n",
              "      <td>8.128000e+03</td>\n",
              "      <td>7907.000000</td>\n",
              "    </tr>\n",
              "    <tr>\n",
              "      <th>mean</th>\n",
              "      <td>2013.804011</td>\n",
              "      <td>6.382718e+05</td>\n",
              "      <td>6.981951e+04</td>\n",
              "      <td>5.416719</td>\n",
              "    </tr>\n",
              "    <tr>\n",
              "      <th>std</th>\n",
              "      <td>4.044249</td>\n",
              "      <td>8.062534e+05</td>\n",
              "      <td>5.655055e+04</td>\n",
              "      <td>0.959588</td>\n",
              "    </tr>\n",
              "    <tr>\n",
              "      <th>min</th>\n",
              "      <td>1983.000000</td>\n",
              "      <td>2.999900e+04</td>\n",
              "      <td>1.000000e+00</td>\n",
              "      <td>2.000000</td>\n",
              "    </tr>\n",
              "    <tr>\n",
              "      <th>25%</th>\n",
              "      <td>2011.000000</td>\n",
              "      <td>2.549990e+05</td>\n",
              "      <td>3.500000e+04</td>\n",
              "      <td>5.000000</td>\n",
              "    </tr>\n",
              "    <tr>\n",
              "      <th>50%</th>\n",
              "      <td>2015.000000</td>\n",
              "      <td>4.500000e+05</td>\n",
              "      <td>6.000000e+04</td>\n",
              "      <td>5.000000</td>\n",
              "    </tr>\n",
              "    <tr>\n",
              "      <th>75%</th>\n",
              "      <td>2017.000000</td>\n",
              "      <td>6.750000e+05</td>\n",
              "      <td>9.800000e+04</td>\n",
              "      <td>5.000000</td>\n",
              "    </tr>\n",
              "    <tr>\n",
              "      <th>max</th>\n",
              "      <td>2020.000000</td>\n",
              "      <td>1.000000e+07</td>\n",
              "      <td>2.360457e+06</td>\n",
              "      <td>14.000000</td>\n",
              "    </tr>\n",
              "  </tbody>\n",
              "</table>\n",
              "</div>\n",
              "    <div class=\"colab-df-buttons\">\n",
              "\n",
              "  <div class=\"colab-df-container\">\n",
              "    <button class=\"colab-df-convert\" onclick=\"convertToInteractive('df-272e9957-d414-47c3-adfa-a9731cbba9dc')\"\n",
              "            title=\"Convert this dataframe to an interactive table.\"\n",
              "            style=\"display:none;\">\n",
              "\n",
              "  <svg xmlns=\"http://www.w3.org/2000/svg\" height=\"24px\" viewBox=\"0 -960 960 960\">\n",
              "    <path d=\"M120-120v-720h720v720H120Zm60-500h600v-160H180v160Zm220 220h160v-160H400v160Zm0 220h160v-160H400v160ZM180-400h160v-160H180v160Zm440 0h160v-160H620v160ZM180-180h160v-160H180v160Zm440 0h160v-160H620v160Z\"/>\n",
              "  </svg>\n",
              "    </button>\n",
              "\n",
              "  <style>\n",
              "    .colab-df-container {\n",
              "      display:flex;\n",
              "      gap: 12px;\n",
              "    }\n",
              "\n",
              "    .colab-df-convert {\n",
              "      background-color: #E8F0FE;\n",
              "      border: none;\n",
              "      border-radius: 50%;\n",
              "      cursor: pointer;\n",
              "      display: none;\n",
              "      fill: #1967D2;\n",
              "      height: 32px;\n",
              "      padding: 0 0 0 0;\n",
              "      width: 32px;\n",
              "    }\n",
              "\n",
              "    .colab-df-convert:hover {\n",
              "      background-color: #E2EBFA;\n",
              "      box-shadow: 0px 1px 2px rgba(60, 64, 67, 0.3), 0px 1px 3px 1px rgba(60, 64, 67, 0.15);\n",
              "      fill: #174EA6;\n",
              "    }\n",
              "\n",
              "    .colab-df-buttons div {\n",
              "      margin-bottom: 4px;\n",
              "    }\n",
              "\n",
              "    [theme=dark] .colab-df-convert {\n",
              "      background-color: #3B4455;\n",
              "      fill: #D2E3FC;\n",
              "    }\n",
              "\n",
              "    [theme=dark] .colab-df-convert:hover {\n",
              "      background-color: #434B5C;\n",
              "      box-shadow: 0px 1px 3px 1px rgba(0, 0, 0, 0.15);\n",
              "      filter: drop-shadow(0px 1px 2px rgba(0, 0, 0, 0.3));\n",
              "      fill: #FFFFFF;\n",
              "    }\n",
              "  </style>\n",
              "\n",
              "    <script>\n",
              "      const buttonEl =\n",
              "        document.querySelector('#df-272e9957-d414-47c3-adfa-a9731cbba9dc button.colab-df-convert');\n",
              "      buttonEl.style.display =\n",
              "        google.colab.kernel.accessAllowed ? 'block' : 'none';\n",
              "\n",
              "      async function convertToInteractive(key) {\n",
              "        const element = document.querySelector('#df-272e9957-d414-47c3-adfa-a9731cbba9dc');\n",
              "        const dataTable =\n",
              "          await google.colab.kernel.invokeFunction('convertToInteractive',\n",
              "                                                    [key], {});\n",
              "        if (!dataTable) return;\n",
              "\n",
              "        const docLinkHtml = 'Like what you see? Visit the ' +\n",
              "          '<a target=\"_blank\" href=https://colab.research.google.com/notebooks/data_table.ipynb>data table notebook</a>'\n",
              "          + ' to learn more about interactive tables.';\n",
              "        element.innerHTML = '';\n",
              "        dataTable['output_type'] = 'display_data';\n",
              "        await google.colab.output.renderOutput(dataTable, element);\n",
              "        const docLink = document.createElement('div');\n",
              "        docLink.innerHTML = docLinkHtml;\n",
              "        element.appendChild(docLink);\n",
              "      }\n",
              "    </script>\n",
              "  </div>\n",
              "\n",
              "\n",
              "<div id=\"df-cd56948d-09de-413b-ba18-c9f5e2177765\">\n",
              "  <button class=\"colab-df-quickchart\" onclick=\"quickchart('df-cd56948d-09de-413b-ba18-c9f5e2177765')\"\n",
              "            title=\"Suggest charts.\"\n",
              "            style=\"display:none;\">\n",
              "\n",
              "<svg xmlns=\"http://www.w3.org/2000/svg\" height=\"24px\"viewBox=\"0 0 24 24\"\n",
              "     width=\"24px\">\n",
              "    <g>\n",
              "        <path d=\"M19 3H5c-1.1 0-2 .9-2 2v14c0 1.1.9 2 2 2h14c1.1 0 2-.9 2-2V5c0-1.1-.9-2-2-2zM9 17H7v-7h2v7zm4 0h-2V7h2v10zm4 0h-2v-4h2v4z\"/>\n",
              "    </g>\n",
              "</svg>\n",
              "  </button>\n",
              "\n",
              "<style>\n",
              "  .colab-df-quickchart {\n",
              "      --bg-color: #E8F0FE;\n",
              "      --fill-color: #1967D2;\n",
              "      --hover-bg-color: #E2EBFA;\n",
              "      --hover-fill-color: #174EA6;\n",
              "      --disabled-fill-color: #AAA;\n",
              "      --disabled-bg-color: #DDD;\n",
              "  }\n",
              "\n",
              "  [theme=dark] .colab-df-quickchart {\n",
              "      --bg-color: #3B4455;\n",
              "      --fill-color: #D2E3FC;\n",
              "      --hover-bg-color: #434B5C;\n",
              "      --hover-fill-color: #FFFFFF;\n",
              "      --disabled-bg-color: #3B4455;\n",
              "      --disabled-fill-color: #666;\n",
              "  }\n",
              "\n",
              "  .colab-df-quickchart {\n",
              "    background-color: var(--bg-color);\n",
              "    border: none;\n",
              "    border-radius: 50%;\n",
              "    cursor: pointer;\n",
              "    display: none;\n",
              "    fill: var(--fill-color);\n",
              "    height: 32px;\n",
              "    padding: 0;\n",
              "    width: 32px;\n",
              "  }\n",
              "\n",
              "  .colab-df-quickchart:hover {\n",
              "    background-color: var(--hover-bg-color);\n",
              "    box-shadow: 0 1px 2px rgba(60, 64, 67, 0.3), 0 1px 3px 1px rgba(60, 64, 67, 0.15);\n",
              "    fill: var(--button-hover-fill-color);\n",
              "  }\n",
              "\n",
              "  .colab-df-quickchart-complete:disabled,\n",
              "  .colab-df-quickchart-complete:disabled:hover {\n",
              "    background-color: var(--disabled-bg-color);\n",
              "    fill: var(--disabled-fill-color);\n",
              "    box-shadow: none;\n",
              "  }\n",
              "\n",
              "  .colab-df-spinner {\n",
              "    border: 2px solid var(--fill-color);\n",
              "    border-color: transparent;\n",
              "    border-bottom-color: var(--fill-color);\n",
              "    animation:\n",
              "      spin 1s steps(1) infinite;\n",
              "  }\n",
              "\n",
              "  @keyframes spin {\n",
              "    0% {\n",
              "      border-color: transparent;\n",
              "      border-bottom-color: var(--fill-color);\n",
              "      border-left-color: var(--fill-color);\n",
              "    }\n",
              "    20% {\n",
              "      border-color: transparent;\n",
              "      border-left-color: var(--fill-color);\n",
              "      border-top-color: var(--fill-color);\n",
              "    }\n",
              "    30% {\n",
              "      border-color: transparent;\n",
              "      border-left-color: var(--fill-color);\n",
              "      border-top-color: var(--fill-color);\n",
              "      border-right-color: var(--fill-color);\n",
              "    }\n",
              "    40% {\n",
              "      border-color: transparent;\n",
              "      border-right-color: var(--fill-color);\n",
              "      border-top-color: var(--fill-color);\n",
              "    }\n",
              "    60% {\n",
              "      border-color: transparent;\n",
              "      border-right-color: var(--fill-color);\n",
              "    }\n",
              "    80% {\n",
              "      border-color: transparent;\n",
              "      border-right-color: var(--fill-color);\n",
              "      border-bottom-color: var(--fill-color);\n",
              "    }\n",
              "    90% {\n",
              "      border-color: transparent;\n",
              "      border-bottom-color: var(--fill-color);\n",
              "    }\n",
              "  }\n",
              "</style>\n",
              "\n",
              "  <script>\n",
              "    async function quickchart(key) {\n",
              "      const quickchartButtonEl =\n",
              "        document.querySelector('#' + key + ' button');\n",
              "      quickchartButtonEl.disabled = true;  // To prevent multiple clicks.\n",
              "      quickchartButtonEl.classList.add('colab-df-spinner');\n",
              "      try {\n",
              "        const charts = await google.colab.kernel.invokeFunction(\n",
              "            'suggestCharts', [key], {});\n",
              "      } catch (error) {\n",
              "        console.error('Error during call to suggestCharts:', error);\n",
              "      }\n",
              "      quickchartButtonEl.classList.remove('colab-df-spinner');\n",
              "      quickchartButtonEl.classList.add('colab-df-quickchart-complete');\n",
              "    }\n",
              "    (() => {\n",
              "      let quickchartButtonEl =\n",
              "        document.querySelector('#df-cd56948d-09de-413b-ba18-c9f5e2177765 button');\n",
              "      quickchartButtonEl.style.display =\n",
              "        google.colab.kernel.accessAllowed ? 'block' : 'none';\n",
              "    })();\n",
              "  </script>\n",
              "</div>\n",
              "    </div>\n",
              "  </div>\n"
            ]
          },
          "metadata": {},
          "execution_count": 166
        }
      ]
    },
    {
      "cell_type": "markdown",
      "source": [
        "### Observations:\n",
        "\n",
        "**1.** Null values are present in mileage, engine, max_power,torque,seats.\n",
        "\n",
        "**2.** Data is from year 1983 to 2020\n",
        "\n",
        "**3.** Presence of outliers in numerical var namely year, selling price, km_driven, seats."
      ],
      "metadata": {
        "id": "WXjz0AVO_v5g"
      }
    },
    {
      "cell_type": "code",
      "source": [
        "##null values cleaning\n",
        "df[\"engine\"].isnull().sum() ##221\n",
        "df['engine'].value_counts()\n",
        "print(df[\"engine\"].isnull().sum())#221\n",
        "\n",
        "# df[\"engine\"].str.split(\" CC\")\n",
        "df[[\"new_engine\",\"engine_unit\"]] = df[\"engine\"].str.split(\" \",0,expand = True)\n",
        "# print(\"old ngine\",df[\"engine\"].value_counts())\n",
        "# print(\"new engine\",df[\"new_engine\"].value_counts())"
      ],
      "metadata": {
        "colab": {
          "base_uri": "https://localhost:8080/"
        },
        "id": "cKyy-EyH_uYf",
        "outputId": "bfc3557c-306d-4586-b6ec-9791ed570cc8"
      },
      "execution_count": 167,
      "outputs": [
        {
          "output_type": "stream",
          "name": "stdout",
          "text": [
            "221\n"
          ]
        },
        {
          "output_type": "stream",
          "name": "stderr",
          "text": [
            "<ipython-input-167-22603043f78f>:7: FutureWarning: In a future version of pandas all arguments of StringMethods.split except for the argument 'pat' will be keyword-only.\n",
            "  df[[\"new_engine\",\"engine_unit\"]] = df[\"engine\"].str.split(\" \",0,expand = True)\n"
          ]
        }
      ]
    },
    {
      "cell_type": "code",
      "source": [
        "##null values cleaning\n",
        "df[\"mileage\"].isnull().sum() ##393\n",
        "df['mileage'].value_counts()\n",
        "print(df[\"mileage\"].isnull().sum())#221\n",
        "\n",
        "# df['new_new_mileage'] = [x.strip(\" \") for x in df['mileage']]\n",
        "# df\n",
        "\n",
        "# df[\"engine\"].str.split(\" CC\")\n",
        "df[[\"new_mileage\",\"mileage_unit\"]] = df[\"mileage\"].str.split(\" \",0,expand = True)\n",
        "df\n",
        "# # print(\"old ngine\",df[\"engine\"].value_counts())\n",
        "# # print(\"new engine\",df[\"new_engine\"].value_counts())"
      ],
      "metadata": {
        "colab": {
          "base_uri": "https://localhost:8080/",
          "height": 686
        },
        "id": "8uzej7ax1E0E",
        "outputId": "9a2144e1-afc7-4212-a2ec-e817d02a22bb"
      },
      "execution_count": 168,
      "outputs": [
        {
          "output_type": "stream",
          "name": "stdout",
          "text": [
            "221\n"
          ]
        },
        {
          "output_type": "stream",
          "name": "stderr",
          "text": [
            "<ipython-input-168-4e07f25e4d96>:10: FutureWarning: In a future version of pandas all arguments of StringMethods.split except for the argument 'pat' will be keyword-only.\n",
            "  df[[\"new_mileage\",\"mileage_unit\"]] = df[\"mileage\"].str.split(\" \",0,expand = True)\n"
          ]
        },
        {
          "output_type": "execute_result",
          "data": {
            "text/plain": [
              "                              name  year  selling_price  km_driven    fuel  \\\n",
              "0           Maruti Swift Dzire VDI  2014         450000     145500  Diesel   \n",
              "1     Skoda Rapid 1.5 TDI Ambition  2014         370000     120000  Diesel   \n",
              "2         Honda City 2017-2020 EXi  2006         158000     140000  Petrol   \n",
              "3        Hyundai i20 Sportz Diesel  2010         225000     127000  Diesel   \n",
              "4           Maruti Swift VXI BSIII  2007         130000     120000  Petrol   \n",
              "...                            ...   ...            ...        ...     ...   \n",
              "8123             Hyundai i20 Magna  2013         320000     110000  Petrol   \n",
              "8124         Hyundai Verna CRDi SX  2007         135000     119000  Diesel   \n",
              "8125        Maruti Swift Dzire ZDi  2009         382000     120000  Diesel   \n",
              "8126               Tata Indigo CR4  2013         290000      25000  Diesel   \n",
              "8127               Tata Indigo CR4  2013         290000      25000  Diesel   \n",
              "\n",
              "     seller_type transmission                 owner     mileage   engine  \\\n",
              "0     Individual       Manual           First Owner   23.4 kmpl  1248 CC   \n",
              "1     Individual       Manual          Second Owner  21.14 kmpl  1498 CC   \n",
              "2     Individual       Manual           Third Owner   17.7 kmpl  1497 CC   \n",
              "3     Individual       Manual           First Owner   23.0 kmpl  1396 CC   \n",
              "4     Individual       Manual           First Owner   16.1 kmpl  1298 CC   \n",
              "...          ...          ...                   ...         ...      ...   \n",
              "8123  Individual       Manual           First Owner   18.5 kmpl  1197 CC   \n",
              "8124  Individual       Manual  Fourth & Above Owner   16.8 kmpl  1493 CC   \n",
              "8125  Individual       Manual           First Owner   19.3 kmpl  1248 CC   \n",
              "8126  Individual       Manual           First Owner  23.57 kmpl  1396 CC   \n",
              "8127  Individual       Manual           First Owner  23.57 kmpl  1396 CC   \n",
              "\n",
              "       max_power                     torque  seats new_engine engine_unit  \\\n",
              "0         74 bhp             190Nm@ 2000rpm    5.0       1248          CC   \n",
              "1     103.52 bhp        250Nm@ 1500-2500rpm    5.0       1498          CC   \n",
              "2         78 bhp      12.7@ 2,700(kgm@ rpm)    5.0       1497          CC   \n",
              "3         90 bhp   22.4 kgm at 1750-2750rpm    5.0       1396          CC   \n",
              "4       88.2 bhp      11.5@ 4,500(kgm@ rpm)    5.0       1298          CC   \n",
              "...          ...                        ...    ...        ...         ...   \n",
              "8123   82.85 bhp           113.7Nm@ 4000rpm    5.0       1197          CC   \n",
              "8124     110 bhp  24@ 1,900-2,750(kgm@ rpm)    5.0       1493          CC   \n",
              "8125    73.9 bhp             190Nm@ 2000rpm    5.0       1248          CC   \n",
              "8126      70 bhp        140Nm@ 1800-3000rpm    5.0       1396          CC   \n",
              "8127      70 bhp        140Nm@ 1800-3000rpm    5.0       1396          CC   \n",
              "\n",
              "     new_mileage mileage_unit  \n",
              "0           23.4         kmpl  \n",
              "1          21.14         kmpl  \n",
              "2           17.7         kmpl  \n",
              "3           23.0         kmpl  \n",
              "4           16.1         kmpl  \n",
              "...          ...          ...  \n",
              "8123        18.5         kmpl  \n",
              "8124        16.8         kmpl  \n",
              "8125        19.3         kmpl  \n",
              "8126       23.57         kmpl  \n",
              "8127       23.57         kmpl  \n",
              "\n",
              "[8128 rows x 17 columns]"
            ],
            "text/html": [
              "\n",
              "  <div id=\"df-5571aa33-90a9-443b-b0ba-2b6c17a77adf\" class=\"colab-df-container\">\n",
              "    <div>\n",
              "<style scoped>\n",
              "    .dataframe tbody tr th:only-of-type {\n",
              "        vertical-align: middle;\n",
              "    }\n",
              "\n",
              "    .dataframe tbody tr th {\n",
              "        vertical-align: top;\n",
              "    }\n",
              "\n",
              "    .dataframe thead th {\n",
              "        text-align: right;\n",
              "    }\n",
              "</style>\n",
              "<table border=\"1\" class=\"dataframe\">\n",
              "  <thead>\n",
              "    <tr style=\"text-align: right;\">\n",
              "      <th></th>\n",
              "      <th>name</th>\n",
              "      <th>year</th>\n",
              "      <th>selling_price</th>\n",
              "      <th>km_driven</th>\n",
              "      <th>fuel</th>\n",
              "      <th>seller_type</th>\n",
              "      <th>transmission</th>\n",
              "      <th>owner</th>\n",
              "      <th>mileage</th>\n",
              "      <th>engine</th>\n",
              "      <th>max_power</th>\n",
              "      <th>torque</th>\n",
              "      <th>seats</th>\n",
              "      <th>new_engine</th>\n",
              "      <th>engine_unit</th>\n",
              "      <th>new_mileage</th>\n",
              "      <th>mileage_unit</th>\n",
              "    </tr>\n",
              "  </thead>\n",
              "  <tbody>\n",
              "    <tr>\n",
              "      <th>0</th>\n",
              "      <td>Maruti Swift Dzire VDI</td>\n",
              "      <td>2014</td>\n",
              "      <td>450000</td>\n",
              "      <td>145500</td>\n",
              "      <td>Diesel</td>\n",
              "      <td>Individual</td>\n",
              "      <td>Manual</td>\n",
              "      <td>First Owner</td>\n",
              "      <td>23.4 kmpl</td>\n",
              "      <td>1248 CC</td>\n",
              "      <td>74 bhp</td>\n",
              "      <td>190Nm@ 2000rpm</td>\n",
              "      <td>5.0</td>\n",
              "      <td>1248</td>\n",
              "      <td>CC</td>\n",
              "      <td>23.4</td>\n",
              "      <td>kmpl</td>\n",
              "    </tr>\n",
              "    <tr>\n",
              "      <th>1</th>\n",
              "      <td>Skoda Rapid 1.5 TDI Ambition</td>\n",
              "      <td>2014</td>\n",
              "      <td>370000</td>\n",
              "      <td>120000</td>\n",
              "      <td>Diesel</td>\n",
              "      <td>Individual</td>\n",
              "      <td>Manual</td>\n",
              "      <td>Second Owner</td>\n",
              "      <td>21.14 kmpl</td>\n",
              "      <td>1498 CC</td>\n",
              "      <td>103.52 bhp</td>\n",
              "      <td>250Nm@ 1500-2500rpm</td>\n",
              "      <td>5.0</td>\n",
              "      <td>1498</td>\n",
              "      <td>CC</td>\n",
              "      <td>21.14</td>\n",
              "      <td>kmpl</td>\n",
              "    </tr>\n",
              "    <tr>\n",
              "      <th>2</th>\n",
              "      <td>Honda City 2017-2020 EXi</td>\n",
              "      <td>2006</td>\n",
              "      <td>158000</td>\n",
              "      <td>140000</td>\n",
              "      <td>Petrol</td>\n",
              "      <td>Individual</td>\n",
              "      <td>Manual</td>\n",
              "      <td>Third Owner</td>\n",
              "      <td>17.7 kmpl</td>\n",
              "      <td>1497 CC</td>\n",
              "      <td>78 bhp</td>\n",
              "      <td>12.7@ 2,700(kgm@ rpm)</td>\n",
              "      <td>5.0</td>\n",
              "      <td>1497</td>\n",
              "      <td>CC</td>\n",
              "      <td>17.7</td>\n",
              "      <td>kmpl</td>\n",
              "    </tr>\n",
              "    <tr>\n",
              "      <th>3</th>\n",
              "      <td>Hyundai i20 Sportz Diesel</td>\n",
              "      <td>2010</td>\n",
              "      <td>225000</td>\n",
              "      <td>127000</td>\n",
              "      <td>Diesel</td>\n",
              "      <td>Individual</td>\n",
              "      <td>Manual</td>\n",
              "      <td>First Owner</td>\n",
              "      <td>23.0 kmpl</td>\n",
              "      <td>1396 CC</td>\n",
              "      <td>90 bhp</td>\n",
              "      <td>22.4 kgm at 1750-2750rpm</td>\n",
              "      <td>5.0</td>\n",
              "      <td>1396</td>\n",
              "      <td>CC</td>\n",
              "      <td>23.0</td>\n",
              "      <td>kmpl</td>\n",
              "    </tr>\n",
              "    <tr>\n",
              "      <th>4</th>\n",
              "      <td>Maruti Swift VXI BSIII</td>\n",
              "      <td>2007</td>\n",
              "      <td>130000</td>\n",
              "      <td>120000</td>\n",
              "      <td>Petrol</td>\n",
              "      <td>Individual</td>\n",
              "      <td>Manual</td>\n",
              "      <td>First Owner</td>\n",
              "      <td>16.1 kmpl</td>\n",
              "      <td>1298 CC</td>\n",
              "      <td>88.2 bhp</td>\n",
              "      <td>11.5@ 4,500(kgm@ rpm)</td>\n",
              "      <td>5.0</td>\n",
              "      <td>1298</td>\n",
              "      <td>CC</td>\n",
              "      <td>16.1</td>\n",
              "      <td>kmpl</td>\n",
              "    </tr>\n",
              "    <tr>\n",
              "      <th>...</th>\n",
              "      <td>...</td>\n",
              "      <td>...</td>\n",
              "      <td>...</td>\n",
              "      <td>...</td>\n",
              "      <td>...</td>\n",
              "      <td>...</td>\n",
              "      <td>...</td>\n",
              "      <td>...</td>\n",
              "      <td>...</td>\n",
              "      <td>...</td>\n",
              "      <td>...</td>\n",
              "      <td>...</td>\n",
              "      <td>...</td>\n",
              "      <td>...</td>\n",
              "      <td>...</td>\n",
              "      <td>...</td>\n",
              "      <td>...</td>\n",
              "    </tr>\n",
              "    <tr>\n",
              "      <th>8123</th>\n",
              "      <td>Hyundai i20 Magna</td>\n",
              "      <td>2013</td>\n",
              "      <td>320000</td>\n",
              "      <td>110000</td>\n",
              "      <td>Petrol</td>\n",
              "      <td>Individual</td>\n",
              "      <td>Manual</td>\n",
              "      <td>First Owner</td>\n",
              "      <td>18.5 kmpl</td>\n",
              "      <td>1197 CC</td>\n",
              "      <td>82.85 bhp</td>\n",
              "      <td>113.7Nm@ 4000rpm</td>\n",
              "      <td>5.0</td>\n",
              "      <td>1197</td>\n",
              "      <td>CC</td>\n",
              "      <td>18.5</td>\n",
              "      <td>kmpl</td>\n",
              "    </tr>\n",
              "    <tr>\n",
              "      <th>8124</th>\n",
              "      <td>Hyundai Verna CRDi SX</td>\n",
              "      <td>2007</td>\n",
              "      <td>135000</td>\n",
              "      <td>119000</td>\n",
              "      <td>Diesel</td>\n",
              "      <td>Individual</td>\n",
              "      <td>Manual</td>\n",
              "      <td>Fourth &amp; Above Owner</td>\n",
              "      <td>16.8 kmpl</td>\n",
              "      <td>1493 CC</td>\n",
              "      <td>110 bhp</td>\n",
              "      <td>24@ 1,900-2,750(kgm@ rpm)</td>\n",
              "      <td>5.0</td>\n",
              "      <td>1493</td>\n",
              "      <td>CC</td>\n",
              "      <td>16.8</td>\n",
              "      <td>kmpl</td>\n",
              "    </tr>\n",
              "    <tr>\n",
              "      <th>8125</th>\n",
              "      <td>Maruti Swift Dzire ZDi</td>\n",
              "      <td>2009</td>\n",
              "      <td>382000</td>\n",
              "      <td>120000</td>\n",
              "      <td>Diesel</td>\n",
              "      <td>Individual</td>\n",
              "      <td>Manual</td>\n",
              "      <td>First Owner</td>\n",
              "      <td>19.3 kmpl</td>\n",
              "      <td>1248 CC</td>\n",
              "      <td>73.9 bhp</td>\n",
              "      <td>190Nm@ 2000rpm</td>\n",
              "      <td>5.0</td>\n",
              "      <td>1248</td>\n",
              "      <td>CC</td>\n",
              "      <td>19.3</td>\n",
              "      <td>kmpl</td>\n",
              "    </tr>\n",
              "    <tr>\n",
              "      <th>8126</th>\n",
              "      <td>Tata Indigo CR4</td>\n",
              "      <td>2013</td>\n",
              "      <td>290000</td>\n",
              "      <td>25000</td>\n",
              "      <td>Diesel</td>\n",
              "      <td>Individual</td>\n",
              "      <td>Manual</td>\n",
              "      <td>First Owner</td>\n",
              "      <td>23.57 kmpl</td>\n",
              "      <td>1396 CC</td>\n",
              "      <td>70 bhp</td>\n",
              "      <td>140Nm@ 1800-3000rpm</td>\n",
              "      <td>5.0</td>\n",
              "      <td>1396</td>\n",
              "      <td>CC</td>\n",
              "      <td>23.57</td>\n",
              "      <td>kmpl</td>\n",
              "    </tr>\n",
              "    <tr>\n",
              "      <th>8127</th>\n",
              "      <td>Tata Indigo CR4</td>\n",
              "      <td>2013</td>\n",
              "      <td>290000</td>\n",
              "      <td>25000</td>\n",
              "      <td>Diesel</td>\n",
              "      <td>Individual</td>\n",
              "      <td>Manual</td>\n",
              "      <td>First Owner</td>\n",
              "      <td>23.57 kmpl</td>\n",
              "      <td>1396 CC</td>\n",
              "      <td>70 bhp</td>\n",
              "      <td>140Nm@ 1800-3000rpm</td>\n",
              "      <td>5.0</td>\n",
              "      <td>1396</td>\n",
              "      <td>CC</td>\n",
              "      <td>23.57</td>\n",
              "      <td>kmpl</td>\n",
              "    </tr>\n",
              "  </tbody>\n",
              "</table>\n",
              "<p>8128 rows × 17 columns</p>\n",
              "</div>\n",
              "    <div class=\"colab-df-buttons\">\n",
              "\n",
              "  <div class=\"colab-df-container\">\n",
              "    <button class=\"colab-df-convert\" onclick=\"convertToInteractive('df-5571aa33-90a9-443b-b0ba-2b6c17a77adf')\"\n",
              "            title=\"Convert this dataframe to an interactive table.\"\n",
              "            style=\"display:none;\">\n",
              "\n",
              "  <svg xmlns=\"http://www.w3.org/2000/svg\" height=\"24px\" viewBox=\"0 -960 960 960\">\n",
              "    <path d=\"M120-120v-720h720v720H120Zm60-500h600v-160H180v160Zm220 220h160v-160H400v160Zm0 220h160v-160H400v160ZM180-400h160v-160H180v160Zm440 0h160v-160H620v160ZM180-180h160v-160H180v160Zm440 0h160v-160H620v160Z\"/>\n",
              "  </svg>\n",
              "    </button>\n",
              "\n",
              "  <style>\n",
              "    .colab-df-container {\n",
              "      display:flex;\n",
              "      gap: 12px;\n",
              "    }\n",
              "\n",
              "    .colab-df-convert {\n",
              "      background-color: #E8F0FE;\n",
              "      border: none;\n",
              "      border-radius: 50%;\n",
              "      cursor: pointer;\n",
              "      display: none;\n",
              "      fill: #1967D2;\n",
              "      height: 32px;\n",
              "      padding: 0 0 0 0;\n",
              "      width: 32px;\n",
              "    }\n",
              "\n",
              "    .colab-df-convert:hover {\n",
              "      background-color: #E2EBFA;\n",
              "      box-shadow: 0px 1px 2px rgba(60, 64, 67, 0.3), 0px 1px 3px 1px rgba(60, 64, 67, 0.15);\n",
              "      fill: #174EA6;\n",
              "    }\n",
              "\n",
              "    .colab-df-buttons div {\n",
              "      margin-bottom: 4px;\n",
              "    }\n",
              "\n",
              "    [theme=dark] .colab-df-convert {\n",
              "      background-color: #3B4455;\n",
              "      fill: #D2E3FC;\n",
              "    }\n",
              "\n",
              "    [theme=dark] .colab-df-convert:hover {\n",
              "      background-color: #434B5C;\n",
              "      box-shadow: 0px 1px 3px 1px rgba(0, 0, 0, 0.15);\n",
              "      filter: drop-shadow(0px 1px 2px rgba(0, 0, 0, 0.3));\n",
              "      fill: #FFFFFF;\n",
              "    }\n",
              "  </style>\n",
              "\n",
              "    <script>\n",
              "      const buttonEl =\n",
              "        document.querySelector('#df-5571aa33-90a9-443b-b0ba-2b6c17a77adf button.colab-df-convert');\n",
              "      buttonEl.style.display =\n",
              "        google.colab.kernel.accessAllowed ? 'block' : 'none';\n",
              "\n",
              "      async function convertToInteractive(key) {\n",
              "        const element = document.querySelector('#df-5571aa33-90a9-443b-b0ba-2b6c17a77adf');\n",
              "        const dataTable =\n",
              "          await google.colab.kernel.invokeFunction('convertToInteractive',\n",
              "                                                    [key], {});\n",
              "        if (!dataTable) return;\n",
              "\n",
              "        const docLinkHtml = 'Like what you see? Visit the ' +\n",
              "          '<a target=\"_blank\" href=https://colab.research.google.com/notebooks/data_table.ipynb>data table notebook</a>'\n",
              "          + ' to learn more about interactive tables.';\n",
              "        element.innerHTML = '';\n",
              "        dataTable['output_type'] = 'display_data';\n",
              "        await google.colab.output.renderOutput(dataTable, element);\n",
              "        const docLink = document.createElement('div');\n",
              "        docLink.innerHTML = docLinkHtml;\n",
              "        element.appendChild(docLink);\n",
              "      }\n",
              "    </script>\n",
              "  </div>\n",
              "\n",
              "\n",
              "<div id=\"df-2cf3b4bb-4745-4d85-b510-3902048c82fc\">\n",
              "  <button class=\"colab-df-quickchart\" onclick=\"quickchart('df-2cf3b4bb-4745-4d85-b510-3902048c82fc')\"\n",
              "            title=\"Suggest charts.\"\n",
              "            style=\"display:none;\">\n",
              "\n",
              "<svg xmlns=\"http://www.w3.org/2000/svg\" height=\"24px\"viewBox=\"0 0 24 24\"\n",
              "     width=\"24px\">\n",
              "    <g>\n",
              "        <path d=\"M19 3H5c-1.1 0-2 .9-2 2v14c0 1.1.9 2 2 2h14c1.1 0 2-.9 2-2V5c0-1.1-.9-2-2-2zM9 17H7v-7h2v7zm4 0h-2V7h2v10zm4 0h-2v-4h2v4z\"/>\n",
              "    </g>\n",
              "</svg>\n",
              "  </button>\n",
              "\n",
              "<style>\n",
              "  .colab-df-quickchart {\n",
              "      --bg-color: #E8F0FE;\n",
              "      --fill-color: #1967D2;\n",
              "      --hover-bg-color: #E2EBFA;\n",
              "      --hover-fill-color: #174EA6;\n",
              "      --disabled-fill-color: #AAA;\n",
              "      --disabled-bg-color: #DDD;\n",
              "  }\n",
              "\n",
              "  [theme=dark] .colab-df-quickchart {\n",
              "      --bg-color: #3B4455;\n",
              "      --fill-color: #D2E3FC;\n",
              "      --hover-bg-color: #434B5C;\n",
              "      --hover-fill-color: #FFFFFF;\n",
              "      --disabled-bg-color: #3B4455;\n",
              "      --disabled-fill-color: #666;\n",
              "  }\n",
              "\n",
              "  .colab-df-quickchart {\n",
              "    background-color: var(--bg-color);\n",
              "    border: none;\n",
              "    border-radius: 50%;\n",
              "    cursor: pointer;\n",
              "    display: none;\n",
              "    fill: var(--fill-color);\n",
              "    height: 32px;\n",
              "    padding: 0;\n",
              "    width: 32px;\n",
              "  }\n",
              "\n",
              "  .colab-df-quickchart:hover {\n",
              "    background-color: var(--hover-bg-color);\n",
              "    box-shadow: 0 1px 2px rgba(60, 64, 67, 0.3), 0 1px 3px 1px rgba(60, 64, 67, 0.15);\n",
              "    fill: var(--button-hover-fill-color);\n",
              "  }\n",
              "\n",
              "  .colab-df-quickchart-complete:disabled,\n",
              "  .colab-df-quickchart-complete:disabled:hover {\n",
              "    background-color: var(--disabled-bg-color);\n",
              "    fill: var(--disabled-fill-color);\n",
              "    box-shadow: none;\n",
              "  }\n",
              "\n",
              "  .colab-df-spinner {\n",
              "    border: 2px solid var(--fill-color);\n",
              "    border-color: transparent;\n",
              "    border-bottom-color: var(--fill-color);\n",
              "    animation:\n",
              "      spin 1s steps(1) infinite;\n",
              "  }\n",
              "\n",
              "  @keyframes spin {\n",
              "    0% {\n",
              "      border-color: transparent;\n",
              "      border-bottom-color: var(--fill-color);\n",
              "      border-left-color: var(--fill-color);\n",
              "    }\n",
              "    20% {\n",
              "      border-color: transparent;\n",
              "      border-left-color: var(--fill-color);\n",
              "      border-top-color: var(--fill-color);\n",
              "    }\n",
              "    30% {\n",
              "      border-color: transparent;\n",
              "      border-left-color: var(--fill-color);\n",
              "      border-top-color: var(--fill-color);\n",
              "      border-right-color: var(--fill-color);\n",
              "    }\n",
              "    40% {\n",
              "      border-color: transparent;\n",
              "      border-right-color: var(--fill-color);\n",
              "      border-top-color: var(--fill-color);\n",
              "    }\n",
              "    60% {\n",
              "      border-color: transparent;\n",
              "      border-right-color: var(--fill-color);\n",
              "    }\n",
              "    80% {\n",
              "      border-color: transparent;\n",
              "      border-right-color: var(--fill-color);\n",
              "      border-bottom-color: var(--fill-color);\n",
              "    }\n",
              "    90% {\n",
              "      border-color: transparent;\n",
              "      border-bottom-color: var(--fill-color);\n",
              "    }\n",
              "  }\n",
              "</style>\n",
              "\n",
              "  <script>\n",
              "    async function quickchart(key) {\n",
              "      const quickchartButtonEl =\n",
              "        document.querySelector('#' + key + ' button');\n",
              "      quickchartButtonEl.disabled = true;  // To prevent multiple clicks.\n",
              "      quickchartButtonEl.classList.add('colab-df-spinner');\n",
              "      try {\n",
              "        const charts = await google.colab.kernel.invokeFunction(\n",
              "            'suggestCharts', [key], {});\n",
              "      } catch (error) {\n",
              "        console.error('Error during call to suggestCharts:', error);\n",
              "      }\n",
              "      quickchartButtonEl.classList.remove('colab-df-spinner');\n",
              "      quickchartButtonEl.classList.add('colab-df-quickchart-complete');\n",
              "    }\n",
              "    (() => {\n",
              "      let quickchartButtonEl =\n",
              "        document.querySelector('#df-2cf3b4bb-4745-4d85-b510-3902048c82fc button');\n",
              "      quickchartButtonEl.style.display =\n",
              "        google.colab.kernel.accessAllowed ? 'block' : 'none';\n",
              "    })();\n",
              "  </script>\n",
              "</div>\n",
              "    </div>\n",
              "  </div>\n"
            ]
          },
          "metadata": {},
          "execution_count": 168
        }
      ]
    },
    {
      "cell_type": "code",
      "source": [
        " ##null values cleaning\n",
        "df[\"max_power\"].isnull().sum() ##393\n",
        "df['max_power'].value_counts()\n",
        "print(df[\"max_power\"].isnull().sum())#221\n",
        "df['max_power']\n",
        "df[[\"new_max_power\",\"max_power_unit\"]] = df[\"max_power\"].str.split(\" \",0,expand = True)\n",
        "# df[[\"new_max_power\",\"max_power_unit\"]] = int(df[\"max_power\"].str.split(\" \",0,expand = True))\n",
        "df.head()\n",
        "# print(\"old ngine\",df[\"engine\"].value_counts())\n",
        "# print(\"new engine\",df[\"new_engine\"].value_counts())"
      ],
      "metadata": {
        "colab": {
          "base_uri": "https://localhost:8080/",
          "height": 558
        },
        "id": "1rZK2u10_iHS",
        "outputId": "e9107b95-789c-4602-9ecf-32e4ad919dae"
      },
      "execution_count": 169,
      "outputs": [
        {
          "output_type": "stream",
          "name": "stdout",
          "text": [
            "215\n"
          ]
        },
        {
          "output_type": "stream",
          "name": "stderr",
          "text": [
            "<ipython-input-169-50604e57fca3>:6: FutureWarning: In a future version of pandas all arguments of StringMethods.split except for the argument 'pat' will be keyword-only.\n",
            "  df[[\"new_max_power\",\"max_power_unit\"]] = df[\"max_power\"].str.split(\" \",0,expand = True)\n"
          ]
        },
        {
          "output_type": "execute_result",
          "data": {
            "text/plain": [
              "                           name  year  selling_price  km_driven    fuel  \\\n",
              "0        Maruti Swift Dzire VDI  2014         450000     145500  Diesel   \n",
              "1  Skoda Rapid 1.5 TDI Ambition  2014         370000     120000  Diesel   \n",
              "2      Honda City 2017-2020 EXi  2006         158000     140000  Petrol   \n",
              "3     Hyundai i20 Sportz Diesel  2010         225000     127000  Diesel   \n",
              "4        Maruti Swift VXI BSIII  2007         130000     120000  Petrol   \n",
              "\n",
              "  seller_type transmission         owner     mileage   engine   max_power  \\\n",
              "0  Individual       Manual   First Owner   23.4 kmpl  1248 CC      74 bhp   \n",
              "1  Individual       Manual  Second Owner  21.14 kmpl  1498 CC  103.52 bhp   \n",
              "2  Individual       Manual   Third Owner   17.7 kmpl  1497 CC      78 bhp   \n",
              "3  Individual       Manual   First Owner   23.0 kmpl  1396 CC      90 bhp   \n",
              "4  Individual       Manual   First Owner   16.1 kmpl  1298 CC    88.2 bhp   \n",
              "\n",
              "                     torque  seats new_engine engine_unit new_mileage  \\\n",
              "0            190Nm@ 2000rpm    5.0       1248          CC        23.4   \n",
              "1       250Nm@ 1500-2500rpm    5.0       1498          CC       21.14   \n",
              "2     12.7@ 2,700(kgm@ rpm)    5.0       1497          CC        17.7   \n",
              "3  22.4 kgm at 1750-2750rpm    5.0       1396          CC        23.0   \n",
              "4     11.5@ 4,500(kgm@ rpm)    5.0       1298          CC        16.1   \n",
              "\n",
              "  mileage_unit new_max_power max_power_unit  \n",
              "0         kmpl            74            bhp  \n",
              "1         kmpl        103.52            bhp  \n",
              "2         kmpl            78            bhp  \n",
              "3         kmpl            90            bhp  \n",
              "4         kmpl          88.2            bhp  "
            ],
            "text/html": [
              "\n",
              "  <div id=\"df-117316e8-8d07-4d27-b911-fdb5ba35b9ae\" class=\"colab-df-container\">\n",
              "    <div>\n",
              "<style scoped>\n",
              "    .dataframe tbody tr th:only-of-type {\n",
              "        vertical-align: middle;\n",
              "    }\n",
              "\n",
              "    .dataframe tbody tr th {\n",
              "        vertical-align: top;\n",
              "    }\n",
              "\n",
              "    .dataframe thead th {\n",
              "        text-align: right;\n",
              "    }\n",
              "</style>\n",
              "<table border=\"1\" class=\"dataframe\">\n",
              "  <thead>\n",
              "    <tr style=\"text-align: right;\">\n",
              "      <th></th>\n",
              "      <th>name</th>\n",
              "      <th>year</th>\n",
              "      <th>selling_price</th>\n",
              "      <th>km_driven</th>\n",
              "      <th>fuel</th>\n",
              "      <th>seller_type</th>\n",
              "      <th>transmission</th>\n",
              "      <th>owner</th>\n",
              "      <th>mileage</th>\n",
              "      <th>engine</th>\n",
              "      <th>max_power</th>\n",
              "      <th>torque</th>\n",
              "      <th>seats</th>\n",
              "      <th>new_engine</th>\n",
              "      <th>engine_unit</th>\n",
              "      <th>new_mileage</th>\n",
              "      <th>mileage_unit</th>\n",
              "      <th>new_max_power</th>\n",
              "      <th>max_power_unit</th>\n",
              "    </tr>\n",
              "  </thead>\n",
              "  <tbody>\n",
              "    <tr>\n",
              "      <th>0</th>\n",
              "      <td>Maruti Swift Dzire VDI</td>\n",
              "      <td>2014</td>\n",
              "      <td>450000</td>\n",
              "      <td>145500</td>\n",
              "      <td>Diesel</td>\n",
              "      <td>Individual</td>\n",
              "      <td>Manual</td>\n",
              "      <td>First Owner</td>\n",
              "      <td>23.4 kmpl</td>\n",
              "      <td>1248 CC</td>\n",
              "      <td>74 bhp</td>\n",
              "      <td>190Nm@ 2000rpm</td>\n",
              "      <td>5.0</td>\n",
              "      <td>1248</td>\n",
              "      <td>CC</td>\n",
              "      <td>23.4</td>\n",
              "      <td>kmpl</td>\n",
              "      <td>74</td>\n",
              "      <td>bhp</td>\n",
              "    </tr>\n",
              "    <tr>\n",
              "      <th>1</th>\n",
              "      <td>Skoda Rapid 1.5 TDI Ambition</td>\n",
              "      <td>2014</td>\n",
              "      <td>370000</td>\n",
              "      <td>120000</td>\n",
              "      <td>Diesel</td>\n",
              "      <td>Individual</td>\n",
              "      <td>Manual</td>\n",
              "      <td>Second Owner</td>\n",
              "      <td>21.14 kmpl</td>\n",
              "      <td>1498 CC</td>\n",
              "      <td>103.52 bhp</td>\n",
              "      <td>250Nm@ 1500-2500rpm</td>\n",
              "      <td>5.0</td>\n",
              "      <td>1498</td>\n",
              "      <td>CC</td>\n",
              "      <td>21.14</td>\n",
              "      <td>kmpl</td>\n",
              "      <td>103.52</td>\n",
              "      <td>bhp</td>\n",
              "    </tr>\n",
              "    <tr>\n",
              "      <th>2</th>\n",
              "      <td>Honda City 2017-2020 EXi</td>\n",
              "      <td>2006</td>\n",
              "      <td>158000</td>\n",
              "      <td>140000</td>\n",
              "      <td>Petrol</td>\n",
              "      <td>Individual</td>\n",
              "      <td>Manual</td>\n",
              "      <td>Third Owner</td>\n",
              "      <td>17.7 kmpl</td>\n",
              "      <td>1497 CC</td>\n",
              "      <td>78 bhp</td>\n",
              "      <td>12.7@ 2,700(kgm@ rpm)</td>\n",
              "      <td>5.0</td>\n",
              "      <td>1497</td>\n",
              "      <td>CC</td>\n",
              "      <td>17.7</td>\n",
              "      <td>kmpl</td>\n",
              "      <td>78</td>\n",
              "      <td>bhp</td>\n",
              "    </tr>\n",
              "    <tr>\n",
              "      <th>3</th>\n",
              "      <td>Hyundai i20 Sportz Diesel</td>\n",
              "      <td>2010</td>\n",
              "      <td>225000</td>\n",
              "      <td>127000</td>\n",
              "      <td>Diesel</td>\n",
              "      <td>Individual</td>\n",
              "      <td>Manual</td>\n",
              "      <td>First Owner</td>\n",
              "      <td>23.0 kmpl</td>\n",
              "      <td>1396 CC</td>\n",
              "      <td>90 bhp</td>\n",
              "      <td>22.4 kgm at 1750-2750rpm</td>\n",
              "      <td>5.0</td>\n",
              "      <td>1396</td>\n",
              "      <td>CC</td>\n",
              "      <td>23.0</td>\n",
              "      <td>kmpl</td>\n",
              "      <td>90</td>\n",
              "      <td>bhp</td>\n",
              "    </tr>\n",
              "    <tr>\n",
              "      <th>4</th>\n",
              "      <td>Maruti Swift VXI BSIII</td>\n",
              "      <td>2007</td>\n",
              "      <td>130000</td>\n",
              "      <td>120000</td>\n",
              "      <td>Petrol</td>\n",
              "      <td>Individual</td>\n",
              "      <td>Manual</td>\n",
              "      <td>First Owner</td>\n",
              "      <td>16.1 kmpl</td>\n",
              "      <td>1298 CC</td>\n",
              "      <td>88.2 bhp</td>\n",
              "      <td>11.5@ 4,500(kgm@ rpm)</td>\n",
              "      <td>5.0</td>\n",
              "      <td>1298</td>\n",
              "      <td>CC</td>\n",
              "      <td>16.1</td>\n",
              "      <td>kmpl</td>\n",
              "      <td>88.2</td>\n",
              "      <td>bhp</td>\n",
              "    </tr>\n",
              "  </tbody>\n",
              "</table>\n",
              "</div>\n",
              "    <div class=\"colab-df-buttons\">\n",
              "\n",
              "  <div class=\"colab-df-container\">\n",
              "    <button class=\"colab-df-convert\" onclick=\"convertToInteractive('df-117316e8-8d07-4d27-b911-fdb5ba35b9ae')\"\n",
              "            title=\"Convert this dataframe to an interactive table.\"\n",
              "            style=\"display:none;\">\n",
              "\n",
              "  <svg xmlns=\"http://www.w3.org/2000/svg\" height=\"24px\" viewBox=\"0 -960 960 960\">\n",
              "    <path d=\"M120-120v-720h720v720H120Zm60-500h600v-160H180v160Zm220 220h160v-160H400v160Zm0 220h160v-160H400v160ZM180-400h160v-160H180v160Zm440 0h160v-160H620v160ZM180-180h160v-160H180v160Zm440 0h160v-160H620v160Z\"/>\n",
              "  </svg>\n",
              "    </button>\n",
              "\n",
              "  <style>\n",
              "    .colab-df-container {\n",
              "      display:flex;\n",
              "      gap: 12px;\n",
              "    }\n",
              "\n",
              "    .colab-df-convert {\n",
              "      background-color: #E8F0FE;\n",
              "      border: none;\n",
              "      border-radius: 50%;\n",
              "      cursor: pointer;\n",
              "      display: none;\n",
              "      fill: #1967D2;\n",
              "      height: 32px;\n",
              "      padding: 0 0 0 0;\n",
              "      width: 32px;\n",
              "    }\n",
              "\n",
              "    .colab-df-convert:hover {\n",
              "      background-color: #E2EBFA;\n",
              "      box-shadow: 0px 1px 2px rgba(60, 64, 67, 0.3), 0px 1px 3px 1px rgba(60, 64, 67, 0.15);\n",
              "      fill: #174EA6;\n",
              "    }\n",
              "\n",
              "    .colab-df-buttons div {\n",
              "      margin-bottom: 4px;\n",
              "    }\n",
              "\n",
              "    [theme=dark] .colab-df-convert {\n",
              "      background-color: #3B4455;\n",
              "      fill: #D2E3FC;\n",
              "    }\n",
              "\n",
              "    [theme=dark] .colab-df-convert:hover {\n",
              "      background-color: #434B5C;\n",
              "      box-shadow: 0px 1px 3px 1px rgba(0, 0, 0, 0.15);\n",
              "      filter: drop-shadow(0px 1px 2px rgba(0, 0, 0, 0.3));\n",
              "      fill: #FFFFFF;\n",
              "    }\n",
              "  </style>\n",
              "\n",
              "    <script>\n",
              "      const buttonEl =\n",
              "        document.querySelector('#df-117316e8-8d07-4d27-b911-fdb5ba35b9ae button.colab-df-convert');\n",
              "      buttonEl.style.display =\n",
              "        google.colab.kernel.accessAllowed ? 'block' : 'none';\n",
              "\n",
              "      async function convertToInteractive(key) {\n",
              "        const element = document.querySelector('#df-117316e8-8d07-4d27-b911-fdb5ba35b9ae');\n",
              "        const dataTable =\n",
              "          await google.colab.kernel.invokeFunction('convertToInteractive',\n",
              "                                                    [key], {});\n",
              "        if (!dataTable) return;\n",
              "\n",
              "        const docLinkHtml = 'Like what you see? Visit the ' +\n",
              "          '<a target=\"_blank\" href=https://colab.research.google.com/notebooks/data_table.ipynb>data table notebook</a>'\n",
              "          + ' to learn more about interactive tables.';\n",
              "        element.innerHTML = '';\n",
              "        dataTable['output_type'] = 'display_data';\n",
              "        await google.colab.output.renderOutput(dataTable, element);\n",
              "        const docLink = document.createElement('div');\n",
              "        docLink.innerHTML = docLinkHtml;\n",
              "        element.appendChild(docLink);\n",
              "      }\n",
              "    </script>\n",
              "  </div>\n",
              "\n",
              "\n",
              "<div id=\"df-392d62ad-70c0-41e6-b627-ab2a48d9ac91\">\n",
              "  <button class=\"colab-df-quickchart\" onclick=\"quickchart('df-392d62ad-70c0-41e6-b627-ab2a48d9ac91')\"\n",
              "            title=\"Suggest charts.\"\n",
              "            style=\"display:none;\">\n",
              "\n",
              "<svg xmlns=\"http://www.w3.org/2000/svg\" height=\"24px\"viewBox=\"0 0 24 24\"\n",
              "     width=\"24px\">\n",
              "    <g>\n",
              "        <path d=\"M19 3H5c-1.1 0-2 .9-2 2v14c0 1.1.9 2 2 2h14c1.1 0 2-.9 2-2V5c0-1.1-.9-2-2-2zM9 17H7v-7h2v7zm4 0h-2V7h2v10zm4 0h-2v-4h2v4z\"/>\n",
              "    </g>\n",
              "</svg>\n",
              "  </button>\n",
              "\n",
              "<style>\n",
              "  .colab-df-quickchart {\n",
              "      --bg-color: #E8F0FE;\n",
              "      --fill-color: #1967D2;\n",
              "      --hover-bg-color: #E2EBFA;\n",
              "      --hover-fill-color: #174EA6;\n",
              "      --disabled-fill-color: #AAA;\n",
              "      --disabled-bg-color: #DDD;\n",
              "  }\n",
              "\n",
              "  [theme=dark] .colab-df-quickchart {\n",
              "      --bg-color: #3B4455;\n",
              "      --fill-color: #D2E3FC;\n",
              "      --hover-bg-color: #434B5C;\n",
              "      --hover-fill-color: #FFFFFF;\n",
              "      --disabled-bg-color: #3B4455;\n",
              "      --disabled-fill-color: #666;\n",
              "  }\n",
              "\n",
              "  .colab-df-quickchart {\n",
              "    background-color: var(--bg-color);\n",
              "    border: none;\n",
              "    border-radius: 50%;\n",
              "    cursor: pointer;\n",
              "    display: none;\n",
              "    fill: var(--fill-color);\n",
              "    height: 32px;\n",
              "    padding: 0;\n",
              "    width: 32px;\n",
              "  }\n",
              "\n",
              "  .colab-df-quickchart:hover {\n",
              "    background-color: var(--hover-bg-color);\n",
              "    box-shadow: 0 1px 2px rgba(60, 64, 67, 0.3), 0 1px 3px 1px rgba(60, 64, 67, 0.15);\n",
              "    fill: var(--button-hover-fill-color);\n",
              "  }\n",
              "\n",
              "  .colab-df-quickchart-complete:disabled,\n",
              "  .colab-df-quickchart-complete:disabled:hover {\n",
              "    background-color: var(--disabled-bg-color);\n",
              "    fill: var(--disabled-fill-color);\n",
              "    box-shadow: none;\n",
              "  }\n",
              "\n",
              "  .colab-df-spinner {\n",
              "    border: 2px solid var(--fill-color);\n",
              "    border-color: transparent;\n",
              "    border-bottom-color: var(--fill-color);\n",
              "    animation:\n",
              "      spin 1s steps(1) infinite;\n",
              "  }\n",
              "\n",
              "  @keyframes spin {\n",
              "    0% {\n",
              "      border-color: transparent;\n",
              "      border-bottom-color: var(--fill-color);\n",
              "      border-left-color: var(--fill-color);\n",
              "    }\n",
              "    20% {\n",
              "      border-color: transparent;\n",
              "      border-left-color: var(--fill-color);\n",
              "      border-top-color: var(--fill-color);\n",
              "    }\n",
              "    30% {\n",
              "      border-color: transparent;\n",
              "      border-left-color: var(--fill-color);\n",
              "      border-top-color: var(--fill-color);\n",
              "      border-right-color: var(--fill-color);\n",
              "    }\n",
              "    40% {\n",
              "      border-color: transparent;\n",
              "      border-right-color: var(--fill-color);\n",
              "      border-top-color: var(--fill-color);\n",
              "    }\n",
              "    60% {\n",
              "      border-color: transparent;\n",
              "      border-right-color: var(--fill-color);\n",
              "    }\n",
              "    80% {\n",
              "      border-color: transparent;\n",
              "      border-right-color: var(--fill-color);\n",
              "      border-bottom-color: var(--fill-color);\n",
              "    }\n",
              "    90% {\n",
              "      border-color: transparent;\n",
              "      border-bottom-color: var(--fill-color);\n",
              "    }\n",
              "  }\n",
              "</style>\n",
              "\n",
              "  <script>\n",
              "    async function quickchart(key) {\n",
              "      const quickchartButtonEl =\n",
              "        document.querySelector('#' + key + ' button');\n",
              "      quickchartButtonEl.disabled = true;  // To prevent multiple clicks.\n",
              "      quickchartButtonEl.classList.add('colab-df-spinner');\n",
              "      try {\n",
              "        const charts = await google.colab.kernel.invokeFunction(\n",
              "            'suggestCharts', [key], {});\n",
              "      } catch (error) {\n",
              "        console.error('Error during call to suggestCharts:', error);\n",
              "      }\n",
              "      quickchartButtonEl.classList.remove('colab-df-spinner');\n",
              "      quickchartButtonEl.classList.add('colab-df-quickchart-complete');\n",
              "    }\n",
              "    (() => {\n",
              "      let quickchartButtonEl =\n",
              "        document.querySelector('#df-392d62ad-70c0-41e6-b627-ab2a48d9ac91 button');\n",
              "      quickchartButtonEl.style.display =\n",
              "        google.colab.kernel.accessAllowed ? 'block' : 'none';\n",
              "    })();\n",
              "  </script>\n",
              "</div>\n",
              "    </div>\n",
              "  </div>\n"
            ]
          },
          "metadata": {},
          "execution_count": 169
        }
      ]
    },
    {
      "cell_type": "code",
      "source": [
        "df.columns"
      ],
      "metadata": {
        "id": "HVAjUK3YSDfo",
        "colab": {
          "base_uri": "https://localhost:8080/"
        },
        "outputId": "1bec56be-c2d9-462e-bade-de531ef3d71f"
      },
      "execution_count": 170,
      "outputs": [
        {
          "output_type": "execute_result",
          "data": {
            "text/plain": [
              "Index(['name', 'year', 'selling_price', 'km_driven', 'fuel', 'seller_type',\n",
              "       'transmission', 'owner', 'mileage', 'engine', 'max_power', 'torque',\n",
              "       'seats', 'new_engine', 'engine_unit', 'new_mileage', 'mileage_unit',\n",
              "       'new_max_power', 'max_power_unit'],\n",
              "      dtype='object')"
            ]
          },
          "metadata": {},
          "execution_count": 170
        }
      ]
    },
    {
      "cell_type": "code",
      "source": [
        "df.describe()"
      ],
      "metadata": {
        "colab": {
          "base_uri": "https://localhost:8080/",
          "height": 300
        },
        "id": "2pQzTZSDvTxi",
        "outputId": "cecb7331-f895-486e-b038-9ea4d15ef9de"
      },
      "execution_count": 171,
      "outputs": [
        {
          "output_type": "execute_result",
          "data": {
            "text/plain": [
              "              year  selling_price     km_driven        seats\n",
              "count  8128.000000   8.128000e+03  8.128000e+03  7907.000000\n",
              "mean   2013.804011   6.382718e+05  6.981951e+04     5.416719\n",
              "std       4.044249   8.062534e+05  5.655055e+04     0.959588\n",
              "min    1983.000000   2.999900e+04  1.000000e+00     2.000000\n",
              "25%    2011.000000   2.549990e+05  3.500000e+04     5.000000\n",
              "50%    2015.000000   4.500000e+05  6.000000e+04     5.000000\n",
              "75%    2017.000000   6.750000e+05  9.800000e+04     5.000000\n",
              "max    2020.000000   1.000000e+07  2.360457e+06    14.000000"
            ],
            "text/html": [
              "\n",
              "  <div id=\"df-1da210a3-3c72-400c-9e6d-1a96c7c8dc08\" class=\"colab-df-container\">\n",
              "    <div>\n",
              "<style scoped>\n",
              "    .dataframe tbody tr th:only-of-type {\n",
              "        vertical-align: middle;\n",
              "    }\n",
              "\n",
              "    .dataframe tbody tr th {\n",
              "        vertical-align: top;\n",
              "    }\n",
              "\n",
              "    .dataframe thead th {\n",
              "        text-align: right;\n",
              "    }\n",
              "</style>\n",
              "<table border=\"1\" class=\"dataframe\">\n",
              "  <thead>\n",
              "    <tr style=\"text-align: right;\">\n",
              "      <th></th>\n",
              "      <th>year</th>\n",
              "      <th>selling_price</th>\n",
              "      <th>km_driven</th>\n",
              "      <th>seats</th>\n",
              "    </tr>\n",
              "  </thead>\n",
              "  <tbody>\n",
              "    <tr>\n",
              "      <th>count</th>\n",
              "      <td>8128.000000</td>\n",
              "      <td>8.128000e+03</td>\n",
              "      <td>8.128000e+03</td>\n",
              "      <td>7907.000000</td>\n",
              "    </tr>\n",
              "    <tr>\n",
              "      <th>mean</th>\n",
              "      <td>2013.804011</td>\n",
              "      <td>6.382718e+05</td>\n",
              "      <td>6.981951e+04</td>\n",
              "      <td>5.416719</td>\n",
              "    </tr>\n",
              "    <tr>\n",
              "      <th>std</th>\n",
              "      <td>4.044249</td>\n",
              "      <td>8.062534e+05</td>\n",
              "      <td>5.655055e+04</td>\n",
              "      <td>0.959588</td>\n",
              "    </tr>\n",
              "    <tr>\n",
              "      <th>min</th>\n",
              "      <td>1983.000000</td>\n",
              "      <td>2.999900e+04</td>\n",
              "      <td>1.000000e+00</td>\n",
              "      <td>2.000000</td>\n",
              "    </tr>\n",
              "    <tr>\n",
              "      <th>25%</th>\n",
              "      <td>2011.000000</td>\n",
              "      <td>2.549990e+05</td>\n",
              "      <td>3.500000e+04</td>\n",
              "      <td>5.000000</td>\n",
              "    </tr>\n",
              "    <tr>\n",
              "      <th>50%</th>\n",
              "      <td>2015.000000</td>\n",
              "      <td>4.500000e+05</td>\n",
              "      <td>6.000000e+04</td>\n",
              "      <td>5.000000</td>\n",
              "    </tr>\n",
              "    <tr>\n",
              "      <th>75%</th>\n",
              "      <td>2017.000000</td>\n",
              "      <td>6.750000e+05</td>\n",
              "      <td>9.800000e+04</td>\n",
              "      <td>5.000000</td>\n",
              "    </tr>\n",
              "    <tr>\n",
              "      <th>max</th>\n",
              "      <td>2020.000000</td>\n",
              "      <td>1.000000e+07</td>\n",
              "      <td>2.360457e+06</td>\n",
              "      <td>14.000000</td>\n",
              "    </tr>\n",
              "  </tbody>\n",
              "</table>\n",
              "</div>\n",
              "    <div class=\"colab-df-buttons\">\n",
              "\n",
              "  <div class=\"colab-df-container\">\n",
              "    <button class=\"colab-df-convert\" onclick=\"convertToInteractive('df-1da210a3-3c72-400c-9e6d-1a96c7c8dc08')\"\n",
              "            title=\"Convert this dataframe to an interactive table.\"\n",
              "            style=\"display:none;\">\n",
              "\n",
              "  <svg xmlns=\"http://www.w3.org/2000/svg\" height=\"24px\" viewBox=\"0 -960 960 960\">\n",
              "    <path d=\"M120-120v-720h720v720H120Zm60-500h600v-160H180v160Zm220 220h160v-160H400v160Zm0 220h160v-160H400v160ZM180-400h160v-160H180v160Zm440 0h160v-160H620v160ZM180-180h160v-160H180v160Zm440 0h160v-160H620v160Z\"/>\n",
              "  </svg>\n",
              "    </button>\n",
              "\n",
              "  <style>\n",
              "    .colab-df-container {\n",
              "      display:flex;\n",
              "      gap: 12px;\n",
              "    }\n",
              "\n",
              "    .colab-df-convert {\n",
              "      background-color: #E8F0FE;\n",
              "      border: none;\n",
              "      border-radius: 50%;\n",
              "      cursor: pointer;\n",
              "      display: none;\n",
              "      fill: #1967D2;\n",
              "      height: 32px;\n",
              "      padding: 0 0 0 0;\n",
              "      width: 32px;\n",
              "    }\n",
              "\n",
              "    .colab-df-convert:hover {\n",
              "      background-color: #E2EBFA;\n",
              "      box-shadow: 0px 1px 2px rgba(60, 64, 67, 0.3), 0px 1px 3px 1px rgba(60, 64, 67, 0.15);\n",
              "      fill: #174EA6;\n",
              "    }\n",
              "\n",
              "    .colab-df-buttons div {\n",
              "      margin-bottom: 4px;\n",
              "    }\n",
              "\n",
              "    [theme=dark] .colab-df-convert {\n",
              "      background-color: #3B4455;\n",
              "      fill: #D2E3FC;\n",
              "    }\n",
              "\n",
              "    [theme=dark] .colab-df-convert:hover {\n",
              "      background-color: #434B5C;\n",
              "      box-shadow: 0px 1px 3px 1px rgba(0, 0, 0, 0.15);\n",
              "      filter: drop-shadow(0px 1px 2px rgba(0, 0, 0, 0.3));\n",
              "      fill: #FFFFFF;\n",
              "    }\n",
              "  </style>\n",
              "\n",
              "    <script>\n",
              "      const buttonEl =\n",
              "        document.querySelector('#df-1da210a3-3c72-400c-9e6d-1a96c7c8dc08 button.colab-df-convert');\n",
              "      buttonEl.style.display =\n",
              "        google.colab.kernel.accessAllowed ? 'block' : 'none';\n",
              "\n",
              "      async function convertToInteractive(key) {\n",
              "        const element = document.querySelector('#df-1da210a3-3c72-400c-9e6d-1a96c7c8dc08');\n",
              "        const dataTable =\n",
              "          await google.colab.kernel.invokeFunction('convertToInteractive',\n",
              "                                                    [key], {});\n",
              "        if (!dataTable) return;\n",
              "\n",
              "        const docLinkHtml = 'Like what you see? Visit the ' +\n",
              "          '<a target=\"_blank\" href=https://colab.research.google.com/notebooks/data_table.ipynb>data table notebook</a>'\n",
              "          + ' to learn more about interactive tables.';\n",
              "        element.innerHTML = '';\n",
              "        dataTable['output_type'] = 'display_data';\n",
              "        await google.colab.output.renderOutput(dataTable, element);\n",
              "        const docLink = document.createElement('div');\n",
              "        docLink.innerHTML = docLinkHtml;\n",
              "        element.appendChild(docLink);\n",
              "      }\n",
              "    </script>\n",
              "  </div>\n",
              "\n",
              "\n",
              "<div id=\"df-8145ae5e-d2b3-4d6f-9832-74e0a9497e38\">\n",
              "  <button class=\"colab-df-quickchart\" onclick=\"quickchart('df-8145ae5e-d2b3-4d6f-9832-74e0a9497e38')\"\n",
              "            title=\"Suggest charts.\"\n",
              "            style=\"display:none;\">\n",
              "\n",
              "<svg xmlns=\"http://www.w3.org/2000/svg\" height=\"24px\"viewBox=\"0 0 24 24\"\n",
              "     width=\"24px\">\n",
              "    <g>\n",
              "        <path d=\"M19 3H5c-1.1 0-2 .9-2 2v14c0 1.1.9 2 2 2h14c1.1 0 2-.9 2-2V5c0-1.1-.9-2-2-2zM9 17H7v-7h2v7zm4 0h-2V7h2v10zm4 0h-2v-4h2v4z\"/>\n",
              "    </g>\n",
              "</svg>\n",
              "  </button>\n",
              "\n",
              "<style>\n",
              "  .colab-df-quickchart {\n",
              "      --bg-color: #E8F0FE;\n",
              "      --fill-color: #1967D2;\n",
              "      --hover-bg-color: #E2EBFA;\n",
              "      --hover-fill-color: #174EA6;\n",
              "      --disabled-fill-color: #AAA;\n",
              "      --disabled-bg-color: #DDD;\n",
              "  }\n",
              "\n",
              "  [theme=dark] .colab-df-quickchart {\n",
              "      --bg-color: #3B4455;\n",
              "      --fill-color: #D2E3FC;\n",
              "      --hover-bg-color: #434B5C;\n",
              "      --hover-fill-color: #FFFFFF;\n",
              "      --disabled-bg-color: #3B4455;\n",
              "      --disabled-fill-color: #666;\n",
              "  }\n",
              "\n",
              "  .colab-df-quickchart {\n",
              "    background-color: var(--bg-color);\n",
              "    border: none;\n",
              "    border-radius: 50%;\n",
              "    cursor: pointer;\n",
              "    display: none;\n",
              "    fill: var(--fill-color);\n",
              "    height: 32px;\n",
              "    padding: 0;\n",
              "    width: 32px;\n",
              "  }\n",
              "\n",
              "  .colab-df-quickchart:hover {\n",
              "    background-color: var(--hover-bg-color);\n",
              "    box-shadow: 0 1px 2px rgba(60, 64, 67, 0.3), 0 1px 3px 1px rgba(60, 64, 67, 0.15);\n",
              "    fill: var(--button-hover-fill-color);\n",
              "  }\n",
              "\n",
              "  .colab-df-quickchart-complete:disabled,\n",
              "  .colab-df-quickchart-complete:disabled:hover {\n",
              "    background-color: var(--disabled-bg-color);\n",
              "    fill: var(--disabled-fill-color);\n",
              "    box-shadow: none;\n",
              "  }\n",
              "\n",
              "  .colab-df-spinner {\n",
              "    border: 2px solid var(--fill-color);\n",
              "    border-color: transparent;\n",
              "    border-bottom-color: var(--fill-color);\n",
              "    animation:\n",
              "      spin 1s steps(1) infinite;\n",
              "  }\n",
              "\n",
              "  @keyframes spin {\n",
              "    0% {\n",
              "      border-color: transparent;\n",
              "      border-bottom-color: var(--fill-color);\n",
              "      border-left-color: var(--fill-color);\n",
              "    }\n",
              "    20% {\n",
              "      border-color: transparent;\n",
              "      border-left-color: var(--fill-color);\n",
              "      border-top-color: var(--fill-color);\n",
              "    }\n",
              "    30% {\n",
              "      border-color: transparent;\n",
              "      border-left-color: var(--fill-color);\n",
              "      border-top-color: var(--fill-color);\n",
              "      border-right-color: var(--fill-color);\n",
              "    }\n",
              "    40% {\n",
              "      border-color: transparent;\n",
              "      border-right-color: var(--fill-color);\n",
              "      border-top-color: var(--fill-color);\n",
              "    }\n",
              "    60% {\n",
              "      border-color: transparent;\n",
              "      border-right-color: var(--fill-color);\n",
              "    }\n",
              "    80% {\n",
              "      border-color: transparent;\n",
              "      border-right-color: var(--fill-color);\n",
              "      border-bottom-color: var(--fill-color);\n",
              "    }\n",
              "    90% {\n",
              "      border-color: transparent;\n",
              "      border-bottom-color: var(--fill-color);\n",
              "    }\n",
              "  }\n",
              "</style>\n",
              "\n",
              "  <script>\n",
              "    async function quickchart(key) {\n",
              "      const quickchartButtonEl =\n",
              "        document.querySelector('#' + key + ' button');\n",
              "      quickchartButtonEl.disabled = true;  // To prevent multiple clicks.\n",
              "      quickchartButtonEl.classList.add('colab-df-spinner');\n",
              "      try {\n",
              "        const charts = await google.colab.kernel.invokeFunction(\n",
              "            'suggestCharts', [key], {});\n",
              "      } catch (error) {\n",
              "        console.error('Error during call to suggestCharts:', error);\n",
              "      }\n",
              "      quickchartButtonEl.classList.remove('colab-df-spinner');\n",
              "      quickchartButtonEl.classList.add('colab-df-quickchart-complete');\n",
              "    }\n",
              "    (() => {\n",
              "      let quickchartButtonEl =\n",
              "        document.querySelector('#df-8145ae5e-d2b3-4d6f-9832-74e0a9497e38 button');\n",
              "      quickchartButtonEl.style.display =\n",
              "        google.colab.kernel.accessAllowed ? 'block' : 'none';\n",
              "    })();\n",
              "  </script>\n",
              "</div>\n",
              "    </div>\n",
              "  </div>\n"
            ]
          },
          "metadata": {},
          "execution_count": 171
        }
      ]
    },
    {
      "cell_type": "code",
      "source": [
        "\n",
        "df.columns"
      ],
      "metadata": {
        "colab": {
          "base_uri": "https://localhost:8080/"
        },
        "id": "L7hOnlDPPbOm",
        "outputId": "d291351d-33f7-4ff4-ea7b-1525f2f57acb"
      },
      "execution_count": 172,
      "outputs": [
        {
          "output_type": "execute_result",
          "data": {
            "text/plain": [
              "Index(['name', 'year', 'selling_price', 'km_driven', 'fuel', 'seller_type',\n",
              "       'transmission', 'owner', 'mileage', 'engine', 'max_power', 'torque',\n",
              "       'seats', 'new_engine', 'engine_unit', 'new_mileage', 'mileage_unit',\n",
              "       'new_max_power', 'max_power_unit'],\n",
              "      dtype='object')"
            ]
          },
          "metadata": {},
          "execution_count": 172
        }
      ]
    },
    {
      "cell_type": "code",
      "source": [
        "df.info()"
      ],
      "metadata": {
        "colab": {
          "base_uri": "https://localhost:8080/"
        },
        "id": "ExPJWPFBPguv",
        "outputId": "9104a95d-dc61-4e6b-c843-ee5cf6972e41"
      },
      "execution_count": 173,
      "outputs": [
        {
          "output_type": "stream",
          "name": "stdout",
          "text": [
            "<class 'pandas.core.frame.DataFrame'>\n",
            "RangeIndex: 8128 entries, 0 to 8127\n",
            "Data columns (total 19 columns):\n",
            " #   Column          Non-Null Count  Dtype  \n",
            "---  ------          --------------  -----  \n",
            " 0   name            8128 non-null   object \n",
            " 1   year            8128 non-null   int64  \n",
            " 2   selling_price   8128 non-null   int64  \n",
            " 3   km_driven       8128 non-null   int64  \n",
            " 4   fuel            8128 non-null   object \n",
            " 5   seller_type     8128 non-null   object \n",
            " 6   transmission    8128 non-null   object \n",
            " 7   owner           8128 non-null   object \n",
            " 8   mileage         7907 non-null   object \n",
            " 9   engine          7907 non-null   object \n",
            " 10  max_power       7913 non-null   object \n",
            " 11  torque          7906 non-null   object \n",
            " 12  seats           7907 non-null   float64\n",
            " 13  new_engine      7907 non-null   object \n",
            " 14  engine_unit     7907 non-null   object \n",
            " 15  new_mileage     7907 non-null   object \n",
            " 16  mileage_unit    7907 non-null   object \n",
            " 17  new_max_power   7913 non-null   object \n",
            " 18  max_power_unit  7907 non-null   object \n",
            "dtypes: float64(1), int64(3), object(15)\n",
            "memory usage: 1.2+ MB\n"
          ]
        }
      ]
    },
    {
      "cell_type": "code",
      "source": [
        "df['new_engine'] = pd.to_numeric(df['new_engine'])\n",
        "df['new_mileage'] = pd.to_numeric(df['new_mileage'])\n",
        "df['new_max_power'] = pd.to_numeric(df['new_max_power'])\n",
        "df.info()"
      ],
      "metadata": {
        "colab": {
          "base_uri": "https://localhost:8080/"
        },
        "id": "zuv9md3hQGNL",
        "outputId": "28f6d289-7127-435e-eaf0-cb14502bf027"
      },
      "execution_count": 174,
      "outputs": [
        {
          "output_type": "stream",
          "name": "stdout",
          "text": [
            "<class 'pandas.core.frame.DataFrame'>\n",
            "RangeIndex: 8128 entries, 0 to 8127\n",
            "Data columns (total 19 columns):\n",
            " #   Column          Non-Null Count  Dtype  \n",
            "---  ------          --------------  -----  \n",
            " 0   name            8128 non-null   object \n",
            " 1   year            8128 non-null   int64  \n",
            " 2   selling_price   8128 non-null   int64  \n",
            " 3   km_driven       8128 non-null   int64  \n",
            " 4   fuel            8128 non-null   object \n",
            " 5   seller_type     8128 non-null   object \n",
            " 6   transmission    8128 non-null   object \n",
            " 7   owner           8128 non-null   object \n",
            " 8   mileage         7907 non-null   object \n",
            " 9   engine          7907 non-null   object \n",
            " 10  max_power       7913 non-null   object \n",
            " 11  torque          7906 non-null   object \n",
            " 12  seats           7907 non-null   float64\n",
            " 13  new_engine      7907 non-null   float64\n",
            " 14  engine_unit     7907 non-null   object \n",
            " 15  new_mileage     7907 non-null   float64\n",
            " 16  mileage_unit    7907 non-null   object \n",
            " 17  new_max_power   7912 non-null   float64\n",
            " 18  max_power_unit  7907 non-null   object \n",
            "dtypes: float64(4), int64(3), object(12)\n",
            "memory usage: 1.2+ MB\n"
          ]
        }
      ]
    },
    {
      "cell_type": "code",
      "source": [
        "df.describe()"
      ],
      "metadata": {
        "colab": {
          "base_uri": "https://localhost:8080/",
          "height": 300
        },
        "id": "MzQilrNS1Hiu",
        "outputId": "d1fc7df9-89ed-4b47-f912-a8d4817a12bc"
      },
      "execution_count": 175,
      "outputs": [
        {
          "output_type": "execute_result",
          "data": {
            "text/plain": [
              "              year  selling_price     km_driven        seats   new_engine  \\\n",
              "count  8128.000000   8.128000e+03  8.128000e+03  7907.000000  7907.000000   \n",
              "mean   2013.804011   6.382718e+05  6.981951e+04     5.416719  1458.625016   \n",
              "std       4.044249   8.062534e+05  5.655055e+04     0.959588   503.916303   \n",
              "min    1983.000000   2.999900e+04  1.000000e+00     2.000000   624.000000   \n",
              "25%    2011.000000   2.549990e+05  3.500000e+04     5.000000  1197.000000   \n",
              "50%    2015.000000   4.500000e+05  6.000000e+04     5.000000  1248.000000   \n",
              "75%    2017.000000   6.750000e+05  9.800000e+04     5.000000  1582.000000   \n",
              "max    2020.000000   1.000000e+07  2.360457e+06    14.000000  3604.000000   \n",
              "\n",
              "       new_mileage  new_max_power  \n",
              "count  7907.000000    7912.000000  \n",
              "mean     19.418783      91.517919  \n",
              "std       4.037145      35.822499  \n",
              "min       0.000000       0.000000  \n",
              "25%      16.780000      68.050000  \n",
              "50%      19.300000      82.000000  \n",
              "75%      22.320000     102.000000  \n",
              "max      42.000000     400.000000  "
            ],
            "text/html": [
              "\n",
              "  <div id=\"df-df953b0a-1fcf-4eeb-bd74-4536f1707569\" class=\"colab-df-container\">\n",
              "    <div>\n",
              "<style scoped>\n",
              "    .dataframe tbody tr th:only-of-type {\n",
              "        vertical-align: middle;\n",
              "    }\n",
              "\n",
              "    .dataframe tbody tr th {\n",
              "        vertical-align: top;\n",
              "    }\n",
              "\n",
              "    .dataframe thead th {\n",
              "        text-align: right;\n",
              "    }\n",
              "</style>\n",
              "<table border=\"1\" class=\"dataframe\">\n",
              "  <thead>\n",
              "    <tr style=\"text-align: right;\">\n",
              "      <th></th>\n",
              "      <th>year</th>\n",
              "      <th>selling_price</th>\n",
              "      <th>km_driven</th>\n",
              "      <th>seats</th>\n",
              "      <th>new_engine</th>\n",
              "      <th>new_mileage</th>\n",
              "      <th>new_max_power</th>\n",
              "    </tr>\n",
              "  </thead>\n",
              "  <tbody>\n",
              "    <tr>\n",
              "      <th>count</th>\n",
              "      <td>8128.000000</td>\n",
              "      <td>8.128000e+03</td>\n",
              "      <td>8.128000e+03</td>\n",
              "      <td>7907.000000</td>\n",
              "      <td>7907.000000</td>\n",
              "      <td>7907.000000</td>\n",
              "      <td>7912.000000</td>\n",
              "    </tr>\n",
              "    <tr>\n",
              "      <th>mean</th>\n",
              "      <td>2013.804011</td>\n",
              "      <td>6.382718e+05</td>\n",
              "      <td>6.981951e+04</td>\n",
              "      <td>5.416719</td>\n",
              "      <td>1458.625016</td>\n",
              "      <td>19.418783</td>\n",
              "      <td>91.517919</td>\n",
              "    </tr>\n",
              "    <tr>\n",
              "      <th>std</th>\n",
              "      <td>4.044249</td>\n",
              "      <td>8.062534e+05</td>\n",
              "      <td>5.655055e+04</td>\n",
              "      <td>0.959588</td>\n",
              "      <td>503.916303</td>\n",
              "      <td>4.037145</td>\n",
              "      <td>35.822499</td>\n",
              "    </tr>\n",
              "    <tr>\n",
              "      <th>min</th>\n",
              "      <td>1983.000000</td>\n",
              "      <td>2.999900e+04</td>\n",
              "      <td>1.000000e+00</td>\n",
              "      <td>2.000000</td>\n",
              "      <td>624.000000</td>\n",
              "      <td>0.000000</td>\n",
              "      <td>0.000000</td>\n",
              "    </tr>\n",
              "    <tr>\n",
              "      <th>25%</th>\n",
              "      <td>2011.000000</td>\n",
              "      <td>2.549990e+05</td>\n",
              "      <td>3.500000e+04</td>\n",
              "      <td>5.000000</td>\n",
              "      <td>1197.000000</td>\n",
              "      <td>16.780000</td>\n",
              "      <td>68.050000</td>\n",
              "    </tr>\n",
              "    <tr>\n",
              "      <th>50%</th>\n",
              "      <td>2015.000000</td>\n",
              "      <td>4.500000e+05</td>\n",
              "      <td>6.000000e+04</td>\n",
              "      <td>5.000000</td>\n",
              "      <td>1248.000000</td>\n",
              "      <td>19.300000</td>\n",
              "      <td>82.000000</td>\n",
              "    </tr>\n",
              "    <tr>\n",
              "      <th>75%</th>\n",
              "      <td>2017.000000</td>\n",
              "      <td>6.750000e+05</td>\n",
              "      <td>9.800000e+04</td>\n",
              "      <td>5.000000</td>\n",
              "      <td>1582.000000</td>\n",
              "      <td>22.320000</td>\n",
              "      <td>102.000000</td>\n",
              "    </tr>\n",
              "    <tr>\n",
              "      <th>max</th>\n",
              "      <td>2020.000000</td>\n",
              "      <td>1.000000e+07</td>\n",
              "      <td>2.360457e+06</td>\n",
              "      <td>14.000000</td>\n",
              "      <td>3604.000000</td>\n",
              "      <td>42.000000</td>\n",
              "      <td>400.000000</td>\n",
              "    </tr>\n",
              "  </tbody>\n",
              "</table>\n",
              "</div>\n",
              "    <div class=\"colab-df-buttons\">\n",
              "\n",
              "  <div class=\"colab-df-container\">\n",
              "    <button class=\"colab-df-convert\" onclick=\"convertToInteractive('df-df953b0a-1fcf-4eeb-bd74-4536f1707569')\"\n",
              "            title=\"Convert this dataframe to an interactive table.\"\n",
              "            style=\"display:none;\">\n",
              "\n",
              "  <svg xmlns=\"http://www.w3.org/2000/svg\" height=\"24px\" viewBox=\"0 -960 960 960\">\n",
              "    <path d=\"M120-120v-720h720v720H120Zm60-500h600v-160H180v160Zm220 220h160v-160H400v160Zm0 220h160v-160H400v160ZM180-400h160v-160H180v160Zm440 0h160v-160H620v160ZM180-180h160v-160H180v160Zm440 0h160v-160H620v160Z\"/>\n",
              "  </svg>\n",
              "    </button>\n",
              "\n",
              "  <style>\n",
              "    .colab-df-container {\n",
              "      display:flex;\n",
              "      gap: 12px;\n",
              "    }\n",
              "\n",
              "    .colab-df-convert {\n",
              "      background-color: #E8F0FE;\n",
              "      border: none;\n",
              "      border-radius: 50%;\n",
              "      cursor: pointer;\n",
              "      display: none;\n",
              "      fill: #1967D2;\n",
              "      height: 32px;\n",
              "      padding: 0 0 0 0;\n",
              "      width: 32px;\n",
              "    }\n",
              "\n",
              "    .colab-df-convert:hover {\n",
              "      background-color: #E2EBFA;\n",
              "      box-shadow: 0px 1px 2px rgba(60, 64, 67, 0.3), 0px 1px 3px 1px rgba(60, 64, 67, 0.15);\n",
              "      fill: #174EA6;\n",
              "    }\n",
              "\n",
              "    .colab-df-buttons div {\n",
              "      margin-bottom: 4px;\n",
              "    }\n",
              "\n",
              "    [theme=dark] .colab-df-convert {\n",
              "      background-color: #3B4455;\n",
              "      fill: #D2E3FC;\n",
              "    }\n",
              "\n",
              "    [theme=dark] .colab-df-convert:hover {\n",
              "      background-color: #434B5C;\n",
              "      box-shadow: 0px 1px 3px 1px rgba(0, 0, 0, 0.15);\n",
              "      filter: drop-shadow(0px 1px 2px rgba(0, 0, 0, 0.3));\n",
              "      fill: #FFFFFF;\n",
              "    }\n",
              "  </style>\n",
              "\n",
              "    <script>\n",
              "      const buttonEl =\n",
              "        document.querySelector('#df-df953b0a-1fcf-4eeb-bd74-4536f1707569 button.colab-df-convert');\n",
              "      buttonEl.style.display =\n",
              "        google.colab.kernel.accessAllowed ? 'block' : 'none';\n",
              "\n",
              "      async function convertToInteractive(key) {\n",
              "        const element = document.querySelector('#df-df953b0a-1fcf-4eeb-bd74-4536f1707569');\n",
              "        const dataTable =\n",
              "          await google.colab.kernel.invokeFunction('convertToInteractive',\n",
              "                                                    [key], {});\n",
              "        if (!dataTable) return;\n",
              "\n",
              "        const docLinkHtml = 'Like what you see? Visit the ' +\n",
              "          '<a target=\"_blank\" href=https://colab.research.google.com/notebooks/data_table.ipynb>data table notebook</a>'\n",
              "          + ' to learn more about interactive tables.';\n",
              "        element.innerHTML = '';\n",
              "        dataTable['output_type'] = 'display_data';\n",
              "        await google.colab.output.renderOutput(dataTable, element);\n",
              "        const docLink = document.createElement('div');\n",
              "        docLink.innerHTML = docLinkHtml;\n",
              "        element.appendChild(docLink);\n",
              "      }\n",
              "    </script>\n",
              "  </div>\n",
              "\n",
              "\n",
              "<div id=\"df-d255061f-b331-40e2-a70f-54aab75450c6\">\n",
              "  <button class=\"colab-df-quickchart\" onclick=\"quickchart('df-d255061f-b331-40e2-a70f-54aab75450c6')\"\n",
              "            title=\"Suggest charts.\"\n",
              "            style=\"display:none;\">\n",
              "\n",
              "<svg xmlns=\"http://www.w3.org/2000/svg\" height=\"24px\"viewBox=\"0 0 24 24\"\n",
              "     width=\"24px\">\n",
              "    <g>\n",
              "        <path d=\"M19 3H5c-1.1 0-2 .9-2 2v14c0 1.1.9 2 2 2h14c1.1 0 2-.9 2-2V5c0-1.1-.9-2-2-2zM9 17H7v-7h2v7zm4 0h-2V7h2v10zm4 0h-2v-4h2v4z\"/>\n",
              "    </g>\n",
              "</svg>\n",
              "  </button>\n",
              "\n",
              "<style>\n",
              "  .colab-df-quickchart {\n",
              "      --bg-color: #E8F0FE;\n",
              "      --fill-color: #1967D2;\n",
              "      --hover-bg-color: #E2EBFA;\n",
              "      --hover-fill-color: #174EA6;\n",
              "      --disabled-fill-color: #AAA;\n",
              "      --disabled-bg-color: #DDD;\n",
              "  }\n",
              "\n",
              "  [theme=dark] .colab-df-quickchart {\n",
              "      --bg-color: #3B4455;\n",
              "      --fill-color: #D2E3FC;\n",
              "      --hover-bg-color: #434B5C;\n",
              "      --hover-fill-color: #FFFFFF;\n",
              "      --disabled-bg-color: #3B4455;\n",
              "      --disabled-fill-color: #666;\n",
              "  }\n",
              "\n",
              "  .colab-df-quickchart {\n",
              "    background-color: var(--bg-color);\n",
              "    border: none;\n",
              "    border-radius: 50%;\n",
              "    cursor: pointer;\n",
              "    display: none;\n",
              "    fill: var(--fill-color);\n",
              "    height: 32px;\n",
              "    padding: 0;\n",
              "    width: 32px;\n",
              "  }\n",
              "\n",
              "  .colab-df-quickchart:hover {\n",
              "    background-color: var(--hover-bg-color);\n",
              "    box-shadow: 0 1px 2px rgba(60, 64, 67, 0.3), 0 1px 3px 1px rgba(60, 64, 67, 0.15);\n",
              "    fill: var(--button-hover-fill-color);\n",
              "  }\n",
              "\n",
              "  .colab-df-quickchart-complete:disabled,\n",
              "  .colab-df-quickchart-complete:disabled:hover {\n",
              "    background-color: var(--disabled-bg-color);\n",
              "    fill: var(--disabled-fill-color);\n",
              "    box-shadow: none;\n",
              "  }\n",
              "\n",
              "  .colab-df-spinner {\n",
              "    border: 2px solid var(--fill-color);\n",
              "    border-color: transparent;\n",
              "    border-bottom-color: var(--fill-color);\n",
              "    animation:\n",
              "      spin 1s steps(1) infinite;\n",
              "  }\n",
              "\n",
              "  @keyframes spin {\n",
              "    0% {\n",
              "      border-color: transparent;\n",
              "      border-bottom-color: var(--fill-color);\n",
              "      border-left-color: var(--fill-color);\n",
              "    }\n",
              "    20% {\n",
              "      border-color: transparent;\n",
              "      border-left-color: var(--fill-color);\n",
              "      border-top-color: var(--fill-color);\n",
              "    }\n",
              "    30% {\n",
              "      border-color: transparent;\n",
              "      border-left-color: var(--fill-color);\n",
              "      border-top-color: var(--fill-color);\n",
              "      border-right-color: var(--fill-color);\n",
              "    }\n",
              "    40% {\n",
              "      border-color: transparent;\n",
              "      border-right-color: var(--fill-color);\n",
              "      border-top-color: var(--fill-color);\n",
              "    }\n",
              "    60% {\n",
              "      border-color: transparent;\n",
              "      border-right-color: var(--fill-color);\n",
              "    }\n",
              "    80% {\n",
              "      border-color: transparent;\n",
              "      border-right-color: var(--fill-color);\n",
              "      border-bottom-color: var(--fill-color);\n",
              "    }\n",
              "    90% {\n",
              "      border-color: transparent;\n",
              "      border-bottom-color: var(--fill-color);\n",
              "    }\n",
              "  }\n",
              "</style>\n",
              "\n",
              "  <script>\n",
              "    async function quickchart(key) {\n",
              "      const quickchartButtonEl =\n",
              "        document.querySelector('#' + key + ' button');\n",
              "      quickchartButtonEl.disabled = true;  // To prevent multiple clicks.\n",
              "      quickchartButtonEl.classList.add('colab-df-spinner');\n",
              "      try {\n",
              "        const charts = await google.colab.kernel.invokeFunction(\n",
              "            'suggestCharts', [key], {});\n",
              "      } catch (error) {\n",
              "        console.error('Error during call to suggestCharts:', error);\n",
              "      }\n",
              "      quickchartButtonEl.classList.remove('colab-df-spinner');\n",
              "      quickchartButtonEl.classList.add('colab-df-quickchart-complete');\n",
              "    }\n",
              "    (() => {\n",
              "      let quickchartButtonEl =\n",
              "        document.querySelector('#df-d255061f-b331-40e2-a70f-54aab75450c6 button');\n",
              "      quickchartButtonEl.style.display =\n",
              "        google.colab.kernel.accessAllowed ? 'block' : 'none';\n",
              "    })();\n",
              "  </script>\n",
              "</div>\n",
              "    </div>\n",
              "  </div>\n"
            ]
          },
          "metadata": {},
          "execution_count": 175
        }
      ]
    },
    {
      "cell_type": "code",
      "source": [
        "df['new_engine'].isnull().sum()"
      ],
      "metadata": {
        "colab": {
          "base_uri": "https://localhost:8080/"
        },
        "id": "PfldPDZQ3j3H",
        "outputId": "794e3e80-83f3-4164-8ddf-8a51500b798c"
      },
      "execution_count": 176,
      "outputs": [
        {
          "output_type": "execute_result",
          "data": {
            "text/plain": [
              "221"
            ]
          },
          "metadata": {},
          "execution_count": 176
        }
      ]
    },
    {
      "cell_type": "code",
      "source": [
        "# missing_values = df.isnull().sum()\n",
        "# missing_values = missing_values[missing_values>0]\n",
        "# missing_percent =  round(missing_values/len(df) , 4)*100\n",
        "# pd.DataFrame({\"Number of missing values\":missing_values, \"Percentage\": missing_percent})"
      ],
      "metadata": {
        "id": "oFfWVcu33qAw"
      },
      "execution_count": 177,
      "outputs": []
    },
    {
      "cell_type": "code",
      "source": [
        "df.info()"
      ],
      "metadata": {
        "id": "wHu5LV6FmNXp",
        "colab": {
          "base_uri": "https://localhost:8080/"
        },
        "outputId": "857f711e-35ef-4e79-9ce3-60fffb3546b4"
      },
      "execution_count": 178,
      "outputs": [
        {
          "output_type": "stream",
          "name": "stdout",
          "text": [
            "<class 'pandas.core.frame.DataFrame'>\n",
            "RangeIndex: 8128 entries, 0 to 8127\n",
            "Data columns (total 19 columns):\n",
            " #   Column          Non-Null Count  Dtype  \n",
            "---  ------          --------------  -----  \n",
            " 0   name            8128 non-null   object \n",
            " 1   year            8128 non-null   int64  \n",
            " 2   selling_price   8128 non-null   int64  \n",
            " 3   km_driven       8128 non-null   int64  \n",
            " 4   fuel            8128 non-null   object \n",
            " 5   seller_type     8128 non-null   object \n",
            " 6   transmission    8128 non-null   object \n",
            " 7   owner           8128 non-null   object \n",
            " 8   mileage         7907 non-null   object \n",
            " 9   engine          7907 non-null   object \n",
            " 10  max_power       7913 non-null   object \n",
            " 11  torque          7906 non-null   object \n",
            " 12  seats           7907 non-null   float64\n",
            " 13  new_engine      7907 non-null   float64\n",
            " 14  engine_unit     7907 non-null   object \n",
            " 15  new_mileage     7907 non-null   float64\n",
            " 16  mileage_unit    7907 non-null   object \n",
            " 17  new_max_power   7912 non-null   float64\n",
            " 18  max_power_unit  7907 non-null   object \n",
            "dtypes: float64(4), int64(3), object(12)\n",
            "memory usage: 1.2+ MB\n"
          ]
        }
      ]
    },
    {
      "cell_type": "markdown",
      "source": [
        "# Here note that since we have already taken care of engine(in CC) , mileage and maxpower we will only consider new version of those features. so we will drop columns **mileage** , **engine** and **maxpower** columns for simplicity.\n",
        "Also remove the units columns from df"
      ],
      "metadata": {
        "id": "EdaQQsYg0gXc"
      }
    },
    {
      "cell_type": "code",
      "source": [
        "df1 = df.drop(['engine','mileage','max_power','mileage_unit','max_power_unit','engine_unit'], axis =1)\n",
        "df1"
      ],
      "metadata": {
        "colab": {
          "base_uri": "https://localhost:8080/",
          "height": 423
        },
        "id": "vz75zJJq0Yb-",
        "outputId": "fb9e2f6b-6950-474a-8cbf-1590bc8bd6aa"
      },
      "execution_count": 179,
      "outputs": [
        {
          "output_type": "execute_result",
          "data": {
            "text/plain": [
              "                              name  year  selling_price  km_driven    fuel  \\\n",
              "0           Maruti Swift Dzire VDI  2014         450000     145500  Diesel   \n",
              "1     Skoda Rapid 1.5 TDI Ambition  2014         370000     120000  Diesel   \n",
              "2         Honda City 2017-2020 EXi  2006         158000     140000  Petrol   \n",
              "3        Hyundai i20 Sportz Diesel  2010         225000     127000  Diesel   \n",
              "4           Maruti Swift VXI BSIII  2007         130000     120000  Petrol   \n",
              "...                            ...   ...            ...        ...     ...   \n",
              "8123             Hyundai i20 Magna  2013         320000     110000  Petrol   \n",
              "8124         Hyundai Verna CRDi SX  2007         135000     119000  Diesel   \n",
              "8125        Maruti Swift Dzire ZDi  2009         382000     120000  Diesel   \n",
              "8126               Tata Indigo CR4  2013         290000      25000  Diesel   \n",
              "8127               Tata Indigo CR4  2013         290000      25000  Diesel   \n",
              "\n",
              "     seller_type transmission                 owner  \\\n",
              "0     Individual       Manual           First Owner   \n",
              "1     Individual       Manual          Second Owner   \n",
              "2     Individual       Manual           Third Owner   \n",
              "3     Individual       Manual           First Owner   \n",
              "4     Individual       Manual           First Owner   \n",
              "...          ...          ...                   ...   \n",
              "8123  Individual       Manual           First Owner   \n",
              "8124  Individual       Manual  Fourth & Above Owner   \n",
              "8125  Individual       Manual           First Owner   \n",
              "8126  Individual       Manual           First Owner   \n",
              "8127  Individual       Manual           First Owner   \n",
              "\n",
              "                         torque  seats  new_engine  new_mileage  new_max_power  \n",
              "0                190Nm@ 2000rpm    5.0      1248.0        23.40          74.00  \n",
              "1           250Nm@ 1500-2500rpm    5.0      1498.0        21.14         103.52  \n",
              "2         12.7@ 2,700(kgm@ rpm)    5.0      1497.0        17.70          78.00  \n",
              "3      22.4 kgm at 1750-2750rpm    5.0      1396.0        23.00          90.00  \n",
              "4         11.5@ 4,500(kgm@ rpm)    5.0      1298.0        16.10          88.20  \n",
              "...                         ...    ...         ...          ...            ...  \n",
              "8123           113.7Nm@ 4000rpm    5.0      1197.0        18.50          82.85  \n",
              "8124  24@ 1,900-2,750(kgm@ rpm)    5.0      1493.0        16.80         110.00  \n",
              "8125             190Nm@ 2000rpm    5.0      1248.0        19.30          73.90  \n",
              "8126        140Nm@ 1800-3000rpm    5.0      1396.0        23.57          70.00  \n",
              "8127        140Nm@ 1800-3000rpm    5.0      1396.0        23.57          70.00  \n",
              "\n",
              "[8128 rows x 13 columns]"
            ],
            "text/html": [
              "\n",
              "  <div id=\"df-07b055a0-89ae-41cb-9f67-e2f16d33f48b\" class=\"colab-df-container\">\n",
              "    <div>\n",
              "<style scoped>\n",
              "    .dataframe tbody tr th:only-of-type {\n",
              "        vertical-align: middle;\n",
              "    }\n",
              "\n",
              "    .dataframe tbody tr th {\n",
              "        vertical-align: top;\n",
              "    }\n",
              "\n",
              "    .dataframe thead th {\n",
              "        text-align: right;\n",
              "    }\n",
              "</style>\n",
              "<table border=\"1\" class=\"dataframe\">\n",
              "  <thead>\n",
              "    <tr style=\"text-align: right;\">\n",
              "      <th></th>\n",
              "      <th>name</th>\n",
              "      <th>year</th>\n",
              "      <th>selling_price</th>\n",
              "      <th>km_driven</th>\n",
              "      <th>fuel</th>\n",
              "      <th>seller_type</th>\n",
              "      <th>transmission</th>\n",
              "      <th>owner</th>\n",
              "      <th>torque</th>\n",
              "      <th>seats</th>\n",
              "      <th>new_engine</th>\n",
              "      <th>new_mileage</th>\n",
              "      <th>new_max_power</th>\n",
              "    </tr>\n",
              "  </thead>\n",
              "  <tbody>\n",
              "    <tr>\n",
              "      <th>0</th>\n",
              "      <td>Maruti Swift Dzire VDI</td>\n",
              "      <td>2014</td>\n",
              "      <td>450000</td>\n",
              "      <td>145500</td>\n",
              "      <td>Diesel</td>\n",
              "      <td>Individual</td>\n",
              "      <td>Manual</td>\n",
              "      <td>First Owner</td>\n",
              "      <td>190Nm@ 2000rpm</td>\n",
              "      <td>5.0</td>\n",
              "      <td>1248.0</td>\n",
              "      <td>23.40</td>\n",
              "      <td>74.00</td>\n",
              "    </tr>\n",
              "    <tr>\n",
              "      <th>1</th>\n",
              "      <td>Skoda Rapid 1.5 TDI Ambition</td>\n",
              "      <td>2014</td>\n",
              "      <td>370000</td>\n",
              "      <td>120000</td>\n",
              "      <td>Diesel</td>\n",
              "      <td>Individual</td>\n",
              "      <td>Manual</td>\n",
              "      <td>Second Owner</td>\n",
              "      <td>250Nm@ 1500-2500rpm</td>\n",
              "      <td>5.0</td>\n",
              "      <td>1498.0</td>\n",
              "      <td>21.14</td>\n",
              "      <td>103.52</td>\n",
              "    </tr>\n",
              "    <tr>\n",
              "      <th>2</th>\n",
              "      <td>Honda City 2017-2020 EXi</td>\n",
              "      <td>2006</td>\n",
              "      <td>158000</td>\n",
              "      <td>140000</td>\n",
              "      <td>Petrol</td>\n",
              "      <td>Individual</td>\n",
              "      <td>Manual</td>\n",
              "      <td>Third Owner</td>\n",
              "      <td>12.7@ 2,700(kgm@ rpm)</td>\n",
              "      <td>5.0</td>\n",
              "      <td>1497.0</td>\n",
              "      <td>17.70</td>\n",
              "      <td>78.00</td>\n",
              "    </tr>\n",
              "    <tr>\n",
              "      <th>3</th>\n",
              "      <td>Hyundai i20 Sportz Diesel</td>\n",
              "      <td>2010</td>\n",
              "      <td>225000</td>\n",
              "      <td>127000</td>\n",
              "      <td>Diesel</td>\n",
              "      <td>Individual</td>\n",
              "      <td>Manual</td>\n",
              "      <td>First Owner</td>\n",
              "      <td>22.4 kgm at 1750-2750rpm</td>\n",
              "      <td>5.0</td>\n",
              "      <td>1396.0</td>\n",
              "      <td>23.00</td>\n",
              "      <td>90.00</td>\n",
              "    </tr>\n",
              "    <tr>\n",
              "      <th>4</th>\n",
              "      <td>Maruti Swift VXI BSIII</td>\n",
              "      <td>2007</td>\n",
              "      <td>130000</td>\n",
              "      <td>120000</td>\n",
              "      <td>Petrol</td>\n",
              "      <td>Individual</td>\n",
              "      <td>Manual</td>\n",
              "      <td>First Owner</td>\n",
              "      <td>11.5@ 4,500(kgm@ rpm)</td>\n",
              "      <td>5.0</td>\n",
              "      <td>1298.0</td>\n",
              "      <td>16.10</td>\n",
              "      <td>88.20</td>\n",
              "    </tr>\n",
              "    <tr>\n",
              "      <th>...</th>\n",
              "      <td>...</td>\n",
              "      <td>...</td>\n",
              "      <td>...</td>\n",
              "      <td>...</td>\n",
              "      <td>...</td>\n",
              "      <td>...</td>\n",
              "      <td>...</td>\n",
              "      <td>...</td>\n",
              "      <td>...</td>\n",
              "      <td>...</td>\n",
              "      <td>...</td>\n",
              "      <td>...</td>\n",
              "      <td>...</td>\n",
              "    </tr>\n",
              "    <tr>\n",
              "      <th>8123</th>\n",
              "      <td>Hyundai i20 Magna</td>\n",
              "      <td>2013</td>\n",
              "      <td>320000</td>\n",
              "      <td>110000</td>\n",
              "      <td>Petrol</td>\n",
              "      <td>Individual</td>\n",
              "      <td>Manual</td>\n",
              "      <td>First Owner</td>\n",
              "      <td>113.7Nm@ 4000rpm</td>\n",
              "      <td>5.0</td>\n",
              "      <td>1197.0</td>\n",
              "      <td>18.50</td>\n",
              "      <td>82.85</td>\n",
              "    </tr>\n",
              "    <tr>\n",
              "      <th>8124</th>\n",
              "      <td>Hyundai Verna CRDi SX</td>\n",
              "      <td>2007</td>\n",
              "      <td>135000</td>\n",
              "      <td>119000</td>\n",
              "      <td>Diesel</td>\n",
              "      <td>Individual</td>\n",
              "      <td>Manual</td>\n",
              "      <td>Fourth &amp; Above Owner</td>\n",
              "      <td>24@ 1,900-2,750(kgm@ rpm)</td>\n",
              "      <td>5.0</td>\n",
              "      <td>1493.0</td>\n",
              "      <td>16.80</td>\n",
              "      <td>110.00</td>\n",
              "    </tr>\n",
              "    <tr>\n",
              "      <th>8125</th>\n",
              "      <td>Maruti Swift Dzire ZDi</td>\n",
              "      <td>2009</td>\n",
              "      <td>382000</td>\n",
              "      <td>120000</td>\n",
              "      <td>Diesel</td>\n",
              "      <td>Individual</td>\n",
              "      <td>Manual</td>\n",
              "      <td>First Owner</td>\n",
              "      <td>190Nm@ 2000rpm</td>\n",
              "      <td>5.0</td>\n",
              "      <td>1248.0</td>\n",
              "      <td>19.30</td>\n",
              "      <td>73.90</td>\n",
              "    </tr>\n",
              "    <tr>\n",
              "      <th>8126</th>\n",
              "      <td>Tata Indigo CR4</td>\n",
              "      <td>2013</td>\n",
              "      <td>290000</td>\n",
              "      <td>25000</td>\n",
              "      <td>Diesel</td>\n",
              "      <td>Individual</td>\n",
              "      <td>Manual</td>\n",
              "      <td>First Owner</td>\n",
              "      <td>140Nm@ 1800-3000rpm</td>\n",
              "      <td>5.0</td>\n",
              "      <td>1396.0</td>\n",
              "      <td>23.57</td>\n",
              "      <td>70.00</td>\n",
              "    </tr>\n",
              "    <tr>\n",
              "      <th>8127</th>\n",
              "      <td>Tata Indigo CR4</td>\n",
              "      <td>2013</td>\n",
              "      <td>290000</td>\n",
              "      <td>25000</td>\n",
              "      <td>Diesel</td>\n",
              "      <td>Individual</td>\n",
              "      <td>Manual</td>\n",
              "      <td>First Owner</td>\n",
              "      <td>140Nm@ 1800-3000rpm</td>\n",
              "      <td>5.0</td>\n",
              "      <td>1396.0</td>\n",
              "      <td>23.57</td>\n",
              "      <td>70.00</td>\n",
              "    </tr>\n",
              "  </tbody>\n",
              "</table>\n",
              "<p>8128 rows × 13 columns</p>\n",
              "</div>\n",
              "    <div class=\"colab-df-buttons\">\n",
              "\n",
              "  <div class=\"colab-df-container\">\n",
              "    <button class=\"colab-df-convert\" onclick=\"convertToInteractive('df-07b055a0-89ae-41cb-9f67-e2f16d33f48b')\"\n",
              "            title=\"Convert this dataframe to an interactive table.\"\n",
              "            style=\"display:none;\">\n",
              "\n",
              "  <svg xmlns=\"http://www.w3.org/2000/svg\" height=\"24px\" viewBox=\"0 -960 960 960\">\n",
              "    <path d=\"M120-120v-720h720v720H120Zm60-500h600v-160H180v160Zm220 220h160v-160H400v160Zm0 220h160v-160H400v160ZM180-400h160v-160H180v160Zm440 0h160v-160H620v160ZM180-180h160v-160H180v160Zm440 0h160v-160H620v160Z\"/>\n",
              "  </svg>\n",
              "    </button>\n",
              "\n",
              "  <style>\n",
              "    .colab-df-container {\n",
              "      display:flex;\n",
              "      gap: 12px;\n",
              "    }\n",
              "\n",
              "    .colab-df-convert {\n",
              "      background-color: #E8F0FE;\n",
              "      border: none;\n",
              "      border-radius: 50%;\n",
              "      cursor: pointer;\n",
              "      display: none;\n",
              "      fill: #1967D2;\n",
              "      height: 32px;\n",
              "      padding: 0 0 0 0;\n",
              "      width: 32px;\n",
              "    }\n",
              "\n",
              "    .colab-df-convert:hover {\n",
              "      background-color: #E2EBFA;\n",
              "      box-shadow: 0px 1px 2px rgba(60, 64, 67, 0.3), 0px 1px 3px 1px rgba(60, 64, 67, 0.15);\n",
              "      fill: #174EA6;\n",
              "    }\n",
              "\n",
              "    .colab-df-buttons div {\n",
              "      margin-bottom: 4px;\n",
              "    }\n",
              "\n",
              "    [theme=dark] .colab-df-convert {\n",
              "      background-color: #3B4455;\n",
              "      fill: #D2E3FC;\n",
              "    }\n",
              "\n",
              "    [theme=dark] .colab-df-convert:hover {\n",
              "      background-color: #434B5C;\n",
              "      box-shadow: 0px 1px 3px 1px rgba(0, 0, 0, 0.15);\n",
              "      filter: drop-shadow(0px 1px 2px rgba(0, 0, 0, 0.3));\n",
              "      fill: #FFFFFF;\n",
              "    }\n",
              "  </style>\n",
              "\n",
              "    <script>\n",
              "      const buttonEl =\n",
              "        document.querySelector('#df-07b055a0-89ae-41cb-9f67-e2f16d33f48b button.colab-df-convert');\n",
              "      buttonEl.style.display =\n",
              "        google.colab.kernel.accessAllowed ? 'block' : 'none';\n",
              "\n",
              "      async function convertToInteractive(key) {\n",
              "        const element = document.querySelector('#df-07b055a0-89ae-41cb-9f67-e2f16d33f48b');\n",
              "        const dataTable =\n",
              "          await google.colab.kernel.invokeFunction('convertToInteractive',\n",
              "                                                    [key], {});\n",
              "        if (!dataTable) return;\n",
              "\n",
              "        const docLinkHtml = 'Like what you see? Visit the ' +\n",
              "          '<a target=\"_blank\" href=https://colab.research.google.com/notebooks/data_table.ipynb>data table notebook</a>'\n",
              "          + ' to learn more about interactive tables.';\n",
              "        element.innerHTML = '';\n",
              "        dataTable['output_type'] = 'display_data';\n",
              "        await google.colab.output.renderOutput(dataTable, element);\n",
              "        const docLink = document.createElement('div');\n",
              "        docLink.innerHTML = docLinkHtml;\n",
              "        element.appendChild(docLink);\n",
              "      }\n",
              "    </script>\n",
              "  </div>\n",
              "\n",
              "\n",
              "<div id=\"df-9ac61c07-42bb-4332-9d92-c5936342a0ca\">\n",
              "  <button class=\"colab-df-quickchart\" onclick=\"quickchart('df-9ac61c07-42bb-4332-9d92-c5936342a0ca')\"\n",
              "            title=\"Suggest charts.\"\n",
              "            style=\"display:none;\">\n",
              "\n",
              "<svg xmlns=\"http://www.w3.org/2000/svg\" height=\"24px\"viewBox=\"0 0 24 24\"\n",
              "     width=\"24px\">\n",
              "    <g>\n",
              "        <path d=\"M19 3H5c-1.1 0-2 .9-2 2v14c0 1.1.9 2 2 2h14c1.1 0 2-.9 2-2V5c0-1.1-.9-2-2-2zM9 17H7v-7h2v7zm4 0h-2V7h2v10zm4 0h-2v-4h2v4z\"/>\n",
              "    </g>\n",
              "</svg>\n",
              "  </button>\n",
              "\n",
              "<style>\n",
              "  .colab-df-quickchart {\n",
              "      --bg-color: #E8F0FE;\n",
              "      --fill-color: #1967D2;\n",
              "      --hover-bg-color: #E2EBFA;\n",
              "      --hover-fill-color: #174EA6;\n",
              "      --disabled-fill-color: #AAA;\n",
              "      --disabled-bg-color: #DDD;\n",
              "  }\n",
              "\n",
              "  [theme=dark] .colab-df-quickchart {\n",
              "      --bg-color: #3B4455;\n",
              "      --fill-color: #D2E3FC;\n",
              "      --hover-bg-color: #434B5C;\n",
              "      --hover-fill-color: #FFFFFF;\n",
              "      --disabled-bg-color: #3B4455;\n",
              "      --disabled-fill-color: #666;\n",
              "  }\n",
              "\n",
              "  .colab-df-quickchart {\n",
              "    background-color: var(--bg-color);\n",
              "    border: none;\n",
              "    border-radius: 50%;\n",
              "    cursor: pointer;\n",
              "    display: none;\n",
              "    fill: var(--fill-color);\n",
              "    height: 32px;\n",
              "    padding: 0;\n",
              "    width: 32px;\n",
              "  }\n",
              "\n",
              "  .colab-df-quickchart:hover {\n",
              "    background-color: var(--hover-bg-color);\n",
              "    box-shadow: 0 1px 2px rgba(60, 64, 67, 0.3), 0 1px 3px 1px rgba(60, 64, 67, 0.15);\n",
              "    fill: var(--button-hover-fill-color);\n",
              "  }\n",
              "\n",
              "  .colab-df-quickchart-complete:disabled,\n",
              "  .colab-df-quickchart-complete:disabled:hover {\n",
              "    background-color: var(--disabled-bg-color);\n",
              "    fill: var(--disabled-fill-color);\n",
              "    box-shadow: none;\n",
              "  }\n",
              "\n",
              "  .colab-df-spinner {\n",
              "    border: 2px solid var(--fill-color);\n",
              "    border-color: transparent;\n",
              "    border-bottom-color: var(--fill-color);\n",
              "    animation:\n",
              "      spin 1s steps(1) infinite;\n",
              "  }\n",
              "\n",
              "  @keyframes spin {\n",
              "    0% {\n",
              "      border-color: transparent;\n",
              "      border-bottom-color: var(--fill-color);\n",
              "      border-left-color: var(--fill-color);\n",
              "    }\n",
              "    20% {\n",
              "      border-color: transparent;\n",
              "      border-left-color: var(--fill-color);\n",
              "      border-top-color: var(--fill-color);\n",
              "    }\n",
              "    30% {\n",
              "      border-color: transparent;\n",
              "      border-left-color: var(--fill-color);\n",
              "      border-top-color: var(--fill-color);\n",
              "      border-right-color: var(--fill-color);\n",
              "    }\n",
              "    40% {\n",
              "      border-color: transparent;\n",
              "      border-right-color: var(--fill-color);\n",
              "      border-top-color: var(--fill-color);\n",
              "    }\n",
              "    60% {\n",
              "      border-color: transparent;\n",
              "      border-right-color: var(--fill-color);\n",
              "    }\n",
              "    80% {\n",
              "      border-color: transparent;\n",
              "      border-right-color: var(--fill-color);\n",
              "      border-bottom-color: var(--fill-color);\n",
              "    }\n",
              "    90% {\n",
              "      border-color: transparent;\n",
              "      border-bottom-color: var(--fill-color);\n",
              "    }\n",
              "  }\n",
              "</style>\n",
              "\n",
              "  <script>\n",
              "    async function quickchart(key) {\n",
              "      const quickchartButtonEl =\n",
              "        document.querySelector('#' + key + ' button');\n",
              "      quickchartButtonEl.disabled = true;  // To prevent multiple clicks.\n",
              "      quickchartButtonEl.classList.add('colab-df-spinner');\n",
              "      try {\n",
              "        const charts = await google.colab.kernel.invokeFunction(\n",
              "            'suggestCharts', [key], {});\n",
              "      } catch (error) {\n",
              "        console.error('Error during call to suggestCharts:', error);\n",
              "      }\n",
              "      quickchartButtonEl.classList.remove('colab-df-spinner');\n",
              "      quickchartButtonEl.classList.add('colab-df-quickchart-complete');\n",
              "    }\n",
              "    (() => {\n",
              "      let quickchartButtonEl =\n",
              "        document.querySelector('#df-9ac61c07-42bb-4332-9d92-c5936342a0ca button');\n",
              "      quickchartButtonEl.style.display =\n",
              "        google.colab.kernel.accessAllowed ? 'block' : 'none';\n",
              "    })();\n",
              "  </script>\n",
              "</div>\n",
              "    </div>\n",
              "  </div>\n"
            ]
          },
          "metadata": {},
          "execution_count": 179
        }
      ]
    },
    {
      "cell_type": "markdown",
      "source": [
        "## 1.a checking which numerical variables are categorical\n",
        "\n",
        "\n",
        "\n",
        "Step1: finidng number of unique values to identify categorical variable"
      ],
      "metadata": {
        "id": "GUO5JIkkz89g"
      }
    },
    {
      "cell_type": "code",
      "source": [
        "# Extract numerical and non-numerical columns\n",
        "numerical_col = df1.select_dtypes(include=['int64', 'float64']).columns\n",
        "non_numerical_col = df1.select_dtypes(exclude=['int64', 'float64']).columns\n",
        "print(\"numerical columns are:\",numerical_col)\n",
        "print(\"non numerical columns are\",non_numerical_col)\n",
        "print(len(numerical_col)+len(non_numerical_col), df1.shape)"
      ],
      "metadata": {
        "colab": {
          "base_uri": "https://localhost:8080/"
        },
        "id": "Cm-tirVmySC8",
        "outputId": "eff06719-393e-4da8-b4f4-06ce0003cb81"
      },
      "execution_count": 180,
      "outputs": [
        {
          "output_type": "stream",
          "name": "stdout",
          "text": [
            "numerical columns are: Index(['year', 'selling_price', 'km_driven', 'seats', 'new_engine',\n",
            "       'new_mileage', 'new_max_power'],\n",
            "      dtype='object')\n",
            "non numerical columns are Index(['name', 'fuel', 'seller_type', 'transmission', 'owner', 'torque'], dtype='object')\n",
            "13 (8128, 13)\n"
          ]
        }
      ]
    },
    {
      "cell_type": "markdown",
      "source": [
        "Step2: Set a threshold to differentiate categorical variable"
      ],
      "metadata": {
        "id": "BAt2KIUU0C3i"
      }
    },
    {
      "cell_type": "code",
      "source": [
        "for column in df1[numerical_col]:\n",
        "    unique_count = df1[column].nunique()\n",
        "    print(column, unique_count)"
      ],
      "metadata": {
        "colab": {
          "base_uri": "https://localhost:8080/"
        },
        "id": "PS1riEw5y1PB",
        "outputId": "c1fee834-c30f-46e6-e82f-129740a6393b"
      },
      "execution_count": 181,
      "outputs": [
        {
          "output_type": "stream",
          "name": "stdout",
          "text": [
            "year 29\n",
            "selling_price 677\n",
            "km_driven 921\n",
            "seats 9\n",
            "new_engine 121\n",
            "new_mileage 381\n",
            "new_max_power 319\n"
          ]
        }
      ]
    },
    {
      "cell_type": "code",
      "source": [
        "categorical_threshold =9  # You can adjust this threshold based on your data\n",
        "\n",
        "continuous_numerical_vars = []\n",
        "categorical_numerical_vars = []\n",
        "\n",
        "# Loop through the columns to classify variables\n",
        "for column in df[numerical_col]:\n",
        "    unique_count = df[column].nunique()\n",
        "\n",
        "    if unique_count <= categorical_threshold:\n",
        "        categorical_numerical_vars.append(column)\n",
        "    else:\n",
        "        continuous_numerical_vars.append(column)"
      ],
      "metadata": {
        "id": "H8iFMeRZzCRr"
      },
      "execution_count": 182,
      "outputs": []
    },
    {
      "cell_type": "code",
      "source": [
        "print(categorical_numerical_vars)"
      ],
      "metadata": {
        "colab": {
          "base_uri": "https://localhost:8080/"
        },
        "id": "z3VV7MoKzUPm",
        "outputId": "7a11bb40-d36f-4571-defd-92090c19238e"
      },
      "execution_count": 183,
      "outputs": [
        {
          "output_type": "stream",
          "name": "stdout",
          "text": [
            "['seats']\n"
          ]
        }
      ]
    },
    {
      "cell_type": "markdown",
      "source": [
        "### 1.b Checking which non numeric variables are categorical\n",
        "\n",
        "\n",
        "\n",
        "\n",
        "Step1: finidng number of unique values to identify categorical variable"
      ],
      "metadata": {
        "id": "UZB6W1ygzzSA"
      }
    },
    {
      "cell_type": "code",
      "source": [
        "for column in df1[non_numerical_col]:\n",
        "    unique_count = df1[column].nunique()\n",
        "    print(column, unique_count)"
      ],
      "metadata": {
        "colab": {
          "base_uri": "https://localhost:8080/"
        },
        "id": "dVIgjIy1zY5u",
        "outputId": "8130aaa8-c8c2-4cca-d2e2-c549a73ee051"
      },
      "execution_count": 184,
      "outputs": [
        {
          "output_type": "stream",
          "name": "stdout",
          "text": [
            "name 2058\n",
            "fuel 4\n",
            "seller_type 3\n",
            "transmission 2\n",
            "owner 5\n",
            "torque 441\n"
          ]
        }
      ]
    },
    {
      "cell_type": "code",
      "source": [
        "for column in df1[non_numerical_col]:\n",
        "    unique_count = df1[column].nunique()\n",
        "    print(column, unique_count)"
      ],
      "metadata": {
        "colab": {
          "base_uri": "https://localhost:8080/"
        },
        "id": "_HeFDPWKqc_j",
        "outputId": "b40da438-63b7-415c-a064-c2fb9a260438"
      },
      "execution_count": 185,
      "outputs": [
        {
          "output_type": "stream",
          "name": "stdout",
          "text": [
            "name 2058\n",
            "fuel 4\n",
            "seller_type 3\n",
            "transmission 2\n",
            "owner 5\n",
            "torque 441\n"
          ]
        }
      ]
    },
    {
      "cell_type": "code",
      "source": [
        "df1['fuel'].value_counts(), df1['seller_type'].value_counts(),df1['transmission'].value_counts(),df1['owner'].value_counts()"
      ],
      "metadata": {
        "colab": {
          "base_uri": "https://localhost:8080/"
        },
        "id": "j-pV_QeXxgOo",
        "outputId": "916c4d54-6f6c-4ed2-a44d-0959cdd65520"
      },
      "execution_count": 186,
      "outputs": [
        {
          "output_type": "execute_result",
          "data": {
            "text/plain": [
              "(Diesel    4402\n",
              " Petrol    3631\n",
              " CNG         57\n",
              " LPG         38\n",
              " Name: fuel, dtype: int64,\n",
              " Individual          6766\n",
              " Dealer              1126\n",
              " Trustmark Dealer     236\n",
              " Name: seller_type, dtype: int64,\n",
              " Manual       7078\n",
              " Automatic    1050\n",
              " Name: transmission, dtype: int64,\n",
              " First Owner             5289\n",
              " Second Owner            2105\n",
              " Third Owner              555\n",
              " Fourth & Above Owner     174\n",
              " Test Drive Car             5\n",
              " Name: owner, dtype: int64)"
            ]
          },
          "metadata": {},
          "execution_count": 186
        }
      ]
    },
    {
      "cell_type": "code",
      "source": [
        "categorical_threshold =5  # You can adjust this threshold based on your data\n",
        "\n",
        "continuous_numerical_vars = []\n",
        "categorical_numerical_vars = []\n",
        "\n",
        "# Loop through the columns to classify variables\n",
        "for column in df1[numerical_col]:\n",
        "    unique_count = df1[column].nunique()\n",
        "\n",
        "    if unique_count <= categorical_threshold:\n",
        "        categorical_numerical_vars.append(column)\n",
        "    else:\n",
        "        continuous_numerical_vars.append(column)"
      ],
      "metadata": {
        "id": "tgI058-qxgSD"
      },
      "execution_count": 187,
      "outputs": []
    },
    {
      "cell_type": "code",
      "source": [
        "print(categorical_non_numerical_vars)"
      ],
      "metadata": {
        "colab": {
          "base_uri": "https://localhost:8080/"
        },
        "id": "tprNlFmgxgh7",
        "outputId": "680755c9-a6dd-4934-df77-cb64a844acfd"
      },
      "execution_count": 188,
      "outputs": [
        {
          "output_type": "stream",
          "name": "stdout",
          "text": [
            "['fuel', 'seller_type', 'transmission', 'owner']\n"
          ]
        }
      ]
    },
    {
      "cell_type": "code",
      "source": [
        "categorical_vars = categorical_numerical_vars + categorical_non_numerical_vars\n",
        "len(categorical_vars)"
      ],
      "metadata": {
        "colab": {
          "base_uri": "https://localhost:8080/"
        },
        "id": "nmClsd9exglS",
        "outputId": "baea6daf-3efc-4d01-bd2b-71612213f624"
      },
      "execution_count": 189,
      "outputs": [
        {
          "output_type": "execute_result",
          "data": {
            "text/plain": [
              "4"
            ]
          },
          "metadata": {},
          "execution_count": 189
        }
      ]
    },
    {
      "cell_type": "code",
      "source": [
        "continous_vars = continuous_non_numerical_vars+ continuous_numerical_vars\n",
        "print(continous_vars)\n",
        "len(continous_vars)"
      ],
      "metadata": {
        "colab": {
          "base_uri": "https://localhost:8080/"
        },
        "id": "SboTIvZLyntf",
        "outputId": "d4969f04-3020-4ce0-8d73-dc0b2e7c1486"
      },
      "execution_count": 201,
      "outputs": [
        {
          "output_type": "stream",
          "name": "stdout",
          "text": [
            "['name', 'torque', 'year', 'selling_price', 'km_driven', 'seats', 'new_engine', 'new_mileage', 'new_max_power']\n"
          ]
        },
        {
          "output_type": "execute_result",
          "data": {
            "text/plain": [
              "9"
            ]
          },
          "metadata": {},
          "execution_count": 201
        }
      ]
    },
    {
      "cell_type": "code",
      "source": [
        "len(df1.columns)\n",
        "print(9+4)\n",
        "print(len(df1.columns))"
      ],
      "metadata": {
        "colab": {
          "base_uri": "https://localhost:8080/"
        },
        "id": "uobkF2MKyqwl",
        "outputId": "04099e29-2175-48a0-ef96-2dc671e8bb19"
      },
      "execution_count": 191,
      "outputs": [
        {
          "output_type": "stream",
          "name": "stdout",
          "text": [
            "13\n",
            "13\n"
          ]
        }
      ]
    },
    {
      "cell_type": "markdown",
      "source": [
        "Before proceeding lets do the data validation."
      ],
      "metadata": {
        "id": "CgeCZBy7sWNp"
      }
    },
    {
      "cell_type": "markdown",
      "source": [
        "## 2. Data Cleaning:\n",
        "\n",
        "### 2.1 Continous variables\n",
        "\n",
        "#### 1.Name"
      ],
      "metadata": {
        "id": "hSraoXoB1kNh"
      }
    },
    {
      "cell_type": "code",
      "source": [
        "df1['name'].value_counts().sum()"
      ],
      "metadata": {
        "colab": {
          "base_uri": "https://localhost:8080/"
        },
        "id": "V0_rVTT31Tqc",
        "outputId": "001c0a71-06f4-4ada-e571-534e08c8f8be"
      },
      "execution_count": 192,
      "outputs": [
        {
          "output_type": "execute_result",
          "data": {
            "text/plain": [
              "8128"
            ]
          },
          "metadata": {},
          "execution_count": 192
        }
      ]
    },
    {
      "cell_type": "code",
      "source": [
        "df1['name'].value_counts(sort = True)"
      ],
      "metadata": {
        "colab": {
          "base_uri": "https://localhost:8080/"
        },
        "id": "vVwQzBjT16Y6",
        "outputId": "578499ea-b9a7-445c-90bb-476d0c0ebaf0"
      },
      "execution_count": 193,
      "outputs": [
        {
          "output_type": "execute_result",
          "data": {
            "text/plain": [
              "Maruti Swift Dzire VDI                             129\n",
              "Maruti Alto 800 LXI                                 82\n",
              "Maruti Alto LXi                                     71\n",
              "BMW X4 M Sport X xDrive20d                          62\n",
              "Maruti Swift VDI                                    61\n",
              "                                                  ... \n",
              "Skoda Fabia 1.4 TDI Ambiente                         1\n",
              "Mahindra Scorpio VLX 2WD AT BSIII                    1\n",
              "Renault KWID Climber 1.0 AMT                         1\n",
              "Mahindra XUV300 W8 Option Dual Tone Diesel BSIV      1\n",
              "Toyota Innova 2.5 GX (Diesel) 8 Seater BS IV         1\n",
              "Name: name, Length: 2058, dtype: int64"
            ]
          },
          "metadata": {},
          "execution_count": 193
        }
      ]
    },
    {
      "cell_type": "code",
      "source": [
        "# df1[\"BrandName\"] = df1[\"name\"].str.split(\" \",0,expand = True)\n",
        "# df1.colummns()\n",
        "# df[[\"BrandName\",\"NameDetails\"]] = df1[\"name\"].str.split(\" \",0,expand = True)\n",
        "df1['name'].nunique()"
      ],
      "metadata": {
        "colab": {
          "base_uri": "https://localhost:8080/"
        },
        "id": "YNpmeBTW2ZPO",
        "outputId": "50a1cdc7-fe39-45dc-e6a9-eb6bcac21ad5"
      },
      "execution_count": 194,
      "outputs": [
        {
          "output_type": "execute_result",
          "data": {
            "text/plain": [
              "2058"
            ]
          },
          "metadata": {},
          "execution_count": 194
        }
      ]
    },
    {
      "cell_type": "markdown",
      "source": [
        "This is a data of 2058 different cars. This column does not need cleaning."
      ],
      "metadata": {
        "id": "XMPv7cF_pcZb"
      }
    },
    {
      "cell_type": "markdown",
      "source": [
        "### 2. torque"
      ],
      "metadata": {
        "id": "YCW-oq4Zzy4L"
      }
    },
    {
      "cell_type": "code",
      "source": [
        "df1['torque'].nunique()\n",
        "df1['torque'].head(10)"
      ],
      "metadata": {
        "colab": {
          "base_uri": "https://localhost:8080/"
        },
        "id": "fY7urQp3zzsw",
        "outputId": "6fca80d1-a5e0-47b0-bd3a-0b8145eb6800"
      },
      "execution_count": 203,
      "outputs": [
        {
          "output_type": "execute_result",
          "data": {
            "text/plain": [
              "0              190Nm@ 2000rpm\n",
              "1         250Nm@ 1500-2500rpm\n",
              "2       12.7@ 2,700(kgm@ rpm)\n",
              "3    22.4 kgm at 1750-2750rpm\n",
              "4       11.5@ 4,500(kgm@ rpm)\n",
              "5           113.75nm@ 4000rpm\n",
              "6        7.8@ 4,500(kgm@ rpm)\n",
              "7               59Nm@ 2500rpm\n",
              "8         170Nm@ 1800-2400rpm\n",
              "9              160Nm@ 2000rpm\n",
              "Name: torque, dtype: object"
            ]
          },
          "metadata": {},
          "execution_count": 203
        }
      ]
    },
    {
      "cell_type": "markdown",
      "source": [
        "We need to drop this column it has uneven data. Like there is no pattern found in the data."
      ],
      "metadata": {
        "id": "QHKuXatH0ZD-"
      }
    },
    {
      "cell_type": "code",
      "source": [
        "df1 = df1.drop(['torque'],axis =1)"
      ],
      "metadata": {
        "id": "6pgbnprG29OW"
      },
      "execution_count": 212,
      "outputs": []
    },
    {
      "cell_type": "markdown",
      "source": [
        "3. year"
      ],
      "metadata": {
        "id": "KMC5r0pPtgUZ"
      }
    },
    {
      "cell_type": "code",
      "source": [
        "df1['year'].value_counts(sort = True)\n",
        "import matplotlib.pyplot as plt\n",
        "plt.boxplot(df1.year)\n"
      ],
      "metadata": {
        "colab": {
          "base_uri": "https://localhost:8080/",
          "height": 576
        },
        "id": "EU4CSfEFte3C",
        "outputId": "6b7d1c73-2053-4345-9927-894203f1917b"
      },
      "execution_count": 195,
      "outputs": [
        {
          "output_type": "execute_result",
          "data": {
            "text/plain": [
              "{'whiskers': [<matplotlib.lines.Line2D at 0x7d30b5060580>,\n",
              "  <matplotlib.lines.Line2D at 0x7d30b5060700>],\n",
              " 'caps': [<matplotlib.lines.Line2D at 0x7d30b50609a0>,\n",
              "  <matplotlib.lines.Line2D at 0x7d30b5060c40>],\n",
              " 'boxes': [<matplotlib.lines.Line2D at 0x7d30b50602e0>],\n",
              " 'medians': [<matplotlib.lines.Line2D at 0x7d30b5060ee0>],\n",
              " 'fliers': [<matplotlib.lines.Line2D at 0x7d30b5061180>],\n",
              " 'means': []}"
            ]
          },
          "metadata": {},
          "execution_count": 195
        },
        {
          "output_type": "display_data",
          "data": {
            "text/plain": [
              "<Figure size 640x480 with 1 Axes>"
            ],
            "image/png": "[encoded data removed]"
          },
          "metadata": {}
        }
      ]
    },
    {
      "cell_type": "code",
      "source": [
        "import numpy as np\n",
        "column = 'year'\n",
        "# Calculate the first quartile (Q1) and third quartile (Q3)\n",
        "Q1 = np.percentile(df1[column], 25)\n",
        "Q3 = np.percentile(df1[column], 75)\n",
        "\n",
        "# Calculate the Interquartile Range (IQR)\n",
        "IQR = Q3 - Q1\n",
        "\n",
        "# Define the lower and upper bounds for outliers\n",
        "lower_bound = Q1 - 1.5 * IQR\n",
        "upper_bound = Q3 + 1.5 * IQR\n",
        "\n",
        "# Identify outliers\n",
        "outliers = [x for x in df1[column] if x < lower_bound or x > upper_bound]\n",
        "\n",
        "# Calculate the percentage of data with outliers\n",
        "percentage_with_outliers = (len(outliers) / len(df1[column])) * 100\n",
        "\n",
        "print(f\"Percentage of data with outliers: {percentage_with_outliers:.2f}%\")"
      ],
      "metadata": {
        "colab": {
          "base_uri": "https://localhost:8080/"
        },
        "id": "0Mb56FyHsuu9",
        "outputId": "b0e680f1-45ab-4171-c838-f5600cfb1bd4"
      },
      "execution_count": 196,
      "outputs": [
        {
          "output_type": "stream",
          "name": "stdout",
          "text": [
            "Percentage of data with outliers: 1.00%\n"
          ]
        }
      ]
    },
    {
      "cell_type": "code",
      "source": [
        "df1[column].quantile([0,.0001,.0001,.0002,.0003,.0004,.0005,.0006,.0007,.0008,.0009])"
      ],
      "metadata": {
        "colab": {
          "base_uri": "https://localhost:8080/"
        },
        "id": "mJ2xkyJQu3aS",
        "outputId": "f09847b1-54e8-4f03-814d-0d7a6ddf9835"
      },
      "execution_count": 197,
      "outputs": [
        {
          "output_type": "execute_result",
          "data": {
            "text/plain": [
              "0.0000    1983.0000\n",
              "0.0001    1989.5016\n",
              "0.0001    1989.5016\n",
              "0.0002    1992.8762\n",
              "0.0003    1994.0000\n",
              "0.0004    1994.0000\n",
              "0.0005    1994.0635\n",
              "0.0006    1994.8762\n",
              "0.0007    1995.0000\n",
              "0.0008    1995.5016\n",
              "0.0009    1996.0000\n",
              "Name: year, dtype: float64"
            ]
          },
          "metadata": {},
          "execution_count": 197
        }
      ]
    },
    {
      "cell_type": "code",
      "source": [
        "df1['new_year']=df1['year']\n",
        "mask1 =df1['year']<1992\n",
        "df1['new_year'][mask1]=df1['year'].median()\n"
      ],
      "metadata": {
        "colab": {
          "base_uri": "https://localhost:8080/"
        },
        "id": "tmNenqG0vnhR",
        "outputId": "87e67f8d-8d26-4fd7-bb29-d354a02d873a"
      },
      "execution_count": 198,
      "outputs": [
        {
          "output_type": "stream",
          "name": "stderr",
          "text": [
            "<ipython-input-198-2ae8d3bce8e9>:3: SettingWithCopyWarning: \n",
            "A value is trying to be set on a copy of a slice from a DataFrame\n",
            "\n",
            "See the caveats in the documentation: https://pandas.pydata.org/pandas-docs/stable/user_guide/indexing.html#returning-a-view-versus-a-copy\n",
            "  df1['new_year'][mask1]=df1['year'].median()\n"
          ]
        }
      ]
    },
    {
      "cell_type": "code",
      "source": [
        "df1['year'].value_counts(sort = True)\n",
        "import matplotlib.pyplot as plt\n",
        "plt.boxplot(df1.year)\n"
      ],
      "metadata": {
        "colab": {
          "base_uri": "https://localhost:8080/",
          "height": 576
        },
        "id": "Im-nBxKEws80",
        "outputId": "545f5660-4e75-4cc9-db42-a84a1c1bfb87"
      },
      "execution_count": 199,
      "outputs": [
        {
          "output_type": "execute_result",
          "data": {
            "text/plain": [
              "{'whiskers': [<matplotlib.lines.Line2D at 0x7d30b4e7d120>,\n",
              "  <matplotlib.lines.Line2D at 0x7d30b4e7d3f0>],\n",
              " 'caps': [<matplotlib.lines.Line2D at 0x7d30b4e7d690>,\n",
              "  <matplotlib.lines.Line2D at 0x7d30b4e7d930>],\n",
              " 'boxes': [<matplotlib.lines.Line2D at 0x7d30b4e7cfa0>],\n",
              " 'medians': [<matplotlib.lines.Line2D at 0x7d30b4e7dbd0>],\n",
              " 'fliers': [<matplotlib.lines.Line2D at 0x7d30b4e7de70>],\n",
              " 'means': []}"
            ]
          },
          "metadata": {},
          "execution_count": 199
        },
        {
          "output_type": "display_data",
          "data": {
            "text/plain": [
              "<Figure size 640x480 with 1 Axes>"
            ],
            "image/png": "[encoded data removed]"
          },
          "metadata": {}
        }
      ]
    },
    {
      "cell_type": "markdown",
      "source": [
        "No further cleani g required."
      ],
      "metadata": {
        "id": "DRjLhDtRxD4j"
      }
    },
    {
      "cell_type": "markdown",
      "source": [
        "4. selling price"
      ],
      "metadata": {
        "id": "iIWrWdAWxHfX"
      }
    },
    {
      "cell_type": "code",
      "source": [
        "df1['selling_price'].isnull().value_counts()\n"
      ],
      "metadata": {
        "colab": {
          "base_uri": "https://localhost:8080/"
        },
        "id": "O-MUKCeS1KzB",
        "outputId": "e8b2529c-d437-45ec-cba3-8968caab6327"
      },
      "execution_count": 206,
      "outputs": [
        {
          "output_type": "execute_result",
          "data": {
            "text/plain": [
              "False    8128\n",
              "Name: selling_price, dtype: int64"
            ]
          },
          "metadata": {},
          "execution_count": 206
        }
      ]
    },
    {
      "cell_type": "code",
      "source": [
        "df1['selling_price'].value_counts(sort = True)\n",
        "import matplotlib.pyplot as plt\n",
        "plt.boxplot(df1.selling_price)\n"
      ],
      "metadata": {
        "colab": {
          "base_uri": "https://localhost:8080/",
          "height": 591
        },
        "id": "AJ7QRQpB1o4h",
        "outputId": "6c8f33da-0110-41f7-c7bc-24b224e9c6b5"
      },
      "execution_count": 207,
      "outputs": [
        {
          "output_type": "execute_result",
          "data": {
            "text/plain": [
              "{'whiskers': [<matplotlib.lines.Line2D at 0x7d30b4dbceb0>,\n",
              "  <matplotlib.lines.Line2D at 0x7d30b4dbd150>],\n",
              " 'caps': [<matplotlib.lines.Line2D at 0x7d30b4dbd3f0>,\n",
              "  <matplotlib.lines.Line2D at 0x7d30b4dbd690>],\n",
              " 'boxes': [<matplotlib.lines.Line2D at 0x7d30b4dbcc10>],\n",
              " 'medians': [<matplotlib.lines.Line2D at 0x7d30b4dbd930>],\n",
              " 'fliers': [<matplotlib.lines.Line2D at 0x7d30b4dbdbd0>],\n",
              " 'means': []}"
            ]
          },
          "metadata": {},
          "execution_count": 207
        },
        {
          "output_type": "display_data",
          "data": {
            "text/plain": [
              "<Figure size 640x480 with 1 Axes>"
            ],
            "image/png": "[encoded data removed]"
          },
          "metadata": {}
        }
      ]
    },
    {
      "cell_type": "code",
      "source": [
        "import numpy as np\n",
        "column = 'selling_price'\n",
        "# Calculate the first quartile (Q1) and third quartile (Q3)\n",
        "Q1 = np.percentile(df1[column], 25)\n",
        "Q3 = np.percentile(df1[column], 75)\n",
        "\n",
        "# Calculate the Interquartile Range (IQR)\n",
        "IQR = Q3 - Q1\n",
        "\n",
        "# Define the lower and upper bounds for outliers\n",
        "lower_bound = Q1 - 1.5 * IQR\n",
        "upper_bound = Q3 + 1.5 * IQR\n",
        "\n",
        "# Identify outliers\n",
        "outliers = [x for x in df1[column] if x < lower_bound or x > upper_bound]\n",
        "\n",
        "# Calculate the percentage of data with outliers\n",
        "percentage_with_outliers = (len(outliers) / len(df1[column])) * 100\n",
        "\n",
        "print(f\"Percentage of data with outliers: {percentage_with_outliers:.2f}%\")"
      ],
      "metadata": {
        "colab": {
          "base_uri": "https://localhost:8080/"
        },
        "id": "e1oM00N81xVg",
        "outputId": "03d7f1a1-285b-400e-b225-3750df1e2dcb"
      },
      "execution_count": 208,
      "outputs": [
        {
          "output_type": "stream",
          "name": "stdout",
          "text": [
            "Percentage of data with outliers: 7.38%\n"
          ]
        }
      ]
    },
    {
      "cell_type": "code",
      "source": [
        "df1[column].quantile([.90,.91,.92,.93,.94,.95,.95,.96,.97,.98,.99,1])"
      ],
      "metadata": {
        "colab": {
          "base_uri": "https://localhost:8080/"
        },
        "id": "nVNFWYrn2Avr",
        "outputId": "8a7efbb3-eca1-4ccb-f0aa-2408ad843957"
      },
      "execution_count": 210,
      "outputs": [
        {
          "output_type": "execute_result",
          "data": {
            "text/plain": [
              "0.90     1025000.0\n",
              "0.91     1100000.0\n",
              "0.92     1224200.0\n",
              "0.93     1400000.0\n",
              "0.94     1650000.0\n",
              "0.95     1950000.0\n",
              "0.95     1950000.0\n",
              "0.96     2475000.0\n",
              "0.97     2900000.0\n",
              "0.98     3800000.0\n",
              "0.99     5200000.0\n",
              "1.00    10000000.0\n",
              "Name: selling_price, dtype: float64"
            ]
          },
          "metadata": {},
          "execution_count": 210
        }
      ]
    },
    {
      "cell_type": "markdown",
      "source": [
        "We can choose 1950000.0 as benchmarkk for separation"
      ],
      "metadata": {
        "id": "YhgS7NUV2ZQr"
      }
    },
    {
      "cell_type": "code",
      "source": [
        "df1['new_selling_price']=df1['selling_price']\n",
        "mask1 =df1['selling_price']>1950000\n",
        "df1['new_selling_price'][mask1]=df1['selling_price'].median()\n"
      ],
      "metadata": {
        "colab": {
          "base_uri": "https://localhost:8080/"
        },
        "id": "QIgbCtES2it7",
        "outputId": "84f271af-bab4-4376-b87e-606e3ca86263"
      },
      "execution_count": 211,
      "outputs": [
        {
          "output_type": "stream",
          "name": "stderr",
          "text": [
            "<ipython-input-211-3b45261480d7>:3: SettingWithCopyWarning: \n",
            "A value is trying to be set on a copy of a slice from a DataFrame\n",
            "\n",
            "See the caveats in the documentation: https://pandas.pydata.org/pandas-docs/stable/user_guide/indexing.html#returning-a-view-versus-a-copy\n",
            "  df1['new_selling_price'][mask1]=df1['selling_price'].median()\n"
          ]
        }
      ]
    },
    {
      "cell_type": "markdown",
      "source": [
        "### 5. km_driven"
      ],
      "metadata": {
        "id": "HBYxeYg63GTi"
      }
    },
    {
      "cell_type": "code",
      "source": [
        "df1['km_driven'].value_counts(sort=True)"
      ],
      "metadata": {
        "colab": {
          "base_uri": "https://localhost:8080/"
        },
        "id": "Age7C0gb3LhF",
        "outputId": "5b4836c7-3ec8-42ff-947c-29d17607e96f"
      },
      "execution_count": 215,
      "outputs": [
        {
          "output_type": "execute_result",
          "data": {
            "text/plain": [
              "120000    536\n",
              "70000     456\n",
              "80000     448\n",
              "60000     425\n",
              "50000     391\n",
              "         ... \n",
              "59635       1\n",
              "123219      1\n",
              "65300       1\n",
              "39395       1\n",
              "191000      1\n",
              "Name: km_driven, Length: 921, dtype: int64"
            ]
          },
          "metadata": {},
          "execution_count": 215
        }
      ]
    },
    {
      "cell_type": "code",
      "source": [
        "df1['km_driven'].value_counts(sort = True)\n",
        "import matplotlib.pyplot as plt\n",
        "plt.boxplot(df1.km_driven)\n"
      ],
      "metadata": {
        "colab": {
          "base_uri": "https://localhost:8080/",
          "height": 591
        },
        "id": "OEuQlxsM3cl4",
        "outputId": "84becda8-c729-4003-e365-f49ec42ae106"
      },
      "execution_count": 216,
      "outputs": [
        {
          "output_type": "execute_result",
          "data": {
            "text/plain": [
              "{'whiskers': [<matplotlib.lines.Line2D at 0x7d30b4ae0520>,\n",
              "  <matplotlib.lines.Line2D at 0x7d30b4ae07c0>],\n",
              " 'caps': [<matplotlib.lines.Line2D at 0x7d30b4ae0a60>,\n",
              "  <matplotlib.lines.Line2D at 0x7d30b4cb21d0>],\n",
              " 'boxes': [<matplotlib.lines.Line2D at 0x7d30b4ae0280>],\n",
              " 'medians': [<matplotlib.lines.Line2D at 0x7d30b4ae0f40>],\n",
              " 'fliers': [<matplotlib.lines.Line2D at 0x7d30b4ae11e0>],\n",
              " 'means': []}"
            ]
          },
          "metadata": {},
          "execution_count": 216
        },
        {
          "output_type": "display_data",
          "data": {
            "text/plain": [
              "<Figure size 640x480 with 1 Axes>"
            ],
            "image/png": "[encoded data removed]"
          },
          "metadata": {}
        }
      ]
    },
    {
      "cell_type": "code",
      "source": [
        "import numpy as np\n",
        "column = 'km_driven'\n",
        "# Calculate the first quartile (Q1) and third quartile (Q3)\n",
        "Q1 = np.percentile(df1[column], 25)\n",
        "Q3 = np.percentile(df1[column], 75)\n",
        "\n",
        "# Calculate the Interquartile Range (IQR)\n",
        "IQR = Q3 - Q1\n",
        "\n",
        "# Define the lower and upper bounds for outliers\n",
        "lower_bound = Q1 - 1.5 * IQR\n",
        "upper_bound = Q3 + 1.5 * IQR\n",
        "\n",
        "# Identify outliers\n",
        "outliers = [x for x in df1[column] if x < lower_bound or x > upper_bound]\n",
        "\n",
        "# Calculate the percentage of data with outliers\n",
        "percentage_with_outliers = (len(outliers) / len(df1[column])) * 100\n",
        "\n",
        "print(f\"Percentage of data with outliers: {percentage_with_outliers:.2f}%\")"
      ],
      "metadata": {
        "colab": {
          "base_uri": "https://localhost:8080/"
        },
        "id": "6pZCPVaI3cif",
        "outputId": "81e404c4-d6ed-4c22-d087-dd0055890516"
      },
      "execution_count": 217,
      "outputs": [
        {
          "output_type": "stream",
          "name": "stdout",
          "text": [
            "Percentage of data with outliers: 2.09%\n"
          ]
        }
      ]
    },
    {
      "cell_type": "code",
      "source": [
        "df1[column].quantile([.90,.91,.92,.93,.94,.95,.95,.96,.97,.98,.99,1])"
      ],
      "metadata": {
        "colab": {
          "base_uri": "https://localhost:8080/"
        },
        "id": "uQQIPPxj3cgb",
        "outputId": "7638b2ba-fc92-419c-92e7-fe89eb2bd01e"
      },
      "execution_count": 218,
      "outputs": [
        {
          "output_type": "execute_result",
          "data": {
            "text/plain": [
              "0.90     120000.00\n",
              "0.91     120000.00\n",
              "0.92     125980.16\n",
              "0.93     136055.00\n",
              "0.94     143000.00\n",
              "0.95     150000.00\n",
              "0.95     150000.00\n",
              "0.96     160000.00\n",
              "0.97     175000.00\n",
              "0.98     195000.00\n",
              "0.99     225000.00\n",
              "1.00    2360457.00\n",
              "Name: km_driven, dtype: float64"
            ]
          },
          "metadata": {},
          "execution_count": 218
        }
      ]
    },
    {
      "cell_type": "code",
      "source": [
        "df1['new_km_driven']=df1['km_driven']\n",
        "mask1 =df1['km_driven']>175000\n",
        "df1['new_km_driven'][mask1]=df1['km_driven'].median()\n"
      ],
      "metadata": {
        "colab": {
          "base_uri": "https://localhost:8080/"
        },
        "id": "2VuhY19K30Op",
        "outputId": "b2af5bd4-c9b5-42df-cebd-18c2bbbabb0d"
      },
      "execution_count": 222,
      "outputs": [
        {
          "output_type": "stream",
          "name": "stderr",
          "text": [
            "<ipython-input-222-1d67cc4d1b8e>:3: SettingWithCopyWarning: \n",
            "A value is trying to be set on a copy of a slice from a DataFrame\n",
            "\n",
            "See the caveats in the documentation: https://pandas.pydata.org/pandas-docs/stable/user_guide/indexing.html#returning-a-view-versus-a-copy\n",
            "  df1['new_km_driven'][mask1]=df1['km_driven'].median()\n"
          ]
        }
      ]
    },
    {
      "cell_type": "code",
      "source": [
        "import numpy as np\n",
        "column = 'new_km_driven'\n",
        "# Calculate the first quartile (Q1) and third quartile (Q3)\n",
        "Q1 = np.percentile(df1[column], 25)\n",
        "Q3 = np.percentile(df1[column], 75)\n",
        "\n",
        "# Calculate the Interquartile Range (IQR)\n",
        "IQR = Q3 - Q1\n",
        "\n",
        "# Define the lower and upper bounds for outliers\n",
        "lower_bound = Q1 - 1.5 * IQR\n",
        "upper_bound = Q3 + 1.5 * IQR\n",
        "\n",
        "# Identify outliers\n",
        "outliers = [x for x in df1[column] if x < lower_bound or x > upper_bound]\n",
        "\n",
        "# Calculate the percentage of data with outliers\n",
        "percentage_with_outliers = (len(outliers) / len(df1[column])) * 100\n",
        "\n",
        "print(f\"Percentage of data with outliers: {percentage_with_outliers:.2f}%\")\n"
      ],
      "metadata": {
        "colab": {
          "base_uri": "https://localhost:8080/"
        },
        "id": "mWY-4LLD4DCd",
        "outputId": "f59de4f8-af05-4355-8a28-a85f1c495457"
      },
      "execution_count": 223,
      "outputs": [
        {
          "output_type": "stream",
          "name": "stdout",
          "text": [
            "Percentage of data with outliers: 0.23%\n"
          ]
        }
      ]
    },
    {
      "cell_type": "code",
      "source": [],
      "metadata": {
        "id": "Ueb-b9VM4ftU"
      },
      "execution_count": null,
      "outputs": []
    },
    {
      "cell_type": "markdown",
      "source": [
        "### 5. seats"
      ],
      "metadata": {
        "id": "eaPTgrK_4goP"
      }
    },
    {
      "cell_type": "code",
      "source": [
        "df1['seats'].value_counts(sort=True)"
      ],
      "metadata": {
        "colab": {
          "base_uri": "https://localhost:8080/"
        },
        "outputId": "d4fde9e9-ad6d-4b58-878a-2e8584f16b33",
        "id": "MVrO5XAg4goj"
      },
      "execution_count": 224,
      "outputs": [
        {
          "output_type": "execute_result",
          "data": {
            "text/plain": [
              "5.0     6254\n",
              "7.0     1120\n",
              "8.0      236\n",
              "4.0      133\n",
              "9.0       80\n",
              "6.0       62\n",
              "10.0      19\n",
              "2.0        2\n",
              "14.0       1\n",
              "Name: seats, dtype: int64"
            ]
          },
          "metadata": {},
          "execution_count": 224
        }
      ]
    },
    {
      "cell_type": "code",
      "source": [
        "import numpy as np\n",
        "column = 'seats'\n",
        "# Calculate the first quartile (Q1) and third quartile (Q3)\n",
        "Q1 = np.percentile(df1[column], 25)\n",
        "Q3 = np.percentile(df1[column], 75)\n",
        "\n",
        "# Calculate the Interquartile Range (IQR)\n",
        "IQR = Q3 - Q1\n",
        "\n",
        "# Define the lower and upper bounds for outliers\n",
        "lower_bound = Q1 - 1.5 * IQR\n",
        "upper_bound = Q3 + 1.5 * IQR\n",
        "\n",
        "# Identify outliers\n",
        "outliers = [x for x in df1[column] if x < lower_bound or x > upper_bound]\n",
        "\n",
        "# Calculate the percentage of data with outliers\n",
        "percentage_with_outliers = (len(outliers) / len(df1[column])) * 100\n",
        "\n",
        "print(f\"Percentage of data with outliers: {percentage_with_outliers:.2f}%\")"
      ],
      "metadata": {
        "colab": {
          "base_uri": "https://localhost:8080/"
        },
        "outputId": "2e1dce4a-2b03-4766-9a24-98664915e451",
        "id": "8s8uDjH74gok"
      },
      "execution_count": 228,
      "outputs": [
        {
          "output_type": "stream",
          "name": "stdout",
          "text": [
            "Percentage of data with outliers: 0.00%\n"
          ]
        }
      ]
    },
    {
      "cell_type": "markdown",
      "source": [
        "### 6. new_engine"
      ],
      "metadata": {
        "id": "5MVx6kRZ7XyC"
      }
    },
    {
      "cell_type": "code",
      "source": [
        "df1['new_engine'].value_counts()"
      ],
      "metadata": {
        "colab": {
          "base_uri": "https://localhost:8080/"
        },
        "id": "N9Qam8Tt7eHg",
        "outputId": "deef85e5-d784-4303-b0c6-8394a02e423b"
      },
      "execution_count": 229,
      "outputs": [
        {
          "output_type": "execute_result",
          "data": {
            "text/plain": [
              "1248.0    1017\n",
              "1197.0     832\n",
              "998.0      453\n",
              "796.0      444\n",
              "2179.0     389\n",
              "          ... \n",
              "2835.0       1\n",
              "1489.0       1\n",
              "1422.0       1\n",
              "2496.0       1\n",
              "1950.0       1\n",
              "Name: new_engine, Length: 121, dtype: int64"
            ]
          },
          "metadata": {},
          "execution_count": 229
        }
      ]
    },
    {
      "cell_type": "code",
      "source": [
        "import numpy as np\n",
        "column = 'new_engine'\n",
        "# Calculate the first quartile (Q1) and third quartile (Q3)\n",
        "Q1 = np.percentile(df1[column], 25)\n",
        "Q3 = np.percentile(df1[column], 75)\n",
        "\n",
        "# Calculate the Interquartile Range (IQR)\n",
        "IQR = Q3 - Q1\n",
        "\n",
        "# Define the lower and upper bounds for outliers\n",
        "lower_bound = Q1 - 1.5 * IQR\n",
        "upper_bound = Q3 + 1.5 * IQR\n",
        "\n",
        "# Identify outliers\n",
        "outliers = [x for x in df1[column] if x < lower_bound or x > upper_bound]\n",
        "\n",
        "# Calculate the percentage of data with outliers\n",
        "percentage_with_outliers = (len(outliers) / len(df1[column])) * 100\n",
        "\n",
        "print(f\"Percentage of data with outliers: {percentage_with_outliers:.2f}%\")"
      ],
      "metadata": {
        "colab": {
          "base_uri": "https://localhost:8080/"
        },
        "id": "DASwAWx-7pmL",
        "outputId": "af6525af-e58f-480c-f99a-fbc791d8c611"
      },
      "execution_count": 230,
      "outputs": [
        {
          "output_type": "stream",
          "name": "stdout",
          "text": [
            "Percentage of data with outliers: 0.00%\n"
          ]
        }
      ]
    },
    {
      "cell_type": "markdown",
      "source": [
        "### 6. new_mileage"
      ],
      "metadata": {
        "id": "P7CgsyOL7zuB"
      }
    },
    {
      "cell_type": "code",
      "source": [
        "df1['new_mileage'].value_counts()"
      ],
      "metadata": {
        "colab": {
          "base_uri": "https://localhost:8080/"
        },
        "outputId": "73887e2f-9cf3-425a-aaa0-b912a88ac5c4",
        "id": "2QUMe0LE7zuj"
      },
      "execution_count": 231,
      "outputs": [
        {
          "output_type": "execute_result",
          "data": {
            "text/plain": [
              "18.90    225\n",
              "19.70    173\n",
              "18.60    164\n",
              "21.10    158\n",
              "17.00    133\n",
              "        ... \n",
              "17.42      1\n",
              "18.24      1\n",
              "10.71      1\n",
              "21.76      1\n",
              "16.51      1\n",
              "Name: new_mileage, Length: 381, dtype: int64"
            ]
          },
          "metadata": {},
          "execution_count": 231
        }
      ]
    },
    {
      "cell_type": "code",
      "source": [
        "import numpy as np\n",
        "column = 'new_mileage'\n",
        "# Calculate the first quartile (Q1) and third quartile (Q3)\n",
        "Q1 = np.percentile(df1[column], 25)\n",
        "Q3 = np.percentile(df1[column], 75)\n",
        "\n",
        "# Calculate the Interquartile Range (IQR)\n",
        "IQR = Q3 - Q1\n",
        "\n",
        "# Define the lower and upper bounds for outliers\n",
        "lower_bound = Q1 - 1.5 * IQR\n",
        "upper_bound = Q3 + 1.5 * IQR\n",
        "\n",
        "# Identify outliers\n",
        "outliers = [x for x in df1[column] if x < lower_bound or x > upper_bound]\n",
        "\n",
        "# Calculate the percentage of data with outliers\n",
        "percentage_with_outliers = (len(outliers) / len(df1[column])) * 100\n",
        "\n",
        "print(f\"Percentage of data with outliers: {percentage_with_outliers:.2f}%\")\n",
        "print(df1[column].mean()-df[column].median())"
      ],
      "metadata": {
        "colab": {
          "base_uri": "https://localhost:8080/"
        },
        "outputId": "deca4849-2912-4957-e145-2ab5c99e4c9e",
        "id": "k8fODht37zuk"
      },
      "execution_count": 237,
      "outputs": [
        {
          "output_type": "stream",
          "name": "stdout",
          "text": [
            "Percentage of data with outliers: 0.00%\n",
            "0.11878335651953975\n"
          ]
        }
      ]
    },
    {
      "cell_type": "markdown",
      "source": [
        "### 6. new_max_power"
      ],
      "metadata": {
        "id": "6S0ZSunW8HFr"
      }
    },
    {
      "cell_type": "code",
      "source": [
        "df1['new_max_power'].value_counts()"
      ],
      "metadata": {
        "colab": {
          "base_uri": "https://localhost:8080/"
        },
        "outputId": "12a6a3a8-18fe-4f7f-88d4-652c93e58893",
        "id": "OGoQxrEX8HGN"
      },
      "execution_count": 233,
      "outputs": [
        {
          "output_type": "execute_result",
          "data": {
            "text/plain": [
              "74.00     377\n",
              "88.50     222\n",
              "81.80     220\n",
              "67.00     165\n",
              "46.30     162\n",
              "         ... \n",
              "58.33       1\n",
              "68.40       1\n",
              "169.00      1\n",
              "170.63      1\n",
              "135.10      1\n",
              "Name: new_max_power, Length: 319, dtype: int64"
            ]
          },
          "metadata": {},
          "execution_count": 233
        }
      ]
    },
    {
      "cell_type": "code",
      "source": [
        "import numpy as np\n",
        "column = 'new_max_power'\n",
        "# Calculate the first quartile (Q1) and third quartile (Q3)\n",
        "Q1 = np.percentile(df1[column], 25)\n",
        "Q3 = np.percentile(df1[column], 75)\n",
        "\n",
        "# Calculate the Interquartile Range (IQR)\n",
        "IQR = Q3 - Q1\n",
        "\n",
        "# Define the lower and upper bounds for outliers\n",
        "lower_bound = Q1 - 1.5 * IQR\n",
        "upper_bound = Q3 + 1.5 * IQR\n",
        "\n",
        "# Identify outliers\n",
        "outliers = [x for x in df1[column] if x < lower_bound or x > upper_bound]\n",
        "\n",
        "# Calculate the percentage of data with outliers\n",
        "percentage_with_outliers = (len(outliers) / len(df1[column])) * 100\n",
        "\n",
        "print(f\"Percentage of data with outliers: {percentage_with_outliers:.2f}%\")"
      ],
      "metadata": {
        "colab": {
          "base_uri": "https://localhost:8080/"
        },
        "outputId": "8e1afdd8-16c5-4fb0-f422-b789830463f2",
        "id": "RxtZf9ml8HGO"
      },
      "execution_count": 234,
      "outputs": [
        {
          "output_type": "stream",
          "name": "stdout",
          "text": [
            "Percentage of data with outliers: 0.00%\n"
          ]
        }
      ]
    },
    {
      "cell_type": "code",
      "source": [
        "print(df1['new_max_power'].mean()-df1['new_max_power'].median())"
      ],
      "metadata": {
        "colab": {
          "base_uri": "https://localhost:8080/"
        },
        "id": "_zEmJf_C8VC1",
        "outputId": "f79edbbf-588c-4a28-8f47-c4091683c6a2"
      },
      "execution_count": 235,
      "outputs": [
        {
          "output_type": "stream",
          "name": "stdout",
          "text": [
            "9.517918983822028\n"
          ]
        }
      ]
    },
    {
      "cell_type": "markdown",
      "source": [
        "### Data cleaning done"
      ],
      "metadata": {
        "id": "BmX1M7dx8szm"
      }
    }
  ]
}